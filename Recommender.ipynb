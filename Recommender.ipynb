{
 "cells": [
  {
   "cell_type": "code",
   "execution_count": 1,
   "metadata": {},
   "outputs": [],
   "source": [
    "import pandas as pd\n",
    "import seaborn as sns\n",
    "from geopy.geocoders import Nominatim"
   ]
  },
  {
   "cell_type": "code",
   "execution_count": 2,
   "metadata": {},
   "outputs": [],
   "source": [
    "# cities = pd.read_csv(\"city.csv\")\n",
    "cities = pd.read_csv(\"lga.csv\")"
   ]
  },
  {
   "cell_type": "code",
   "execution_count": 5,
   "metadata": {},
   "outputs": [],
   "source": [
    "country = \"Nigeria\"\n",
    "# city_name = cities[\"City\"]\n",
    "city_name = cities[\"Local Government Areas\"]"
   ]
  },
  {
   "cell_type": "code",
   "execution_count": 6,
   "metadata": {},
   "outputs": [],
   "source": [
    "longitude = []\n",
    "latitude =  []\n",
    "\n",
    "geolocator = Nominatim(user_agent=\"Trips\")"
   ]
  },
  {
   "cell_type": "code",
   "execution_count": 7,
   "metadata": {},
   "outputs": [],
   "source": [
    "for name in city_name.values:\n",
    "    location = geolocator.geocode(name + \",\" + country)\n",
    "    try:\n",
    "        latitude.append(location.latitude)\n",
    "    except:\n",
    "        latitude.append(None)\n",
    "        \n",
    "    try:\n",
    "        longitude.append(location.longitude)\n",
    "    except:\n",
    "        longitude.append(None)"
   ]
  },
  {
   "cell_type": "code",
   "execution_count": 8,
   "metadata": {},
   "outputs": [],
   "source": [
    "cities[\"Latitude\"] = latitude\n",
    "cities[\"Longitude\"] = longitude"
   ]
  },
  {
   "cell_type": "code",
   "execution_count": 9,
   "metadata": {},
   "outputs": [
    {
     "data": {
      "text/html": [
       "<div>\n",
       "<style scoped>\n",
       "    .dataframe tbody tr th:only-of-type {\n",
       "        vertical-align: middle;\n",
       "    }\n",
       "\n",
       "    .dataframe tbody tr th {\n",
       "        vertical-align: top;\n",
       "    }\n",
       "\n",
       "    .dataframe thead th {\n",
       "        text-align: right;\n",
       "    }\n",
       "</style>\n",
       "<table border=\"1\" class=\"dataframe\">\n",
       "  <thead>\n",
       "    <tr style=\"text-align: right;\">\n",
       "      <th></th>\n",
       "      <th>Local Government Areas</th>\n",
       "      <th>Latitude</th>\n",
       "      <th>Longitude</th>\n",
       "    </tr>\n",
       "  </thead>\n",
       "  <tbody>\n",
       "    <tr>\n",
       "      <th>0</th>\n",
       "      <td>Aba North</td>\n",
       "      <td>5.093863</td>\n",
       "      <td>7.394788</td>\n",
       "    </tr>\n",
       "    <tr>\n",
       "      <th>1</th>\n",
       "      <td>Aba South</td>\n",
       "      <td>5.087659</td>\n",
       "      <td>7.349714</td>\n",
       "    </tr>\n",
       "    <tr>\n",
       "      <th>2</th>\n",
       "      <td>Arochukwu</td>\n",
       "      <td>5.387620</td>\n",
       "      <td>7.906491</td>\n",
       "    </tr>\n",
       "    <tr>\n",
       "      <th>3</th>\n",
       "      <td>Bende</td>\n",
       "      <td>5.559261</td>\n",
       "      <td>7.632666</td>\n",
       "    </tr>\n",
       "    <tr>\n",
       "      <th>4</th>\n",
       "      <td>Ikwuano</td>\n",
       "      <td>5.409277</td>\n",
       "      <td>7.572992</td>\n",
       "    </tr>\n",
       "    <tr>\n",
       "      <th>...</th>\n",
       "      <td>...</td>\n",
       "      <td>...</td>\n",
       "      <td>...</td>\n",
       "    </tr>\n",
       "    <tr>\n",
       "      <th>755</th>\n",
       "      <td>Maradun</td>\n",
       "      <td>12.569720</td>\n",
       "      <td>6.246154</td>\n",
       "    </tr>\n",
       "    <tr>\n",
       "      <th>756</th>\n",
       "      <td>Maru</td>\n",
       "      <td>12.334167</td>\n",
       "      <td>6.405686</td>\n",
       "    </tr>\n",
       "    <tr>\n",
       "      <th>757</th>\n",
       "      <td>Shinkafi</td>\n",
       "      <td>13.075339</td>\n",
       "      <td>6.510465</td>\n",
       "    </tr>\n",
       "    <tr>\n",
       "      <th>758</th>\n",
       "      <td>Talata Mafara</td>\n",
       "      <td>12.573167</td>\n",
       "      <td>6.059710</td>\n",
       "    </tr>\n",
       "    <tr>\n",
       "      <th>759</th>\n",
       "      <td>Zurmi</td>\n",
       "      <td>12.777604</td>\n",
       "      <td>6.783401</td>\n",
       "    </tr>\n",
       "  </tbody>\n",
       "</table>\n",
       "<p>760 rows × 3 columns</p>\n",
       "</div>"
      ],
      "text/plain": [
       "    Local Government Areas   Latitude  Longitude\n",
       "0                Aba North   5.093863   7.394788\n",
       "1                Aba South   5.087659   7.349714\n",
       "2                Arochukwu   5.387620   7.906491\n",
       "3                    Bende   5.559261   7.632666\n",
       "4                  Ikwuano   5.409277   7.572992\n",
       "..                     ...        ...        ...\n",
       "755                Maradun  12.569720   6.246154\n",
       "756                   Maru  12.334167   6.405686\n",
       "757               Shinkafi  13.075339   6.510465\n",
       "758          Talata Mafara  12.573167   6.059710\n",
       "759                  Zurmi  12.777604   6.783401\n",
       "\n",
       "[760 rows x 3 columns]"
      ]
     },
     "execution_count": 9,
     "metadata": {},
     "output_type": "execute_result"
    }
   ],
   "source": [
    "cities"
   ]
  },
  {
   "cell_type": "code",
   "execution_count": 12,
   "metadata": {},
   "outputs": [],
   "source": [
    "cities.dropna(inplace=True)"
   ]
  },
  {
   "cell_type": "code",
   "execution_count": 14,
   "metadata": {},
   "outputs": [],
   "source": [
    "import plotly.express as px"
   ]
  },
  {
   "cell_type": "code",
   "execution_count": 16,
   "metadata": {},
   "outputs": [],
   "source": [
    "# fig = px.scatter_geo(cities, lat=\"Latitude\", lon=\"Longitude\", scope=\"africa\", color=\"City\")\n",
    "fig = px.scatter_geo(cities, lat=\"Latitude\", lon=\"Longitude\", scope=\"africa\", color=\"Local Government Areas\")"
   ]
  },
  {
   "cell_type": "code",
   "execution_count": 18,
   "metadata": {},
   "outputs": [
    {
     "data": {
      "application/vnd.plotly.v1+json": {
       "config": {
        "plotlyServerURL": "https://plot.ly"
       },
       "data": [
        {
         "geo": "geo",
         "hovertemplate": "Local Government Areas=Aba North<br>Latitude=%{lat}<br>Longitude=%{lon}<extra></extra>",
         "lat": [
          5.0938628
         ],
         "legendgroup": "Aba North",
         "lon": [
          7.394787707670602
         ],
         "marker": {
          "color": "#636efa",
          "symbol": "circle"
         },
         "mode": "markers",
         "name": "Aba North",
         "showlegend": true,
         "type": "scattergeo"
        },
        {
         "geo": "geo",
         "hovertemplate": "Local Government Areas=Aba South<br>Latitude=%{lat}<br>Longitude=%{lon}<extra></extra>",
         "lat": [
          5.08765915
         ],
         "legendgroup": "Aba South",
         "lon": [
          7.349713517654941
         ],
         "marker": {
          "color": "#EF553B",
          "symbol": "circle"
         },
         "mode": "markers",
         "name": "Aba South",
         "showlegend": true,
         "type": "scattergeo"
        },
        {
         "geo": "geo",
         "hovertemplate": "Local Government Areas=Arochukwu<br>Latitude=%{lat}<br>Longitude=%{lon}<extra></extra>",
         "lat": [
          5.3876203
         ],
         "legendgroup": "Arochukwu",
         "lon": [
          7.9064915
         ],
         "marker": {
          "color": "#00cc96",
          "symbol": "circle"
         },
         "mode": "markers",
         "name": "Arochukwu",
         "showlegend": true,
         "type": "scattergeo"
        },
        {
         "geo": "geo",
         "hovertemplate": "Local Government Areas=Bende<br>Latitude=%{lat}<br>Longitude=%{lon}<extra></extra>",
         "lat": [
          5.559261
         ],
         "legendgroup": "Bende",
         "lon": [
          7.6326656
         ],
         "marker": {
          "color": "#ab63fa",
          "symbol": "circle"
         },
         "mode": "markers",
         "name": "Bende",
         "showlegend": true,
         "type": "scattergeo"
        },
        {
         "geo": "geo",
         "hovertemplate": "Local Government Areas=Ikwuano<br>Latitude=%{lat}<br>Longitude=%{lon}<extra></extra>",
         "lat": [
          5.40927745
         ],
         "legendgroup": "Ikwuano",
         "lon": [
          7.572991607658478
         ],
         "marker": {
          "color": "#FFA15A",
          "symbol": "circle"
         },
         "mode": "markers",
         "name": "Ikwuano",
         "showlegend": true,
         "type": "scattergeo"
        },
        {
         "geo": "geo",
         "hovertemplate": "Local Government Areas=Isiala Ngwa North<br>Latitude=%{lat}<br>Longitude=%{lon}<extra></extra>",
         "lat": [
          5.2795472
         ],
         "legendgroup": "Isiala Ngwa North",
         "lon": [
          7.442293067171033
         ],
         "marker": {
          "color": "#19d3f3",
          "symbol": "circle"
         },
         "mode": "markers",
         "name": "Isiala Ngwa North",
         "showlegend": true,
         "type": "scattergeo"
        },
        {
         "geo": "geo",
         "hovertemplate": "Local Government Areas=Isiala Ngwa South<br>Latitude=%{lat}<br>Longitude=%{lon}<extra></extra>",
         "lat": [
          5.385552199999999
         ],
         "legendgroup": "Isiala Ngwa South",
         "lon": [
          7.416350925
         ],
         "marker": {
          "color": "#FF6692",
          "symbol": "circle"
         },
         "mode": "markers",
         "name": "Isiala Ngwa South",
         "showlegend": true,
         "type": "scattergeo"
        },
        {
         "geo": "geo",
         "hovertemplate": "Local Government Areas=Isuikwuato<br>Latitude=%{lat}<br>Longitude=%{lon}<extra></extra>",
         "lat": [
          5.8080022499999995
         ],
         "legendgroup": "Isuikwuato",
         "lon": [
          7.46967045670808
         ],
         "marker": {
          "color": "#B6E880",
          "symbol": "circle"
         },
         "mode": "markers",
         "name": "Isuikwuato",
         "showlegend": true,
         "type": "scattergeo"
        },
        {
         "geo": "geo",
         "hovertemplate": "Local Government Areas=Obi Ngwa<br>Latitude=%{lat}<br>Longitude=%{lon}<extra></extra>",
         "lat": [
          5.1522714999999994
         ],
         "legendgroup": "Obi Ngwa",
         "lon": [
          7.447814154474358
         ],
         "marker": {
          "color": "#FF97FF",
          "symbol": "circle"
         },
         "mode": "markers",
         "name": "Obi Ngwa",
         "showlegend": true,
         "type": "scattergeo"
        },
        {
         "geo": "geo",
         "hovertemplate": "Local Government Areas=Ohafia<br>Latitude=%{lat}<br>Longitude=%{lon}<extra></extra>",
         "lat": [
          5.6629147500000006
         ],
         "legendgroup": "Ohafia",
         "lon": [
          7.832488645403231
         ],
         "marker": {
          "color": "#FECB52",
          "symbol": "circle"
         },
         "mode": "markers",
         "name": "Ohafia",
         "showlegend": true,
         "type": "scattergeo"
        },
        {
         "geo": "geo",
         "hovertemplate": "Local Government Areas=Osisioma<br>Latitude=%{lat}<br>Longitude=%{lon}<extra></extra>",
         "lat": [
          5.19249225
         ],
         "legendgroup": "Osisioma",
         "lon": [
          7.335839868561562
         ],
         "marker": {
          "color": "#636efa",
          "symbol": "circle"
         },
         "mode": "markers",
         "name": "Osisioma",
         "showlegend": true,
         "type": "scattergeo"
        },
        {
         "geo": "geo",
         "hovertemplate": "Local Government Areas=Ugwunagbo<br>Latitude=%{lat}<br>Longitude=%{lon}<extra></extra>",
         "lat": [
          5.0223493999999995
         ],
         "legendgroup": "Ugwunagbo",
         "lon": [
          7.355465552118695
         ],
         "marker": {
          "color": "#EF553B",
          "symbol": "circle"
         },
         "mode": "markers",
         "name": "Ugwunagbo",
         "showlegend": true,
         "type": "scattergeo"
        },
        {
         "geo": "geo",
         "hovertemplate": "Local Government Areas=Ukwa East<br>Latitude=%{lat}<br>Longitude=%{lon}<extra></extra>",
         "lat": [
          4.9369271
         ],
         "legendgroup": "Ukwa East",
         "lon": [
          7.402802303197825
         ],
         "marker": {
          "color": "#00cc96",
          "symbol": "circle"
         },
         "mode": "markers",
         "name": "Ukwa East",
         "showlegend": true,
         "type": "scattergeo"
        },
        {
         "geo": "geo",
         "hovertemplate": "Local Government Areas=Ukwa West<br>Latitude=%{lat}<br>Longitude=%{lon}<extra></extra>",
         "lat": [
          4.9791653
         ],
         "legendgroup": "Ukwa West",
         "lon": [
          7.264681212658806
         ],
         "marker": {
          "color": "#ab63fa",
          "symbol": "circle"
         },
         "mode": "markers",
         "name": "Ukwa West",
         "showlegend": true,
         "type": "scattergeo"
        },
        {
         "geo": "geo",
         "hovertemplate": "Local Government Areas=Umuahia North<br>Latitude=%{lat}<br>Longitude=%{lon}<extra></extra>",
         "lat": [
          5.607821449999999
         ],
         "legendgroup": "Umuahia North",
         "lon": [
          7.476200272801194
         ],
         "marker": {
          "color": "#FFA15A",
          "symbol": "circle"
         },
         "mode": "markers",
         "name": "Umuahia North",
         "showlegend": true,
         "type": "scattergeo"
        },
        {
         "geo": "geo",
         "hovertemplate": "Local Government Areas=Umuahia South<br>Latitude=%{lat}<br>Longitude=%{lon}<extra></extra>",
         "lat": [
          5.498079300000001
         ],
         "legendgroup": "Umuahia South",
         "lon": [
          7.461841209875134
         ],
         "marker": {
          "color": "#19d3f3",
          "symbol": "circle"
         },
         "mode": "markers",
         "name": "Umuahia South",
         "showlegend": true,
         "type": "scattergeo"
        },
        {
         "geo": "geo",
         "hovertemplate": "Local Government Areas=Umu Nneochi<br>Latitude=%{lat}<br>Longitude=%{lon}<extra></extra>",
         "lat": [
          5.97147775
         ],
         "legendgroup": "Umu Nneochi",
         "lon": [
          7.404985082179939
         ],
         "marker": {
          "color": "#FF6692",
          "symbol": "circle"
         },
         "mode": "markers",
         "name": "Umu Nneochi",
         "showlegend": true,
         "type": "scattergeo"
        },
        {
         "geo": "geo",
         "hovertemplate": "Local Government Areas=Demsa<br>Latitude=%{lat}<br>Longitude=%{lon}<extra></extra>",
         "lat": [
          9.466667
         ],
         "legendgroup": "Demsa",
         "lon": [
          12.15
         ],
         "marker": {
          "color": "#B6E880",
          "symbol": "circle"
         },
         "mode": "markers",
         "name": "Demsa",
         "showlegend": true,
         "type": "scattergeo"
        },
        {
         "geo": "geo",
         "hovertemplate": "Local Government Areas=Fufure<br>Latitude=%{lat}<br>Longitude=%{lon}<extra></extra>",
         "lat": [
          10.5102225
         ],
         "legendgroup": "Fufure",
         "lon": [
          7.4542608
         ],
         "marker": {
          "color": "#FF97FF",
          "symbol": "circle"
         },
         "mode": "markers",
         "name": "Fufure",
         "showlegend": true,
         "type": "scattergeo"
        },
        {
         "geo": "geo",
         "hovertemplate": "Local Government Areas=Ganye<br>Latitude=%{lat}<br>Longitude=%{lon}<extra></extra>",
         "lat": [
          8.4334477
         ],
         "legendgroup": "Ganye",
         "lon": [
          12.0672152
         ],
         "marker": {
          "color": "#FECB52",
          "symbol": "circle"
         },
         "mode": "markers",
         "name": "Ganye",
         "showlegend": true,
         "type": "scattergeo"
        },
        {
         "geo": "geo",
         "hovertemplate": "Local Government Areas=Girei<br>Latitude=%{lat}<br>Longitude=%{lon}<extra></extra>",
         "lat": [
          9.3627979
         ],
         "legendgroup": "Girei",
         "lon": [
          12.5451205
         ],
         "marker": {
          "color": "#636efa",
          "symbol": "circle"
         },
         "mode": "markers",
         "name": "Girei",
         "showlegend": true,
         "type": "scattergeo"
        },
        {
         "geo": "geo",
         "hovertemplate": "Local Government Areas=Gombi<br>Latitude=%{lat}<br>Longitude=%{lon}<extra></extra>",
         "lat": [
          10.1660843
         ],
         "legendgroup": "Gombi",
         "lon": [
          12.7368785
         ],
         "marker": {
          "color": "#EF553B",
          "symbol": "circle"
         },
         "mode": "markers",
         "name": "Gombi",
         "showlegend": true,
         "type": "scattergeo"
        },
        {
         "geo": "geo",
         "hovertemplate": "Local Government Areas=Hong<br>Latitude=%{lat}<br>Longitude=%{lon}<extra></extra>",
         "lat": [
          10.2317055
         ],
         "legendgroup": "Hong",
         "lon": [
          12.9304191
         ],
         "marker": {
          "color": "#00cc96",
          "symbol": "circle"
         },
         "mode": "markers",
         "name": "Hong",
         "showlegend": true,
         "type": "scattergeo"
        },
        {
         "geo": "geo",
         "hovertemplate": "Local Government Areas=Jada<br>Latitude=%{lat}<br>Longitude=%{lon}<extra></extra>",
         "lat": [
          8.7571276
         ],
         "legendgroup": "Jada",
         "lon": [
          12.1546554
         ],
         "marker": {
          "color": "#ab63fa",
          "symbol": "circle"
         },
         "mode": "markers",
         "name": "Jada",
         "showlegend": true,
         "type": "scattergeo"
        },
        {
         "geo": "geo",
         "hovertemplate": "Local Government Areas=Lamurde<br>Latitude=%{lat}<br>Longitude=%{lon}<extra></extra>",
         "lat": [
          10.230556
         ],
         "legendgroup": "Lamurde",
         "lon": [
          13.258975
         ],
         "marker": {
          "color": "#FFA15A",
          "symbol": "circle"
         },
         "mode": "markers",
         "name": "Lamurde",
         "showlegend": true,
         "type": "scattergeo"
        },
        {
         "geo": "geo",
         "hovertemplate": "Local Government Areas=Madagali<br>Latitude=%{lat}<br>Longitude=%{lon}<extra></extra>",
         "lat": [
          10.786603
         ],
         "legendgroup": "Madagali",
         "lon": [
          13.488551266407342
         ],
         "marker": {
          "color": "#19d3f3",
          "symbol": "circle"
         },
         "mode": "markers",
         "name": "Madagali",
         "showlegend": true,
         "type": "scattergeo"
        },
        {
         "geo": "geo",
         "hovertemplate": "Local Government Areas=Maiha<br>Latitude=%{lat}<br>Longitude=%{lon}<extra></extra>",
         "lat": [
          10.0619115
         ],
         "legendgroup": "Maiha",
         "lon": [
          13.1836033
         ],
         "marker": {
          "color": "#FF6692",
          "symbol": "circle"
         },
         "mode": "markers",
         "name": "Maiha",
         "showlegend": true,
         "type": "scattergeo"
        },
        {
         "geo": "geo",
         "hovertemplate": "Local Government Areas=Mayo Belwa<br>Latitude=%{lat}<br>Longitude=%{lon}<extra></extra>",
         "lat": [
          8.871243
         ],
         "legendgroup": "Mayo Belwa",
         "lon": [
          12.020226810083912
         ],
         "marker": {
          "color": "#B6E880",
          "symbol": "circle"
         },
         "mode": "markers",
         "name": "Mayo Belwa",
         "showlegend": true,
         "type": "scattergeo"
        },
        {
         "geo": "geo",
         "hovertemplate": "Local Government Areas=Michika<br>Latitude=%{lat}<br>Longitude=%{lon}<extra></extra>",
         "lat": [
          10.6204894
         ],
         "legendgroup": "Michika",
         "lon": [
          13.3887796
         ],
         "marker": {
          "color": "#FF97FF",
          "symbol": "circle"
         },
         "mode": "markers",
         "name": "Michika",
         "showlegend": true,
         "type": "scattergeo"
        },
        {
         "geo": "geo",
         "hovertemplate": "Local Government Areas=Mubi North<br>Latitude=%{lat}<br>Longitude=%{lon}<extra></extra>",
         "lat": [
          10.2801221
         ],
         "legendgroup": "Mubi North",
         "lon": [
          13.321450130328785
         ],
         "marker": {
          "color": "#FECB52",
          "symbol": "circle"
         },
         "mode": "markers",
         "name": "Mubi North",
         "showlegend": true,
         "type": "scattergeo"
        },
        {
         "geo": "geo",
         "hovertemplate": "Local Government Areas=Mubi South<br>Latitude=%{lat}<br>Longitude=%{lon}<extra></extra>",
         "lat": [
          10.148035
         ],
         "legendgroup": "Mubi South",
         "lon": [
          13.328497909670821
         ],
         "marker": {
          "color": "#636efa",
          "symbol": "circle"
         },
         "mode": "markers",
         "name": "Mubi South",
         "showlegend": true,
         "type": "scattergeo"
        },
        {
         "geo": "geo",
         "hovertemplate": "Local Government Areas=Numan<br>Latitude=%{lat}<br>Longitude=%{lon}<extra></extra>",
         "lat": [
          9.4598443
         ],
         "legendgroup": "Numan",
         "lon": [
          12.0359283
         ],
         "marker": {
          "color": "#EF553B",
          "symbol": "circle"
         },
         "mode": "markers",
         "name": "Numan",
         "showlegend": true,
         "type": "scattergeo"
        },
        {
         "geo": "geo",
         "hovertemplate": "Local Government Areas=Shelleng<br>Latitude=%{lat}<br>Longitude=%{lon}<extra></extra>",
         "lat": [
          9.9784484
         ],
         "legendgroup": "Shelleng",
         "lon": [
          12.10808912025199
         ],
         "marker": {
          "color": "#00cc96",
          "symbol": "circle"
         },
         "mode": "markers",
         "name": "Shelleng",
         "showlegend": true,
         "type": "scattergeo"
        },
        {
         "geo": "geo",
         "hovertemplate": "Local Government Areas=Song<br>Latitude=%{lat}<br>Longitude=%{lon}<extra></extra>",
         "lat": [
          9.7700491
         ],
         "legendgroup": "Song",
         "lon": [
          12.5853109
         ],
         "marker": {
          "color": "#ab63fa",
          "symbol": "circle"
         },
         "mode": "markers",
         "name": "Song",
         "showlegend": true,
         "type": "scattergeo"
        },
        {
         "geo": "geo",
         "hovertemplate": "Local Government Areas=Toungo<br>Latitude=%{lat}<br>Longitude=%{lon}<extra></extra>",
         "lat": [
          8.11751
         ],
         "legendgroup": "Toungo",
         "lon": [
          12.0469523
         ],
         "marker": {
          "color": "#FFA15A",
          "symbol": "circle"
         },
         "mode": "markers",
         "name": "Toungo",
         "showlegend": true,
         "type": "scattergeo"
        },
        {
         "geo": "geo",
         "hovertemplate": "Local Government Areas=Yola North<br>Latitude=%{lat}<br>Longitude=%{lon}<extra></extra>",
         "lat": [
          9.26628495
         ],
         "legendgroup": "Yola North",
         "lon": [
          12.251131996050141
         ],
         "marker": {
          "color": "#19d3f3",
          "symbol": "circle"
         },
         "mode": "markers",
         "name": "Yola North",
         "showlegend": true,
         "type": "scattergeo"
        },
        {
         "geo": "geo",
         "hovertemplate": "Local Government Areas=Yola South<br>Latitude=%{lat}<br>Longitude=%{lon}<extra></extra>",
         "lat": [
          9.2581806
         ],
         "legendgroup": "Yola South",
         "lon": [
          12.408225478747806
         ],
         "marker": {
          "color": "#FF6692",
          "symbol": "circle"
         },
         "mode": "markers",
         "name": "Yola South",
         "showlegend": true,
         "type": "scattergeo"
        },
        {
         "geo": "geo",
         "hovertemplate": "Local Government Areas=Abak<br>Latitude=%{lat}<br>Longitude=%{lon}<extra></extra>",
         "lat": [
          5.004073099999999
         ],
         "legendgroup": "Abak",
         "lon": [
          7.795666795599514
         ],
         "marker": {
          "color": "#B6E880",
          "symbol": "circle"
         },
         "mode": "markers",
         "name": "Abak",
         "showlegend": true,
         "type": "scattergeo"
        },
        {
         "geo": "geo",
         "hovertemplate": "Local Government Areas=Eastern Obolo<br>Latitude=%{lat}<br>Longitude=%{lon}<extra></extra>",
         "lat": [
          4.5130764
         ],
         "legendgroup": "Eastern Obolo",
         "lon": [
          7.682723334359615
         ],
         "marker": {
          "color": "#FF97FF",
          "symbol": "circle"
         },
         "mode": "markers",
         "name": "Eastern Obolo",
         "showlegend": true,
         "type": "scattergeo"
        },
        {
         "geo": "geo",
         "hovertemplate": "Local Government Areas=Eket<br>Latitude=%{lat}<br>Longitude=%{lon}<extra></extra>",
         "lat": [
          4.6360066
         ],
         "legendgroup": "Eket",
         "lon": [
          7.957541614633177
         ],
         "marker": {
          "color": "#FECB52",
          "symbol": "circle"
         },
         "mode": "markers",
         "name": "Eket",
         "showlegend": true,
         "type": "scattergeo"
        },
        {
         "geo": "geo",
         "hovertemplate": "Local Government Areas=Esit Eket<br>Latitude=%{lat}<br>Longitude=%{lon}<extra></extra>",
         "lat": [
          4.64273405
         ],
         "legendgroup": "Esit Eket",
         "lon": [
          8.075903467172743
         ],
         "marker": {
          "color": "#636efa",
          "symbol": "circle"
         },
         "mode": "markers",
         "name": "Esit Eket",
         "showlegend": true,
         "type": "scattergeo"
        },
        {
         "geo": "geo",
         "hovertemplate": "Local Government Areas=Essien Udim<br>Latitude=%{lat}<br>Longitude=%{lon}<extra></extra>",
         "lat": [
          5.1035626
         ],
         "legendgroup": "Essien Udim",
         "lon": [
          7.6567272806092
         ],
         "marker": {
          "color": "#EF553B",
          "symbol": "circle"
         },
         "mode": "markers",
         "name": "Essien Udim",
         "showlegend": true,
         "type": "scattergeo"
        },
        {
         "geo": "geo",
         "hovertemplate": "Local Government Areas=Etim Ekpo<br>Latitude=%{lat}<br>Longitude=%{lon}<extra></extra>",
         "lat": [
          4.954823
         ],
         "legendgroup": "Etim Ekpo",
         "lon": [
          7.573844611841997
         ],
         "marker": {
          "color": "#00cc96",
          "symbol": "circle"
         },
         "mode": "markers",
         "name": "Etim Ekpo",
         "showlegend": true,
         "type": "scattergeo"
        },
        {
         "geo": "geo",
         "hovertemplate": "Local Government Areas=Etinan<br>Latitude=%{lat}<br>Longitude=%{lon}<extra></extra>",
         "lat": [
          4.8457415
         ],
         "legendgroup": "Etinan",
         "lon": [
          7.843149923536664
         ],
         "marker": {
          "color": "#ab63fa",
          "symbol": "circle"
         },
         "mode": "markers",
         "name": "Etinan",
         "showlegend": true,
         "type": "scattergeo"
        },
        {
         "geo": "geo",
         "hovertemplate": "Local Government Areas=Ibeno<br>Latitude=%{lat}<br>Longitude=%{lon}<extra></extra>",
         "lat": [
          4.5618715000000005
         ],
         "legendgroup": "Ibeno",
         "lon": [
          8.090356500696117
         ],
         "marker": {
          "color": "#FFA15A",
          "symbol": "circle"
         },
         "mode": "markers",
         "name": "Ibeno",
         "showlegend": true,
         "type": "scattergeo"
        },
        {
         "geo": "geo",
         "hovertemplate": "Local Government Areas=Ibesikpo Asutan<br>Latitude=%{lat}<br>Longitude=%{lon}<extra></extra>",
         "lat": [
          4.9179451499999995
         ],
         "legendgroup": "Ibesikpo Asutan",
         "lon": [
          7.964799070155389
         ],
         "marker": {
          "color": "#19d3f3",
          "symbol": "circle"
         },
         "mode": "markers",
         "name": "Ibesikpo Asutan",
         "showlegend": true,
         "type": "scattergeo"
        },
        {
         "geo": "geo",
         "hovertemplate": "Local Government Areas=Ibiono-Ibom<br>Latitude=%{lat}<br>Longitude=%{lon}<extra></extra>",
         "lat": [
          5.2040105
         ],
         "legendgroup": "Ibiono-Ibom",
         "lon": [
          7.897450604600483
         ],
         "marker": {
          "color": "#FF6692",
          "symbol": "circle"
         },
         "mode": "markers",
         "name": "Ibiono-Ibom",
         "showlegend": true,
         "type": "scattergeo"
        },
        {
         "geo": "geo",
         "hovertemplate": "Local Government Areas=Ika<br>Latitude=%{lat}<br>Longitude=%{lon}<extra></extra>",
         "lat": [
          4.5780012
         ],
         "legendgroup": "Ika",
         "lon": [
          7.3676411
         ],
         "marker": {
          "color": "#B6E880",
          "symbol": "circle"
         },
         "mode": "markers",
         "name": "Ika",
         "showlegend": true,
         "type": "scattergeo"
        },
        {
         "geo": "geo",
         "hovertemplate": "Local Government Areas=Ikono<br>Latitude=%{lat}<br>Longitude=%{lon}<extra></extra>",
         "lat": [
          5.18323465
         ],
         "legendgroup": "Ikono",
         "lon": [
          7.790899593684118
         ],
         "marker": {
          "color": "#FF97FF",
          "symbol": "circle"
         },
         "mode": "markers",
         "name": "Ikono",
         "showlegend": true,
         "type": "scattergeo"
        },
        {
         "geo": "geo",
         "hovertemplate": "Local Government Areas=Ikot Abasi<br>Latitude=%{lat}<br>Longitude=%{lon}<extra></extra>",
         "lat": [
          4.60783505
         ],
         "legendgroup": "Ikot Abasi",
         "lon": [
          7.634969399377504
         ],
         "marker": {
          "color": "#FECB52",
          "symbol": "circle"
         },
         "mode": "markers",
         "name": "Ikot Abasi",
         "showlegend": true,
         "type": "scattergeo"
        },
        {
         "geo": "geo",
         "hovertemplate": "Local Government Areas=Ikot Ekpene<br>Latitude=%{lat}<br>Longitude=%{lon}<extra></extra>",
         "lat": [
          5.181975
         ],
         "legendgroup": "Ikot Ekpene",
         "lon": [
          7.7132177
         ],
         "marker": {
          "color": "#636efa",
          "symbol": "circle"
         },
         "mode": "markers",
         "name": "Ikot Ekpene",
         "showlegend": true,
         "type": "scattergeo"
        },
        {
         "geo": "geo",
         "hovertemplate": "Local Government Areas=Ini<br>Latitude=%{lat}<br>Longitude=%{lon}<extra></extra>",
         "lat": [
          12.8730015
         ],
         "legendgroup": "Ini",
         "lon": [
          6.0792099
         ],
         "marker": {
          "color": "#EF553B",
          "symbol": "circle"
         },
         "mode": "markers",
         "name": "Ini",
         "showlegend": true,
         "type": "scattergeo"
        },
        {
         "geo": "geo",
         "hovertemplate": "Local Government Areas=Itu<br>Latitude=%{lat}<br>Longitude=%{lon}<extra></extra>",
         "lat": [
          5.1444471
         ],
         "legendgroup": "Itu",
         "lon": [
          8.001036510012643
         ],
         "marker": {
          "color": "#00cc96",
          "symbol": "circle"
         },
         "mode": "markers",
         "name": "Itu",
         "showlegend": true,
         "type": "scattergeo"
        },
        {
         "geo": "geo",
         "hovertemplate": "Local Government Areas=Mbo<br>Latitude=%{lat}<br>Longitude=%{lon}<extra></extra>",
         "lat": [
          4.646251449999999
         ],
         "legendgroup": "Mbo",
         "lon": [
          8.255250648337
         ],
         "marker": {
          "color": "#ab63fa",
          "symbol": "circle"
         },
         "mode": "markers",
         "name": "Mbo",
         "showlegend": true,
         "type": "scattergeo"
        },
        {
         "geo": "geo",
         "hovertemplate": "Local Government Areas=Mkpat-Enin<br>Latitude=%{lat}<br>Longitude=%{lon}<extra></extra>",
         "lat": [
          4.7047345499999995
         ],
         "legendgroup": "Mkpat-Enin",
         "lon": [
          7.761009542834241
         ],
         "marker": {
          "color": "#FFA15A",
          "symbol": "circle"
         },
         "mode": "markers",
         "name": "Mkpat-Enin",
         "showlegend": true,
         "type": "scattergeo"
        },
        {
         "geo": "geo",
         "hovertemplate": "Local Government Areas=Nsit-Atai<br>Latitude=%{lat}<br>Longitude=%{lon}<extra></extra>",
         "lat": [
          4.8185556
         ],
         "legendgroup": "Nsit-Atai",
         "lon": [
          8.013983047476689
         ],
         "marker": {
          "color": "#19d3f3",
          "symbol": "circle"
         },
         "mode": "markers",
         "name": "Nsit-Atai",
         "showlegend": true,
         "type": "scattergeo"
        },
        {
         "geo": "geo",
         "hovertemplate": "Local Government Areas=Nsit-Ibom<br>Latitude=%{lat}<br>Longitude=%{lon}<extra></extra>",
         "lat": [
          4.90363455
         ],
         "legendgroup": "Nsit-Ibom",
         "lon": [
          7.896614017212878
         ],
         "marker": {
          "color": "#FF6692",
          "symbol": "circle"
         },
         "mode": "markers",
         "name": "Nsit-Ibom",
         "showlegend": true,
         "type": "scattergeo"
        },
        {
         "geo": "geo",
         "hovertemplate": "Local Government Areas=Nsit-Ubium<br>Latitude=%{lat}<br>Longitude=%{lon}<extra></extra>",
         "lat": [
          4.7597313
         ],
         "legendgroup": "Nsit-Ubium",
         "lon": [
          7.948723551688754
         ],
         "marker": {
          "color": "#B6E880",
          "symbol": "circle"
         },
         "mode": "markers",
         "name": "Nsit-Ubium",
         "showlegend": true,
         "type": "scattergeo"
        },
        {
         "geo": "geo",
         "hovertemplate": "Local Government Areas=Obot Akara<br>Latitude=%{lat}<br>Longitude=%{lon}<extra></extra>",
         "lat": [
          5.266667
         ],
         "legendgroup": "Obot Akara",
         "lon": [
          7.666667
         ],
         "marker": {
          "color": "#FF97FF",
          "symbol": "circle"
         },
         "mode": "markers",
         "name": "Obot Akara",
         "showlegend": true,
         "type": "scattergeo"
        },
        {
         "geo": "geo",
         "hovertemplate": "Local Government Areas=Okobo<br>Latitude=%{lat}<br>Longitude=%{lon}<extra></extra>",
         "lat": [
          5.083333
         ],
         "legendgroup": "Okobo",
         "lon": [
          7.85
         ],
         "marker": {
          "color": "#FECB52",
          "symbol": "circle"
         },
         "mode": "markers",
         "name": "Okobo",
         "showlegend": true,
         "type": "scattergeo"
        },
        {
         "geo": "geo",
         "hovertemplate": "Local Government Areas=Onna<br>Latitude=%{lat}<br>Longitude=%{lon}<extra></extra>",
         "lat": [
          4.63675835
         ],
         "legendgroup": "Onna",
         "lon": [
          7.8723706795971164
         ],
         "marker": {
          "color": "#636efa",
          "symbol": "circle"
         },
         "mode": "markers",
         "name": "Onna",
         "showlegend": true,
         "type": "scattergeo"
        },
        {
         "geo": "geo",
         "hovertemplate": "Local Government Areas=Oron<br>Latitude=%{lat}<br>Longitude=%{lon}<extra></extra>",
         "lat": [
          4.8171249
         ],
         "legendgroup": "Oron",
         "lon": [
          8.236898
         ],
         "marker": {
          "color": "#EF553B",
          "symbol": "circle"
         },
         "mode": "markers",
         "name": "Oron",
         "showlegend": true,
         "type": "scattergeo"
        },
        {
         "geo": "geo",
         "hovertemplate": "Local Government Areas=Oruk Anam<br>Latitude=%{lat}<br>Longitude=%{lon}<extra></extra>",
         "lat": [
          4.82023505
         ],
         "legendgroup": "Oruk Anam",
         "lon": [
          7.650814706357024
         ],
         "marker": {
          "color": "#00cc96",
          "symbol": "circle"
         },
         "mode": "markers",
         "name": "Oruk Anam",
         "showlegend": true,
         "type": "scattergeo"
        },
        {
         "geo": "geo",
         "hovertemplate": "Local Government Areas=Udung-Uko<br>Latitude=%{lat}<br>Longitude=%{lon}<extra></extra>",
         "lat": [
          4.7585318
         ],
         "legendgroup": "Udung-Uko",
         "lon": [
          8.2441595
         ],
         "marker": {
          "color": "#ab63fa",
          "symbol": "circle"
         },
         "mode": "markers",
         "name": "Udung-Uko",
         "showlegend": true,
         "type": "scattergeo"
        },
        {
         "geo": "geo",
         "hovertemplate": "Local Government Areas=Ukanafun<br>Latitude=%{lat}<br>Longitude=%{lon}<extra></extra>",
         "lat": [
          4.9038458
         ],
         "legendgroup": "Ukanafun",
         "lon": [
          7.605502805573577
         ],
         "marker": {
          "color": "#FFA15A",
          "symbol": "circle"
         },
         "mode": "markers",
         "name": "Ukanafun",
         "showlegend": true,
         "type": "scattergeo"
        },
        {
         "geo": "geo",
         "hovertemplate": "Local Government Areas=Uruan<br>Latitude=%{lat}<br>Longitude=%{lon}<extra></extra>",
         "lat": [
          5.0034754
         ],
         "legendgroup": "Uruan",
         "lon": [
          8.074886973470624
         ],
         "marker": {
          "color": "#19d3f3",
          "symbol": "circle"
         },
         "mode": "markers",
         "name": "Uruan",
         "showlegend": true,
         "type": "scattergeo"
        },
        {
         "geo": "geo",
         "hovertemplate": "Local Government Areas=Urue-Offong/Oruko<br>Latitude=%{lat}<br>Longitude=%{lon}<extra></extra>",
         "lat": [
          4.722390900000001
         ],
         "legendgroup": "Urue-Offong/Oruko",
         "lon": [
          8.16880139056803
         ],
         "marker": {
          "color": "#FF6692",
          "symbol": "circle"
         },
         "mode": "markers",
         "name": "Urue-Offong/Oruko",
         "showlegend": true,
         "type": "scattergeo"
        },
        {
         "geo": "geo",
         "hovertemplate": "Local Government Areas=Uyo<br>Latitude=%{lat}<br>Longitude=%{lon}<extra></extra>",
         "lat": [
          5.0322447
         ],
         "legendgroup": "Uyo",
         "lon": [
          7.924791
         ],
         "marker": {
          "color": "#B6E880",
          "symbol": "circle"
         },
         "mode": "markers",
         "name": "Uyo",
         "showlegend": true,
         "type": "scattergeo"
        },
        {
         "geo": "geo",
         "hovertemplate": "Local Government Areas=Aguata<br>Latitude=%{lat}<br>Longitude=%{lon}<extra></extra>",
         "lat": [
          5.9842248
         ],
         "legendgroup": "Aguata",
         "lon": [
          7.090643210873353
         ],
         "marker": {
          "color": "#FF97FF",
          "symbol": "circle"
         },
         "mode": "markers",
         "name": "Aguata",
         "showlegend": true,
         "type": "scattergeo"
        },
        {
         "geo": "geo",
         "hovertemplate": "Local Government Areas=Anambra East<br>Latitude=%{lat}<br>Longitude=%{lon}<extra></extra>",
         "lat": [
          6.314698249999999
         ],
         "legendgroup": "Anambra East",
         "lon": [
          6.892956691269136
         ],
         "marker": {
          "color": "#FECB52",
          "symbol": "circle"
         },
         "mode": "markers",
         "name": "Anambra East",
         "showlegend": true,
         "type": "scattergeo"
        },
        {
         "geo": "geo",
         "hovertemplate": "Local Government Areas=Anambra West<br>Latitude=%{lat}<br>Longitude=%{lon}<extra></extra>",
         "lat": [
          6.4925694499999995
         ],
         "legendgroup": "Anambra West",
         "lon": [
          6.776578597606342
         ],
         "marker": {
          "color": "#636efa",
          "symbol": "circle"
         },
         "mode": "markers",
         "name": "Anambra West",
         "showlegend": true,
         "type": "scattergeo"
        },
        {
         "geo": "geo",
         "hovertemplate": "Local Government Areas=Anaocha<br>Latitude=%{lat}<br>Longitude=%{lon}<extra></extra>",
         "lat": [
          6.0922999
         ],
         "legendgroup": "Anaocha",
         "lon": [
          7.021171370313768
         ],
         "marker": {
          "color": "#EF553B",
          "symbol": "circle"
         },
         "mode": "markers",
         "name": "Anaocha",
         "showlegend": true,
         "type": "scattergeo"
        },
        {
         "geo": "geo",
         "hovertemplate": "Local Government Areas=Awka North<br>Latitude=%{lat}<br>Longitude=%{lon}<extra></extra>",
         "lat": [
          6.34178755
         ],
         "legendgroup": "Awka North",
         "lon": [
          7.058343655240461
         ],
         "marker": {
          "color": "#00cc96",
          "symbol": "circle"
         },
         "mode": "markers",
         "name": "Awka North",
         "showlegend": true,
         "type": "scattergeo"
        },
        {
         "geo": "geo",
         "hovertemplate": "Local Government Areas=Awka South<br>Latitude=%{lat}<br>Longitude=%{lon}<extra></extra>",
         "lat": [
          6.19405605
         ],
         "legendgroup": "Awka South",
         "lon": [
          7.0943469415059655
         ],
         "marker": {
          "color": "#ab63fa",
          "symbol": "circle"
         },
         "mode": "markers",
         "name": "Awka South",
         "showlegend": true,
         "type": "scattergeo"
        },
        {
         "geo": "geo",
         "hovertemplate": "Local Government Areas=Ayamelum<br>Latitude=%{lat}<br>Longitude=%{lon}<extra></extra>",
         "lat": [
          6.5346229000000005
         ],
         "legendgroup": "Ayamelum",
         "lon": [
          6.974797440094921
         ],
         "marker": {
          "color": "#FFA15A",
          "symbol": "circle"
         },
         "mode": "markers",
         "name": "Ayamelum",
         "showlegend": true,
         "type": "scattergeo"
        },
        {
         "geo": "geo",
         "hovertemplate": "Local Government Areas=Dunukofia<br>Latitude=%{lat}<br>Longitude=%{lon}<extra></extra>",
         "lat": [
          6.2738049
         ],
         "legendgroup": "Dunukofia",
         "lon": [
          6.9780011462764495
         ],
         "marker": {
          "color": "#19d3f3",
          "symbol": "circle"
         },
         "mode": "markers",
         "name": "Dunukofia",
         "showlegend": true,
         "type": "scattergeo"
        },
        {
         "geo": "geo",
         "hovertemplate": "Local Government Areas=Ekwusigo<br>Latitude=%{lat}<br>Longitude=%{lon}<extra></extra>",
         "lat": [
          5.9883647
         ],
         "legendgroup": "Ekwusigo",
         "lon": [
          6.840200353859071
         ],
         "marker": {
          "color": "#FF6692",
          "symbol": "circle"
         },
         "mode": "markers",
         "name": "Ekwusigo",
         "showlegend": true,
         "type": "scattergeo"
        },
        {
         "geo": "geo",
         "hovertemplate": "Local Government Areas=Idemili North<br>Latitude=%{lat}<br>Longitude=%{lon}<extra></extra>",
         "lat": [
          6.13714625
         ],
         "legendgroup": "Idemili North",
         "lon": [
          6.885697107849618
         ],
         "marker": {
          "color": "#B6E880",
          "symbol": "circle"
         },
         "mode": "markers",
         "name": "Idemili North",
         "showlegend": true,
         "type": "scattergeo"
        },
        {
         "geo": "geo",
         "hovertemplate": "Local Government Areas=Idemili South<br>Latitude=%{lat}<br>Longitude=%{lon}<extra></extra>",
         "lat": [
          6.0722537
         ],
         "legendgroup": "Idemili South",
         "lon": [
          6.833237248297729
         ],
         "marker": {
          "color": "#FF97FF",
          "symbol": "circle"
         },
         "mode": "markers",
         "name": "Idemili South",
         "showlegend": true,
         "type": "scattergeo"
        },
        {
         "geo": "geo",
         "hovertemplate": "Local Government Areas=Ihiala<br>Latitude=%{lat}<br>Longitude=%{lon}<extra></extra>",
         "lat": [
          5.8552964
         ],
         "legendgroup": "Ihiala",
         "lon": [
          6.8601091
         ],
         "marker": {
          "color": "#FECB52",
          "symbol": "circle"
         },
         "mode": "markers",
         "name": "Ihiala",
         "showlegend": true,
         "type": "scattergeo"
        },
        {
         "geo": "geo",
         "hovertemplate": "Local Government Areas=Njikoka<br>Latitude=%{lat}<br>Longitude=%{lon}<extra></extra>",
         "lat": [
          6.1892624
         ],
         "legendgroup": "Njikoka",
         "lon": [
          6.993784205355688
         ],
         "marker": {
          "color": "#636efa",
          "symbol": "circle"
         },
         "mode": "markers",
         "name": "Njikoka",
         "showlegend": true,
         "type": "scattergeo"
        },
        {
         "geo": "geo",
         "hovertemplate": "Local Government Areas=Nnewi North<br>Latitude=%{lat}<br>Longitude=%{lon}<extra></extra>",
         "lat": [
          6.0062320499999995
         ],
         "legendgroup": "Nnewi North",
         "lon": [
          6.91201584625799
         ],
         "marker": {
          "color": "#EF553B",
          "symbol": "circle"
         },
         "mode": "markers",
         "name": "Nnewi North",
         "showlegend": true,
         "type": "scattergeo"
        },
        {
         "geo": "geo",
         "hovertemplate": "Local Government Areas=Nnewi South<br>Latitude=%{lat}<br>Longitude=%{lon}<extra></extra>",
         "lat": [
          5.9604744499999995
         ],
         "legendgroup": "Nnewi South",
         "lon": [
          6.9807065781309365
         ],
         "marker": {
          "color": "#00cc96",
          "symbol": "circle"
         },
         "mode": "markers",
         "name": "Nnewi South",
         "showlegend": true,
         "type": "scattergeo"
        },
        {
         "geo": "geo",
         "hovertemplate": "Local Government Areas=Ogbaru<br>Latitude=%{lat}<br>Longitude=%{lon}<extra></extra>",
         "lat": [
          5.9225016
         ],
         "legendgroup": "Ogbaru",
         "lon": [
          6.761434551851252
         ],
         "marker": {
          "color": "#ab63fa",
          "symbol": "circle"
         },
         "mode": "markers",
         "name": "Ogbaru",
         "showlegend": true,
         "type": "scattergeo"
        },
        {
         "geo": "geo",
         "hovertemplate": "Local Government Areas=Onitsha North<br>Latitude=%{lat}<br>Longitude=%{lon}<extra></extra>",
         "lat": [
          6.1506953499999995
         ],
         "legendgroup": "Onitsha North",
         "lon": [
          6.802856854011423
         ],
         "marker": {
          "color": "#FFA15A",
          "symbol": "circle"
         },
         "mode": "markers",
         "name": "Onitsha North",
         "showlegend": true,
         "type": "scattergeo"
        },
        {
         "geo": "geo",
         "hovertemplate": "Local Government Areas=Onitsha South<br>Latitude=%{lat}<br>Longitude=%{lon}<extra></extra>",
         "lat": [
          6.13936475
         ],
         "legendgroup": "Onitsha South",
         "lon": [
          6.773247019073018
         ],
         "marker": {
          "color": "#19d3f3",
          "symbol": "circle"
         },
         "mode": "markers",
         "name": "Onitsha South",
         "showlegend": true,
         "type": "scattergeo"
        },
        {
         "geo": "geo",
         "hovertemplate": "Local Government Areas=Orumba North<br>Latitude=%{lat}<br>Longitude=%{lon}<extra></extra>",
         "lat": [
          6.113402150000001
         ],
         "legendgroup": "Orumba North",
         "lon": [
          7.162569595915986
         ],
         "marker": {
          "color": "#FF6692",
          "symbol": "circle"
         },
         "mode": "markers",
         "name": "Orumba North",
         "showlegend": true,
         "type": "scattergeo"
        },
        {
         "geo": "geo",
         "hovertemplate": "Local Government Areas=Orumba South<br>Latitude=%{lat}<br>Longitude=%{lon}<extra></extra>",
         "lat": [
          5.989224849999999
         ],
         "legendgroup": "Orumba South",
         "lon": [
          7.204919894122538
         ],
         "marker": {
          "color": "#B6E880",
          "symbol": "circle"
         },
         "mode": "markers",
         "name": "Orumba South",
         "showlegend": true,
         "type": "scattergeo"
        },
        {
         "geo": "geo",
         "hovertemplate": "Local Government Areas=Oyi<br>Latitude=%{lat}<br>Longitude=%{lon}<extra></extra>",
         "lat": [
          6.23959565
         ],
         "legendgroup": "Oyi",
         "lon": [
          6.9073480096803745
         ],
         "marker": {
          "color": "#FF97FF",
          "symbol": "circle"
         },
         "mode": "markers",
         "name": "Oyi",
         "showlegend": true,
         "type": "scattergeo"
        },
        {
         "geo": "geo",
         "hovertemplate": "Local Government Areas=Alkaleri<br>Latitude=%{lat}<br>Longitude=%{lon}<extra></extra>",
         "lat": [
          10.266055
         ],
         "legendgroup": "Alkaleri",
         "lon": [
          10.335287
         ],
         "marker": {
          "color": "#FECB52",
          "symbol": "circle"
         },
         "mode": "markers",
         "name": "Alkaleri",
         "showlegend": true,
         "type": "scattergeo"
        },
        {
         "geo": "geo",
         "hovertemplate": "Local Government Areas=Bauchi<br>Latitude=%{lat}<br>Longitude=%{lon}<extra></extra>",
         "lat": [
          10.6228284
         ],
         "legendgroup": "Bauchi",
         "lon": [
          10.0287754
         ],
         "marker": {
          "color": "#636efa",
          "symbol": "circle"
         },
         "mode": "markers",
         "name": "Bauchi",
         "showlegend": true,
         "type": "scattergeo"
        },
        {
         "geo": "geo",
         "hovertemplate": "Local Government Areas=Bogoro<br>Latitude=%{lat}<br>Longitude=%{lon}<extra></extra>",
         "lat": [
          9.666667
         ],
         "legendgroup": "Bogoro",
         "lon": [
          9.6
         ],
         "marker": {
          "color": "#EF553B",
          "symbol": "circle"
         },
         "mode": "markers",
         "name": "Bogoro",
         "showlegend": true,
         "type": "scattergeo"
        },
        {
         "geo": "geo",
         "hovertemplate": "Local Government Areas=Damban<br>Latitude=%{lat}<br>Longitude=%{lon}<extra></extra>",
         "lat": [
          11.6793
         ],
         "legendgroup": "Damban",
         "lon": [
          10.7074
         ],
         "marker": {
          "color": "#00cc96",
          "symbol": "circle"
         },
         "mode": "markers",
         "name": "Damban",
         "showlegend": true,
         "type": "scattergeo"
        },
        {
         "geo": "geo",
         "hovertemplate": "Local Government Areas=Darazo<br>Latitude=%{lat}<br>Longitude=%{lon}<extra></extra>",
         "lat": [
          10.993754
         ],
         "legendgroup": "Darazo",
         "lon": [
          10.411791
         ],
         "marker": {
          "color": "#ab63fa",
          "symbol": "circle"
         },
         "mode": "markers",
         "name": "Darazo",
         "showlegend": true,
         "type": "scattergeo"
        },
        {
         "geo": "geo",
         "hovertemplate": "Local Government Areas=Dass<br>Latitude=%{lat}<br>Longitude=%{lon}<extra></extra>",
         "lat": [
          9.783333
         ],
         "legendgroup": "Dass",
         "lon": [
          9.2007725
         ],
         "marker": {
          "color": "#FFA15A",
          "symbol": "circle"
         },
         "mode": "markers",
         "name": "Dass",
         "showlegend": true,
         "type": "scattergeo"
        },
        {
         "geo": "geo",
         "hovertemplate": "Local Government Areas=Gamawa<br>Latitude=%{lat}<br>Longitude=%{lon}<extra></extra>",
         "lat": [
          12.1336358
         ],
         "legendgroup": "Gamawa",
         "lon": [
          10.5372515
         ],
         "marker": {
          "color": "#19d3f3",
          "symbol": "circle"
         },
         "mode": "markers",
         "name": "Gamawa",
         "showlegend": true,
         "type": "scattergeo"
        },
        {
         "geo": "geo",
         "hovertemplate": "Local Government Areas=Ganjuwa<br>Latitude=%{lat}<br>Longitude=%{lon}<extra></extra>",
         "lat": [
          9.45
         ],
         "legendgroup": "Ganjuwa",
         "lon": [
          10.316667
         ],
         "marker": {
          "color": "#FF6692",
          "symbol": "circle"
         },
         "mode": "markers",
         "name": "Ganjuwa",
         "showlegend": true,
         "type": "scattergeo"
        },
        {
         "geo": "geo",
         "hovertemplate": "Local Government Areas=Giade<br>Latitude=%{lat}<br>Longitude=%{lon}<extra></extra>",
         "lat": [
          11.3928
         ],
         "legendgroup": "Giade",
         "lon": [
          10.1993
         ],
         "marker": {
          "color": "#B6E880",
          "symbol": "circle"
         },
         "mode": "markers",
         "name": "Giade",
         "showlegend": true,
         "type": "scattergeo"
        },
        {
         "geo": "geo",
         "hovertemplate": "Local Government Areas=Itas/Gadau<br>Latitude=%{lat}<br>Longitude=%{lon}<extra></extra>",
         "lat": [
          11.87706395
         ],
         "legendgroup": "Itas/Gadau",
         "lon": [
          10.044534902521644
         ],
         "marker": {
          "color": "#FF97FF",
          "symbol": "circle"
         },
         "mode": "markers",
         "name": "Itas/Gadau",
         "showlegend": true,
         "type": "scattergeo"
        },
        {
         "geo": "geo",
         "hovertemplate": "Local Government Areas=Jama'are<br>Latitude=%{lat}<br>Longitude=%{lon}<extra></extra>",
         "lat": [
          11.0749875
         ],
         "legendgroup": "Jama'are",
         "lon": [
          5.285182
         ],
         "marker": {
          "color": "#FECB52",
          "symbol": "circle"
         },
         "mode": "markers",
         "name": "Jama'are",
         "showlegend": true,
         "type": "scattergeo"
        },
        {
         "geo": "geo",
         "hovertemplate": "Local Government Areas=Katagum<br>Latitude=%{lat}<br>Longitude=%{lon}<extra></extra>",
         "lat": [
          12.2867
         ],
         "legendgroup": "Katagum",
         "lon": [
          10.3527
         ],
         "marker": {
          "color": "#636efa",
          "symbol": "circle"
         },
         "mode": "markers",
         "name": "Katagum",
         "showlegend": true,
         "type": "scattergeo"
        },
        {
         "geo": "geo",
         "hovertemplate": "Local Government Areas=Kirfi<br>Latitude=%{lat}<br>Longitude=%{lon}<extra></extra>",
         "lat": [
          10.42547115
         ],
         "legendgroup": "Kirfi",
         "lon": [
          10.543492392752844
         ],
         "marker": {
          "color": "#EF553B",
          "symbol": "circle"
         },
         "mode": "markers",
         "name": "Kirfi",
         "showlegend": true,
         "type": "scattergeo"
        },
        {
         "geo": "geo",
         "hovertemplate": "Local Government Areas=Misau<br>Latitude=%{lat}<br>Longitude=%{lon}<extra></extra>",
         "lat": [
          11.3163
         ],
         "legendgroup": "Misau",
         "lon": [
          10.4703
         ],
         "marker": {
          "color": "#00cc96",
          "symbol": "circle"
         },
         "mode": "markers",
         "name": "Misau",
         "showlegend": true,
         "type": "scattergeo"
        },
        {
         "geo": "geo",
         "hovertemplate": "Local Government Areas=Ningi<br>Latitude=%{lat}<br>Longitude=%{lon}<extra></extra>",
         "lat": [
          11.0753041
         ],
         "legendgroup": "Ningi",
         "lon": [
          9.5689107
         ],
         "marker": {
          "color": "#ab63fa",
          "symbol": "circle"
         },
         "mode": "markers",
         "name": "Ningi",
         "showlegend": true,
         "type": "scattergeo"
        },
        {
         "geo": "geo",
         "hovertemplate": "Local Government Areas=Shira<br>Latitude=%{lat}<br>Longitude=%{lon}<extra></extra>",
         "lat": [
          11.4583
         ],
         "legendgroup": "Shira",
         "lon": [
          10.0468
         ],
         "marker": {
          "color": "#FFA15A",
          "symbol": "circle"
         },
         "mode": "markers",
         "name": "Shira",
         "showlegend": true,
         "type": "scattergeo"
        },
        {
         "geo": "geo",
         "hovertemplate": "Local Government Areas=Tafawa Balewa<br>Latitude=%{lat}<br>Longitude=%{lon}<extra></extra>",
         "lat": [
          9.7605154
         ],
         "legendgroup": "Tafawa Balewa",
         "lon": [
          9.5535375
         ],
         "marker": {
          "color": "#19d3f3",
          "symbol": "circle"
         },
         "mode": "markers",
         "name": "Tafawa Balewa",
         "showlegend": true,
         "type": "scattergeo"
        },
        {
         "geo": "geo",
         "hovertemplate": "Local Government Areas=Toro<br>Latitude=%{lat}<br>Longitude=%{lon}<extra></extra>",
         "lat": [
          10.0550723
         ],
         "legendgroup": "Toro",
         "lon": [
          9.0677127
         ],
         "marker": {
          "color": "#FF6692",
          "symbol": "circle"
         },
         "mode": "markers",
         "name": "Toro",
         "showlegend": true,
         "type": "scattergeo"
        },
        {
         "geo": "geo",
         "hovertemplate": "Local Government Areas=Warji<br>Latitude=%{lat}<br>Longitude=%{lon}<extra></extra>",
         "lat": [
          11.183333
         ],
         "legendgroup": "Warji",
         "lon": [
          9.75
         ],
         "marker": {
          "color": "#B6E880",
          "symbol": "circle"
         },
         "mode": "markers",
         "name": "Warji",
         "showlegend": true,
         "type": "scattergeo"
        },
        {
         "geo": "geo",
         "hovertemplate": "Local Government Areas=Zaki<br>Latitude=%{lat}<br>Longitude=%{lon}<extra></extra>",
         "lat": [
          7.216667
         ],
         "legendgroup": "Zaki",
         "lon": [
          8.683333
         ],
         "marker": {
          "color": "#FF97FF",
          "symbol": "circle"
         },
         "mode": "markers",
         "name": "Zaki",
         "showlegend": true,
         "type": "scattergeo"
        },
        {
         "geo": "geo",
         "hovertemplate": "Local Government Areas=Ado<br>Latitude=%{lat}<br>Longitude=%{lon}<extra></extra>",
         "lat": [
          6.621566
         ],
         "legendgroup": "Ado",
         "lon": [
          3.7028215
         ],
         "marker": {
          "color": "#FECB52",
          "symbol": "circle"
         },
         "mode": "markers",
         "name": "Ado",
         "showlegend": true,
         "type": "scattergeo"
        },
        {
         "geo": "geo",
         "hovertemplate": "Local Government Areas=Agatu<br>Latitude=%{lat}<br>Longitude=%{lon}<extra></extra>",
         "lat": [
          7.87317565
         ],
         "legendgroup": "Agatu",
         "lon": [
          7.879691587275744
         ],
         "marker": {
          "color": "#636efa",
          "symbol": "circle"
         },
         "mode": "markers",
         "name": "Agatu",
         "showlegend": true,
         "type": "scattergeo"
        },
        {
         "geo": "geo",
         "hovertemplate": "Local Government Areas=Apa<br>Latitude=%{lat}<br>Longitude=%{lon}<extra></extra>",
         "lat": [
          7.3
         ],
         "legendgroup": "Apa",
         "lon": [
          3.183333
         ],
         "marker": {
          "color": "#EF553B",
          "symbol": "circle"
         },
         "mode": "markers",
         "name": "Apa",
         "showlegend": true,
         "type": "scattergeo"
        },
        {
         "geo": "geo",
         "hovertemplate": "Local Government Areas=Buruku<br>Latitude=%{lat}<br>Longitude=%{lon}<extra></extra>",
         "lat": [
          10.6179878
         ],
         "legendgroup": "Buruku",
         "lon": [
          7.2331238
         ],
         "marker": {
          "color": "#00cc96",
          "symbol": "circle"
         },
         "mode": "markers",
         "name": "Buruku",
         "showlegend": true,
         "type": "scattergeo"
        },
        {
         "geo": "geo",
         "hovertemplate": "Local Government Areas=Gboko<br>Latitude=%{lat}<br>Longitude=%{lon}<extra></extra>",
         "lat": [
          7.37784815
         ],
         "legendgroup": "Gboko",
         "lon": [
          8.871322377025628
         ],
         "marker": {
          "color": "#ab63fa",
          "symbol": "circle"
         },
         "mode": "markers",
         "name": "Gboko",
         "showlegend": true,
         "type": "scattergeo"
        },
        {
         "geo": "geo",
         "hovertemplate": "Local Government Areas=Guma<br>Latitude=%{lat}<br>Longitude=%{lon}<extra></extra>",
         "lat": [
          12.4566602
         ],
         "legendgroup": "Guma",
         "lon": [
          5.0399043
         ],
         "marker": {
          "color": "#FFA15A",
          "symbol": "circle"
         },
         "mode": "markers",
         "name": "Guma",
         "showlegend": true,
         "type": "scattergeo"
        },
        {
         "geo": "geo",
         "hovertemplate": "Local Government Areas=Gwer East<br>Latitude=%{lat}<br>Longitude=%{lon}<extra></extra>",
         "lat": [
          7.378216999999999
         ],
         "legendgroup": "Gwer East",
         "lon": [
          8.35274251749189
         ],
         "marker": {
          "color": "#19d3f3",
          "symbol": "circle"
         },
         "mode": "markers",
         "name": "Gwer East",
         "showlegend": true,
         "type": "scattergeo"
        },
        {
         "geo": "geo",
         "hovertemplate": "Local Government Areas=Gwer West<br>Latitude=%{lat}<br>Longitude=%{lon}<extra></extra>",
         "lat": [
          7.62104465
         ],
         "legendgroup": "Gwer West",
         "lon": [
          8.206342041492976
         ],
         "marker": {
          "color": "#FF6692",
          "symbol": "circle"
         },
         "mode": "markers",
         "name": "Gwer West",
         "showlegend": true,
         "type": "scattergeo"
        },
        {
         "geo": "geo",
         "hovertemplate": "Local Government Areas=Katsina-Ala<br>Latitude=%{lat}<br>Longitude=%{lon}<extra></extra>",
         "lat": [
          7.166667
         ],
         "legendgroup": "Katsina-Ala",
         "lon": [
          9.283333
         ],
         "marker": {
          "color": "#B6E880",
          "symbol": "circle"
         },
         "mode": "markers",
         "name": "Katsina-Ala",
         "showlegend": true,
         "type": "scattergeo"
        },
        {
         "geo": "geo",
         "hovertemplate": "Local Government Areas=Konshisha<br>Latitude=%{lat}<br>Longitude=%{lon}<extra></extra>",
         "lat": [
          7.1204698
         ],
         "legendgroup": "Konshisha",
         "lon": [
          8.618047290964688
         ],
         "marker": {
          "color": "#FF97FF",
          "symbol": "circle"
         },
         "mode": "markers",
         "name": "Konshisha",
         "showlegend": true,
         "type": "scattergeo"
        },
        {
         "geo": "geo",
         "hovertemplate": "Local Government Areas=Kwande<br>Latitude=%{lat}<br>Longitude=%{lon}<extra></extra>",
         "lat": [
          8.7
         ],
         "legendgroup": "Kwande",
         "lon": [
          9.3
         ],
         "marker": {
          "color": "#FECB52",
          "symbol": "circle"
         },
         "mode": "markers",
         "name": "Kwande",
         "showlegend": true,
         "type": "scattergeo"
        },
        {
         "geo": "geo",
         "hovertemplate": "Local Government Areas=Logo<br>Latitude=%{lat}<br>Longitude=%{lon}<extra></extra>",
         "lat": [
          7.66717125
         ],
         "legendgroup": "Logo",
         "lon": [
          9.207467574683378
         ],
         "marker": {
          "color": "#636efa",
          "symbol": "circle"
         },
         "mode": "markers",
         "name": "Logo",
         "showlegend": true,
         "type": "scattergeo"
        },
        {
         "geo": "geo",
         "hovertemplate": "Local Government Areas=Makurdi<br>Latitude=%{lat}<br>Longitude=%{lon}<extra></extra>",
         "lat": [
          12.1917
         ],
         "legendgroup": "Makurdi",
         "lon": [
          8.49938
         ],
         "marker": {
          "color": "#EF553B",
          "symbol": "circle"
         },
         "mode": "markers",
         "name": "Makurdi",
         "showlegend": true,
         "type": "scattergeo"
        },
        {
         "geo": "geo",
         "hovertemplate": "Local Government Areas=Obi<br>Latitude=%{lat}<br>Longitude=%{lon}<extra></extra>",
         "lat": [
          8.366667,
          8.366667
         ],
         "legendgroup": "Obi",
         "lon": [
          8.766667,
          8.766667
         ],
         "marker": {
          "color": "#00cc96",
          "symbol": "circle"
         },
         "mode": "markers",
         "name": "Obi",
         "showlegend": true,
         "type": "scattergeo"
        },
        {
         "geo": "geo",
         "hovertemplate": "Local Government Areas=Ogbadibo<br>Latitude=%{lat}<br>Longitude=%{lon}<extra></extra>",
         "lat": [
          7.00883295
         ],
         "legendgroup": "Ogbadibo",
         "lon": [
          7.645656879745118
         ],
         "marker": {
          "color": "#ab63fa",
          "symbol": "circle"
         },
         "mode": "markers",
         "name": "Ogbadibo",
         "showlegend": true,
         "type": "scattergeo"
        },
        {
         "geo": "geo",
         "hovertemplate": "Local Government Areas=Ohimini<br>Latitude=%{lat}<br>Longitude=%{lon}<extra></extra>",
         "lat": [
          7.25025535
         ],
         "legendgroup": "Ohimini",
         "lon": [
          7.95726724779183
         ],
         "marker": {
          "color": "#FFA15A",
          "symbol": "circle"
         },
         "mode": "markers",
         "name": "Ohimini",
         "showlegend": true,
         "type": "scattergeo"
        },
        {
         "geo": "geo",
         "hovertemplate": "Local Government Areas=Oju<br>Latitude=%{lat}<br>Longitude=%{lon}<extra></extra>",
         "lat": [
          6.84543
         ],
         "legendgroup": "Oju",
         "lon": [
          8.417355
         ],
         "marker": {
          "color": "#19d3f3",
          "symbol": "circle"
         },
         "mode": "markers",
         "name": "Oju",
         "showlegend": true,
         "type": "scattergeo"
        },
        {
         "geo": "geo",
         "hovertemplate": "Local Government Areas=Okpokwu<br>Latitude=%{lat}<br>Longitude=%{lon}<extra></extra>",
         "lat": [
          7.0632
         ],
         "legendgroup": "Okpokwu",
         "lon": [
          8.2095
         ],
         "marker": {
          "color": "#FF6692",
          "symbol": "circle"
         },
         "mode": "markers",
         "name": "Okpokwu",
         "showlegend": true,
         "type": "scattergeo"
        },
        {
         "geo": "geo",
         "hovertemplate": "Local Government Areas=Oturkpo<br>Latitude=%{lat}<br>Longitude=%{lon}<extra></extra>",
         "lat": [
          7.1912599
         ],
         "legendgroup": "Oturkpo",
         "lon": [
          8.1328576
         ],
         "marker": {
          "color": "#B6E880",
          "symbol": "circle"
         },
         "mode": "markers",
         "name": "Oturkpo",
         "showlegend": true,
         "type": "scattergeo"
        },
        {
         "geo": "geo",
         "hovertemplate": "Local Government Areas=Tarka<br>Latitude=%{lat}<br>Longitude=%{lon}<extra></extra>",
         "lat": [
          7.3427
         ],
         "legendgroup": "Tarka",
         "lon": [
          8.5686
         ],
         "marker": {
          "color": "#FF97FF",
          "symbol": "circle"
         },
         "mode": "markers",
         "name": "Tarka",
         "showlegend": true,
         "type": "scattergeo"
        },
        {
         "geo": "geo",
         "hovertemplate": "Local Government Areas=Ukum<br>Latitude=%{lat}<br>Longitude=%{lon}<extra></extra>",
         "lat": [
          7.383333
         ],
         "legendgroup": "Ukum",
         "lon": [
          10.116667
         ],
         "marker": {
          "color": "#FECB52",
          "symbol": "circle"
         },
         "mode": "markers",
         "name": "Ukum",
         "showlegend": true,
         "type": "scattergeo"
        },
        {
         "geo": "geo",
         "hovertemplate": "Local Government Areas=Ushongo<br>Latitude=%{lat}<br>Longitude=%{lon}<extra></extra>",
         "lat": [
          7.1040665999999995
         ],
         "legendgroup": "Ushongo",
         "lon": [
          9.097223976623711
         ],
         "marker": {
          "color": "#636efa",
          "symbol": "circle"
         },
         "mode": "markers",
         "name": "Ushongo",
         "showlegend": true,
         "type": "scattergeo"
        },
        {
         "geo": "geo",
         "hovertemplate": "Local Government Areas=Vandeikya<br>Latitude=%{lat}<br>Longitude=%{lon}<extra></extra>",
         "lat": [
          6.833444350000001
         ],
         "legendgroup": "Vandeikya",
         "lon": [
          9.045834371061535
         ],
         "marker": {
          "color": "#EF553B",
          "symbol": "circle"
         },
         "mode": "markers",
         "name": "Vandeikya",
         "showlegend": true,
         "type": "scattergeo"
        },
        {
         "geo": "geo",
         "hovertemplate": "Local Government Areas=Abadam<br>Latitude=%{lat}<br>Longitude=%{lon}<extra></extra>",
         "lat": [
          13.617475
         ],
         "legendgroup": "Abadam",
         "lon": [
          13.2663518
         ],
         "marker": {
          "color": "#00cc96",
          "symbol": "circle"
         },
         "mode": "markers",
         "name": "Abadam",
         "showlegend": true,
         "type": "scattergeo"
        },
        {
         "geo": "geo",
         "hovertemplate": "Local Government Areas=Askira/Uba<br>Latitude=%{lat}<br>Longitude=%{lon}<extra></extra>",
         "lat": [
          10.72515255
         ],
         "legendgroup": "Askira/Uba",
         "lon": [
          13.156518868461916
         ],
         "marker": {
          "color": "#ab63fa",
          "symbol": "circle"
         },
         "mode": "markers",
         "name": "Askira/Uba",
         "showlegend": true,
         "type": "scattergeo"
        },
        {
         "geo": "geo",
         "hovertemplate": "Local Government Areas=Bama<br>Latitude=%{lat}<br>Longitude=%{lon}<extra></extra>",
         "lat": [
          11.54544
         ],
         "legendgroup": "Bama",
         "lon": [
          14.0064277
         ],
         "marker": {
          "color": "#FFA15A",
          "symbol": "circle"
         },
         "mode": "markers",
         "name": "Bama",
         "showlegend": true,
         "type": "scattergeo"
        },
        {
         "geo": "geo",
         "hovertemplate": "Local Government Areas=Bayo<br>Latitude=%{lat}<br>Longitude=%{lon}<extra></extra>",
         "lat": [
          7.75
         ],
         "legendgroup": "Bayo",
         "lon": [
          3.8
         ],
         "marker": {
          "color": "#19d3f3",
          "symbol": "circle"
         },
         "mode": "markers",
         "name": "Bayo",
         "showlegend": true,
         "type": "scattergeo"
        },
        {
         "geo": "geo",
         "hovertemplate": "Local Government Areas=Biu<br>Latitude=%{lat}<br>Longitude=%{lon}<extra></extra>",
         "lat": [
          10.6146098
         ],
         "legendgroup": "Biu",
         "lon": [
          12.1909612
         ],
         "marker": {
          "color": "#FF6692",
          "symbol": "circle"
         },
         "mode": "markers",
         "name": "Biu",
         "showlegend": true,
         "type": "scattergeo"
        },
        {
         "geo": "geo",
         "hovertemplate": "Local Government Areas=Chibok<br>Latitude=%{lat}<br>Longitude=%{lon}<extra></extra>",
         "lat": [
          10.8690461
         ],
         "legendgroup": "Chibok",
         "lon": [
          12.8480309
         ],
         "marker": {
          "color": "#B6E880",
          "symbol": "circle"
         },
         "mode": "markers",
         "name": "Chibok",
         "showlegend": true,
         "type": "scattergeo"
        },
        {
         "geo": "geo",
         "hovertemplate": "Local Government Areas=Damboa<br>Latitude=%{lat}<br>Longitude=%{lon}<extra></extra>",
         "lat": [
          11.1506644
         ],
         "legendgroup": "Damboa",
         "lon": [
          12.7595826
         ],
         "marker": {
          "color": "#FF97FF",
          "symbol": "circle"
         },
         "mode": "markers",
         "name": "Damboa",
         "showlegend": true,
         "type": "scattergeo"
        },
        {
         "geo": "geo",
         "hovertemplate": "Local Government Areas=Dikwa<br>Latitude=%{lat}<br>Longitude=%{lon}<extra></extra>",
         "lat": [
          12.0348805
         ],
         "legendgroup": "Dikwa",
         "lon": [
          13.9187003
         ],
         "marker": {
          "color": "#FECB52",
          "symbol": "circle"
         },
         "mode": "markers",
         "name": "Dikwa",
         "showlegend": true,
         "type": "scattergeo"
        },
        {
         "geo": "geo",
         "hovertemplate": "Local Government Areas=Gubio<br>Latitude=%{lat}<br>Longitude=%{lon}<extra></extra>",
         "lat": [
          12.4978949
         ],
         "legendgroup": "Gubio",
         "lon": [
          12.7821926
         ],
         "marker": {
          "color": "#636efa",
          "symbol": "circle"
         },
         "mode": "markers",
         "name": "Gubio",
         "showlegend": true,
         "type": "scattergeo"
        },
        {
         "geo": "geo",
         "hovertemplate": "Local Government Areas=Guzamala<br>Latitude=%{lat}<br>Longitude=%{lon}<extra></extra>",
         "lat": [
          12.864006499999999
         ],
         "legendgroup": "Guzamala",
         "lon": [
          13.250896927021696
         ],
         "marker": {
          "color": "#EF553B",
          "symbol": "circle"
         },
         "mode": "markers",
         "name": "Guzamala",
         "showlegend": true,
         "type": "scattergeo"
        },
        {
         "geo": "geo",
         "hovertemplate": "Local Government Areas=Gwoza<br>Latitude=%{lat}<br>Longitude=%{lon}<extra></extra>",
         "lat": [
          11.0831008
         ],
         "legendgroup": "Gwoza",
         "lon": [
          13.6941974
         ],
         "marker": {
          "color": "#00cc96",
          "symbol": "circle"
         },
         "mode": "markers",
         "name": "Gwoza",
         "showlegend": true,
         "type": "scattergeo"
        },
        {
         "geo": "geo",
         "hovertemplate": "Local Government Areas=Hawul<br>Latitude=%{lat}<br>Longitude=%{lon}<extra></extra>",
         "lat": [
          10.4545467
         ],
         "legendgroup": "Hawul",
         "lon": [
          12.307770259271482
         ],
         "marker": {
          "color": "#ab63fa",
          "symbol": "circle"
         },
         "mode": "markers",
         "name": "Hawul",
         "showlegend": true,
         "type": "scattergeo"
        },
        {
         "geo": "geo",
         "hovertemplate": "Local Government Areas=Jere<br>Latitude=%{lat}<br>Longitude=%{lon}<extra></extra>",
         "lat": [
          10.184332
         ],
         "legendgroup": "Jere",
         "lon": [
          8.867303
         ],
         "marker": {
          "color": "#FFA15A",
          "symbol": "circle"
         },
         "mode": "markers",
         "name": "Jere",
         "showlegend": true,
         "type": "scattergeo"
        },
        {
         "geo": "geo",
         "hovertemplate": "Local Government Areas=Kaga<br>Latitude=%{lat}<br>Longitude=%{lon}<extra></extra>",
         "lat": [
          12.150916
         ],
         "legendgroup": "Kaga",
         "lon": [
          13.9114298
         ],
         "marker": {
          "color": "#19d3f3",
          "symbol": "circle"
         },
         "mode": "markers",
         "name": "Kaga",
         "showlegend": true,
         "type": "scattergeo"
        },
        {
         "geo": "geo",
         "hovertemplate": "Local Government Areas=Kala/Balge<br>Latitude=%{lat}<br>Longitude=%{lon}<extra></extra>",
         "lat": [
          12.0826402
         ],
         "legendgroup": "Kala/Balge",
         "lon": [
          14.4671621
         ],
         "marker": {
          "color": "#FF6692",
          "symbol": "circle"
         },
         "mode": "markers",
         "name": "Kala/Balge",
         "showlegend": true,
         "type": "scattergeo"
        },
        {
         "geo": "geo",
         "hovertemplate": "Local Government Areas=Konduga<br>Latitude=%{lat}<br>Longitude=%{lon}<extra></extra>",
         "lat": [
          11.68179215
         ],
         "legendgroup": "Konduga",
         "lon": [
          13.41006033782285
         ],
         "marker": {
          "color": "#B6E880",
          "symbol": "circle"
         },
         "mode": "markers",
         "name": "Konduga",
         "showlegend": true,
         "type": "scattergeo"
        },
        {
         "geo": "geo",
         "hovertemplate": "Local Government Areas=Kukawa<br>Latitude=%{lat}<br>Longitude=%{lon}<extra></extra>",
         "lat": [
          12.92146475
         ],
         "legendgroup": "Kukawa",
         "lon": [
          13.626991444489535
         ],
         "marker": {
          "color": "#FF97FF",
          "symbol": "circle"
         },
         "mode": "markers",
         "name": "Kukawa",
         "showlegend": true,
         "type": "scattergeo"
        },
        {
         "geo": "geo",
         "hovertemplate": "Local Government Areas=Kwaya Kusar<br>Latitude=%{lat}<br>Longitude=%{lon}<extra></extra>",
         "lat": [
          10.56220565
         ],
         "legendgroup": "Kwaya Kusar",
         "lon": [
          11.848337192639754
         ],
         "marker": {
          "color": "#FECB52",
          "symbol": "circle"
         },
         "mode": "markers",
         "name": "Kwaya Kusar",
         "showlegend": true,
         "type": "scattergeo"
        },
        {
         "geo": "geo",
         "hovertemplate": "Local Government Areas=Mafa<br>Latitude=%{lat}<br>Longitude=%{lon}<extra></extra>",
         "lat": [
          11.949381599999999
         ],
         "legendgroup": "Mafa",
         "lon": [
          13.571639595748339
         ],
         "marker": {
          "color": "#636efa",
          "symbol": "circle"
         },
         "mode": "markers",
         "name": "Mafa",
         "showlegend": true,
         "type": "scattergeo"
        },
        {
         "geo": "geo",
         "hovertemplate": "Local Government Areas=Magumeri<br>Latitude=%{lat}<br>Longitude=%{lon}<extra></extra>",
         "lat": [
          12.0780512
         ],
         "legendgroup": "Magumeri",
         "lon": [
          12.774424928735748
         ],
         "marker": {
          "color": "#EF553B",
          "symbol": "circle"
         },
         "mode": "markers",
         "name": "Magumeri",
         "showlegend": true,
         "type": "scattergeo"
        },
        {
         "geo": "geo",
         "hovertemplate": "Local Government Areas=Maiduguri<br>Latitude=%{lat}<br>Longitude=%{lon}<extra></extra>",
         "lat": [
          11.8395375
         ],
         "legendgroup": "Maiduguri",
         "lon": [
          13.1536214
         ],
         "marker": {
          "color": "#00cc96",
          "symbol": "circle"
         },
         "mode": "markers",
         "name": "Maiduguri",
         "showlegend": true,
         "type": "scattergeo"
        },
        {
         "geo": "geo",
         "hovertemplate": "Local Government Areas=Marte<br>Latitude=%{lat}<br>Longitude=%{lon}<extra></extra>",
         "lat": [
          12.365027
         ],
         "legendgroup": "Marte",
         "lon": [
          13.830184
         ],
         "marker": {
          "color": "#ab63fa",
          "symbol": "circle"
         },
         "mode": "markers",
         "name": "Marte",
         "showlegend": true,
         "type": "scattergeo"
        },
        {
         "geo": "geo",
         "hovertemplate": "Local Government Areas=Mobbar<br>Latitude=%{lat}<br>Longitude=%{lon}<extra></extra>",
         "lat": [
          13.066903499999999
         ],
         "legendgroup": "Mobbar",
         "lon": [
          12.67769691340996
         ],
         "marker": {
          "color": "#FFA15A",
          "symbol": "circle"
         },
         "mode": "markers",
         "name": "Mobbar",
         "showlegend": true,
         "type": "scattergeo"
        },
        {
         "geo": "geo",
         "hovertemplate": "Local Government Areas=Monguno<br>Latitude=%{lat}<br>Longitude=%{lon}<extra></extra>",
         "lat": [
          12.6962838
         ],
         "legendgroup": "Monguno",
         "lon": [
          13.534786705264894
         ],
         "marker": {
          "color": "#19d3f3",
          "symbol": "circle"
         },
         "mode": "markers",
         "name": "Monguno",
         "showlegend": true,
         "type": "scattergeo"
        },
        {
         "geo": "geo",
         "hovertemplate": "Local Government Areas=Ngala<br>Latitude=%{lat}<br>Longitude=%{lon}<extra></extra>",
         "lat": [
          12.3402064
         ],
         "legendgroup": "Ngala",
         "lon": [
          14.1867246
         ],
         "marker": {
          "color": "#FF6692",
          "symbol": "circle"
         },
         "mode": "markers",
         "name": "Ngala",
         "showlegend": true,
         "type": "scattergeo"
        },
        {
         "geo": "geo",
         "hovertemplate": "Local Government Areas=Nganzai<br>Latitude=%{lat}<br>Longitude=%{lon}<extra></extra>",
         "lat": [
          12.449344450000002
         ],
         "legendgroup": "Nganzai",
         "lon": [
          13.125241114358442
         ],
         "marker": {
          "color": "#B6E880",
          "symbol": "circle"
         },
         "mode": "markers",
         "name": "Nganzai",
         "showlegend": true,
         "type": "scattergeo"
        },
        {
         "geo": "geo",
         "hovertemplate": "Local Government Areas=Shani<br>Latitude=%{lat}<br>Longitude=%{lon}<extra></extra>",
         "lat": [
          10.20095185
         ],
         "legendgroup": "Shani",
         "lon": [
          12.018992546713818
         ],
         "marker": {
          "color": "#FF97FF",
          "symbol": "circle"
         },
         "mode": "markers",
         "name": "Shani",
         "showlegend": true,
         "type": "scattergeo"
        },
        {
         "geo": "geo",
         "hovertemplate": "Local Government Areas=Abi<br>Latitude=%{lat}<br>Longitude=%{lon}<extra></extra>",
         "lat": [
          7.3013
         ],
         "legendgroup": "Abi",
         "lon": [
          8.29
         ],
         "marker": {
          "color": "#FECB52",
          "symbol": "circle"
         },
         "mode": "markers",
         "name": "Abi",
         "showlegend": true,
         "type": "scattergeo"
        },
        {
         "geo": "geo",
         "hovertemplate": "Local Government Areas=Akamkpa<br>Latitude=%{lat}<br>Longitude=%{lon}<extra></extra>",
         "lat": [
          5.38964605
         ],
         "legendgroup": "Akamkpa",
         "lon": [
          8.544655607884728
         ],
         "marker": {
          "color": "#636efa",
          "symbol": "circle"
         },
         "mode": "markers",
         "name": "Akamkpa",
         "showlegend": true,
         "type": "scattergeo"
        },
        {
         "geo": "geo",
         "hovertemplate": "Local Government Areas=Akpabuyo<br>Latitude=%{lat}<br>Longitude=%{lon}<extra></extra>",
         "lat": [
          4.89613185
         ],
         "legendgroup": "Akpabuyo",
         "lon": [
          8.480635436033198
         ],
         "marker": {
          "color": "#EF553B",
          "symbol": "circle"
         },
         "mode": "markers",
         "name": "Akpabuyo",
         "showlegend": true,
         "type": "scattergeo"
        },
        {
         "geo": "geo",
         "hovertemplate": "Local Government Areas=Bakassi<br>Latitude=%{lat}<br>Longitude=%{lon}<extra></extra>",
         "lat": [
          12.8132427
         ],
         "legendgroup": "Bakassi",
         "lon": [
          14.030048
         ],
         "marker": {
          "color": "#00cc96",
          "symbol": "circle"
         },
         "mode": "markers",
         "name": "Bakassi",
         "showlegend": true,
         "type": "scattergeo"
        },
        {
         "geo": "geo",
         "hovertemplate": "Local Government Areas=Bekwarra<br>Latitude=%{lat}<br>Longitude=%{lon}<extra></extra>",
         "lat": [
          6.7068095
         ],
         "legendgroup": "Bekwarra",
         "lon": [
          8.89437370930537
         ],
         "marker": {
          "color": "#ab63fa",
          "symbol": "circle"
         },
         "mode": "markers",
         "name": "Bekwarra",
         "showlegend": true,
         "type": "scattergeo"
        },
        {
         "geo": "geo",
         "hovertemplate": "Local Government Areas=Biase<br>Latitude=%{lat}<br>Longitude=%{lon}<extra></extra>",
         "lat": [
          5.547368049999999
         ],
         "legendgroup": "Biase",
         "lon": [
          8.052026653081514
         ],
         "marker": {
          "color": "#FFA15A",
          "symbol": "circle"
         },
         "mode": "markers",
         "name": "Biase",
         "showlegend": true,
         "type": "scattergeo"
        },
        {
         "geo": "geo",
         "hovertemplate": "Local Government Areas=Boki<br>Latitude=%{lat}<br>Longitude=%{lon}<extra></extra>",
         "lat": [
          6.26803565
         ],
         "legendgroup": "Boki",
         "lon": [
          9.02908406588377
         ],
         "marker": {
          "color": "#19d3f3",
          "symbol": "circle"
         },
         "mode": "markers",
         "name": "Boki",
         "showlegend": true,
         "type": "scattergeo"
        },
        {
         "geo": "geo",
         "hovertemplate": "Local Government Areas=Calabar Municipal<br>Latitude=%{lat}<br>Longitude=%{lon}<extra></extra>",
         "lat": [
          5.0153885
         ],
         "legendgroup": "Calabar Municipal",
         "lon": [
          8.346658001516946
         ],
         "marker": {
          "color": "#FF6692",
          "symbol": "circle"
         },
         "mode": "markers",
         "name": "Calabar Municipal",
         "showlegend": true,
         "type": "scattergeo"
        },
        {
         "geo": "geo",
         "hovertemplate": "Local Government Areas=Calabar South<br>Latitude=%{lat}<br>Longitude=%{lon}<extra></extra>",
         "lat": [
          4.8629383
         ],
         "legendgroup": "Calabar South",
         "lon": [
          8.325002550910487
         ],
         "marker": {
          "color": "#B6E880",
          "symbol": "circle"
         },
         "mode": "markers",
         "name": "Calabar South",
         "showlegend": true,
         "type": "scattergeo"
        },
        {
         "geo": "geo",
         "hovertemplate": "Local Government Areas=Etung<br>Latitude=%{lat}<br>Longitude=%{lon}<extra></extra>",
         "lat": [
          5.8739933
         ],
         "legendgroup": "Etung",
         "lon": [
          8.807615309080273
         ],
         "marker": {
          "color": "#FF97FF",
          "symbol": "circle"
         },
         "mode": "markers",
         "name": "Etung",
         "showlegend": true,
         "type": "scattergeo"
        },
        {
         "geo": "geo",
         "hovertemplate": "Local Government Areas=Ikom<br>Latitude=%{lat}<br>Longitude=%{lon}<extra></extra>",
         "lat": [
          5.9626796
         ],
         "legendgroup": "Ikom",
         "lon": [
          8.723787
         ],
         "marker": {
          "color": "#FECB52",
          "symbol": "circle"
         },
         "mode": "markers",
         "name": "Ikom",
         "showlegend": true,
         "type": "scattergeo"
        },
        {
         "geo": "geo",
         "hovertemplate": "Local Government Areas=Obanliku<br>Latitude=%{lat}<br>Longitude=%{lon}<extra></extra>",
         "lat": [
          6.4864846
         ],
         "legendgroup": "Obanliku",
         "lon": [
          9.2946333825018
         ],
         "marker": {
          "color": "#636efa",
          "symbol": "circle"
         },
         "mode": "markers",
         "name": "Obanliku",
         "showlegend": true,
         "type": "scattergeo"
        },
        {
         "geo": "geo",
         "hovertemplate": "Local Government Areas=Obubra<br>Latitude=%{lat}<br>Longitude=%{lon}<extra></extra>",
         "lat": [
          6.075254
         ],
         "legendgroup": "Obubra",
         "lon": [
          8.329038
         ],
         "marker": {
          "color": "#EF553B",
          "symbol": "circle"
         },
         "mode": "markers",
         "name": "Obubra",
         "showlegend": true,
         "type": "scattergeo"
        },
        {
         "geo": "geo",
         "hovertemplate": "Local Government Areas=Obudu<br>Latitude=%{lat}<br>Longitude=%{lon}<extra></extra>",
         "lat": [
          6.6682429
         ],
         "legendgroup": "Obudu",
         "lon": [
          9.1684558
         ],
         "marker": {
          "color": "#00cc96",
          "symbol": "circle"
         },
         "mode": "markers",
         "name": "Obudu",
         "showlegend": true,
         "type": "scattergeo"
        },
        {
         "geo": "geo",
         "hovertemplate": "Local Government Areas=Odukpani<br>Latitude=%{lat}<br>Longitude=%{lon}<extra></extra>",
         "lat": [
          5.1319545
         ],
         "legendgroup": "Odukpani",
         "lon": [
          8.339537
         ],
         "marker": {
          "color": "#ab63fa",
          "symbol": "circle"
         },
         "mode": "markers",
         "name": "Odukpani",
         "showlegend": true,
         "type": "scattergeo"
        },
        {
         "geo": "geo",
         "hovertemplate": "Local Government Areas=Ogoja<br>Latitude=%{lat}<br>Longitude=%{lon}<extra></extra>",
         "lat": [
          6.52780295
         ],
         "legendgroup": "Ogoja",
         "lon": [
          8.687844754183175
         ],
         "marker": {
          "color": "#FFA15A",
          "symbol": "circle"
         },
         "mode": "markers",
         "name": "Ogoja",
         "showlegend": true,
         "type": "scattergeo"
        },
        {
         "geo": "geo",
         "hovertemplate": "Local Government Areas=Yala<br>Latitude=%{lat}<br>Longitude=%{lon}<extra></extra>",
         "lat": [
          6.58959245
         ],
         "legendgroup": "Yala",
         "lon": [
          8.495931006643174
         ],
         "marker": {
          "color": "#19d3f3",
          "symbol": "circle"
         },
         "mode": "markers",
         "name": "Yala",
         "showlegend": true,
         "type": "scattergeo"
        },
        {
         "geo": "geo",
         "hovertemplate": "Local Government Areas=Aniocha North<br>Latitude=%{lat}<br>Longitude=%{lon}<extra></extra>",
         "lat": [
          6.36799405
         ],
         "legendgroup": "Aniocha North",
         "lon": [
          6.470280438186837
         ],
         "marker": {
          "color": "#FF6692",
          "symbol": "circle"
         },
         "mode": "markers",
         "name": "Aniocha North",
         "showlegend": true,
         "type": "scattergeo"
        },
        {
         "geo": "geo",
         "hovertemplate": "Local Government Areas=Aniocha South<br>Latitude=%{lat}<br>Longitude=%{lon}<extra></extra>",
         "lat": [
          6.1419725
         ],
         "legendgroup": "Aniocha South",
         "lon": [
          6.477390127053598
         ],
         "marker": {
          "color": "#B6E880",
          "symbol": "circle"
         },
         "mode": "markers",
         "name": "Aniocha South",
         "showlegend": true,
         "type": "scattergeo"
        },
        {
         "geo": "geo",
         "hovertemplate": "Local Government Areas=Bomadi<br>Latitude=%{lat}<br>Longitude=%{lon}<extra></extra>",
         "lat": [
          5.1585943
         ],
         "legendgroup": "Bomadi",
         "lon": [
          5.923544
         ],
         "marker": {
          "color": "#FF97FF",
          "symbol": "circle"
         },
         "mode": "markers",
         "name": "Bomadi",
         "showlegend": true,
         "type": "scattergeo"
        },
        {
         "geo": "geo",
         "hovertemplate": "Local Government Areas=Burutu<br>Latitude=%{lat}<br>Longitude=%{lon}<extra></extra>",
         "lat": [
          5.3522824
         ],
         "legendgroup": "Burutu",
         "lon": [
          5.5079208
         ],
         "marker": {
          "color": "#FECB52",
          "symbol": "circle"
         },
         "mode": "markers",
         "name": "Burutu",
         "showlegend": true,
         "type": "scattergeo"
        },
        {
         "geo": "geo",
         "hovertemplate": "Local Government Areas=Ethiope East<br>Latitude=%{lat}<br>Longitude=%{lon}<extra></extra>",
         "lat": [
          5.6672926
         ],
         "legendgroup": "Ethiope East",
         "lon": [
          5.972129657996909
         ],
         "marker": {
          "color": "#636efa",
          "symbol": "circle"
         },
         "mode": "markers",
         "name": "Ethiope East",
         "showlegend": true,
         "type": "scattergeo"
        },
        {
         "geo": "geo",
         "hovertemplate": "Local Government Areas=Ethiope West<br>Latitude=%{lat}<br>Longitude=%{lon}<extra></extra>",
         "lat": [
          5.9113228499999995
         ],
         "legendgroup": "Ethiope West",
         "lon": [
          5.7758592177283745
         ],
         "marker": {
          "color": "#EF553B",
          "symbol": "circle"
         },
         "mode": "markers",
         "name": "Ethiope West",
         "showlegend": true,
         "type": "scattergeo"
        },
        {
         "geo": "geo",
         "hovertemplate": "Local Government Areas=Ika North East<br>Latitude=%{lat}<br>Longitude=%{lon}<extra></extra>",
         "lat": [
          6.2361939
         ],
         "legendgroup": "Ika North East",
         "lon": [
          6.320776988087539
         ],
         "marker": {
          "color": "#00cc96",
          "symbol": "circle"
         },
         "mode": "markers",
         "name": "Ika North East",
         "showlegend": true,
         "type": "scattergeo"
        },
        {
         "geo": "geo",
         "hovertemplate": "Local Government Areas=Ika South<br>Latitude=%{lat}<br>Longitude=%{lon}<extra></extra>",
         "lat": [
          6.1849053000000005
         ],
         "legendgroup": "Ika South",
         "lon": [
          6.138080871147166
         ],
         "marker": {
          "color": "#ab63fa",
          "symbol": "circle"
         },
         "mode": "markers",
         "name": "Ika South",
         "showlegend": true,
         "type": "scattergeo"
        },
        {
         "geo": "geo",
         "hovertemplate": "Local Government Areas=Isoko North<br>Latitude=%{lat}<br>Longitude=%{lon}<extra></extra>",
         "lat": [
          5.52134205
         ],
         "legendgroup": "Isoko North",
         "lon": [
          6.130870491268007
         ],
         "marker": {
          "color": "#FFA15A",
          "symbol": "circle"
         },
         "mode": "markers",
         "name": "Isoko North",
         "showlegend": true,
         "type": "scattergeo"
        },
        {
         "geo": "geo",
         "hovertemplate": "Local Government Areas=Isoko South<br>Latitude=%{lat}<br>Longitude=%{lon}<extra></extra>",
         "lat": [
          5.3895204
         ],
         "legendgroup": "Isoko South",
         "lon": [
          6.211049621044424
         ],
         "marker": {
          "color": "#19d3f3",
          "symbol": "circle"
         },
         "mode": "markers",
         "name": "Isoko South",
         "showlegend": true,
         "type": "scattergeo"
        },
        {
         "geo": "geo",
         "hovertemplate": "Local Government Areas=Ndokwa East<br>Latitude=%{lat}<br>Longitude=%{lon}<extra></extra>",
         "lat": [
          5.6582752
         ],
         "legendgroup": "Ndokwa East",
         "lon": [
          6.496140761353628
         ],
         "marker": {
          "color": "#FF6692",
          "symbol": "circle"
         },
         "mode": "markers",
         "name": "Ndokwa East",
         "showlegend": true,
         "type": "scattergeo"
        },
        {
         "geo": "geo",
         "hovertemplate": "Local Government Areas=Ndokwa West<br>Latitude=%{lat}<br>Longitude=%{lon}<extra></extra>",
         "lat": [
          5.8260994
         ],
         "legendgroup": "Ndokwa West",
         "lon": [
          6.416355059643836
         ],
         "marker": {
          "color": "#B6E880",
          "symbol": "circle"
         },
         "mode": "markers",
         "name": "Ndokwa West",
         "showlegend": true,
         "type": "scattergeo"
        },
        {
         "geo": "geo",
         "hovertemplate": "Local Government Areas=Okpe<br>Latitude=%{lat}<br>Longitude=%{lon}<extra></extra>",
         "lat": [
          5.7004104
         ],
         "legendgroup": "Okpe",
         "lon": [
          5.75187931671686
         ],
         "marker": {
          "color": "#FF97FF",
          "symbol": "circle"
         },
         "mode": "markers",
         "name": "Okpe",
         "showlegend": true,
         "type": "scattergeo"
        },
        {
         "geo": "geo",
         "hovertemplate": "Local Government Areas=Oshimili North<br>Latitude=%{lat}<br>Longitude=%{lon}<extra></extra>",
         "lat": [
          6.30333
         ],
         "legendgroup": "Oshimili North",
         "lon": [
          6.64777291488069
         ],
         "marker": {
          "color": "#FECB52",
          "symbol": "circle"
         },
         "mode": "markers",
         "name": "Oshimili North",
         "showlegend": true,
         "type": "scattergeo"
        },
        {
         "geo": "geo",
         "hovertemplate": "Local Government Areas=Oshimili South<br>Latitude=%{lat}<br>Longitude=%{lon}<extra></extra>",
         "lat": [
          6.1303620500000005
         ],
         "legendgroup": "Oshimili South",
         "lon": [
          6.730733427256107
         ],
         "marker": {
          "color": "#636efa",
          "symbol": "circle"
         },
         "mode": "markers",
         "name": "Oshimili South",
         "showlegend": true,
         "type": "scattergeo"
        },
        {
         "geo": "geo",
         "hovertemplate": "Local Government Areas=Patani<br>Latitude=%{lat}<br>Longitude=%{lon}<extra></extra>",
         "lat": [
          5.2281298
         ],
         "legendgroup": "Patani",
         "lon": [
          6.1921572
         ],
         "marker": {
          "color": "#EF553B",
          "symbol": "circle"
         },
         "mode": "markers",
         "name": "Patani",
         "showlegend": true,
         "type": "scattergeo"
        },
        {
         "geo": "geo",
         "hovertemplate": "Local Government Areas=Sapele<br>Latitude=%{lat}<br>Longitude=%{lon}<extra></extra>",
         "lat": [
          5.83156395
         ],
         "legendgroup": "Sapele",
         "lon": [
          5.660127976472991
         ],
         "marker": {
          "color": "#00cc96",
          "symbol": "circle"
         },
         "mode": "markers",
         "name": "Sapele",
         "showlegend": true,
         "type": "scattergeo"
        },
        {
         "geo": "geo",
         "hovertemplate": "Local Government Areas=Udu<br>Latitude=%{lat}<br>Longitude=%{lon}<extra></extra>",
         "lat": [
          9.75
         ],
         "legendgroup": "Udu",
         "lon": [
          8.883333
         ],
         "marker": {
          "color": "#ab63fa",
          "symbol": "circle"
         },
         "mode": "markers",
         "name": "Udu",
         "showlegend": true,
         "type": "scattergeo"
        },
        {
         "geo": "geo",
         "hovertemplate": "Local Government Areas=Ughelli North<br>Latitude=%{lat}<br>Longitude=%{lon}<extra></extra>",
         "lat": [
          5.486883649999999
         ],
         "legendgroup": "Ughelli North",
         "lon": [
          6.01752592725169
         ],
         "marker": {
          "color": "#FFA15A",
          "symbol": "circle"
         },
         "mode": "markers",
         "name": "Ughelli North",
         "showlegend": true,
         "type": "scattergeo"
        },
        {
         "geo": "geo",
         "hovertemplate": "Local Government Areas=Ughelli South<br>Latitude=%{lat}<br>Longitude=%{lon}<extra></extra>",
         "lat": [
          5.360209449999999
         ],
         "legendgroup": "Ughelli South",
         "lon": [
          5.967778669073083
         ],
         "marker": {
          "color": "#19d3f3",
          "symbol": "circle"
         },
         "mode": "markers",
         "name": "Ughelli South",
         "showlegend": true,
         "type": "scattergeo"
        },
        {
         "geo": "geo",
         "hovertemplate": "Local Government Areas=Ukwuani<br>Latitude=%{lat}<br>Longitude=%{lon}<extra></extra>",
         "lat": [
          5.8494399999999995
         ],
         "legendgroup": "Ukwuani",
         "lon": [
          6.252058277544972
         ],
         "marker": {
          "color": "#FF6692",
          "symbol": "circle"
         },
         "mode": "markers",
         "name": "Ukwuani",
         "showlegend": true,
         "type": "scattergeo"
        },
        {
         "geo": "geo",
         "hovertemplate": "Local Government Areas=Uvwie<br>Latitude=%{lat}<br>Longitude=%{lon}<extra></extra>",
         "lat": [
          5.56435905
         ],
         "legendgroup": "Uvwie",
         "lon": [
          5.793784028700437
         ],
         "marker": {
          "color": "#B6E880",
          "symbol": "circle"
         },
         "mode": "markers",
         "name": "Uvwie",
         "showlegend": true,
         "type": "scattergeo"
        },
        {
         "geo": "geo",
         "hovertemplate": "Local Government Areas=Warri North<br>Latitude=%{lat}<br>Longitude=%{lon}<extra></extra>",
         "lat": [
          5.92353055
         ],
         "legendgroup": "Warri North",
         "lon": [
          5.134861808677374
         ],
         "marker": {
          "color": "#FF97FF",
          "symbol": "circle"
         },
         "mode": "markers",
         "name": "Warri North",
         "showlegend": true,
         "type": "scattergeo"
        },
        {
         "geo": "geo",
         "hovertemplate": "Local Government Areas=Warri South<br>Latitude=%{lat}<br>Longitude=%{lon}<extra></extra>",
         "lat": [
          5.67044115
         ],
         "legendgroup": "Warri South",
         "lon": [
          5.604430708115871
         ],
         "marker": {
          "color": "#FECB52",
          "symbol": "circle"
         },
         "mode": "markers",
         "name": "Warri South",
         "showlegend": true,
         "type": "scattergeo"
        },
        {
         "geo": "geo",
         "hovertemplate": "Local Government Areas=Warri South West<br>Latitude=%{lat}<br>Longitude=%{lon}<extra></extra>",
         "lat": [
          5.60422775
         ],
         "legendgroup": "Warri South West",
         "lon": [
          5.323033095030304
         ],
         "marker": {
          "color": "#636efa",
          "symbol": "circle"
         },
         "mode": "markers",
         "name": "Warri South West",
         "showlegend": true,
         "type": "scattergeo"
        },
        {
         "geo": "geo",
         "hovertemplate": "Local Government Areas=Abakaliki<br>Latitude=%{lat}<br>Longitude=%{lon}<extra></extra>",
         "lat": [
          6.3208897
         ],
         "legendgroup": "Abakaliki",
         "lon": [
          8.1133202
         ],
         "marker": {
          "color": "#EF553B",
          "symbol": "circle"
         },
         "mode": "markers",
         "name": "Abakaliki",
         "showlegend": true,
         "type": "scattergeo"
        },
        {
         "geo": "geo",
         "hovertemplate": "Local Government Areas=Afikpo North<br>Latitude=%{lat}<br>Longitude=%{lon}<extra></extra>",
         "lat": [
          5.8602469500000005
         ],
         "legendgroup": "Afikpo North",
         "lon": [
          7.918471197664151
         ],
         "marker": {
          "color": "#00cc96",
          "symbol": "circle"
         },
         "mode": "markers",
         "name": "Afikpo North",
         "showlegend": true,
         "type": "scattergeo"
        },
        {
         "geo": "geo",
         "hovertemplate": "Local Government Areas=Ebonyi<br>Latitude=%{lat}<br>Longitude=%{lon}<extra></extra>",
         "lat": [
          6.1996918
         ],
         "legendgroup": "Ebonyi",
         "lon": [
          8.0348906
         ],
         "marker": {
          "color": "#ab63fa",
          "symbol": "circle"
         },
         "mode": "markers",
         "name": "Ebonyi",
         "showlegend": true,
         "type": "scattergeo"
        },
        {
         "geo": "geo",
         "hovertemplate": "Local Government Areas=Ezza North<br>Latitude=%{lat}<br>Longitude=%{lon}<extra></extra>",
         "lat": [
          6.2590742
         ],
         "legendgroup": "Ezza North",
         "lon": [
          7.98352256784563
         ],
         "marker": {
          "color": "#FFA15A",
          "symbol": "circle"
         },
         "mode": "markers",
         "name": "Ezza North",
         "showlegend": true,
         "type": "scattergeo"
        },
        {
         "geo": "geo",
         "hovertemplate": "Local Government Areas=Ezza South<br>Latitude=%{lat}<br>Longitude=%{lon}<extra></extra>",
         "lat": [
          6.1269331000000005
         ],
         "legendgroup": "Ezza South",
         "lon": [
          8.021690955000397
         ],
         "marker": {
          "color": "#19d3f3",
          "symbol": "circle"
         },
         "mode": "markers",
         "name": "Ezza South",
         "showlegend": true,
         "type": "scattergeo"
        },
        {
         "geo": "geo",
         "hovertemplate": "Local Government Areas=Ikwo<br>Latitude=%{lat}<br>Longitude=%{lon}<extra></extra>",
         "lat": [
          6.0716
         ],
         "legendgroup": "Ikwo",
         "lon": [
          8.1028
         ],
         "marker": {
          "color": "#FF6692",
          "symbol": "circle"
         },
         "mode": "markers",
         "name": "Ikwo",
         "showlegend": true,
         "type": "scattergeo"
        },
        {
         "geo": "geo",
         "hovertemplate": "Local Government Areas=Ishielu<br>Latitude=%{lat}<br>Longitude=%{lon}<extra></extra>",
         "lat": [
          6.4270885
         ],
         "legendgroup": "Ishielu",
         "lon": [
          7.844114881037367
         ],
         "marker": {
          "color": "#B6E880",
          "symbol": "circle"
         },
         "mode": "markers",
         "name": "Ishielu",
         "showlegend": true,
         "type": "scattergeo"
        },
        {
         "geo": "geo",
         "hovertemplate": "Local Government Areas=Ivo<br>Latitude=%{lat}<br>Longitude=%{lon}<extra></extra>",
         "lat": [
          5.9093492
         ],
         "legendgroup": "Ivo",
         "lon": [
          7.637394973252905
         ],
         "marker": {
          "color": "#FF97FF",
          "symbol": "circle"
         },
         "mode": "markers",
         "name": "Ivo",
         "showlegend": true,
         "type": "scattergeo"
        },
        {
         "geo": "geo",
         "hovertemplate": "Local Government Areas=Izzi<br>Latitude=%{lat}<br>Longitude=%{lon}<extra></extra>",
         "lat": [
          6.583333
         ],
         "legendgroup": "Izzi",
         "lon": [
          8.05
         ],
         "marker": {
          "color": "#FECB52",
          "symbol": "circle"
         },
         "mode": "markers",
         "name": "Izzi",
         "showlegend": true,
         "type": "scattergeo"
        },
        {
         "geo": "geo",
         "hovertemplate": "Local Government Areas=Ohaozara<br>Latitude=%{lat}<br>Longitude=%{lon}<extra></extra>",
         "lat": [
          6.00455525
         ],
         "legendgroup": "Ohaozara",
         "lon": [
          7.793850098935701
         ],
         "marker": {
          "color": "#636efa",
          "symbol": "circle"
         },
         "mode": "markers",
         "name": "Ohaozara",
         "showlegend": true,
         "type": "scattergeo"
        },
        {
         "geo": "geo",
         "hovertemplate": "Local Government Areas=Ohaukwu<br>Latitude=%{lat}<br>Longitude=%{lon}<extra></extra>",
         "lat": [
          6.52403735
         ],
         "legendgroup": "Ohaukwu",
         "lon": [
          8.010848072925828
         ],
         "marker": {
          "color": "#EF553B",
          "symbol": "circle"
         },
         "mode": "markers",
         "name": "Ohaukwu",
         "showlegend": true,
         "type": "scattergeo"
        },
        {
         "geo": "geo",
         "hovertemplate": "Local Government Areas=Onicha<br>Latitude=%{lat}<br>Longitude=%{lon}<extra></extra>",
         "lat": [
          6.1461619
         ],
         "legendgroup": "Onicha",
         "lon": [
          6.8019088
         ],
         "marker": {
          "color": "#00cc96",
          "symbol": "circle"
         },
         "mode": "markers",
         "name": "Onicha",
         "showlegend": true,
         "type": "scattergeo"
        },
        {
         "geo": "geo",
         "hovertemplate": "Local Government Areas=Akoko-Edo<br>Latitude=%{lat}<br>Longitude=%{lon}<extra></extra>",
         "lat": [
          7.352393599999999
         ],
         "legendgroup": "Akoko-Edo",
         "lon": [
          6.125235110308745
         ],
         "marker": {
          "color": "#ab63fa",
          "symbol": "circle"
         },
         "mode": "markers",
         "name": "Akoko-Edo",
         "showlegend": true,
         "type": "scattergeo"
        },
        {
         "geo": "geo",
         "hovertemplate": "Local Government Areas=Egor<br>Latitude=%{lat}<br>Longitude=%{lon}<extra></extra>",
         "lat": [
          6.3811156
         ],
         "legendgroup": "Egor",
         "lon": [
          5.5697908
         ],
         "marker": {
          "color": "#FFA15A",
          "symbol": "circle"
         },
         "mode": "markers",
         "name": "Egor",
         "showlegend": true,
         "type": "scattergeo"
        },
        {
         "geo": "geo",
         "hovertemplate": "Local Government Areas=Esan Central<br>Latitude=%{lat}<br>Longitude=%{lon}<extra></extra>",
         "lat": [
          6.7047055
         ],
         "legendgroup": "Esan Central",
         "lon": [
          6.207925867430832
         ],
         "marker": {
          "color": "#19d3f3",
          "symbol": "circle"
         },
         "mode": "markers",
         "name": "Esan Central",
         "showlegend": true,
         "type": "scattergeo"
        },
        {
         "geo": "geo",
         "hovertemplate": "Local Government Areas=Esan North-East<br>Latitude=%{lat}<br>Longitude=%{lon}<extra></extra>",
         "lat": [
          6.7867315
         ],
         "legendgroup": "Esan North-East",
         "lon": [
          6.433488407005409
         ],
         "marker": {
          "color": "#FF6692",
          "symbol": "circle"
         },
         "mode": "markers",
         "name": "Esan North-East",
         "showlegend": true,
         "type": "scattergeo"
        },
        {
         "geo": "geo",
         "hovertemplate": "Local Government Areas=Esan South-East<br>Latitude=%{lat}<br>Longitude=%{lon}<extra></extra>",
         "lat": [
          6.576807049999999
         ],
         "legendgroup": "Esan South-East",
         "lon": [
          6.486083843005495
         ],
         "marker": {
          "color": "#B6E880",
          "symbol": "circle"
         },
         "mode": "markers",
         "name": "Esan South-East",
         "showlegend": true,
         "type": "scattergeo"
        },
        {
         "geo": "geo",
         "hovertemplate": "Local Government Areas=Esan West<br>Latitude=%{lat}<br>Longitude=%{lon}<extra></extra>",
         "lat": [
          6.65464905
         ],
         "legendgroup": "Esan West",
         "lon": [
          6.13966245006791
         ],
         "marker": {
          "color": "#FF97FF",
          "symbol": "circle"
         },
         "mode": "markers",
         "name": "Esan West",
         "showlegend": true,
         "type": "scattergeo"
        },
        {
         "geo": "geo",
         "hovertemplate": "Local Government Areas=Etsako Central<br>Latitude=%{lat}<br>Longitude=%{lon}<extra></extra>",
         "lat": [
          6.978096
         ],
         "legendgroup": "Etsako Central",
         "lon": [
          6.515776051138975
         ],
         "marker": {
          "color": "#FECB52",
          "symbol": "circle"
         },
         "mode": "markers",
         "name": "Etsako Central",
         "showlegend": true,
         "type": "scattergeo"
        },
        {
         "geo": "geo",
         "hovertemplate": "Local Government Areas=Etsako East<br>Latitude=%{lat}<br>Longitude=%{lon}<extra></extra>",
         "lat": [
          7.187644000000001
         ],
         "legendgroup": "Etsako East",
         "lon": [
          6.516309479894481
         ],
         "marker": {
          "color": "#636efa",
          "symbol": "circle"
         },
         "mode": "markers",
         "name": "Etsako East",
         "showlegend": true,
         "type": "scattergeo"
        },
        {
         "geo": "geo",
         "hovertemplate": "Local Government Areas=Etsako West<br>Latitude=%{lat}<br>Longitude=%{lon}<extra></extra>",
         "lat": [
          6.996928199999999
         ],
         "legendgroup": "Etsako West",
         "lon": [
          6.301801401207017
         ],
         "marker": {
          "color": "#EF553B",
          "symbol": "circle"
         },
         "mode": "markers",
         "name": "Etsako West",
         "showlegend": true,
         "type": "scattergeo"
        },
        {
         "geo": "geo",
         "hovertemplate": "Local Government Areas=Igueben<br>Latitude=%{lat}<br>Longitude=%{lon}<extra></extra>",
         "lat": [
          6.6018648
         ],
         "legendgroup": "Igueben",
         "lon": [
          6.242448
         ],
         "marker": {
          "color": "#00cc96",
          "symbol": "circle"
         },
         "mode": "markers",
         "name": "Igueben",
         "showlegend": true,
         "type": "scattergeo"
        },
        {
         "geo": "geo",
         "hovertemplate": "Local Government Areas=Ikpoba Okha<br>Latitude=%{lat}<br>Longitude=%{lon}<extra></extra>",
         "lat": [
          6.199765449999999
         ],
         "legendgroup": "Ikpoba Okha",
         "lon": [
          5.662246701746319
         ],
         "marker": {
          "color": "#ab63fa",
          "symbol": "circle"
         },
         "mode": "markers",
         "name": "Ikpoba Okha",
         "showlegend": true,
         "type": "scattergeo"
        },
        {
         "geo": "geo",
         "hovertemplate": "Local Government Areas=Orhionmwon<br>Latitude=%{lat}<br>Longitude=%{lon}<extra></extra>",
         "lat": [
          6.0884175
         ],
         "legendgroup": "Orhionmwon",
         "lon": [
          5.948360079068117
         ],
         "marker": {
          "color": "#FFA15A",
          "symbol": "circle"
         },
         "mode": "markers",
         "name": "Orhionmwon",
         "showlegend": true,
         "type": "scattergeo"
        },
        {
         "geo": "geo",
         "hovertemplate": "Local Government Areas=Oredo<br>Latitude=%{lat}<br>Longitude=%{lon}<extra></extra>",
         "lat": [
          6.229763050000001
         ],
         "legendgroup": "Oredo",
         "lon": [
          5.561790183209288
         ],
         "marker": {
          "color": "#19d3f3",
          "symbol": "circle"
         },
         "mode": "markers",
         "name": "Oredo",
         "showlegend": true,
         "type": "scattergeo"
        },
        {
         "geo": "geo",
         "hovertemplate": "Local Government Areas=Ovia North-East<br>Latitude=%{lat}<br>Longitude=%{lon}<extra></extra>",
         "lat": [
          6.3963337
         ],
         "legendgroup": "Ovia North-East",
         "lon": [
          5.502826307782771
         ],
         "marker": {
          "color": "#FF6692",
          "symbol": "circle"
         },
         "mode": "markers",
         "name": "Ovia North-East",
         "showlegend": true,
         "type": "scattergeo"
        },
        {
         "geo": "geo",
         "hovertemplate": "Local Government Areas=Ovia South-West<br>Latitude=%{lat}<br>Longitude=%{lon}<extra></extra>",
         "lat": [
          6.47095345
         ],
         "legendgroup": "Ovia South-West",
         "lon": [
          5.299159132565771
         ],
         "marker": {
          "color": "#B6E880",
          "symbol": "circle"
         },
         "mode": "markers",
         "name": "Ovia South-West",
         "showlegend": true,
         "type": "scattergeo"
        },
        {
         "geo": "geo",
         "hovertemplate": "Local Government Areas=Owan East<br>Latitude=%{lat}<br>Longitude=%{lon}<extra></extra>",
         "lat": [
          7.030605550000001
         ],
         "legendgroup": "Owan East",
         "lon": [
          6.105629730319855
         ],
         "marker": {
          "color": "#FF97FF",
          "symbol": "circle"
         },
         "mode": "markers",
         "name": "Owan East",
         "showlegend": true,
         "type": "scattergeo"
        },
        {
         "geo": "geo",
         "hovertemplate": "Local Government Areas=Owan West<br>Latitude=%{lat}<br>Longitude=%{lon}<extra></extra>",
         "lat": [
          6.92744635
         ],
         "legendgroup": "Owan West",
         "lon": [
          5.8934671742557025
         ],
         "marker": {
          "color": "#FECB52",
          "symbol": "circle"
         },
         "mode": "markers",
         "name": "Owan West",
         "showlegend": true,
         "type": "scattergeo"
        },
        {
         "geo": "geo",
         "hovertemplate": "Local Government Areas=Uhunmwonde<br>Latitude=%{lat}<br>Longitude=%{lon}<extra></extra>",
         "lat": [
          6.52593615
         ],
         "legendgroup": "Uhunmwonde",
         "lon": [
          5.900073206903087
         ],
         "marker": {
          "color": "#636efa",
          "symbol": "circle"
         },
         "mode": "markers",
         "name": "Uhunmwonde",
         "showlegend": true,
         "type": "scattergeo"
        },
        {
         "geo": "geo",
         "hovertemplate": "Local Government Areas=Ado Ekiti<br>Latitude=%{lat}<br>Longitude=%{lon}<extra></extra>",
         "lat": [
          7.6232482
         ],
         "legendgroup": "Ado Ekiti",
         "lon": [
          5.22274
         ],
         "marker": {
          "color": "#EF553B",
          "symbol": "circle"
         },
         "mode": "markers",
         "name": "Ado Ekiti",
         "showlegend": true,
         "type": "scattergeo"
        },
        {
         "geo": "geo",
         "hovertemplate": "Local Government Areas=Efon<br>Latitude=%{lat}<br>Longitude=%{lon}<extra></extra>",
         "lat": [
          7.366667
         ],
         "legendgroup": "Efon",
         "lon": [
          3.633333
         ],
         "marker": {
          "color": "#00cc96",
          "symbol": "circle"
         },
         "mode": "markers",
         "name": "Efon",
         "showlegend": true,
         "type": "scattergeo"
        },
        {
         "geo": "geo",
         "hovertemplate": "Local Government Areas=Ekiti East<br>Latitude=%{lat}<br>Longitude=%{lon}<extra></extra>",
         "lat": [
          7.72080945
         ],
         "legendgroup": "Ekiti East",
         "lon": [
          5.659776705090287
         ],
         "marker": {
          "color": "#ab63fa",
          "symbol": "circle"
         },
         "mode": "markers",
         "name": "Ekiti East",
         "showlegend": true,
         "type": "scattergeo"
        },
        {
         "geo": "geo",
         "hovertemplate": "Local Government Areas=Ekiti South-West<br>Latitude=%{lat}<br>Longitude=%{lon}<extra></extra>",
         "lat": [
          7.52346375
         ],
         "legendgroup": "Ekiti South-West",
         "lon": [
          5.033357944837451
         ],
         "marker": {
          "color": "#FFA15A",
          "symbol": "circle"
         },
         "mode": "markers",
         "name": "Ekiti South-West",
         "showlegend": true,
         "type": "scattergeo"
        },
        {
         "geo": "geo",
         "hovertemplate": "Local Government Areas=Ekiti West<br>Latitude=%{lat}<br>Longitude=%{lon}<extra></extra>",
         "lat": [
          7.7210934
         ],
         "legendgroup": "Ekiti West",
         "lon": [
          5.034239031290989
         ],
         "marker": {
          "color": "#19d3f3",
          "symbol": "circle"
         },
         "mode": "markers",
         "name": "Ekiti West",
         "showlegend": true,
         "type": "scattergeo"
        },
        {
         "geo": "geo",
         "hovertemplate": "Local Government Areas=Emure<br>Latitude=%{lat}<br>Longitude=%{lon}<extra></extra>",
         "lat": [
          7.436137
         ],
         "legendgroup": "Emure",
         "lon": [
          5.459322
         ],
         "marker": {
          "color": "#FF6692",
          "symbol": "circle"
         },
         "mode": "markers",
         "name": "Emure",
         "showlegend": true,
         "type": "scattergeo"
        },
        {
         "geo": "geo",
         "hovertemplate": "Local Government Areas=Gbonyin<br>Latitude=%{lat}<br>Longitude=%{lon}<extra></extra>",
         "lat": [
          7.6176543500000005
         ],
         "legendgroup": "Gbonyin",
         "lon": [
          5.502384054210898
         ],
         "marker": {
          "color": "#B6E880",
          "symbol": "circle"
         },
         "mode": "markers",
         "name": "Gbonyin",
         "showlegend": true,
         "type": "scattergeo"
        },
        {
         "geo": "geo",
         "hovertemplate": "Local Government Areas=Ido Osi<br>Latitude=%{lat}<br>Longitude=%{lon}<extra></extra>",
         "lat": [
          7.86334825
         ],
         "legendgroup": "Ido Osi",
         "lon": [
          5.196943466283316
         ],
         "marker": {
          "color": "#FF97FF",
          "symbol": "circle"
         },
         "mode": "markers",
         "name": "Ido Osi",
         "showlegend": true,
         "type": "scattergeo"
        },
        {
         "geo": "geo",
         "hovertemplate": "Local Government Areas=Ijero<br>Latitude=%{lat}<br>Longitude=%{lon}<extra></extra>",
         "lat": [
          6.481944
         ],
         "legendgroup": "Ijero",
         "lon": [
          3.380278
         ],
         "marker": {
          "color": "#FECB52",
          "symbol": "circle"
         },
         "mode": "markers",
         "name": "Ijero",
         "showlegend": true,
         "type": "scattergeo"
        },
        {
         "geo": "geo",
         "hovertemplate": "Local Government Areas=Ikere<br>Latitude=%{lat}<br>Longitude=%{lon}<extra></extra>",
         "lat": [
          7.491328
         ],
         "legendgroup": "Ikere",
         "lon": [
          5.232248
         ],
         "marker": {
          "color": "#636efa",
          "symbol": "circle"
         },
         "mode": "markers",
         "name": "Ikere",
         "showlegend": true,
         "type": "scattergeo"
        },
        {
         "geo": "geo",
         "hovertemplate": "Local Government Areas=Ikole<br>Latitude=%{lat}<br>Longitude=%{lon}<extra></extra>",
         "lat": [
          7.7888484
         ],
         "legendgroup": "Ikole",
         "lon": [
          5.5050471
         ],
         "marker": {
          "color": "#EF553B",
          "symbol": "circle"
         },
         "mode": "markers",
         "name": "Ikole",
         "showlegend": true,
         "type": "scattergeo"
        },
        {
         "geo": "geo",
         "hovertemplate": "Local Government Areas=Ilejemeje<br>Latitude=%{lat}<br>Longitude=%{lon}<extra></extra>",
         "lat": [
          7.96015315
         ],
         "legendgroup": "Ilejemeje",
         "lon": [
          5.230613473129341
         ],
         "marker": {
          "color": "#00cc96",
          "symbol": "circle"
         },
         "mode": "markers",
         "name": "Ilejemeje",
         "showlegend": true,
         "type": "scattergeo"
        },
        {
         "geo": "geo",
         "hovertemplate": "Local Government Areas=Irepodun/Ifelodun<br>Latitude=%{lat}<br>Longitude=%{lon}<extra></extra>",
         "lat": [
          7.70622395
         ],
         "legendgroup": "Irepodun/Ifelodun",
         "lon": [
          5.2644601866019975
         ],
         "marker": {
          "color": "#ab63fa",
          "symbol": "circle"
         },
         "mode": "markers",
         "name": "Irepodun/Ifelodun",
         "showlegend": true,
         "type": "scattergeo"
        },
        {
         "geo": "geo",
         "hovertemplate": "Local Government Areas=Ise/Orun<br>Latitude=%{lat}<br>Longitude=%{lon}<extra></extra>",
         "lat": [
          7.4205606
         ],
         "legendgroup": "Ise/Orun",
         "lon": [
          5.384951048253926
         ],
         "marker": {
          "color": "#FFA15A",
          "symbol": "circle"
         },
         "mode": "markers",
         "name": "Ise/Orun",
         "showlegend": true,
         "type": "scattergeo"
        },
        {
         "geo": "geo",
         "hovertemplate": "Local Government Areas=Moba<br>Latitude=%{lat}<br>Longitude=%{lon}<extra></extra>",
         "lat": [
          6.426657
         ],
         "legendgroup": "Moba",
         "lon": [
          3.10318
         ],
         "marker": {
          "color": "#19d3f3",
          "symbol": "circle"
         },
         "mode": "markers",
         "name": "Moba",
         "showlegend": true,
         "type": "scattergeo"
        },
        {
         "geo": "geo",
         "hovertemplate": "Local Government Areas=Oye<br>Latitude=%{lat}<br>Longitude=%{lon}<extra></extra>",
         "lat": [
          7.799765
         ],
         "legendgroup": "Oye",
         "lon": [
          5.332422
         ],
         "marker": {
          "color": "#FF6692",
          "symbol": "circle"
         },
         "mode": "markers",
         "name": "Oye",
         "showlegend": true,
         "type": "scattergeo"
        },
        {
         "geo": "geo",
         "hovertemplate": "Local Government Areas=Aninri<br>Latitude=%{lat}<br>Longitude=%{lon}<extra></extra>",
         "lat": [
          6.0679259000000005
         ],
         "legendgroup": "Aninri",
         "lon": [
          7.597108458884581
         ],
         "marker": {
          "color": "#B6E880",
          "symbol": "circle"
         },
         "mode": "markers",
         "name": "Aninri",
         "showlegend": true,
         "type": "scattergeo"
        },
        {
         "geo": "geo",
         "hovertemplate": "Local Government Areas=Awgu<br>Latitude=%{lat}<br>Longitude=%{lon}<extra></extra>",
         "lat": [
          6.0722225
         ],
         "legendgroup": "Awgu",
         "lon": [
          7.477742
         ],
         "marker": {
          "color": "#FF97FF",
          "symbol": "circle"
         },
         "mode": "markers",
         "name": "Awgu",
         "showlegend": true,
         "type": "scattergeo"
        },
        {
         "geo": "geo",
         "hovertemplate": "Local Government Areas=Enugu East<br>Latitude=%{lat}<br>Longitude=%{lon}<extra></extra>",
         "lat": [
          6.548344500000001
         ],
         "legendgroup": "Enugu East",
         "lon": [
          7.556835903397333
         ],
         "marker": {
          "color": "#FECB52",
          "symbol": "circle"
         },
         "mode": "markers",
         "name": "Enugu East",
         "showlegend": true,
         "type": "scattergeo"
        },
        {
         "geo": "geo",
         "hovertemplate": "Local Government Areas=Enugu North<br>Latitude=%{lat}<br>Longitude=%{lon}<extra></extra>",
         "lat": [
          6.44107845
         ],
         "legendgroup": "Enugu North",
         "lon": [
          7.538320722978639
         ],
         "marker": {
          "color": "#636efa",
          "symbol": "circle"
         },
         "mode": "markers",
         "name": "Enugu North",
         "showlegend": true,
         "type": "scattergeo"
        },
        {
         "geo": "geo",
         "hovertemplate": "Local Government Areas=Enugu South<br>Latitude=%{lat}<br>Longitude=%{lon}<extra></extra>",
         "lat": [
          6.4001342999999995
         ],
         "legendgroup": "Enugu South",
         "lon": [
          7.514390368282138
         ],
         "marker": {
          "color": "#EF553B",
          "symbol": "circle"
         },
         "mode": "markers",
         "name": "Enugu South",
         "showlegend": true,
         "type": "scattergeo"
        },
        {
         "geo": "geo",
         "hovertemplate": "Local Government Areas=Ezeagu<br>Latitude=%{lat}<br>Longitude=%{lon}<extra></extra>",
         "lat": [
          6.3832
         ],
         "legendgroup": "Ezeagu",
         "lon": [
          7.2898
         ],
         "marker": {
          "color": "#00cc96",
          "symbol": "circle"
         },
         "mode": "markers",
         "name": "Ezeagu",
         "showlegend": true,
         "type": "scattergeo"
        },
        {
         "geo": "geo",
         "hovertemplate": "Local Government Areas=Igbo Etiti<br>Latitude=%{lat}<br>Longitude=%{lon}<extra></extra>",
         "lat": [
          6.7348
         ],
         "legendgroup": "Igbo Etiti",
         "lon": [
          7.273
         ],
         "marker": {
          "color": "#ab63fa",
          "symbol": "circle"
         },
         "mode": "markers",
         "name": "Igbo Etiti",
         "showlegend": true,
         "type": "scattergeo"
        },
        {
         "geo": "geo",
         "hovertemplate": "Local Government Areas=Igbo Eze North<br>Latitude=%{lat}<br>Longitude=%{lon}<extra></extra>",
         "lat": [
          7.004796750000001
         ],
         "legendgroup": "Igbo Eze North",
         "lon": [
          7.459485291146693
         ],
         "marker": {
          "color": "#FFA15A",
          "symbol": "circle"
         },
         "mode": "markers",
         "name": "Igbo Eze North",
         "showlegend": true,
         "type": "scattergeo"
        },
        {
         "geo": "geo",
         "hovertemplate": "Local Government Areas=Igbo Eze South<br>Latitude=%{lat}<br>Longitude=%{lon}<extra></extra>",
         "lat": [
          6.9519231
         ],
         "legendgroup": "Igbo Eze South",
         "lon": [
          7.34999099804431
         ],
         "marker": {
          "color": "#19d3f3",
          "symbol": "circle"
         },
         "mode": "markers",
         "name": "Igbo Eze South",
         "showlegend": true,
         "type": "scattergeo"
        },
        {
         "geo": "geo",
         "hovertemplate": "Local Government Areas=Isi Uzo<br>Latitude=%{lat}<br>Longitude=%{lon}<extra></extra>",
         "lat": [
          6.741861800000001
         ],
         "legendgroup": "Isi Uzo",
         "lon": [
          7.680936693306513
         ],
         "marker": {
          "color": "#FF6692",
          "symbol": "circle"
         },
         "mode": "markers",
         "name": "Isi Uzo",
         "showlegend": true,
         "type": "scattergeo"
        },
        {
         "geo": "geo",
         "hovertemplate": "Local Government Areas=Nkanu East<br>Latitude=%{lat}<br>Longitude=%{lon}<extra></extra>",
         "lat": [
          6.3371067
         ],
         "legendgroup": "Nkanu East",
         "lon": [
          7.6610906163598065
         ],
         "marker": {
          "color": "#B6E880",
          "symbol": "circle"
         },
         "mode": "markers",
         "name": "Nkanu East",
         "showlegend": true,
         "type": "scattergeo"
        },
        {
         "geo": "geo",
         "hovertemplate": "Local Government Areas=Nkanu West<br>Latitude=%{lat}<br>Longitude=%{lon}<extra></extra>",
         "lat": [
          6.3215568
         ],
         "legendgroup": "Nkanu West",
         "lon": [
          7.520835130944854
         ],
         "marker": {
          "color": "#FF97FF",
          "symbol": "circle"
         },
         "mode": "markers",
         "name": "Nkanu West",
         "showlegend": true,
         "type": "scattergeo"
        },
        {
         "geo": "geo",
         "hovertemplate": "Local Government Areas=Nsukka<br>Latitude=%{lat}<br>Longitude=%{lon}<extra></extra>",
         "lat": [
          6.8561
         ],
         "legendgroup": "Nsukka",
         "lon": [
          7.3927
         ],
         "marker": {
          "color": "#FECB52",
          "symbol": "circle"
         },
         "mode": "markers",
         "name": "Nsukka",
         "showlegend": true,
         "type": "scattergeo"
        },
        {
         "geo": "geo",
         "hovertemplate": "Local Government Areas=Oji River<br>Latitude=%{lat}<br>Longitude=%{lon}<extra></extra>",
         "lat": [
          6.2611
         ],
         "legendgroup": "Oji River",
         "lon": [
          7.261
         ],
         "marker": {
          "color": "#636efa",
          "symbol": "circle"
         },
         "mode": "markers",
         "name": "Oji River",
         "showlegend": true,
         "type": "scattergeo"
        },
        {
         "geo": "geo",
         "hovertemplate": "Local Government Areas=Udenu<br>Latitude=%{lat}<br>Longitude=%{lon}<extra></extra>",
         "lat": [
          6.89582755
         ],
         "legendgroup": "Udenu",
         "lon": [
          7.560805075519086
         ],
         "marker": {
          "color": "#EF553B",
          "symbol": "circle"
         },
         "mode": "markers",
         "name": "Udenu",
         "showlegend": true,
         "type": "scattergeo"
        },
        {
         "geo": "geo",
         "hovertemplate": "Local Government Areas=Udi<br>Latitude=%{lat}<br>Longitude=%{lon}<extra></extra>",
         "lat": [
          6.3227337
         ],
         "legendgroup": "Udi",
         "lon": [
          7.397846
         ],
         "marker": {
          "color": "#00cc96",
          "symbol": "circle"
         },
         "mode": "markers",
         "name": "Udi",
         "showlegend": true,
         "type": "scattergeo"
        },
        {
         "geo": "geo",
         "hovertemplate": "Local Government Areas=Uzo-Uwani<br>Latitude=%{lat}<br>Longitude=%{lon}<extra></extra>",
         "lat": [
          6.68966435
         ],
         "legendgroup": "Uzo-Uwani",
         "lon": [
          7.162330771688465
         ],
         "marker": {
          "color": "#ab63fa",
          "symbol": "circle"
         },
         "mode": "markers",
         "name": "Uzo-Uwani",
         "showlegend": true,
         "type": "scattergeo"
        },
        {
         "geo": "geo",
         "hovertemplate": "Local Government Areas=Akko<br>Latitude=%{lat}<br>Longitude=%{lon}<extra></extra>",
         "lat": [
          10.288991
         ],
         "legendgroup": "Akko",
         "lon": [
          10.973204
         ],
         "marker": {
          "color": "#FFA15A",
          "symbol": "circle"
         },
         "mode": "markers",
         "name": "Akko",
         "showlegend": true,
         "type": "scattergeo"
        },
        {
         "geo": "geo",
         "hovertemplate": "Local Government Areas=Balanga<br>Latitude=%{lat}<br>Longitude=%{lon}<extra></extra>",
         "lat": [
          9.833452
         ],
         "legendgroup": "Balanga",
         "lon": [
          11.6789514
         ],
         "marker": {
          "color": "#19d3f3",
          "symbol": "circle"
         },
         "mode": "markers",
         "name": "Balanga",
         "showlegend": true,
         "type": "scattergeo"
        },
        {
         "geo": "geo",
         "hovertemplate": "Local Government Areas=Billiri<br>Latitude=%{lat}<br>Longitude=%{lon}<extra></extra>",
         "lat": [
          9.8350997
         ],
         "legendgroup": "Billiri",
         "lon": [
          11.141875886913159
         ],
         "marker": {
          "color": "#FF6692",
          "symbol": "circle"
         },
         "mode": "markers",
         "name": "Billiri",
         "showlegend": true,
         "type": "scattergeo"
        },
        {
         "geo": "geo",
         "hovertemplate": "Local Government Areas=Dukku<br>Latitude=%{lat}<br>Longitude=%{lon}<extra></extra>",
         "lat": [
          10.8237957
         ],
         "legendgroup": "Dukku",
         "lon": [
          10.772213
         ],
         "marker": {
          "color": "#B6E880",
          "symbol": "circle"
         },
         "mode": "markers",
         "name": "Dukku",
         "showlegend": true,
         "type": "scattergeo"
        },
        {
         "geo": "geo",
         "hovertemplate": "Local Government Areas=Funakaye<br>Latitude=%{lat}<br>Longitude=%{lon}<extra></extra>",
         "lat": [
          10.85419905
         ],
         "legendgroup": "Funakaye",
         "lon": [
          11.444681215995438
         ],
         "marker": {
          "color": "#FF97FF",
          "symbol": "circle"
         },
         "mode": "markers",
         "name": "Funakaye",
         "showlegend": true,
         "type": "scattergeo"
        },
        {
         "geo": "geo",
         "hovertemplate": "Local Government Areas=Gombe<br>Latitude=%{lat}<br>Longitude=%{lon}<extra></extra>",
         "lat": [
          10.38301
         ],
         "legendgroup": "Gombe",
         "lon": [
          11.206567
         ],
         "marker": {
          "color": "#FECB52",
          "symbol": "circle"
         },
         "mode": "markers",
         "name": "Gombe",
         "showlegend": true,
         "type": "scattergeo"
        },
        {
         "geo": "geo",
         "hovertemplate": "Local Government Areas=Kaltungo<br>Latitude=%{lat}<br>Longitude=%{lon}<extra></extra>",
         "lat": [
          9.8197489
         ],
         "legendgroup": "Kaltungo",
         "lon": [
          11.3118502
         ],
         "marker": {
          "color": "#636efa",
          "symbol": "circle"
         },
         "mode": "markers",
         "name": "Kaltungo",
         "showlegend": true,
         "type": "scattergeo"
        },
        {
         "geo": "geo",
         "hovertemplate": "Local Government Areas=Kwami<br>Latitude=%{lat}<br>Longitude=%{lon}<extra></extra>",
         "lat": [
          12.0143961
         ],
         "legendgroup": "Kwami",
         "lon": [
          8.316161
         ],
         "marker": {
          "color": "#EF553B",
          "symbol": "circle"
         },
         "mode": "markers",
         "name": "Kwami",
         "showlegend": true,
         "type": "scattergeo"
        },
        {
         "geo": "geo",
         "hovertemplate": "Local Government Areas=Nafada<br>Latitude=%{lat}<br>Longitude=%{lon}<extra></extra>",
         "lat": [
          11.0956
         ],
         "legendgroup": "Nafada",
         "lon": [
          11.3327
         ],
         "marker": {
          "color": "#00cc96",
          "symbol": "circle"
         },
         "mode": "markers",
         "name": "Nafada",
         "showlegend": true,
         "type": "scattergeo"
        },
        {
         "geo": "geo",
         "hovertemplate": "Local Government Areas=Shongom<br>Latitude=%{lat}<br>Longitude=%{lon}<extra></extra>",
         "lat": [
          9.7357178
         ],
         "legendgroup": "Shongom",
         "lon": [
          11.273237905251648
         ],
         "marker": {
          "color": "#ab63fa",
          "symbol": "circle"
         },
         "mode": "markers",
         "name": "Shongom",
         "showlegend": true,
         "type": "scattergeo"
        },
        {
         "geo": "geo",
         "hovertemplate": "Local Government Areas=Yamaltu/Deba<br>Latitude=%{lat}<br>Longitude=%{lon}<extra></extra>",
         "lat": [
          10.307170750000001
         ],
         "legendgroup": "Yamaltu/Deba",
         "lon": [
          11.373215278351738
         ],
         "marker": {
          "color": "#FFA15A",
          "symbol": "circle"
         },
         "mode": "markers",
         "name": "Yamaltu/Deba",
         "showlegend": true,
         "type": "scattergeo"
        },
        {
         "geo": "geo",
         "hovertemplate": "Local Government Areas=Aboh Mbaise<br>Latitude=%{lat}<br>Longitude=%{lon}<extra></extra>",
         "lat": [
          5.4188933
         ],
         "legendgroup": "Aboh Mbaise",
         "lon": [
          7.260670204366807
         ],
         "marker": {
          "color": "#19d3f3",
          "symbol": "circle"
         },
         "mode": "markers",
         "name": "Aboh Mbaise",
         "showlegend": true,
         "type": "scattergeo"
        },
        {
         "geo": "geo",
         "hovertemplate": "Local Government Areas=Ahiazu Mbaise<br>Latitude=%{lat}<br>Longitude=%{lon}<extra></extra>",
         "lat": [
          5.5631995
         ],
         "legendgroup": "Ahiazu Mbaise",
         "lon": [
          7.263626847762457
         ],
         "marker": {
          "color": "#FF6692",
          "symbol": "circle"
         },
         "mode": "markers",
         "name": "Ahiazu Mbaise",
         "showlegend": true,
         "type": "scattergeo"
        },
        {
         "geo": "geo",
         "hovertemplate": "Local Government Areas=Ehime Mbano<br>Latitude=%{lat}<br>Longitude=%{lon}<extra></extra>",
         "lat": [
          5.6882541
         ],
         "legendgroup": "Ehime Mbano",
         "lon": [
          7.300181361809889
         ],
         "marker": {
          "color": "#B6E880",
          "symbol": "circle"
         },
         "mode": "markers",
         "name": "Ehime Mbano",
         "showlegend": true,
         "type": "scattergeo"
        },
        {
         "geo": "geo",
         "hovertemplate": "Local Government Areas=Ezinihitte<br>Latitude=%{lat}<br>Longitude=%{lon}<extra></extra>",
         "lat": [
          5.47328785
         ],
         "legendgroup": "Ezinihitte",
         "lon": [
          7.322606008078948
         ],
         "marker": {
          "color": "#FF97FF",
          "symbol": "circle"
         },
         "mode": "markers",
         "name": "Ezinihitte",
         "showlegend": true,
         "type": "scattergeo"
        },
        {
         "geo": "geo",
         "hovertemplate": "Local Government Areas=Ideato North<br>Latitude=%{lat}<br>Longitude=%{lon}<extra></extra>",
         "lat": [
          5.8611507
         ],
         "legendgroup": "Ideato North",
         "lon": [
          7.1358231552650855
         ],
         "marker": {
          "color": "#FECB52",
          "symbol": "circle"
         },
         "mode": "markers",
         "name": "Ideato North",
         "showlegend": true,
         "type": "scattergeo"
        },
        {
         "geo": "geo",
         "hovertemplate": "Local Government Areas=Ideato South<br>Latitude=%{lat}<br>Longitude=%{lon}<extra></extra>",
         "lat": [
          5.8053246000000005
         ],
         "legendgroup": "Ideato South",
         "lon": [
          7.138923109844448
         ],
         "marker": {
          "color": "#636efa",
          "symbol": "circle"
         },
         "mode": "markers",
         "name": "Ideato South",
         "showlegend": true,
         "type": "scattergeo"
        },
        {
         "geo": "geo",
         "hovertemplate": "Local Government Areas=Ihitte/Uboma<br>Latitude=%{lat}<br>Longitude=%{lon}<extra></extra>",
         "lat": [
          5.6492083
         ],
         "legendgroup": "Ihitte/Uboma",
         "lon": [
          7.381495792349654
         ],
         "marker": {
          "color": "#EF553B",
          "symbol": "circle"
         },
         "mode": "markers",
         "name": "Ihitte/Uboma",
         "showlegend": true,
         "type": "scattergeo"
        },
        {
         "geo": "geo",
         "hovertemplate": "Local Government Areas=Ikeduru<br>Latitude=%{lat}<br>Longitude=%{lon}<extra></extra>",
         "lat": [
          5.5596812
         ],
         "legendgroup": "Ikeduru",
         "lon": [
          7.148927127483982
         ],
         "marker": {
          "color": "#00cc96",
          "symbol": "circle"
         },
         "mode": "markers",
         "name": "Ikeduru",
         "showlegend": true,
         "type": "scattergeo"
        },
        {
         "geo": "geo",
         "hovertemplate": "Local Government Areas=Isiala Mbano<br>Latitude=%{lat}<br>Longitude=%{lon}<extra></extra>",
         "lat": [
          5.68468955
         ],
         "legendgroup": "Isiala Mbano",
         "lon": [
          7.196353758503406
         ],
         "marker": {
          "color": "#ab63fa",
          "symbol": "circle"
         },
         "mode": "markers",
         "name": "Isiala Mbano",
         "showlegend": true,
         "type": "scattergeo"
        },
        {
         "geo": "geo",
         "hovertemplate": "Local Government Areas=Isu<br>Latitude=%{lat}<br>Longitude=%{lon}<extra></extra>",
         "lat": [
          5.6868982500000005
         ],
         "legendgroup": "Isu",
         "lon": [
          7.056131289560314
         ],
         "marker": {
          "color": "#FFA15A",
          "symbol": "circle"
         },
         "mode": "markers",
         "name": "Isu",
         "showlegend": true,
         "type": "scattergeo"
        },
        {
         "geo": "geo",
         "hovertemplate": "Local Government Areas=Mbaitoli<br>Latitude=%{lat}<br>Longitude=%{lon}<extra></extra>",
         "lat": [
          5.59354735
         ],
         "legendgroup": "Mbaitoli",
         "lon": [
          7.0191523268949565
         ],
         "marker": {
          "color": "#19d3f3",
          "symbol": "circle"
         },
         "mode": "markers",
         "name": "Mbaitoli",
         "showlegend": true,
         "type": "scattergeo"
        },
        {
         "geo": "geo",
         "hovertemplate": "Local Government Areas=Ngor Okpala<br>Latitude=%{lat}<br>Longitude=%{lon}<extra></extra>",
         "lat": [
          5.3274231
         ],
         "legendgroup": "Ngor Okpala",
         "lon": [
          7.157503381166101
         ],
         "marker": {
          "color": "#FF6692",
          "symbol": "circle"
         },
         "mode": "markers",
         "name": "Ngor Okpala",
         "showlegend": true,
         "type": "scattergeo"
        },
        {
         "geo": "geo",
         "hovertemplate": "Local Government Areas=Njaba<br>Latitude=%{lat}<br>Longitude=%{lon}<extra></extra>",
         "lat": [
          5.70549515
         ],
         "legendgroup": "Njaba",
         "lon": [
          7.00213193492228
         ],
         "marker": {
          "color": "#B6E880",
          "symbol": "circle"
         },
         "mode": "markers",
         "name": "Njaba",
         "showlegend": true,
         "type": "scattergeo"
        },
        {
         "geo": "geo",
         "hovertemplate": "Local Government Areas=Nkwerre<br>Latitude=%{lat}<br>Longitude=%{lon}<extra></extra>",
         "lat": [
          5.7442951
         ],
         "legendgroup": "Nkwerre",
         "lon": [
          7.099426682955977
         ],
         "marker": {
          "color": "#FF97FF",
          "symbol": "circle"
         },
         "mode": "markers",
         "name": "Nkwerre",
         "showlegend": true,
         "type": "scattergeo"
        },
        {
         "geo": "geo",
         "hovertemplate": "Local Government Areas=Nwangele<br>Latitude=%{lat}<br>Longitude=%{lon}<extra></extra>",
         "lat": [
          5.7111706
         ],
         "legendgroup": "Nwangele",
         "lon": [
          7.119574125421648
         ],
         "marker": {
          "color": "#FECB52",
          "symbol": "circle"
         },
         "mode": "markers",
         "name": "Nwangele",
         "showlegend": true,
         "type": "scattergeo"
        },
        {
         "geo": "geo",
         "hovertemplate": "Local Government Areas=Obowo<br>Latitude=%{lat}<br>Longitude=%{lon}<extra></extra>",
         "lat": [
          5.5585649
         ],
         "legendgroup": "Obowo",
         "lon": [
          7.360563717064813
         ],
         "marker": {
          "color": "#636efa",
          "symbol": "circle"
         },
         "mode": "markers",
         "name": "Obowo",
         "showlegend": true,
         "type": "scattergeo"
        },
        {
         "geo": "geo",
         "hovertemplate": "Local Government Areas=Oguta<br>Latitude=%{lat}<br>Longitude=%{lon}<extra></extra>",
         "lat": [
          5.710435
         ],
         "legendgroup": "Oguta",
         "lon": [
          6.809365
         ],
         "marker": {
          "color": "#EF553B",
          "symbol": "circle"
         },
         "mode": "markers",
         "name": "Oguta",
         "showlegend": true,
         "type": "scattergeo"
        },
        {
         "geo": "geo",
         "hovertemplate": "Local Government Areas=Ohaji/Egbema<br>Latitude=%{lat}<br>Longitude=%{lon}<extra></extra>",
         "lat": [
          5.4234836
         ],
         "legendgroup": "Ohaji/Egbema",
         "lon": [
          6.838826088324313
         ],
         "marker": {
          "color": "#00cc96",
          "symbol": "circle"
         },
         "mode": "markers",
         "name": "Ohaji/Egbema",
         "showlegend": true,
         "type": "scattergeo"
        },
        {
         "geo": "geo",
         "hovertemplate": "Local Government Areas=Okigwe<br>Latitude=%{lat}<br>Longitude=%{lon}<extra></extra>",
         "lat": [
          5.822709100000001
         ],
         "legendgroup": "Okigwe",
         "lon": [
          7.319829879090532
         ],
         "marker": {
          "color": "#ab63fa",
          "symbol": "circle"
         },
         "mode": "markers",
         "name": "Okigwe",
         "showlegend": true,
         "type": "scattergeo"
        },
        {
         "geo": "geo",
         "hovertemplate": "Local Government Areas=Orlu<br>Latitude=%{lat}<br>Longitude=%{lon}<extra></extra>",
         "lat": [
          5.8179105
         ],
         "legendgroup": "Orlu",
         "lon": [
          7.0409322202359785
         ],
         "marker": {
          "color": "#FFA15A",
          "symbol": "circle"
         },
         "mode": "markers",
         "name": "Orlu",
         "showlegend": true,
         "type": "scattergeo"
        },
        {
         "geo": "geo",
         "hovertemplate": "Local Government Areas=Orsu<br>Latitude=%{lat}<br>Longitude=%{lon}<extra></extra>",
         "lat": [
          5.84942675
         ],
         "legendgroup": "Orsu",
         "lon": [
          6.982806157947056
         ],
         "marker": {
          "color": "#19d3f3",
          "symbol": "circle"
         },
         "mode": "markers",
         "name": "Orsu",
         "showlegend": true,
         "type": "scattergeo"
        },
        {
         "geo": "geo",
         "hovertemplate": "Local Government Areas=Oru East<br>Latitude=%{lat}<br>Longitude=%{lon}<extra></extra>",
         "lat": [
          5.72748475
         ],
         "legendgroup": "Oru East",
         "lon": [
          6.947875477635026
         ],
         "marker": {
          "color": "#FF6692",
          "symbol": "circle"
         },
         "mode": "markers",
         "name": "Oru East",
         "showlegend": true,
         "type": "scattergeo"
        },
        {
         "geo": "geo",
         "hovertemplate": "Local Government Areas=Oru West<br>Latitude=%{lat}<br>Longitude=%{lon}<extra></extra>",
         "lat": [
          5.7544954
         ],
         "legendgroup": "Oru West",
         "lon": [
          6.9107675264366915
         ],
         "marker": {
          "color": "#B6E880",
          "symbol": "circle"
         },
         "mode": "markers",
         "name": "Oru West",
         "showlegend": true,
         "type": "scattergeo"
        },
        {
         "geo": "geo",
         "hovertemplate": "Local Government Areas=Owerri Municipal<br>Latitude=%{lat}<br>Longitude=%{lon}<extra></extra>",
         "lat": [
          5.479900600000001
         ],
         "legendgroup": "Owerri Municipal",
         "lon": [
          7.021982734009069
         ],
         "marker": {
          "color": "#FF97FF",
          "symbol": "circle"
         },
         "mode": "markers",
         "name": "Owerri Municipal",
         "showlegend": true,
         "type": "scattergeo"
        },
        {
         "geo": "geo",
         "hovertemplate": "Local Government Areas=Owerri North<br>Latitude=%{lat}<br>Longitude=%{lon}<extra></extra>",
         "lat": [
          5.432385699999999
         ],
         "legendgroup": "Owerri North",
         "lon": [
          7.107475476129818
         ],
         "marker": {
          "color": "#FECB52",
          "symbol": "circle"
         },
         "mode": "markers",
         "name": "Owerri North",
         "showlegend": true,
         "type": "scattergeo"
        },
        {
         "geo": "geo",
         "hovertemplate": "Local Government Areas=Owerri West<br>Latitude=%{lat}<br>Longitude=%{lon}<extra></extra>",
         "lat": [
          5.40682745
         ],
         "legendgroup": "Owerri West",
         "lon": [
          6.9851183090486755
         ],
         "marker": {
          "color": "#636efa",
          "symbol": "circle"
         },
         "mode": "markers",
         "name": "Owerri West",
         "showlegend": true,
         "type": "scattergeo"
        },
        {
         "geo": "geo",
         "hovertemplate": "Local Government Areas=Unuimo<br>Latitude=%{lat}<br>Longitude=%{lon}<extra></extra>",
         "lat": [
          5.79648875
         ],
         "legendgroup": "Unuimo",
         "lon": [
          7.230264232987018
         ],
         "marker": {
          "color": "#EF553B",
          "symbol": "circle"
         },
         "mode": "markers",
         "name": "Unuimo",
         "showlegend": true,
         "type": "scattergeo"
        },
        {
         "geo": "geo",
         "hovertemplate": "Local Government Areas=Auyo<br>Latitude=%{lat}<br>Longitude=%{lon}<extra></extra>",
         "lat": [
          12.335560749999999
         ],
         "legendgroup": "Auyo",
         "lon": [
          9.93729235
         ],
         "marker": {
          "color": "#00cc96",
          "symbol": "circle"
         },
         "mode": "markers",
         "name": "Auyo",
         "showlegend": true,
         "type": "scattergeo"
        },
        {
         "geo": "geo",
         "hovertemplate": "Local Government Areas=Babura<br>Latitude=%{lat}<br>Longitude=%{lon}<extra></extra>",
         "lat": [
          12.7725464
         ],
         "legendgroup": "Babura",
         "lon": [
          9.0171918
         ],
         "marker": {
          "color": "#ab63fa",
          "symbol": "circle"
         },
         "mode": "markers",
         "name": "Babura",
         "showlegend": true,
         "type": "scattergeo"
        },
        {
         "geo": "geo",
         "hovertemplate": "Local Government Areas=Biriniwa<br>Latitude=%{lat}<br>Longitude=%{lon}<extra></extra>",
         "lat": [
          12.7903
         ],
         "legendgroup": "Biriniwa",
         "lon": [
          10.2348
         ],
         "marker": {
          "color": "#FFA15A",
          "symbol": "circle"
         },
         "mode": "markers",
         "name": "Biriniwa",
         "showlegend": true,
         "type": "scattergeo"
        },
        {
         "geo": "geo",
         "hovertemplate": "Local Government Areas=Birnin Kudu<br>Latitude=%{lat}<br>Longitude=%{lon}<extra></extra>",
         "lat": [
          11.437844049999999
         ],
         "legendgroup": "Birnin Kudu",
         "lon": [
          9.466267712674227
         ],
         "marker": {
          "color": "#19d3f3",
          "symbol": "circle"
         },
         "mode": "markers",
         "name": "Birnin Kudu",
         "showlegend": true,
         "type": "scattergeo"
        },
        {
         "geo": "geo",
         "hovertemplate": "Local Government Areas=Buji<br>Latitude=%{lat}<br>Longitude=%{lon}<extra></extra>",
         "lat": [
          11.5185965
         ],
         "legendgroup": "Buji",
         "lon": [
          9.671172
         ],
         "marker": {
          "color": "#FF6692",
          "symbol": "circle"
         },
         "mode": "markers",
         "name": "Buji",
         "showlegend": true,
         "type": "scattergeo"
        },
        {
         "geo": "geo",
         "hovertemplate": "Local Government Areas=Dutse<br>Latitude=%{lat}<br>Longitude=%{lon}<extra></extra>",
         "lat": [
          11.6909859
         ],
         "legendgroup": "Dutse",
         "lon": [
          9.3390747
         ],
         "marker": {
          "color": "#B6E880",
          "symbol": "circle"
         },
         "mode": "markers",
         "name": "Dutse",
         "showlegend": true,
         "type": "scattergeo"
        },
        {
         "geo": "geo",
         "hovertemplate": "Local Government Areas=Gagarawa<br>Latitude=%{lat}<br>Longitude=%{lon}<extra></extra>",
         "lat": [
          12.409167
         ],
         "legendgroup": "Gagarawa",
         "lon": [
          9.5275
         ],
         "marker": {
          "color": "#FF97FF",
          "symbol": "circle"
         },
         "mode": "markers",
         "name": "Gagarawa",
         "showlegend": true,
         "type": "scattergeo"
        },
        {
         "geo": "geo",
         "hovertemplate": "Local Government Areas=Garki<br>Latitude=%{lat}<br>Longitude=%{lon}<extra></extra>",
         "lat": [
          12.436111
         ],
         "legendgroup": "Garki",
         "lon": [
          9.190278
         ],
         "marker": {
          "color": "#FECB52",
          "symbol": "circle"
         },
         "mode": "markers",
         "name": "Garki",
         "showlegend": true,
         "type": "scattergeo"
        },
        {
         "geo": "geo",
         "hovertemplate": "Local Government Areas=Gumel<br>Latitude=%{lat}<br>Longitude=%{lon}<extra></extra>",
         "lat": [
          9.85
         ],
         "legendgroup": "Gumel",
         "lon": [
          7.983333
         ],
         "marker": {
          "color": "#636efa",
          "symbol": "circle"
         },
         "mode": "markers",
         "name": "Gumel",
         "showlegend": true,
         "type": "scattergeo"
        },
        {
         "geo": "geo",
         "hovertemplate": "Local Government Areas=Guri<br>Latitude=%{lat}<br>Longitude=%{lon}<extra></extra>",
         "lat": [
          12.705938750000001
         ],
         "legendgroup": "Guri",
         "lon": [
          10.409233943085233
         ],
         "marker": {
          "color": "#EF553B",
          "symbol": "circle"
         },
         "mode": "markers",
         "name": "Guri",
         "showlegend": true,
         "type": "scattergeo"
        },
        {
         "geo": "geo",
         "hovertemplate": "Local Government Areas=Gwaram<br>Latitude=%{lat}<br>Longitude=%{lon}<extra></extra>",
         "lat": [
          11.276389
         ],
         "legendgroup": "Gwaram",
         "lon": [
          9.885833
         ],
         "marker": {
          "color": "#00cc96",
          "symbol": "circle"
         },
         "mode": "markers",
         "name": "Gwaram",
         "showlegend": true,
         "type": "scattergeo"
        },
        {
         "geo": "geo",
         "hovertemplate": "Local Government Areas=Gwiwa<br>Latitude=%{lat}<br>Longitude=%{lon}<extra></extra>",
         "lat": [
          12.779959
         ],
         "legendgroup": "Gwiwa",
         "lon": [
          8.337915
         ],
         "marker": {
          "color": "#ab63fa",
          "symbol": "circle"
         },
         "mode": "markers",
         "name": "Gwiwa",
         "showlegend": true,
         "type": "scattergeo"
        },
        {
         "geo": "geo",
         "hovertemplate": "Local Government Areas=Hadejia<br>Latitude=%{lat}<br>Longitude=%{lon}<extra></extra>",
         "lat": [
          12.4526098
         ],
         "legendgroup": "Hadejia",
         "lon": [
          10.0418934
         ],
         "marker": {
          "color": "#FFA15A",
          "symbol": "circle"
         },
         "mode": "markers",
         "name": "Hadejia",
         "showlegend": true,
         "type": "scattergeo"
        },
        {
         "geo": "geo",
         "hovertemplate": "Local Government Areas=Jahun<br>Latitude=%{lat}<br>Longitude=%{lon}<extra></extra>",
         "lat": [
          12.095743299999999
         ],
         "legendgroup": "Jahun",
         "lon": [
          9.588065851639504
         ],
         "marker": {
          "color": "#19d3f3",
          "symbol": "circle"
         },
         "mode": "markers",
         "name": "Jahun",
         "showlegend": true,
         "type": "scattergeo"
        },
        {
         "geo": "geo",
         "hovertemplate": "Local Government Areas=Kafin Hausa<br>Latitude=%{lat}<br>Longitude=%{lon}<extra></extra>",
         "lat": [
          12.240556
         ],
         "legendgroup": "Kafin Hausa",
         "lon": [
          9.913056
         ],
         "marker": {
          "color": "#FF6692",
          "symbol": "circle"
         },
         "mode": "markers",
         "name": "Kafin Hausa",
         "showlegend": true,
         "type": "scattergeo"
        },
        {
         "geo": "geo",
         "hovertemplate": "Local Government Areas=Kaugama<br>Latitude=%{lat}<br>Longitude=%{lon}<extra></extra>",
         "lat": [
          12.4725
         ],
         "legendgroup": "Kaugama",
         "lon": [
          9.7325
         ],
         "marker": {
          "color": "#B6E880",
          "symbol": "circle"
         },
         "mode": "markers",
         "name": "Kaugama",
         "showlegend": true,
         "type": "scattergeo"
        },
        {
         "geo": "geo",
         "hovertemplate": "Local Government Areas=Kazaure<br>Latitude=%{lat}<br>Longitude=%{lon}<extra></extra>",
         "lat": [
          12.6538218
         ],
         "legendgroup": "Kazaure",
         "lon": [
          8.4148078
         ],
         "marker": {
          "color": "#FF97FF",
          "symbol": "circle"
         },
         "mode": "markers",
         "name": "Kazaure",
         "showlegend": true,
         "type": "scattergeo"
        },
        {
         "geo": "geo",
         "hovertemplate": "Local Government Areas=Kiri Kasama<br>Latitude=%{lat}<br>Longitude=%{lon}<extra></extra>",
         "lat": [
          12.6932
         ],
         "legendgroup": "Kiri Kasama",
         "lon": [
          10.2551
         ],
         "marker": {
          "color": "#FECB52",
          "symbol": "circle"
         },
         "mode": "markers",
         "name": "Kiri Kasama",
         "showlegend": true,
         "type": "scattergeo"
        },
        {
         "geo": "geo",
         "hovertemplate": "Local Government Areas=Kiyawa<br>Latitude=%{lat}<br>Longitude=%{lon}<extra></extra>",
         "lat": [
          11.782778
         ],
         "legendgroup": "Kiyawa",
         "lon": [
          9.6125
         ],
         "marker": {
          "color": "#636efa",
          "symbol": "circle"
         },
         "mode": "markers",
         "name": "Kiyawa",
         "showlegend": true,
         "type": "scattergeo"
        },
        {
         "geo": "geo",
         "hovertemplate": "Local Government Areas=Maigatari<br>Latitude=%{lat}<br>Longitude=%{lon}<extra></extra>",
         "lat": [
          12.807222
         ],
         "legendgroup": "Maigatari",
         "lon": [
          9.451389
         ],
         "marker": {
          "color": "#EF553B",
          "symbol": "circle"
         },
         "mode": "markers",
         "name": "Maigatari",
         "showlegend": true,
         "type": "scattergeo"
        },
        {
         "geo": "geo",
         "hovertemplate": "Local Government Areas=Malam Madori<br>Latitude=%{lat}<br>Longitude=%{lon}<extra></extra>",
         "lat": [
          12.5297795
         ],
         "legendgroup": "Malam Madori",
         "lon": [
          9.895976877882704
         ],
         "marker": {
          "color": "#00cc96",
          "symbol": "circle"
         },
         "mode": "markers",
         "name": "Malam Madori",
         "showlegend": true,
         "type": "scattergeo"
        },
        {
         "geo": "geo",
         "hovertemplate": "Local Government Areas=Miga<br>Latitude=%{lat}<br>Longitude=%{lon}<extra></extra>",
         "lat": [
          12.2386199
         ],
         "legendgroup": "Miga",
         "lon": [
          9.7114006
         ],
         "marker": {
          "color": "#ab63fa",
          "symbol": "circle"
         },
         "mode": "markers",
         "name": "Miga",
         "showlegend": true,
         "type": "scattergeo"
        },
        {
         "geo": "geo",
         "hovertemplate": "Local Government Areas=Ringim<br>Latitude=%{lat}<br>Longitude=%{lon}<extra></extra>",
         "lat": [
          12.1509952
         ],
         "legendgroup": "Ringim",
         "lon": [
          9.1625494
         ],
         "marker": {
          "color": "#FFA15A",
          "symbol": "circle"
         },
         "mode": "markers",
         "name": "Ringim",
         "showlegend": true,
         "type": "scattergeo"
        },
        {
         "geo": "geo",
         "hovertemplate": "Local Government Areas=Roni<br>Latitude=%{lat}<br>Longitude=%{lon}<extra></extra>",
         "lat": [
          12.6571
         ],
         "legendgroup": "Roni",
         "lon": [
          8.265308
         ],
         "marker": {
          "color": "#19d3f3",
          "symbol": "circle"
         },
         "mode": "markers",
         "name": "Roni",
         "showlegend": true,
         "type": "scattergeo"
        },
        {
         "geo": "geo",
         "hovertemplate": "Local Government Areas=Sule Tankarkar<br>Latitude=%{lat}<br>Longitude=%{lon}<extra></extra>",
         "lat": [
          12.6512968
         ],
         "legendgroup": "Sule Tankarkar",
         "lon": [
          9.247542772730274
         ],
         "marker": {
          "color": "#FF6692",
          "symbol": "circle"
         },
         "mode": "markers",
         "name": "Sule Tankarkar",
         "showlegend": true,
         "type": "scattergeo"
        },
        {
         "geo": "geo",
         "hovertemplate": "Local Government Areas=Taura<br>Latitude=%{lat}<br>Longitude=%{lon}<extra></extra>",
         "lat": [
          12.2724893
         ],
         "legendgroup": "Taura",
         "lon": [
          9.36241882485775
         ],
         "marker": {
          "color": "#B6E880",
          "symbol": "circle"
         },
         "mode": "markers",
         "name": "Taura",
         "showlegend": true,
         "type": "scattergeo"
        },
        {
         "geo": "geo",
         "hovertemplate": "Local Government Areas=Yankwashi<br>Latitude=%{lat}<br>Longitude=%{lon}<extra></extra>",
         "lat": [
          12.742809
         ],
         "legendgroup": "Yankwashi",
         "lon": [
          8.539973
         ],
         "marker": {
          "color": "#FF97FF",
          "symbol": "circle"
         },
         "mode": "markers",
         "name": "Yankwashi",
         "showlegend": true,
         "type": "scattergeo"
        },
        {
         "geo": "geo",
         "hovertemplate": "Local Government Areas=Birnin Gwari<br>Latitude=%{lat}<br>Longitude=%{lon}<extra></extra>",
         "lat": [
          10.662429
         ],
         "legendgroup": "Birnin Gwari",
         "lon": [
          6.543726
         ],
         "marker": {
          "color": "#FECB52",
          "symbol": "circle"
         },
         "mode": "markers",
         "name": "Birnin Gwari",
         "showlegend": true,
         "type": "scattergeo"
        },
        {
         "geo": "geo",
         "hovertemplate": "Local Government Areas=Chikun<br>Latitude=%{lat}<br>Longitude=%{lon}<extra></extra>",
         "lat": [
          10.269119
         ],
         "legendgroup": "Chikun",
         "lon": [
          7.108446
         ],
         "marker": {
          "color": "#636efa",
          "symbol": "circle"
         },
         "mode": "markers",
         "name": "Chikun",
         "showlegend": true,
         "type": "scattergeo"
        },
        {
         "geo": "geo",
         "hovertemplate": "Local Government Areas=Giwa<br>Latitude=%{lat}<br>Longitude=%{lon}<extra></extra>",
         "lat": [
          11.3
         ],
         "legendgroup": "Giwa",
         "lon": [
          7.45
         ],
         "marker": {
          "color": "#EF553B",
          "symbol": "circle"
         },
         "mode": "markers",
         "name": "Giwa",
         "showlegend": true,
         "type": "scattergeo"
        },
        {
         "geo": "geo",
         "hovertemplate": "Local Government Areas=Igabi<br>Latitude=%{lat}<br>Longitude=%{lon}<extra></extra>",
         "lat": [
          10.788873
         ],
         "legendgroup": "Igabi",
         "lon": [
          7.774931
         ],
         "marker": {
          "color": "#00cc96",
          "symbol": "circle"
         },
         "mode": "markers",
         "name": "Igabi",
         "showlegend": true,
         "type": "scattergeo"
        },
        {
         "geo": "geo",
         "hovertemplate": "Local Government Areas=Ikara<br>Latitude=%{lat}<br>Longitude=%{lon}<extra></extra>",
         "lat": [
          11.176471
         ],
         "legendgroup": "Ikara",
         "lon": [
          8.2231659
         ],
         "marker": {
          "color": "#ab63fa",
          "symbol": "circle"
         },
         "mode": "markers",
         "name": "Ikara",
         "showlegend": true,
         "type": "scattergeo"
        },
        {
         "geo": "geo",
         "hovertemplate": "Local Government Areas=Jaba<br>Latitude=%{lat}<br>Longitude=%{lon}<extra></extra>",
         "lat": [
          12.42438985
         ],
         "legendgroup": "Jaba",
         "lon": [
          11.167840262563884
         ],
         "marker": {
          "color": "#FFA15A",
          "symbol": "circle"
         },
         "mode": "markers",
         "name": "Jaba",
         "showlegend": true,
         "type": "scattergeo"
        },
        {
         "geo": "geo",
         "hovertemplate": "Local Government Areas=Jema'a<br>Latitude=%{lat}<br>Longitude=%{lon}<extra></extra>",
         "lat": [
          9.4136358
         ],
         "legendgroup": "Jema'a",
         "lon": [
          8.252928350616807
         ],
         "marker": {
          "color": "#19d3f3",
          "symbol": "circle"
         },
         "mode": "markers",
         "name": "Jema'a",
         "showlegend": true,
         "type": "scattergeo"
        },
        {
         "geo": "geo",
         "hovertemplate": "Local Government Areas=Kachia<br>Latitude=%{lat}<br>Longitude=%{lon}<extra></extra>",
         "lat": [
          9.8713601
         ],
         "legendgroup": "Kachia",
         "lon": [
          7.956506
         ],
         "marker": {
          "color": "#FF6692",
          "symbol": "circle"
         },
         "mode": "markers",
         "name": "Kachia",
         "showlegend": true,
         "type": "scattergeo"
        },
        {
         "geo": "geo",
         "hovertemplate": "Local Government Areas=Kaduna North<br>Latitude=%{lat}<br>Longitude=%{lon}<extra></extra>",
         "lat": [
          10.5539962
         ],
         "legendgroup": "Kaduna North",
         "lon": [
          7.453055168284827
         ],
         "marker": {
          "color": "#B6E880",
          "symbol": "circle"
         },
         "mode": "markers",
         "name": "Kaduna North",
         "showlegend": true,
         "type": "scattergeo"
        },
        {
         "geo": "geo",
         "hovertemplate": "Local Government Areas=Kaduna South<br>Latitude=%{lat}<br>Longitude=%{lon}<extra></extra>",
         "lat": [
          10.475112
         ],
         "legendgroup": "Kaduna South",
         "lon": [
          7.419593
         ],
         "marker": {
          "color": "#FF97FF",
          "symbol": "circle"
         },
         "mode": "markers",
         "name": "Kaduna South",
         "showlegend": true,
         "type": "scattergeo"
        },
        {
         "geo": "geo",
         "hovertemplate": "Local Government Areas=Kagarko<br>Latitude=%{lat}<br>Longitude=%{lon}<extra></extra>",
         "lat": [
          9.4936526
         ],
         "legendgroup": "Kagarko",
         "lon": [
          7.6977654
         ],
         "marker": {
          "color": "#FECB52",
          "symbol": "circle"
         },
         "mode": "markers",
         "name": "Kagarko",
         "showlegend": true,
         "type": "scattergeo"
        },
        {
         "geo": "geo",
         "hovertemplate": "Local Government Areas=Kajuru<br>Latitude=%{lat}<br>Longitude=%{lon}<extra></extra>",
         "lat": [
          10.31921
         ],
         "legendgroup": "Kajuru",
         "lon": [
          7.689236
         ],
         "marker": {
          "color": "#636efa",
          "symbol": "circle"
         },
         "mode": "markers",
         "name": "Kajuru",
         "showlegend": true,
         "type": "scattergeo"
        },
        {
         "geo": "geo",
         "hovertemplate": "Local Government Areas=Kaura<br>Latitude=%{lat}<br>Longitude=%{lon}<extra></extra>",
         "lat": [
          9.64241625
         ],
         "legendgroup": "Kaura",
         "lon": [
          8.451618841990786
         ],
         "marker": {
          "color": "#EF553B",
          "symbol": "circle"
         },
         "mode": "markers",
         "name": "Kaura",
         "showlegend": true,
         "type": "scattergeo"
        },
        {
         "geo": "geo",
         "hovertemplate": "Local Government Areas=Kauru<br>Latitude=%{lat}<br>Longitude=%{lon}<extra></extra>",
         "lat": [
          10.575977
         ],
         "legendgroup": "Kauru",
         "lon": [
          8.14782
         ],
         "marker": {
          "color": "#00cc96",
          "symbol": "circle"
         },
         "mode": "markers",
         "name": "Kauru",
         "showlegend": true,
         "type": "scattergeo"
        },
        {
         "geo": "geo",
         "hovertemplate": "Local Government Areas=Kubau<br>Latitude=%{lat}<br>Longitude=%{lon}<extra></extra>",
         "lat": [
          10.799135
         ],
         "legendgroup": "Kubau",
         "lon": [
          8.153818
         ],
         "marker": {
          "color": "#ab63fa",
          "symbol": "circle"
         },
         "mode": "markers",
         "name": "Kubau",
         "showlegend": true,
         "type": "scattergeo"
        },
        {
         "geo": "geo",
         "hovertemplate": "Local Government Areas=Kudan<br>Latitude=%{lat}<br>Longitude=%{lon}<extra></extra>",
         "lat": [
          11.306902
         ],
         "legendgroup": "Kudan",
         "lon": [
          7.731608
         ],
         "marker": {
          "color": "#FFA15A",
          "symbol": "circle"
         },
         "mode": "markers",
         "name": "Kudan",
         "showlegend": true,
         "type": "scattergeo"
        },
        {
         "geo": "geo",
         "hovertemplate": "Local Government Areas=Lere<br>Latitude=%{lat}<br>Longitude=%{lon}<extra></extra>",
         "lat": [
          10.386966
         ],
         "legendgroup": "Lere",
         "lon": [
          8.572617
         ],
         "marker": {
          "color": "#19d3f3",
          "symbol": "circle"
         },
         "mode": "markers",
         "name": "Lere",
         "showlegend": true,
         "type": "scattergeo"
        },
        {
         "geo": "geo",
         "hovertemplate": "Local Government Areas=Makarfi<br>Latitude=%{lat}<br>Longitude=%{lon}<extra></extra>",
         "lat": [
          11.370074
         ],
         "legendgroup": "Makarfi",
         "lon": [
          7.883787
         ],
         "marker": {
          "color": "#FF6692",
          "symbol": "circle"
         },
         "mode": "markers",
         "name": "Makarfi",
         "showlegend": true,
         "type": "scattergeo"
        },
        {
         "geo": "geo",
         "hovertemplate": "Local Government Areas=Sabon Gari<br>Latitude=%{lat}<br>Longitude=%{lon}<extra></extra>",
         "lat": [
          12.16229565
         ],
         "legendgroup": "Sabon Gari",
         "lon": [
          6.672388835801534
         ],
         "marker": {
          "color": "#B6E880",
          "symbol": "circle"
         },
         "mode": "markers",
         "name": "Sabon Gari",
         "showlegend": true,
         "type": "scattergeo"
        },
        {
         "geo": "geo",
         "hovertemplate": "Local Government Areas=Sanga<br>Latitude=%{lat}<br>Longitude=%{lon}<extra></extra>",
         "lat": [
          9.2458822
         ],
         "legendgroup": "Sanga",
         "lon": [
          8.459390672268526
         ],
         "marker": {
          "color": "#FF97FF",
          "symbol": "circle"
         },
         "mode": "markers",
         "name": "Sanga",
         "showlegend": true,
         "type": "scattergeo"
        },
        {
         "geo": "geo",
         "hovertemplate": "Local Government Areas=Soba<br>Latitude=%{lat}<br>Longitude=%{lon}<extra></extra>",
         "lat": [
          10.9832503
         ],
         "legendgroup": "Soba",
         "lon": [
          8.0588025
         ],
         "marker": {
          "color": "#FECB52",
          "symbol": "circle"
         },
         "mode": "markers",
         "name": "Soba",
         "showlegend": true,
         "type": "scattergeo"
        },
        {
         "geo": "geo",
         "hovertemplate": "Local Government Areas=Zangon Kataf<br>Latitude=%{lat}<br>Longitude=%{lon}<extra></extra>",
         "lat": [
          9.89681685
         ],
         "legendgroup": "Zangon Kataf",
         "lon": [
          8.258212780819786
         ],
         "marker": {
          "color": "#636efa",
          "symbol": "circle"
         },
         "mode": "markers",
         "name": "Zangon Kataf",
         "showlegend": true,
         "type": "scattergeo"
        },
        {
         "geo": "geo",
         "hovertemplate": "Local Government Areas=Zaria<br>Latitude=%{lat}<br>Longitude=%{lon}<extra></extra>",
         "lat": [
          11.0248119
         ],
         "legendgroup": "Zaria",
         "lon": [
          7.651853311586596
         ],
         "marker": {
          "color": "#EF553B",
          "symbol": "circle"
         },
         "mode": "markers",
         "name": "Zaria",
         "showlegend": true,
         "type": "scattergeo"
        },
        {
         "geo": "geo",
         "hovertemplate": "Local Government Areas=Ajingi<br>Latitude=%{lat}<br>Longitude=%{lon}<extra></extra>",
         "lat": [
          11.9678
         ],
         "legendgroup": "Ajingi",
         "lon": [
          9.03665
         ],
         "marker": {
          "color": "#00cc96",
          "symbol": "circle"
         },
         "mode": "markers",
         "name": "Ajingi",
         "showlegend": true,
         "type": "scattergeo"
        },
        {
         "geo": "geo",
         "hovertemplate": "Local Government Areas=Albasu<br>Latitude=%{lat}<br>Longitude=%{lon}<extra></extra>",
         "lat": [
          12.566667
         ],
         "legendgroup": "Albasu",
         "lon": [
          9.083333
         ],
         "marker": {
          "color": "#ab63fa",
          "symbol": "circle"
         },
         "mode": "markers",
         "name": "Albasu",
         "showlegend": true,
         "type": "scattergeo"
        },
        {
         "geo": "geo",
         "hovertemplate": "Local Government Areas=Bagwai<br>Latitude=%{lat}<br>Longitude=%{lon}<extra></extra>",
         "lat": [
          12.1577
         ],
         "legendgroup": "Bagwai",
         "lon": [
          8.1357
         ],
         "marker": {
          "color": "#FFA15A",
          "symbol": "circle"
         },
         "mode": "markers",
         "name": "Bagwai",
         "showlegend": true,
         "type": "scattergeo"
        },
        {
         "geo": "geo",
         "hovertemplate": "Local Government Areas=Bebeji<br>Latitude=%{lat}<br>Longitude=%{lon}<extra></extra>",
         "lat": [
          11.68276125
         ],
         "legendgroup": "Bebeji",
         "lon": [
          8.244846984027742
         ],
         "marker": {
          "color": "#19d3f3",
          "symbol": "circle"
         },
         "mode": "markers",
         "name": "Bebeji",
         "showlegend": true,
         "type": "scattergeo"
        },
        {
         "geo": "geo",
         "hovertemplate": "Local Government Areas=Bichi<br>Latitude=%{lat}<br>Longitude=%{lon}<extra></extra>",
         "lat": [
          12.220139849999999
         ],
         "legendgroup": "Bichi",
         "lon": [
          8.19542142896692
         ],
         "marker": {
          "color": "#FF6692",
          "symbol": "circle"
         },
         "mode": "markers",
         "name": "Bichi",
         "showlegend": true,
         "type": "scattergeo"
        },
        {
         "geo": "geo",
         "hovertemplate": "Local Government Areas=Bunkure<br>Latitude=%{lat}<br>Longitude=%{lon}<extra></extra>",
         "lat": [
          11.6789172
         ],
         "legendgroup": "Bunkure",
         "lon": [
          8.518871667414945
         ],
         "marker": {
          "color": "#B6E880",
          "symbol": "circle"
         },
         "mode": "markers",
         "name": "Bunkure",
         "showlegend": true,
         "type": "scattergeo"
        },
        {
         "geo": "geo",
         "hovertemplate": "Local Government Areas=Dala<br>Latitude=%{lat}<br>Longitude=%{lon}<extra></extra>",
         "lat": [
          12.00909205
         ],
         "legendgroup": "Dala",
         "lon": [
          8.505168598184804
         ],
         "marker": {
          "color": "#FF97FF",
          "symbol": "circle"
         },
         "mode": "markers",
         "name": "Dala",
         "showlegend": true,
         "type": "scattergeo"
        },
        {
         "geo": "geo",
         "hovertemplate": "Local Government Areas=Dambatta<br>Latitude=%{lat}<br>Longitude=%{lon}<extra></extra>",
         "lat": [
          12.4339363
         ],
         "legendgroup": "Dambatta",
         "lon": [
          8.5150694
         ],
         "marker": {
          "color": "#FECB52",
          "symbol": "circle"
         },
         "mode": "markers",
         "name": "Dambatta",
         "showlegend": true,
         "type": "scattergeo"
        },
        {
         "geo": "geo",
         "hovertemplate": "Local Government Areas=Dawakin Kudu<br>Latitude=%{lat}<br>Longitude=%{lon}<extra></extra>",
         "lat": [
          11.79747965
         ],
         "legendgroup": "Dawakin Kudu",
         "lon": [
          8.706588726528924
         ],
         "marker": {
          "color": "#636efa",
          "symbol": "circle"
         },
         "mode": "markers",
         "name": "Dawakin Kudu",
         "showlegend": true,
         "type": "scattergeo"
        },
        {
         "geo": "geo",
         "hovertemplate": "Local Government Areas=Dawakin Tofa<br>Latitude=%{lat}<br>Longitude=%{lon}<extra></extra>",
         "lat": [
          12.142136
         ],
         "legendgroup": "Dawakin Tofa",
         "lon": [
          8.36111612636891
         ],
         "marker": {
          "color": "#EF553B",
          "symbol": "circle"
         },
         "mode": "markers",
         "name": "Dawakin Tofa",
         "showlegend": true,
         "type": "scattergeo"
        },
        {
         "geo": "geo",
         "hovertemplate": "Local Government Areas=Doguwa<br>Latitude=%{lat}<br>Longitude=%{lon}<extra></extra>",
         "lat": [
          10.7332
         ],
         "legendgroup": "Doguwa",
         "lon": [
          8.58715
         ],
         "marker": {
          "color": "#00cc96",
          "symbol": "circle"
         },
         "mode": "markers",
         "name": "Doguwa",
         "showlegend": true,
         "type": "scattergeo"
        },
        {
         "geo": "geo",
         "hovertemplate": "Local Government Areas=Fagge<br>Latitude=%{lat}<br>Longitude=%{lon}<extra></extra>",
         "lat": [
          12.032223
         ],
         "legendgroup": "Fagge",
         "lon": [
          8.517419685338357
         ],
         "marker": {
          "color": "#ab63fa",
          "symbol": "circle"
         },
         "mode": "markers",
         "name": "Fagge",
         "showlegend": true,
         "type": "scattergeo"
        },
        {
         "geo": "geo",
         "hovertemplate": "Local Government Areas=Gabasawa<br>Latitude=%{lat}<br>Longitude=%{lon}<extra></extra>",
         "lat": [
          12.1704918
         ],
         "legendgroup": "Gabasawa",
         "lon": [
          8.90869970554915
         ],
         "marker": {
          "color": "#FFA15A",
          "symbol": "circle"
         },
         "mode": "markers",
         "name": "Gabasawa",
         "showlegend": true,
         "type": "scattergeo"
        },
        {
         "geo": "geo",
         "hovertemplate": "Local Government Areas=Garko<br>Latitude=%{lat}<br>Longitude=%{lon}<extra></extra>",
         "lat": [
          11.6515086
         ],
         "legendgroup": "Garko",
         "lon": [
          8.809807036343518
         ],
         "marker": {
          "color": "#19d3f3",
          "symbol": "circle"
         },
         "mode": "markers",
         "name": "Garko",
         "showlegend": true,
         "type": "scattergeo"
        },
        {
         "geo": "geo",
         "hovertemplate": "Local Government Areas=Garun Mallam<br>Latitude=%{lat}<br>Longitude=%{lon}<extra></extra>",
         "lat": [
          11.586468
         ],
         "legendgroup": "Garun Mallam",
         "lon": [
          8.422951041141168
         ],
         "marker": {
          "color": "#FF6692",
          "symbol": "circle"
         },
         "mode": "markers",
         "name": "Garun Mallam",
         "showlegend": true,
         "type": "scattergeo"
        },
        {
         "geo": "geo",
         "hovertemplate": "Local Government Areas=Gaya<br>Latitude=%{lat}<br>Longitude=%{lon}<extra></extra>",
         "lat": [
          11.818957099999999
         ],
         "legendgroup": "Gaya",
         "lon": [
          9.026711262480958
         ],
         "marker": {
          "color": "#B6E880",
          "symbol": "circle"
         },
         "mode": "markers",
         "name": "Gaya",
         "showlegend": true,
         "type": "scattergeo"
        },
        {
         "geo": "geo",
         "hovertemplate": "Local Government Areas=Gezawa<br>Latitude=%{lat}<br>Longitude=%{lon}<extra></extra>",
         "lat": [
          12.12842285
         ],
         "legendgroup": "Gezawa",
         "lon": [
          8.756747806954735
         ],
         "marker": {
          "color": "#FF97FF",
          "symbol": "circle"
         },
         "mode": "markers",
         "name": "Gezawa",
         "showlegend": true,
         "type": "scattergeo"
        },
        {
         "geo": "geo",
         "hovertemplate": "Local Government Areas=Gwale<br>Latitude=%{lat}<br>Longitude=%{lon}<extra></extra>",
         "lat": [
          11.98522885
         ],
         "legendgroup": "Gwale",
         "lon": [
          8.506324612466788
         ],
         "marker": {
          "color": "#FECB52",
          "symbol": "circle"
         },
         "mode": "markers",
         "name": "Gwale",
         "showlegend": true,
         "type": "scattergeo"
        },
        {
         "geo": "geo",
         "hovertemplate": "Local Government Areas=Gwarzo<br>Latitude=%{lat}<br>Longitude=%{lon}<extra></extra>",
         "lat": [
          11.9155
         ],
         "legendgroup": "Gwarzo",
         "lon": [
          7.9338
         ],
         "marker": {
          "color": "#636efa",
          "symbol": "circle"
         },
         "mode": "markers",
         "name": "Gwarzo",
         "showlegend": true,
         "type": "scattergeo"
        },
        {
         "geo": "geo",
         "hovertemplate": "Local Government Areas=Kabo<br>Latitude=%{lat}<br>Longitude=%{lon}<extra></extra>",
         "lat": [
          11.8556694
         ],
         "legendgroup": "Kabo",
         "lon": [
          8.177501954080492
         ],
         "marker": {
          "color": "#EF553B",
          "symbol": "circle"
         },
         "mode": "markers",
         "name": "Kabo",
         "showlegend": true,
         "type": "scattergeo"
        },
        {
         "geo": "geo",
         "hovertemplate": "Local Government Areas=Kano Municipal<br>Latitude=%{lat}<br>Longitude=%{lon}<extra></extra>",
         "lat": [
          11.983542100000001
         ],
         "legendgroup": "Kano Municipal",
         "lon": [
          8.526936464554032
         ],
         "marker": {
          "color": "#00cc96",
          "symbol": "circle"
         },
         "mode": "markers",
         "name": "Kano Municipal",
         "showlegend": true,
         "type": "scattergeo"
        },
        {
         "geo": "geo",
         "hovertemplate": "Local Government Areas=Karaye<br>Latitude=%{lat}<br>Longitude=%{lon}<extra></extra>",
         "lat": [
          12.0296662
         ],
         "legendgroup": "Karaye",
         "lon": [
          4.2725668
         ],
         "marker": {
          "color": "#ab63fa",
          "symbol": "circle"
         },
         "mode": "markers",
         "name": "Karaye",
         "showlegend": true,
         "type": "scattergeo"
        },
        {
         "geo": "geo",
         "hovertemplate": "Local Government Areas=Kibiya<br>Latitude=%{lat}<br>Longitude=%{lon}<extra></extra>",
         "lat": [
          11.5295
         ],
         "legendgroup": "Kibiya",
         "lon": [
          8.65941
         ],
         "marker": {
          "color": "#FFA15A",
          "symbol": "circle"
         },
         "mode": "markers",
         "name": "Kibiya",
         "showlegend": true,
         "type": "scattergeo"
        },
        {
         "geo": "geo",
         "hovertemplate": "Local Government Areas=Kiru<br>Latitude=%{lat}<br>Longitude=%{lon}<extra></extra>",
         "lat": [
          11.7021
         ],
         "legendgroup": "Kiru",
         "lon": [
          8.13475
         ],
         "marker": {
          "color": "#19d3f3",
          "symbol": "circle"
         },
         "mode": "markers",
         "name": "Kiru",
         "showlegend": true,
         "type": "scattergeo"
        },
        {
         "geo": "geo",
         "hovertemplate": "Local Government Areas=Kumbotso<br>Latitude=%{lat}<br>Longitude=%{lon}<extra></extra>",
         "lat": [
          11.88889105
         ],
         "legendgroup": "Kumbotso",
         "lon": [
          8.505475816294247
         ],
         "marker": {
          "color": "#FF6692",
          "symbol": "circle"
         },
         "mode": "markers",
         "name": "Kumbotso",
         "showlegend": true,
         "type": "scattergeo"
        },
        {
         "geo": "geo",
         "hovertemplate": "Local Government Areas=Kunchi<br>Latitude=%{lat}<br>Longitude=%{lon}<extra></extra>",
         "lat": [
          12.5025
         ],
         "legendgroup": "Kunchi",
         "lon": [
          8.27056
         ],
         "marker": {
          "color": "#B6E880",
          "symbol": "circle"
         },
         "mode": "markers",
         "name": "Kunchi",
         "showlegend": true,
         "type": "scattergeo"
        },
        {
         "geo": "geo",
         "hovertemplate": "Local Government Areas=Kura<br>Latitude=%{lat}<br>Longitude=%{lon}<extra></extra>",
         "lat": [
          8.966667
         ],
         "legendgroup": "Kura",
         "lon": [
          12.633333
         ],
         "marker": {
          "color": "#FF97FF",
          "symbol": "circle"
         },
         "mode": "markers",
         "name": "Kura",
         "showlegend": true,
         "type": "scattergeo"
        },
        {
         "geo": "geo",
         "hovertemplate": "Local Government Areas=Madobi<br>Latitude=%{lat}<br>Longitude=%{lon}<extra></extra>",
         "lat": [
          11.768602000000001
         ],
         "legendgroup": "Madobi",
         "lon": [
          8.285648879973095
         ],
         "marker": {
          "color": "#FECB52",
          "symbol": "circle"
         },
         "mode": "markers",
         "name": "Madobi",
         "showlegend": true,
         "type": "scattergeo"
        },
        {
         "geo": "geo",
         "hovertemplate": "Local Government Areas=Makoda<br>Latitude=%{lat}<br>Longitude=%{lon}<extra></extra>",
         "lat": [
          12.41926845
         ],
         "legendgroup": "Makoda",
         "lon": [
          8.412905024967234
         ],
         "marker": {
          "color": "#636efa",
          "symbol": "circle"
         },
         "mode": "markers",
         "name": "Makoda",
         "showlegend": true,
         "type": "scattergeo"
        },
        {
         "geo": "geo",
         "hovertemplate": "Local Government Areas=Minjibir<br>Latitude=%{lat}<br>Longitude=%{lon}<extra></extra>",
         "lat": [
          12.1771
         ],
         "legendgroup": "Minjibir",
         "lon": [
          8.65866
         ],
         "marker": {
          "color": "#EF553B",
          "symbol": "circle"
         },
         "mode": "markers",
         "name": "Minjibir",
         "showlegend": true,
         "type": "scattergeo"
        },
        {
         "geo": "geo",
         "hovertemplate": "Local Government Areas=Nasarawa<br>Latitude=%{lat}<br>Longitude=%{lon}<extra></extra>",
         "lat": [
          8.4387868,
          8.4387868
         ],
         "legendgroup": "Nasarawa",
         "lon": [
          8.2382849,
          8.2382849
         ],
         "marker": {
          "color": "#00cc96",
          "symbol": "circle"
         },
         "mode": "markers",
         "name": "Nasarawa",
         "showlegend": true,
         "type": "scattergeo"
        },
        {
         "geo": "geo",
         "hovertemplate": "Local Government Areas=Rano<br>Latitude=%{lat}<br>Longitude=%{lon}<extra></extra>",
         "lat": [
          11.56352025
         ],
         "legendgroup": "Rano",
         "lon": [
          8.592915886356167
         ],
         "marker": {
          "color": "#ab63fa",
          "symbol": "circle"
         },
         "mode": "markers",
         "name": "Rano",
         "showlegend": true,
         "type": "scattergeo"
        },
        {
         "geo": "geo",
         "hovertemplate": "Local Government Areas=Rimin Gado<br>Latitude=%{lat}<br>Longitude=%{lon}<extra></extra>",
         "lat": [
          11.94988025
         ],
         "legendgroup": "Rimin Gado",
         "lon": [
          8.254443666024292
         ],
         "marker": {
          "color": "#FFA15A",
          "symbol": "circle"
         },
         "mode": "markers",
         "name": "Rimin Gado",
         "showlegend": true,
         "type": "scattergeo"
        },
        {
         "geo": "geo",
         "hovertemplate": "Local Government Areas=Rogo<br>Latitude=%{lat}<br>Longitude=%{lon}<extra></extra>",
         "lat": [
          11.5496
         ],
         "legendgroup": "Rogo",
         "lon": [
          7.82421
         ],
         "marker": {
          "color": "#19d3f3",
          "symbol": "circle"
         },
         "mode": "markers",
         "name": "Rogo",
         "showlegend": true,
         "type": "scattergeo"
        },
        {
         "geo": "geo",
         "hovertemplate": "Local Government Areas=Shanono<br>Latitude=%{lat}<br>Longitude=%{lon}<extra></extra>",
         "lat": [
          12.0484288
         ],
         "legendgroup": "Shanono",
         "lon": [
          7.988561182289026
         ],
         "marker": {
          "color": "#FF6692",
          "symbol": "circle"
         },
         "mode": "markers",
         "name": "Shanono",
         "showlegend": true,
         "type": "scattergeo"
        },
        {
         "geo": "geo",
         "hovertemplate": "Local Government Areas=Sumaila<br>Latitude=%{lat}<br>Longitude=%{lon}<extra></extra>",
         "lat": [
          11.506619
         ],
         "legendgroup": "Sumaila",
         "lon": [
          8.962154148665437
         ],
         "marker": {
          "color": "#B6E880",
          "symbol": "circle"
         },
         "mode": "markers",
         "name": "Sumaila",
         "showlegend": true,
         "type": "scattergeo"
        },
        {
         "geo": "geo",
         "hovertemplate": "Local Government Areas=Takai<br>Latitude=%{lat}<br>Longitude=%{lon}<extra></extra>",
         "lat": [
          11.56975825
         ],
         "legendgroup": "Takai",
         "lon": [
          9.090872837671247
         ],
         "marker": {
          "color": "#FF97FF",
          "symbol": "circle"
         },
         "mode": "markers",
         "name": "Takai",
         "showlegend": true,
         "type": "scattergeo"
        },
        {
         "geo": "geo",
         "hovertemplate": "Local Government Areas=Tarauni<br>Latitude=%{lat}<br>Longitude=%{lon}<extra></extra>",
         "lat": [
          11.97831265
         ],
         "legendgroup": "Tarauni",
         "lon": [
          8.552328051122903
         ],
         "marker": {
          "color": "#FECB52",
          "symbol": "circle"
         },
         "mode": "markers",
         "name": "Tarauni",
         "showlegend": true,
         "type": "scattergeo"
        },
        {
         "geo": "geo",
         "hovertemplate": "Local Government Areas=Tofa<br>Latitude=%{lat}<br>Longitude=%{lon}<extra></extra>",
         "lat": [
          12.05471305
         ],
         "legendgroup": "Tofa",
         "lon": [
          8.270448083586082
         ],
         "marker": {
          "color": "#636efa",
          "symbol": "circle"
         },
         "mode": "markers",
         "name": "Tofa",
         "showlegend": true,
         "type": "scattergeo"
        },
        {
         "geo": "geo",
         "hovertemplate": "Local Government Areas=Tsanyawa<br>Latitude=%{lat}<br>Longitude=%{lon}<extra></extra>",
         "lat": [
          12.295
         ],
         "legendgroup": "Tsanyawa",
         "lon": [
          7.98561
         ],
         "marker": {
          "color": "#EF553B",
          "symbol": "circle"
         },
         "mode": "markers",
         "name": "Tsanyawa",
         "showlegend": true,
         "type": "scattergeo"
        },
        {
         "geo": "geo",
         "hovertemplate": "Local Government Areas=Tudun Wada<br>Latitude=%{lat}<br>Longitude=%{lon}<extra></extra>",
         "lat": [
          12.1241928
         ],
         "legendgroup": "Tudun Wada",
         "lon": [
          6.746187075917691
         ],
         "marker": {
          "color": "#00cc96",
          "symbol": "circle"
         },
         "mode": "markers",
         "name": "Tudun Wada",
         "showlegend": true,
         "type": "scattergeo"
        },
        {
         "geo": "geo",
         "hovertemplate": "Local Government Areas=Ungogo<br>Latitude=%{lat}<br>Longitude=%{lon}<extra></extra>",
         "lat": [
          12.0916
         ],
         "legendgroup": "Ungogo",
         "lon": [
          8.49534
         ],
         "marker": {
          "color": "#ab63fa",
          "symbol": "circle"
         },
         "mode": "markers",
         "name": "Ungogo",
         "showlegend": true,
         "type": "scattergeo"
        },
        {
         "geo": "geo",
         "hovertemplate": "Local Government Areas=Warawa<br>Latitude=%{lat}<br>Longitude=%{lon}<extra></extra>",
         "lat": [
          11.8748
         ],
         "legendgroup": "Warawa",
         "lon": [
          8.73853
         ],
         "marker": {
          "color": "#FFA15A",
          "symbol": "circle"
         },
         "mode": "markers",
         "name": "Warawa",
         "showlegend": true,
         "type": "scattergeo"
        },
        {
         "geo": "geo",
         "hovertemplate": "Local Government Areas=Wudil<br>Latitude=%{lat}<br>Longitude=%{lon}<extra></extra>",
         "lat": [
          11.8089
         ],
         "legendgroup": "Wudil",
         "lon": [
          8.84463
         ],
         "marker": {
          "color": "#19d3f3",
          "symbol": "circle"
         },
         "mode": "markers",
         "name": "Wudil",
         "showlegend": true,
         "type": "scattergeo"
        },
        {
         "geo": "geo",
         "hovertemplate": "Local Government Areas=Bakori<br>Latitude=%{lat}<br>Longitude=%{lon}<extra></extra>",
         "lat": [
          11.55445
         ],
         "legendgroup": "Bakori",
         "lon": [
          7.424251
         ],
         "marker": {
          "color": "#FF6692",
          "symbol": "circle"
         },
         "mode": "markers",
         "name": "Bakori",
         "showlegend": true,
         "type": "scattergeo"
        },
        {
         "geo": "geo",
         "hovertemplate": "Local Government Areas=Batagarawa<br>Latitude=%{lat}<br>Longitude=%{lon}<extra></extra>",
         "lat": [
          12.9032052
         ],
         "legendgroup": "Batagarawa",
         "lon": [
          7.6192109
         ],
         "marker": {
          "color": "#B6E880",
          "symbol": "circle"
         },
         "mode": "markers",
         "name": "Batagarawa",
         "showlegend": true,
         "type": "scattergeo"
        },
        {
         "geo": "geo",
         "hovertemplate": "Local Government Areas=Batsari<br>Latitude=%{lat}<br>Longitude=%{lon}<extra></extra>",
         "lat": [
          12.7514663
         ],
         "legendgroup": "Batsari",
         "lon": [
          7.2447188
         ],
         "marker": {
          "color": "#FF97FF",
          "symbol": "circle"
         },
         "mode": "markers",
         "name": "Batsari",
         "showlegend": true,
         "type": "scattergeo"
        },
        {
         "geo": "geo",
         "hovertemplate": "Local Government Areas=Baure<br>Latitude=%{lat}<br>Longitude=%{lon}<extra></extra>",
         "lat": [
          12.8361455
         ],
         "legendgroup": "Baure",
         "lon": [
          8.7463829
         ],
         "marker": {
          "color": "#FECB52",
          "symbol": "circle"
         },
         "mode": "markers",
         "name": "Baure",
         "showlegend": true,
         "type": "scattergeo"
        },
        {
         "geo": "geo",
         "hovertemplate": "Local Government Areas=Bindawa<br>Latitude=%{lat}<br>Longitude=%{lon}<extra></extra>",
         "lat": [
          12.6677035
         ],
         "legendgroup": "Bindawa",
         "lon": [
          7.8094151
         ],
         "marker": {
          "color": "#636efa",
          "symbol": "circle"
         },
         "mode": "markers",
         "name": "Bindawa",
         "showlegend": true,
         "type": "scattergeo"
        },
        {
         "geo": "geo",
         "hovertemplate": "Local Government Areas=Charanchi<br>Latitude=%{lat}<br>Longitude=%{lon}<extra></extra>",
         "lat": [
          12.670863
         ],
         "legendgroup": "Charanchi",
         "lon": [
          7.7319399
         ],
         "marker": {
          "color": "#EF553B",
          "symbol": "circle"
         },
         "mode": "markers",
         "name": "Charanchi",
         "showlegend": true,
         "type": "scattergeo"
        },
        {
         "geo": "geo",
         "hovertemplate": "Local Government Areas=Dandume<br>Latitude=%{lat}<br>Longitude=%{lon}<extra></extra>",
         "lat": [
          11.4169922
         ],
         "legendgroup": "Dandume",
         "lon": [
          7.222459472401029
         ],
         "marker": {
          "color": "#00cc96",
          "symbol": "circle"
         },
         "mode": "markers",
         "name": "Dandume",
         "showlegend": true,
         "type": "scattergeo"
        },
        {
         "geo": "geo",
         "hovertemplate": "Local Government Areas=Danja<br>Latitude=%{lat}<br>Longitude=%{lon}<extra></extra>",
         "lat": [
          11.376431
         ],
         "legendgroup": "Danja",
         "lon": [
          7.562489
         ],
         "marker": {
          "color": "#ab63fa",
          "symbol": "circle"
         },
         "mode": "markers",
         "name": "Danja",
         "showlegend": true,
         "type": "scattergeo"
        },
        {
         "geo": "geo",
         "hovertemplate": "Local Government Areas=Dan Musa<br>Latitude=%{lat}<br>Longitude=%{lon}<extra></extra>",
         "lat": [
          12.2615684
         ],
         "legendgroup": "Dan Musa",
         "lon": [
          7.3340908
         ],
         "marker": {
          "color": "#FFA15A",
          "symbol": "circle"
         },
         "mode": "markers",
         "name": "Dan Musa",
         "showlegend": true,
         "type": "scattergeo"
        },
        {
         "geo": "geo",
         "hovertemplate": "Local Government Areas=Daura<br>Latitude=%{lat}<br>Longitude=%{lon}<extra></extra>",
         "lat": [
          11.76484385
         ],
         "legendgroup": "Daura",
         "lon": [
          7.951789531644682
         ],
         "marker": {
          "color": "#19d3f3",
          "symbol": "circle"
         },
         "mode": "markers",
         "name": "Daura",
         "showlegend": true,
         "type": "scattergeo"
        },
        {
         "geo": "geo",
         "hovertemplate": "Local Government Areas=Dutsi<br>Latitude=%{lat}<br>Longitude=%{lon}<extra></extra>",
         "lat": [
          12.8254446
         ],
         "legendgroup": "Dutsi",
         "lon": [
          8.1429274
         ],
         "marker": {
          "color": "#FF6692",
          "symbol": "circle"
         },
         "mode": "markers",
         "name": "Dutsi",
         "showlegend": true,
         "type": "scattergeo"
        },
        {
         "geo": "geo",
         "hovertemplate": "Local Government Areas=Dutsin Ma<br>Latitude=%{lat}<br>Longitude=%{lon}<extra></extra>",
         "lat": [
          12.4546453
         ],
         "legendgroup": "Dutsin Ma",
         "lon": [
          7.4957959
         ],
         "marker": {
          "color": "#B6E880",
          "symbol": "circle"
         },
         "mode": "markers",
         "name": "Dutsin Ma",
         "showlegend": true,
         "type": "scattergeo"
        },
        {
         "geo": "geo",
         "hovertemplate": "Local Government Areas=Faskari<br>Latitude=%{lat}<br>Longitude=%{lon}<extra></extra>",
         "lat": [
          11.719573
         ],
         "legendgroup": "Faskari",
         "lon": [
          7.027157
         ],
         "marker": {
          "color": "#FF97FF",
          "symbol": "circle"
         },
         "mode": "markers",
         "name": "Faskari",
         "showlegend": true,
         "type": "scattergeo"
        },
        {
         "geo": "geo",
         "hovertemplate": "Local Government Areas=Funtua<br>Latitude=%{lat}<br>Longitude=%{lon}<extra></extra>",
         "lat": [
          11.5232142
         ],
         "legendgroup": "Funtua",
         "lon": [
          7.307497
         ],
         "marker": {
          "color": "#FECB52",
          "symbol": "circle"
         },
         "mode": "markers",
         "name": "Funtua",
         "showlegend": true,
         "type": "scattergeo"
        },
        {
         "geo": "geo",
         "hovertemplate": "Local Government Areas=Ingawa<br>Latitude=%{lat}<br>Longitude=%{lon}<extra></extra>",
         "lat": [
          12.6396823
         ],
         "legendgroup": "Ingawa",
         "lon": [
          8.0502756
         ],
         "marker": {
          "color": "#636efa",
          "symbol": "circle"
         },
         "mode": "markers",
         "name": "Ingawa",
         "showlegend": true,
         "type": "scattergeo"
        },
        {
         "geo": "geo",
         "hovertemplate": "Local Government Areas=Jibia<br>Latitude=%{lat}<br>Longitude=%{lon}<extra></extra>",
         "lat": [
          12.982695150000001
         ],
         "legendgroup": "Jibia",
         "lon": [
          7.467752013130163
         ],
         "marker": {
          "color": "#EF553B",
          "symbol": "circle"
         },
         "mode": "markers",
         "name": "Jibia",
         "showlegend": true,
         "type": "scattergeo"
        },
        {
         "geo": "geo",
         "hovertemplate": "Local Government Areas=Kafur<br>Latitude=%{lat}<br>Longitude=%{lon}<extra></extra>",
         "lat": [
          11.644006
         ],
         "legendgroup": "Kafur",
         "lon": [
          7.694006
         ],
         "marker": {
          "color": "#00cc96",
          "symbol": "circle"
         },
         "mode": "markers",
         "name": "Kafur",
         "showlegend": true,
         "type": "scattergeo"
        },
        {
         "geo": "geo",
         "hovertemplate": "Local Government Areas=Kaita<br>Latitude=%{lat}<br>Longitude=%{lon}<extra></extra>",
         "lat": [
          13.0843917
         ],
         "legendgroup": "Kaita",
         "lon": [
          7.7409715
         ],
         "marker": {
          "color": "#ab63fa",
          "symbol": "circle"
         },
         "mode": "markers",
         "name": "Kaita",
         "showlegend": true,
         "type": "scattergeo"
        },
        {
         "geo": "geo",
         "hovertemplate": "Local Government Areas=Kankara<br>Latitude=%{lat}<br>Longitude=%{lon}<extra></extra>",
         "lat": [
          11.930155
         ],
         "legendgroup": "Kankara",
         "lon": [
          7.412671
         ],
         "marker": {
          "color": "#FFA15A",
          "symbol": "circle"
         },
         "mode": "markers",
         "name": "Kankara",
         "showlegend": true,
         "type": "scattergeo"
        },
        {
         "geo": "geo",
         "hovertemplate": "Local Government Areas=Kankia<br>Latitude=%{lat}<br>Longitude=%{lon}<extra></extra>",
         "lat": [
          12.4289363
         ],
         "legendgroup": "Kankia",
         "lon": [
          7.7953998889183325
         ],
         "marker": {
          "color": "#19d3f3",
          "symbol": "circle"
         },
         "mode": "markers",
         "name": "Kankia",
         "showlegend": true,
         "type": "scattergeo"
        },
        {
         "geo": "geo",
         "hovertemplate": "Local Government Areas=Katsina<br>Latitude=%{lat}<br>Longitude=%{lon}<extra></extra>",
         "lat": [
          12.5630825
         ],
         "legendgroup": "Katsina",
         "lon": [
          7.6207063
         ],
         "marker": {
          "color": "#FF6692",
          "symbol": "circle"
         },
         "mode": "markers",
         "name": "Katsina",
         "showlegend": true,
         "type": "scattergeo"
        },
        {
         "geo": "geo",
         "hovertemplate": "Local Government Areas=Kurfi<br>Latitude=%{lat}<br>Longitude=%{lon}<extra></extra>",
         "lat": [
          12.6674733
         ],
         "legendgroup": "Kurfi",
         "lon": [
          7.4846202
         ],
         "marker": {
          "color": "#B6E880",
          "symbol": "circle"
         },
         "mode": "markers",
         "name": "Kurfi",
         "showlegend": true,
         "type": "scattergeo"
        },
        {
         "geo": "geo",
         "hovertemplate": "Local Government Areas=Kusada<br>Latitude=%{lat}<br>Longitude=%{lon}<extra></extra>",
         "lat": [
          12.4647525
         ],
         "legendgroup": "Kusada",
         "lon": [
          7.9777658
         ],
         "marker": {
          "color": "#FF97FF",
          "symbol": "circle"
         },
         "mode": "markers",
         "name": "Kusada",
         "showlegend": true,
         "type": "scattergeo"
        },
        {
         "geo": "geo",
         "hovertemplate": "Local Government Areas=Mai'Adua<br>Latitude=%{lat}<br>Longitude=%{lon}<extra></extra>",
         "lat": [
          12.2748
         ],
         "legendgroup": "Mai'Adua",
         "lon": [
          8.5723
         ],
         "marker": {
          "color": "#FECB52",
          "symbol": "circle"
         },
         "mode": "markers",
         "name": "Mai'Adua",
         "showlegend": true,
         "type": "scattergeo"
        },
        {
         "geo": "geo",
         "hovertemplate": "Local Government Areas=Malumfashi<br>Latitude=%{lat}<br>Longitude=%{lon}<extra></extra>",
         "lat": [
          11.785288
         ],
         "legendgroup": "Malumfashi",
         "lon": [
          7.621753
         ],
         "marker": {
          "color": "#636efa",
          "symbol": "circle"
         },
         "mode": "markers",
         "name": "Malumfashi",
         "showlegend": true,
         "type": "scattergeo"
        },
        {
         "geo": "geo",
         "hovertemplate": "Local Government Areas=Mani<br>Latitude=%{lat}<br>Longitude=%{lon}<extra></extra>",
         "lat": [
          12.8531843
         ],
         "legendgroup": "Mani",
         "lon": [
          7.8773704
         ],
         "marker": {
          "color": "#EF553B",
          "symbol": "circle"
         },
         "mode": "markers",
         "name": "Mani",
         "showlegend": true,
         "type": "scattergeo"
        },
        {
         "geo": "geo",
         "hovertemplate": "Local Government Areas=Mashi<br>Latitude=%{lat}<br>Longitude=%{lon}<extra></extra>",
         "lat": [
          12.9784386
         ],
         "legendgroup": "Mashi",
         "lon": [
          7.9529262
         ],
         "marker": {
          "color": "#00cc96",
          "symbol": "circle"
         },
         "mode": "markers",
         "name": "Mashi",
         "showlegend": true,
         "type": "scattergeo"
        },
        {
         "geo": "geo",
         "hovertemplate": "Local Government Areas=Matazu<br>Latitude=%{lat}<br>Longitude=%{lon}<extra></extra>",
         "lat": [
          12.233938
         ],
         "legendgroup": "Matazu",
         "lon": [
          7.674185
         ],
         "marker": {
          "color": "#ab63fa",
          "symbol": "circle"
         },
         "mode": "markers",
         "name": "Matazu",
         "showlegend": true,
         "type": "scattergeo"
        },
        {
         "geo": "geo",
         "hovertemplate": "Local Government Areas=Musawa<br>Latitude=%{lat}<br>Longitude=%{lon}<extra></extra>",
         "lat": [
          12.1271737
         ],
         "legendgroup": "Musawa",
         "lon": [
          7.6697972
         ],
         "marker": {
          "color": "#FFA15A",
          "symbol": "circle"
         },
         "mode": "markers",
         "name": "Musawa",
         "showlegend": true,
         "type": "scattergeo"
        },
        {
         "geo": "geo",
         "hovertemplate": "Local Government Areas=Rimi<br>Latitude=%{lat}<br>Longitude=%{lon}<extra></extra>",
         "lat": [
          12.84884
         ],
         "legendgroup": "Rimi",
         "lon": [
          7.7148498
         ],
         "marker": {
          "color": "#19d3f3",
          "symbol": "circle"
         },
         "mode": "markers",
         "name": "Rimi",
         "showlegend": true,
         "type": "scattergeo"
        },
        {
         "geo": "geo",
         "hovertemplate": "Local Government Areas=Sabuwa<br>Latitude=%{lat}<br>Longitude=%{lon}<extra></extra>",
         "lat": [
          11.340138249999999
         ],
         "legendgroup": "Sabuwa",
         "lon": [
          7.075489674248669
         ],
         "marker": {
          "color": "#FF6692",
          "symbol": "circle"
         },
         "mode": "markers",
         "name": "Sabuwa",
         "showlegend": true,
         "type": "scattergeo"
        },
        {
         "geo": "geo",
         "hovertemplate": "Local Government Areas=Safana<br>Latitude=%{lat}<br>Longitude=%{lon}<extra></extra>",
         "lat": [
          12.4079797
         ],
         "legendgroup": "Safana",
         "lon": [
          7.4169903
         ],
         "marker": {
          "color": "#B6E880",
          "symbol": "circle"
         },
         "mode": "markers",
         "name": "Safana",
         "showlegend": true,
         "type": "scattergeo"
        },
        {
         "geo": "geo",
         "hovertemplate": "Local Government Areas=Sandamu<br>Latitude=%{lat}<br>Longitude=%{lon}<extra></extra>",
         "lat": [
          12.9604385
         ],
         "legendgroup": "Sandamu",
         "lon": [
          8.362121
         ],
         "marker": {
          "color": "#FF97FF",
          "symbol": "circle"
         },
         "mode": "markers",
         "name": "Sandamu",
         "showlegend": true,
         "type": "scattergeo"
        },
        {
         "geo": "geo",
         "hovertemplate": "Local Government Areas=Zango<br>Latitude=%{lat}<br>Longitude=%{lon}<extra></extra>",
         "lat": [
          13.0541456
         ],
         "legendgroup": "Zango",
         "lon": [
          8.4864149
         ],
         "marker": {
          "color": "#FECB52",
          "symbol": "circle"
         },
         "mode": "markers",
         "name": "Zango",
         "showlegend": true,
         "type": "scattergeo"
        },
        {
         "geo": "geo",
         "hovertemplate": "Local Government Areas=Aleiro<br>Latitude=%{lat}<br>Longitude=%{lon}<extra></extra>",
         "lat": [
          12.320311749999998
         ],
         "legendgroup": "Aleiro",
         "lon": [
          4.453195243411876
         ],
         "marker": {
          "color": "#636efa",
          "symbol": "circle"
         },
         "mode": "markers",
         "name": "Aleiro",
         "showlegend": true,
         "type": "scattergeo"
        },
        {
         "geo": "geo",
         "hovertemplate": "Local Government Areas=Arewa<br>Latitude=%{lat}<br>Longitude=%{lon}<extra></extra>",
         "lat": [
          7.533333
         ],
         "legendgroup": "Arewa",
         "lon": [
          3.804722
         ],
         "marker": {
          "color": "#EF553B",
          "symbol": "circle"
         },
         "mode": "markers",
         "name": "Arewa",
         "showlegend": true,
         "type": "scattergeo"
        },
        {
         "geo": "geo",
         "hovertemplate": "Local Government Areas=Argungu<br>Latitude=%{lat}<br>Longitude=%{lon}<extra></extra>",
         "lat": [
          12.7477288
         ],
         "legendgroup": "Argungu",
         "lon": [
          4.5266465
         ],
         "marker": {
          "color": "#00cc96",
          "symbol": "circle"
         },
         "mode": "markers",
         "name": "Argungu",
         "showlegend": true,
         "type": "scattergeo"
        },
        {
         "geo": "geo",
         "hovertemplate": "Local Government Areas=Augie<br>Latitude=%{lat}<br>Longitude=%{lon}<extra></extra>",
         "lat": [
          12.901092949999999
         ],
         "legendgroup": "Augie",
         "lon": [
          4.629064947240981
         ],
         "marker": {
          "color": "#ab63fa",
          "symbol": "circle"
         },
         "mode": "markers",
         "name": "Augie",
         "showlegend": true,
         "type": "scattergeo"
        },
        {
         "geo": "geo",
         "hovertemplate": "Local Government Areas=Bagudo<br>Latitude=%{lat}<br>Longitude=%{lon}<extra></extra>",
         "lat": [
          11.4040393
         ],
         "legendgroup": "Bagudo",
         "lon": [
          4.2277586
         ],
         "marker": {
          "color": "#FFA15A",
          "symbol": "circle"
         },
         "mode": "markers",
         "name": "Bagudo",
         "showlegend": true,
         "type": "scattergeo"
        },
        {
         "geo": "geo",
         "hovertemplate": "Local Government Areas=Birnin Kebbi<br>Latitude=%{lat}<br>Longitude=%{lon}<extra></extra>",
         "lat": [
          12.4573462
         ],
         "legendgroup": "Birnin Kebbi",
         "lon": [
          4.2006114
         ],
         "marker": {
          "color": "#19d3f3",
          "symbol": "circle"
         },
         "mode": "markers",
         "name": "Birnin Kebbi",
         "showlegend": true,
         "type": "scattergeo"
        },
        {
         "geo": "geo",
         "hovertemplate": "Local Government Areas=Bunza<br>Latitude=%{lat}<br>Longitude=%{lon}<extra></extra>",
         "lat": [
          12.0874215
         ],
         "legendgroup": "Bunza",
         "lon": [
          4.0181345
         ],
         "marker": {
          "color": "#FF6692",
          "symbol": "circle"
         },
         "mode": "markers",
         "name": "Bunza",
         "showlegend": true,
         "type": "scattergeo"
        },
        {
         "geo": "geo",
         "hovertemplate": "Local Government Areas=Dandi<br>Latitude=%{lat}<br>Longitude=%{lon}<extra></extra>",
         "lat": [
          7.85
         ],
         "legendgroup": "Dandi",
         "lon": [
          11.016667
         ],
         "marker": {
          "color": "#B6E880",
          "symbol": "circle"
         },
         "mode": "markers",
         "name": "Dandi",
         "showlegend": true,
         "type": "scattergeo"
        },
        {
         "geo": "geo",
         "hovertemplate": "Local Government Areas=Fakai<br>Latitude=%{lat}<br>Longitude=%{lon}<extra></extra>",
         "lat": [
          11.5085455
         ],
         "legendgroup": "Fakai",
         "lon": [
          5.1125132
         ],
         "marker": {
          "color": "#FF97FF",
          "symbol": "circle"
         },
         "mode": "markers",
         "name": "Fakai",
         "showlegend": true,
         "type": "scattergeo"
        },
        {
         "geo": "geo",
         "hovertemplate": "Local Government Areas=Gwandu<br>Latitude=%{lat}<br>Longitude=%{lon}<extra></extra>",
         "lat": [
          12.4893811
         ],
         "legendgroup": "Gwandu",
         "lon": [
          4.627794873242951
         ],
         "marker": {
          "color": "#FECB52",
          "symbol": "circle"
         },
         "mode": "markers",
         "name": "Gwandu",
         "showlegend": true,
         "type": "scattergeo"
        },
        {
         "geo": "geo",
         "hovertemplate": "Local Government Areas=Jega<br>Latitude=%{lat}<br>Longitude=%{lon}<extra></extra>",
         "lat": [
          12.2250004
         ],
         "legendgroup": "Jega",
         "lon": [
          4.3775587
         ],
         "marker": {
          "color": "#636efa",
          "symbol": "circle"
         },
         "mode": "markers",
         "name": "Jega",
         "showlegend": true,
         "type": "scattergeo"
        },
        {
         "geo": "geo",
         "hovertemplate": "Local Government Areas=Kalgo<br>Latitude=%{lat}<br>Longitude=%{lon}<extra></extra>",
         "lat": [
          12.3316145
         ],
         "legendgroup": "Kalgo",
         "lon": [
          4.2016729
         ],
         "marker": {
          "color": "#EF553B",
          "symbol": "circle"
         },
         "mode": "markers",
         "name": "Kalgo",
         "showlegend": true,
         "type": "scattergeo"
        },
        {
         "geo": "geo",
         "hovertemplate": "Local Government Areas=Koko/Besse<br>Latitude=%{lat}<br>Longitude=%{lon}<extra></extra>",
         "lat": [
          11.4355339
         ],
         "legendgroup": "Koko/Besse",
         "lon": [
          4.479387123141443
         ],
         "marker": {
          "color": "#00cc96",
          "symbol": "circle"
         },
         "mode": "markers",
         "name": "Koko/Besse",
         "showlegend": true,
         "type": "scattergeo"
        },
        {
         "geo": "geo",
         "hovertemplate": "Local Government Areas=Maiyama<br>Latitude=%{lat}<br>Longitude=%{lon}<extra></extra>",
         "lat": [
          12.0825973
         ],
         "legendgroup": "Maiyama",
         "lon": [
          4.3677034
         ],
         "marker": {
          "color": "#ab63fa",
          "symbol": "circle"
         },
         "mode": "markers",
         "name": "Maiyama",
         "showlegend": true,
         "type": "scattergeo"
        },
        {
         "geo": "geo",
         "hovertemplate": "Local Government Areas=Ngaski<br>Latitude=%{lat}<br>Longitude=%{lon}<extra></extra>",
         "lat": [
          10.407089
         ],
         "legendgroup": "Ngaski",
         "lon": [
          4.717807
         ],
         "marker": {
          "color": "#FFA15A",
          "symbol": "circle"
         },
         "mode": "markers",
         "name": "Ngaski",
         "showlegend": true,
         "type": "scattergeo"
        },
        {
         "geo": "geo",
         "hovertemplate": "Local Government Areas=Sakaba<br>Latitude=%{lat}<br>Longitude=%{lon}<extra></extra>",
         "lat": [
          11.0657355
         ],
         "legendgroup": "Sakaba",
         "lon": [
          5.5957362
         ],
         "marker": {
          "color": "#19d3f3",
          "symbol": "circle"
         },
         "mode": "markers",
         "name": "Sakaba",
         "showlegend": true,
         "type": "scattergeo"
        },
        {
         "geo": "geo",
         "hovertemplate": "Local Government Areas=Shanga<br>Latitude=%{lat}<br>Longitude=%{lon}<extra></extra>",
         "lat": [
          11.2106185
         ],
         "legendgroup": "Shanga",
         "lon": [
          4.578776
         ],
         "marker": {
          "color": "#FF6692",
          "symbol": "circle"
         },
         "mode": "markers",
         "name": "Shanga",
         "showlegend": true,
         "type": "scattergeo"
        },
        {
         "geo": "geo",
         "hovertemplate": "Local Government Areas=Suru<br>Latitude=%{lat}<br>Longitude=%{lon}<extra></extra>",
         "lat": [
          11.923972
         ],
         "legendgroup": "Suru",
         "lon": [
          4.182165
         ],
         "marker": {
          "color": "#B6E880",
          "symbol": "circle"
         },
         "mode": "markers",
         "name": "Suru",
         "showlegend": true,
         "type": "scattergeo"
        },
        {
         "geo": "geo",
         "hovertemplate": "Local Government Areas=Danko-Wasagu<br>Latitude=%{lat}<br>Longitude=%{lon}<extra></extra>",
         "lat": [
          11.69113305
         ],
         "legendgroup": "Danko-Wasagu",
         "lon": [
          5.074973196441041
         ],
         "marker": {
          "color": "#FF97FF",
          "symbol": "circle"
         },
         "mode": "markers",
         "name": "Danko-Wasagu",
         "showlegend": true,
         "type": "scattergeo"
        },
        {
         "geo": "geo",
         "hovertemplate": "Local Government Areas=Yauri<br>Latitude=%{lat}<br>Longitude=%{lon}<extra></extra>",
         "lat": [
          11.7648
         ],
         "legendgroup": "Yauri",
         "lon": [
          13.2155
         ],
         "marker": {
          "color": "#FECB52",
          "symbol": "circle"
         },
         "mode": "markers",
         "name": "Yauri",
         "showlegend": true,
         "type": "scattergeo"
        },
        {
         "geo": "geo",
         "hovertemplate": "Local Government Areas=Zuru<br>Latitude=%{lat}<br>Longitude=%{lon}<extra></extra>",
         "lat": [
          11.4334349
         ],
         "legendgroup": "Zuru",
         "lon": [
          5.2389338
         ],
         "marker": {
          "color": "#636efa",
          "symbol": "circle"
         },
         "mode": "markers",
         "name": "Zuru",
         "showlegend": true,
         "type": "scattergeo"
        },
        {
         "geo": "geo",
         "hovertemplate": "Local Government Areas=Adavi<br>Latitude=%{lat}<br>Longitude=%{lon}<extra></extra>",
         "lat": [
          7.68441465
         ],
         "legendgroup": "Adavi",
         "lon": [
          6.4667074788060965
         ],
         "marker": {
          "color": "#EF553B",
          "symbol": "circle"
         },
         "mode": "markers",
         "name": "Adavi",
         "showlegend": true,
         "type": "scattergeo"
        },
        {
         "geo": "geo",
         "hovertemplate": "Local Government Areas=Ajaokuta<br>Latitude=%{lat}<br>Longitude=%{lon}<extra></extra>",
         "lat": [
          7.4631568
         ],
         "legendgroup": "Ajaokuta",
         "lon": [
          6.6936392
         ],
         "marker": {
          "color": "#00cc96",
          "symbol": "circle"
         },
         "mode": "markers",
         "name": "Ajaokuta",
         "showlegend": true,
         "type": "scattergeo"
        },
        {
         "geo": "geo",
         "hovertemplate": "Local Government Areas=Ankpa<br>Latitude=%{lat}<br>Longitude=%{lon}<extra></extra>",
         "lat": [
          7.4063578
         ],
         "legendgroup": "Ankpa",
         "lon": [
          7.6280211
         ],
         "marker": {
          "color": "#ab63fa",
          "symbol": "circle"
         },
         "mode": "markers",
         "name": "Ankpa",
         "showlegend": true,
         "type": "scattergeo"
        },
        {
         "geo": "geo",
         "hovertemplate": "Local Government Areas=Bassa<br>Latitude=%{lat}<br>Longitude=%{lon}<extra></extra>",
         "lat": [
          10.0986811,
          10.0986811
         ],
         "legendgroup": "Bassa",
         "lon": [
          6.6197709,
          6.6197709
         ],
         "marker": {
          "color": "#FFA15A",
          "symbol": "circle"
         },
         "mode": "markers",
         "name": "Bassa",
         "showlegend": true,
         "type": "scattergeo"
        },
        {
         "geo": "geo",
         "hovertemplate": "Local Government Areas=Dekina<br>Latitude=%{lat}<br>Longitude=%{lon}<extra></extra>",
         "lat": [
          7.6887069
         ],
         "legendgroup": "Dekina",
         "lon": [
          7.0333153
         ],
         "marker": {
          "color": "#19d3f3",
          "symbol": "circle"
         },
         "mode": "markers",
         "name": "Dekina",
         "showlegend": true,
         "type": "scattergeo"
        },
        {
         "geo": "geo",
         "hovertemplate": "Local Government Areas=Ibaji<br>Latitude=%{lat}<br>Longitude=%{lon}<extra></extra>",
         "lat": [
          7.3545
         ],
         "legendgroup": "Ibaji",
         "lon": [
          8.0197
         ],
         "marker": {
          "color": "#FF6692",
          "symbol": "circle"
         },
         "mode": "markers",
         "name": "Ibaji",
         "showlegend": true,
         "type": "scattergeo"
        },
        {
         "geo": "geo",
         "hovertemplate": "Local Government Areas=Idah<br>Latitude=%{lat}<br>Longitude=%{lon}<extra></extra>",
         "lat": [
          7.1099854
         ],
         "legendgroup": "Idah",
         "lon": [
          6.7340488
         ],
         "marker": {
          "color": "#B6E880",
          "symbol": "circle"
         },
         "mode": "markers",
         "name": "Idah",
         "showlegend": true,
         "type": "scattergeo"
        },
        {
         "geo": "geo",
         "hovertemplate": "Local Government Areas=Igalamela Odolu<br>Latitude=%{lat}<br>Longitude=%{lon}<extra></extra>",
         "lat": [
          7.03541445
         ],
         "legendgroup": "Igalamela Odolu",
         "lon": [
          7.059106213066727
         ],
         "marker": {
          "color": "#FF97FF",
          "symbol": "circle"
         },
         "mode": "markers",
         "name": "Igalamela Odolu",
         "showlegend": true,
         "type": "scattergeo"
        },
        {
         "geo": "geo",
         "hovertemplate": "Local Government Areas=Ijumu<br>Latitude=%{lat}<br>Longitude=%{lon}<extra></extra>",
         "lat": [
          7.842371
         ],
         "legendgroup": "Ijumu",
         "lon": [
          5.895747404666862
         ],
         "marker": {
          "color": "#FECB52",
          "symbol": "circle"
         },
         "mode": "markers",
         "name": "Ijumu",
         "showlegend": true,
         "type": "scattergeo"
        },
        {
         "geo": "geo",
         "hovertemplate": "Local Government Areas=Kabba/Bunu<br>Latitude=%{lat}<br>Longitude=%{lon}<extra></extra>",
         "lat": [
          8.07009815
         ],
         "legendgroup": "Kabba/Bunu",
         "lon": [
          6.141418638966092
         ],
         "marker": {
          "color": "#636efa",
          "symbol": "circle"
         },
         "mode": "markers",
         "name": "Kabba/Bunu",
         "showlegend": true,
         "type": "scattergeo"
        },
        {
         "geo": "geo",
         "hovertemplate": "Local Government Areas=Kogi<br>Latitude=%{lat}<br>Longitude=%{lon}<extra></extra>",
         "lat": [
          7.7949602
         ],
         "legendgroup": "Kogi",
         "lon": [
          6.6868669
         ],
         "marker": {
          "color": "#EF553B",
          "symbol": "circle"
         },
         "mode": "markers",
         "name": "Kogi",
         "showlegend": true,
         "type": "scattergeo"
        },
        {
         "geo": "geo",
         "hovertemplate": "Local Government Areas=Lokoja<br>Latitude=%{lat}<br>Longitude=%{lon}<extra></extra>",
         "lat": [
          7.802355
         ],
         "legendgroup": "Lokoja",
         "lon": [
          6.7430327
         ],
         "marker": {
          "color": "#00cc96",
          "symbol": "circle"
         },
         "mode": "markers",
         "name": "Lokoja",
         "showlegend": true,
         "type": "scattergeo"
        },
        {
         "geo": "geo",
         "hovertemplate": "Local Government Areas=Mopa Muro<br>Latitude=%{lat}<br>Longitude=%{lon}<extra></extra>",
         "lat": [
          8.140445750000001
         ],
         "legendgroup": "Mopa Muro",
         "lon": [
          5.8889260200909685
         ],
         "marker": {
          "color": "#ab63fa",
          "symbol": "circle"
         },
         "mode": "markers",
         "name": "Mopa Muro",
         "showlegend": true,
         "type": "scattergeo"
        },
        {
         "geo": "geo",
         "hovertemplate": "Local Government Areas=Ofu<br>Latitude=%{lat}<br>Longitude=%{lon}<extra></extra>",
         "lat": [
          7.3294933
         ],
         "legendgroup": "Ofu",
         "lon": [
          7.068971049937361
         ],
         "marker": {
          "color": "#FFA15A",
          "symbol": "circle"
         },
         "mode": "markers",
         "name": "Ofu",
         "showlegend": true,
         "type": "scattergeo"
        },
        {
         "geo": "geo",
         "hovertemplate": "Local Government Areas=Ogori/Magongo<br>Latitude=%{lat}<br>Longitude=%{lon}<extra></extra>",
         "lat": [
          7.4786734500000005
         ],
         "legendgroup": "Ogori/Magongo",
         "lon": [
          6.1558738694303905
         ],
         "marker": {
          "color": "#19d3f3",
          "symbol": "circle"
         },
         "mode": "markers",
         "name": "Ogori/Magongo",
         "showlegend": true,
         "type": "scattergeo"
        },
        {
         "geo": "geo",
         "hovertemplate": "Local Government Areas=Okehi<br>Latitude=%{lat}<br>Longitude=%{lon}<extra></extra>",
         "lat": [
          5.1367524
         ],
         "legendgroup": "Okehi",
         "lon": [
          7.1384399
         ],
         "marker": {
          "color": "#FF6692",
          "symbol": "circle"
         },
         "mode": "markers",
         "name": "Okehi",
         "showlegend": true,
         "type": "scattergeo"
        },
        {
         "geo": "geo",
         "hovertemplate": "Local Government Areas=Okene<br>Latitude=%{lat}<br>Longitude=%{lon}<extra></extra>",
         "lat": [
          7.461039550000001
         ],
         "legendgroup": "Okene",
         "lon": [
          6.398817009039226
         ],
         "marker": {
          "color": "#B6E880",
          "symbol": "circle"
         },
         "mode": "markers",
         "name": "Okene",
         "showlegend": true,
         "type": "scattergeo"
        },
        {
         "geo": "geo",
         "hovertemplate": "Local Government Areas=Olamaboro<br>Latitude=%{lat}<br>Longitude=%{lon}<extra></extra>",
         "lat": [
          7.16977665
         ],
         "legendgroup": "Olamaboro",
         "lon": [
          7.5133535057786025
         ],
         "marker": {
          "color": "#FF97FF",
          "symbol": "circle"
         },
         "mode": "markers",
         "name": "Olamaboro",
         "showlegend": true,
         "type": "scattergeo"
        },
        {
         "geo": "geo",
         "hovertemplate": "Local Government Areas=Omala<br>Latitude=%{lat}<br>Longitude=%{lon}<extra></extra>",
         "lat": [
          7.777827950000001
         ],
         "legendgroup": "Omala",
         "lon": [
          7.565886300000329
         ],
         "marker": {
          "color": "#FECB52",
          "symbol": "circle"
         },
         "mode": "markers",
         "name": "Omala",
         "showlegend": true,
         "type": "scattergeo"
        },
        {
         "geo": "geo",
         "hovertemplate": "Local Government Areas=Yagba East<br>Latitude=%{lat}<br>Longitude=%{lon}<extra></extra>",
         "lat": [
          8.13475275
         ],
         "legendgroup": "Yagba East",
         "lon": [
          5.7048150709835195
         ],
         "marker": {
          "color": "#636efa",
          "symbol": "circle"
         },
         "mode": "markers",
         "name": "Yagba East",
         "showlegend": true,
         "type": "scattergeo"
        },
        {
         "geo": "geo",
         "hovertemplate": "Local Government Areas=Yagba West<br>Latitude=%{lat}<br>Longitude=%{lon}<extra></extra>",
         "lat": [
          8.2763953
         ],
         "legendgroup": "Yagba West",
         "lon": [
          5.556420642697231
         ],
         "marker": {
          "color": "#EF553B",
          "symbol": "circle"
         },
         "mode": "markers",
         "name": "Yagba West",
         "showlegend": true,
         "type": "scattergeo"
        },
        {
         "geo": "geo",
         "hovertemplate": "Local Government Areas=Asa<br>Latitude=%{lat}<br>Longitude=%{lon}<extra></extra>",
         "lat": [
          10.0024655
         ],
         "legendgroup": "Asa",
         "lon": [
          5.585567
         ],
         "marker": {
          "color": "#00cc96",
          "symbol": "circle"
         },
         "mode": "markers",
         "name": "Asa",
         "showlegend": true,
         "type": "scattergeo"
        },
        {
         "geo": "geo",
         "hovertemplate": "Local Government Areas=Baruten<br>Latitude=%{lat}<br>Longitude=%{lon}<extra></extra>",
         "lat": [
          9.384549
         ],
         "legendgroup": "Baruten",
         "lon": [
          3.480657539153882
         ],
         "marker": {
          "color": "#ab63fa",
          "symbol": "circle"
         },
         "mode": "markers",
         "name": "Baruten",
         "showlegend": true,
         "type": "scattergeo"
        },
        {
         "geo": "geo",
         "hovertemplate": "Local Government Areas=Edu<br>Latitude=%{lat}<br>Longitude=%{lon}<extra></extra>",
         "lat": [
          5.75
         ],
         "legendgroup": "Edu",
         "lon": [
          7.933333
         ],
         "marker": {
          "color": "#FFA15A",
          "symbol": "circle"
         },
         "mode": "markers",
         "name": "Edu",
         "showlegend": true,
         "type": "scattergeo"
        },
        {
         "geo": "geo",
         "hovertemplate": "Local Government Areas=Ekiti<br>Latitude=%{lat}<br>Longitude=%{lon}<extra></extra>",
         "lat": [
          7.736891
         ],
         "legendgroup": "Ekiti",
         "lon": [
          5.2738326
         ],
         "marker": {
          "color": "#19d3f3",
          "symbol": "circle"
         },
         "mode": "markers",
         "name": "Ekiti",
         "showlegend": true,
         "type": "scattergeo"
        },
        {
         "geo": "geo",
         "hovertemplate": "Local Government Areas=Ifelodun<br>Latitude=%{lat}<br>Longitude=%{lon}<extra></extra>",
         "lat": [
          7.90451645,
          7.90451645
         ],
         "legendgroup": "Ifelodun",
         "lon": [
          4.637033839531609,
          4.637033839531609
         ],
         "marker": {
          "color": "#FF6692",
          "symbol": "circle"
         },
         "mode": "markers",
         "name": "Ifelodun",
         "showlegend": true,
         "type": "scattergeo"
        },
        {
         "geo": "geo",
         "hovertemplate": "Local Government Areas=Ilorin East<br>Latitude=%{lat}<br>Longitude=%{lon}<extra></extra>",
         "lat": [
          8.59327985
         ],
         "legendgroup": "Ilorin East",
         "lon": [
          4.785398052725244
         ],
         "marker": {
          "color": "#B6E880",
          "symbol": "circle"
         },
         "mode": "markers",
         "name": "Ilorin East",
         "showlegend": true,
         "type": "scattergeo"
        },
        {
         "geo": "geo",
         "hovertemplate": "Local Government Areas=Ilorin South<br>Latitude=%{lat}<br>Longitude=%{lon}<extra></extra>",
         "lat": [
          8.4404502
         ],
         "legendgroup": "Ilorin South",
         "lon": [
          4.6894413601867075
         ],
         "marker": {
          "color": "#FF97FF",
          "symbol": "circle"
         },
         "mode": "markers",
         "name": "Ilorin South",
         "showlegend": true,
         "type": "scattergeo"
        },
        {
         "geo": "geo",
         "hovertemplate": "Local Government Areas=Ilorin West<br>Latitude=%{lat}<br>Longitude=%{lon}<extra></extra>",
         "lat": [
          8.4864338
         ],
         "legendgroup": "Ilorin West",
         "lon": [
          4.513892773645063
         ],
         "marker": {
          "color": "#FECB52",
          "symbol": "circle"
         },
         "mode": "markers",
         "name": "Ilorin West",
         "showlegend": true,
         "type": "scattergeo"
        },
        {
         "geo": "geo",
         "hovertemplate": "Local Government Areas=Irepodun<br>Latitude=%{lat}<br>Longitude=%{lon}<extra></extra>",
         "lat": [
          7.5675,
          7.5675
         ],
         "legendgroup": "Irepodun",
         "lon": [
          3.928889,
          3.928889
         ],
         "marker": {
          "color": "#636efa",
          "symbol": "circle"
         },
         "mode": "markers",
         "name": "Irepodun",
         "showlegend": true,
         "type": "scattergeo"
        },
        {
         "geo": "geo",
         "hovertemplate": "Local Government Areas=Isin<br>Latitude=%{lat}<br>Longitude=%{lon}<extra></extra>",
         "lat": [
          8.2579064
         ],
         "legendgroup": "Isin",
         "lon": [
          5.038849070678933
         ],
         "marker": {
          "color": "#EF553B",
          "symbol": "circle"
         },
         "mode": "markers",
         "name": "Isin",
         "showlegend": true,
         "type": "scattergeo"
        },
        {
         "geo": "geo",
         "hovertemplate": "Local Government Areas=Kaiama<br>Latitude=%{lat}<br>Longitude=%{lon}<extra></extra>",
         "lat": [
          9.6099484
         ],
         "legendgroup": "Kaiama",
         "lon": [
          3.9414245
         ],
         "marker": {
          "color": "#00cc96",
          "symbol": "circle"
         },
         "mode": "markers",
         "name": "Kaiama",
         "showlegend": true,
         "type": "scattergeo"
        },
        {
         "geo": "geo",
         "hovertemplate": "Local Government Areas=Moro<br>Latitude=%{lat}<br>Longitude=%{lon}<extra></extra>",
         "lat": [
          8.083333
         ],
         "legendgroup": "Moro",
         "lon": [
          4.366667
         ],
         "marker": {
          "color": "#ab63fa",
          "symbol": "circle"
         },
         "mode": "markers",
         "name": "Moro",
         "showlegend": true,
         "type": "scattergeo"
        },
        {
         "geo": "geo",
         "hovertemplate": "Local Government Areas=Offa<br>Latitude=%{lat}<br>Longitude=%{lon}<extra></extra>",
         "lat": [
          8.1560008
         ],
         "legendgroup": "Offa",
         "lon": [
          4.7227435
         ],
         "marker": {
          "color": "#FFA15A",
          "symbol": "circle"
         },
         "mode": "markers",
         "name": "Offa",
         "showlegend": true,
         "type": "scattergeo"
        },
        {
         "geo": "geo",
         "hovertemplate": "Local Government Areas=Oke Ero<br>Latitude=%{lat}<br>Longitude=%{lon}<extra></extra>",
         "lat": [
          8.1803193
         ],
         "legendgroup": "Oke Ero",
         "lon": [
          5.296435718110166
         ],
         "marker": {
          "color": "#19d3f3",
          "symbol": "circle"
         },
         "mode": "markers",
         "name": "Oke Ero",
         "showlegend": true,
         "type": "scattergeo"
        },
        {
         "geo": "geo",
         "hovertemplate": "Local Government Areas=Oyun<br>Latitude=%{lat}<br>Longitude=%{lon}<extra></extra>",
         "lat": [
          8.19984915
         ],
         "legendgroup": "Oyun",
         "lon": [
          4.631635446280292
         ],
         "marker": {
          "color": "#FF6692",
          "symbol": "circle"
         },
         "mode": "markers",
         "name": "Oyun",
         "showlegend": true,
         "type": "scattergeo"
        },
        {
         "geo": "geo",
         "hovertemplate": "Local Government Areas=Pategi<br>Latitude=%{lat}<br>Longitude=%{lon}<extra></extra>",
         "lat": [
          8.7281693
         ],
         "legendgroup": "Pategi",
         "lon": [
          5.7576249
         ],
         "marker": {
          "color": "#B6E880",
          "symbol": "circle"
         },
         "mode": "markers",
         "name": "Pategi",
         "showlegend": true,
         "type": "scattergeo"
        },
        {
         "geo": "geo",
         "hovertemplate": "Local Government Areas=Agege<br>Latitude=%{lat}<br>Longitude=%{lon}<extra></extra>",
         "lat": [
          6.6252564
         ],
         "legendgroup": "Agege",
         "lon": [
          3.311209267702652
         ],
         "marker": {
          "color": "#FF97FF",
          "symbol": "circle"
         },
         "mode": "markers",
         "name": "Agege",
         "showlegend": true,
         "type": "scattergeo"
        },
        {
         "geo": "geo",
         "hovertemplate": "Local Government Areas=Ajeromi-Ifelodun<br>Latitude=%{lat}<br>Longitude=%{lon}<extra></extra>",
         "lat": [
          6.455121699999999
         ],
         "legendgroup": "Ajeromi-Ifelodun",
         "lon": [
          3.3359462518298724
         ],
         "marker": {
          "color": "#FECB52",
          "symbol": "circle"
         },
         "mode": "markers",
         "name": "Ajeromi-Ifelodun",
         "showlegend": true,
         "type": "scattergeo"
        },
        {
         "geo": "geo",
         "hovertemplate": "Local Government Areas=Alimosho<br>Latitude=%{lat}<br>Longitude=%{lon}<extra></extra>",
         "lat": [
          6.58434295
         ],
         "legendgroup": "Alimosho",
         "lon": [
          3.257631097232365
         ],
         "marker": {
          "color": "#636efa",
          "symbol": "circle"
         },
         "mode": "markers",
         "name": "Alimosho",
         "showlegend": true,
         "type": "scattergeo"
        },
        {
         "geo": "geo",
         "hovertemplate": "Local Government Areas=Amuwo-Odofin<br>Latitude=%{lat}<br>Longitude=%{lon}<extra></extra>",
         "lat": [
          6.4470234
         ],
         "legendgroup": "Amuwo-Odofin",
         "lon": [
          3.2662797116825857
         ],
         "marker": {
          "color": "#EF553B",
          "symbol": "circle"
         },
         "mode": "markers",
         "name": "Amuwo-Odofin",
         "showlegend": true,
         "type": "scattergeo"
        },
        {
         "geo": "geo",
         "hovertemplate": "Local Government Areas=Apapa<br>Latitude=%{lat}<br>Longitude=%{lon}<extra></extra>",
         "lat": [
          6.445187000000001
         ],
         "legendgroup": "Apapa",
         "lon": [
          3.3683731679424094
         ],
         "marker": {
          "color": "#00cc96",
          "symbol": "circle"
         },
         "mode": "markers",
         "name": "Apapa",
         "showlegend": true,
         "type": "scattergeo"
        },
        {
         "geo": "geo",
         "hovertemplate": "Local Government Areas=Badagry<br>Latitude=%{lat}<br>Longitude=%{lon}<extra></extra>",
         "lat": [
          6.43932225
         ],
         "legendgroup": "Badagry",
         "lon": [
          2.9060324070376966
         ],
         "marker": {
          "color": "#ab63fa",
          "symbol": "circle"
         },
         "mode": "markers",
         "name": "Badagry",
         "showlegend": true,
         "type": "scattergeo"
        },
        {
         "geo": "geo",
         "hovertemplate": "Local Government Areas=Epe<br>Latitude=%{lat}<br>Longitude=%{lon}<extra></extra>",
         "lat": [
          6.416667
         ],
         "legendgroup": "Epe",
         "lon": [
          3.05
         ],
         "marker": {
          "color": "#FFA15A",
          "symbol": "circle"
         },
         "mode": "markers",
         "name": "Epe",
         "showlegend": true,
         "type": "scattergeo"
        },
        {
         "geo": "geo",
         "hovertemplate": "Local Government Areas=Eti Osa<br>Latitude=%{lat}<br>Longitude=%{lon}<extra></extra>",
         "lat": [
          6.4602312
         ],
         "legendgroup": "Eti Osa",
         "lon": [
          3.53218066773601
         ],
         "marker": {
          "color": "#19d3f3",
          "symbol": "circle"
         },
         "mode": "markers",
         "name": "Eti Osa",
         "showlegend": true,
         "type": "scattergeo"
        },
        {
         "geo": "geo",
         "hovertemplate": "Local Government Areas=Ibeju-Lekki<br>Latitude=%{lat}<br>Longitude=%{lon}<extra></extra>",
         "lat": [
          6.4711251
         ],
         "legendgroup": "Ibeju-Lekki",
         "lon": [
          3.8147502006869445
         ],
         "marker": {
          "color": "#FF6692",
          "symbol": "circle"
         },
         "mode": "markers",
         "name": "Ibeju-Lekki",
         "showlegend": true,
         "type": "scattergeo"
        },
        {
         "geo": "geo",
         "hovertemplate": "Local Government Areas=Ifako-Ijaiye<br>Latitude=%{lat}<br>Longitude=%{lon}<extra></extra>",
         "lat": [
          6.6636025
         ],
         "legendgroup": "Ifako-Ijaiye",
         "lon": [
          3.289491
         ],
         "marker": {
          "color": "#B6E880",
          "symbol": "circle"
         },
         "mode": "markers",
         "name": "Ifako-Ijaiye",
         "showlegend": true,
         "type": "scattergeo"
        },
        {
         "geo": "geo",
         "hovertemplate": "Local Government Areas=Ikeja<br>Latitude=%{lat}<br>Longitude=%{lon}<extra></extra>",
         "lat": [
          6.6048591000000005
         ],
         "legendgroup": "Ikeja",
         "lon": [
          3.3532040740949824
         ],
         "marker": {
          "color": "#FF97FF",
          "symbol": "circle"
         },
         "mode": "markers",
         "name": "Ikeja",
         "showlegend": true,
         "type": "scattergeo"
        },
        {
         "geo": "geo",
         "hovertemplate": "Local Government Areas=Ikorodu<br>Latitude=%{lat}<br>Longitude=%{lon}<extra></extra>",
         "lat": [
          6.6191233
         ],
         "legendgroup": "Ikorodu",
         "lon": [
          3.5041271
         ],
         "marker": {
          "color": "#FECB52",
          "symbol": "circle"
         },
         "mode": "markers",
         "name": "Ikorodu",
         "showlegend": true,
         "type": "scattergeo"
        },
        {
         "geo": "geo",
         "hovertemplate": "Local Government Areas=Kosofe<br>Latitude=%{lat}<br>Longitude=%{lon}<extra></extra>",
         "lat": [
          6.581974000000001
         ],
         "legendgroup": "Kosofe",
         "lon": [
          3.4148359416178415
         ],
         "marker": {
          "color": "#636efa",
          "symbol": "circle"
         },
         "mode": "markers",
         "name": "Kosofe",
         "showlegend": true,
         "type": "scattergeo"
        },
        {
         "geo": "geo",
         "hovertemplate": "Local Government Areas=Lagos Island<br>Latitude=%{lat}<br>Longitude=%{lon}<extra></extra>",
         "lat": [
          6.4536545499999995
         ],
         "legendgroup": "Lagos Island",
         "lon": [
          3.416466825830611
         ],
         "marker": {
          "color": "#EF553B",
          "symbol": "circle"
         },
         "mode": "markers",
         "name": "Lagos Island",
         "showlegend": true,
         "type": "scattergeo"
        },
        {
         "geo": "geo",
         "hovertemplate": "Local Government Areas=Lagos Mainland<br>Latitude=%{lat}<br>Longitude=%{lon}<extra></extra>",
         "lat": [
          6.49306105
         ],
         "legendgroup": "Lagos Mainland",
         "lon": [
          3.388249637209558
         ],
         "marker": {
          "color": "#00cc96",
          "symbol": "circle"
         },
         "mode": "markers",
         "name": "Lagos Mainland",
         "showlegend": true,
         "type": "scattergeo"
        },
        {
         "geo": "geo",
         "hovertemplate": "Local Government Areas=Mushin<br>Latitude=%{lat}<br>Longitude=%{lon}<extra></extra>",
         "lat": [
          6.526262
         ],
         "legendgroup": "Mushin",
         "lon": [
          3.3571405
         ],
         "marker": {
          "color": "#ab63fa",
          "symbol": "circle"
         },
         "mode": "markers",
         "name": "Mushin",
         "showlegend": true,
         "type": "scattergeo"
        },
        {
         "geo": "geo",
         "hovertemplate": "Local Government Areas=Ojo<br>Latitude=%{lat}<br>Longitude=%{lon}<extra></extra>",
         "lat": [
          8.2151249
         ],
         "legendgroup": "Ojo",
         "lon": [
          3.5642897
         ],
         "marker": {
          "color": "#FFA15A",
          "symbol": "circle"
         },
         "mode": "markers",
         "name": "Ojo",
         "showlegend": true,
         "type": "scattergeo"
        },
        {
         "geo": "geo",
         "hovertemplate": "Local Government Areas=Oshodi-Isolo<br>Latitude=%{lat}<br>Longitude=%{lon}<extra></extra>",
         "lat": [
          6.5400100000000005
         ],
         "legendgroup": "Oshodi-Isolo",
         "lon": [
          3.3124146026491035
         ],
         "marker": {
          "color": "#19d3f3",
          "symbol": "circle"
         },
         "mode": "markers",
         "name": "Oshodi-Isolo",
         "showlegend": true,
         "type": "scattergeo"
        },
        {
         "geo": "geo",
         "hovertemplate": "Local Government Areas=Shomolu<br>Latitude=%{lat}<br>Longitude=%{lon}<extra></extra>",
         "lat": [
          6.533564500000001
         ],
         "legendgroup": "Shomolu",
         "lon": [
          3.384160631483666
         ],
         "marker": {
          "color": "#FF6692",
          "symbol": "circle"
         },
         "mode": "markers",
         "name": "Shomolu",
         "showlegend": true,
         "type": "scattergeo"
        },
        {
         "geo": "geo",
         "hovertemplate": "Local Government Areas=Surulere<br>Latitude=%{lat}<br>Longitude=%{lon}<extra></extra>",
         "lat": [
          6.487201450000001,
          6.487201450000001
         ],
         "legendgroup": "Surulere",
         "lon": [
          3.353258726723983,
          3.353258726723983
         ],
         "marker": {
          "color": "#B6E880",
          "symbol": "circle"
         },
         "mode": "markers",
         "name": "Surulere",
         "showlegend": true,
         "type": "scattergeo"
        },
        {
         "geo": "geo",
         "hovertemplate": "Local Government Areas=Akwanga<br>Latitude=%{lat}<br>Longitude=%{lon}<extra></extra>",
         "lat": [
          8.9112888
         ],
         "legendgroup": "Akwanga",
         "lon": [
          8.4080322
         ],
         "marker": {
          "color": "#FF97FF",
          "symbol": "circle"
         },
         "mode": "markers",
         "name": "Akwanga",
         "showlegend": true,
         "type": "scattergeo"
        },
        {
         "geo": "geo",
         "hovertemplate": "Local Government Areas=Awe<br>Latitude=%{lat}<br>Longitude=%{lon}<extra></extra>",
         "lat": [
          8.1118123
         ],
         "legendgroup": "Awe",
         "lon": [
          9.1463713
         ],
         "marker": {
          "color": "#FECB52",
          "symbol": "circle"
         },
         "mode": "markers",
         "name": "Awe",
         "showlegend": true,
         "type": "scattergeo"
        },
        {
         "geo": "geo",
         "hovertemplate": "Local Government Areas=Doma<br>Latitude=%{lat}<br>Longitude=%{lon}<extra></extra>",
         "lat": [
          8.383333
         ],
         "legendgroup": "Doma",
         "lon": [
          8.35
         ],
         "marker": {
          "color": "#636efa",
          "symbol": "circle"
         },
         "mode": "markers",
         "name": "Doma",
         "showlegend": true,
         "type": "scattergeo"
        },
        {
         "geo": "geo",
         "hovertemplate": "Local Government Areas=Karu<br>Latitude=%{lat}<br>Longitude=%{lon}<extra></extra>",
         "lat": [
          9.0113522
         ],
         "legendgroup": "Karu",
         "lon": [
          7.5750527
         ],
         "marker": {
          "color": "#EF553B",
          "symbol": "circle"
         },
         "mode": "markers",
         "name": "Karu",
         "showlegend": true,
         "type": "scattergeo"
        },
        {
         "geo": "geo",
         "hovertemplate": "Local Government Areas=Keana<br>Latitude=%{lat}<br>Longitude=%{lon}<extra></extra>",
         "lat": [
          8.133333
         ],
         "legendgroup": "Keana",
         "lon": [
          8.8
         ],
         "marker": {
          "color": "#00cc96",
          "symbol": "circle"
         },
         "mode": "markers",
         "name": "Keana",
         "showlegend": true,
         "type": "scattergeo"
        },
        {
         "geo": "geo",
         "hovertemplate": "Local Government Areas=Keffi<br>Latitude=%{lat}<br>Longitude=%{lon}<extra></extra>",
         "lat": [
          8.8453176
         ],
         "legendgroup": "Keffi",
         "lon": [
          7.876834
         ],
         "marker": {
          "color": "#ab63fa",
          "symbol": "circle"
         },
         "mode": "markers",
         "name": "Keffi",
         "showlegend": true,
         "type": "scattergeo"
        },
        {
         "geo": "geo",
         "hovertemplate": "Local Government Areas=Kokona<br>Latitude=%{lat}<br>Longitude=%{lon}<extra></extra>",
         "lat": [
          8.85
         ],
         "legendgroup": "Kokona",
         "lon": [
          5.083333
         ],
         "marker": {
          "color": "#FFA15A",
          "symbol": "circle"
         },
         "mode": "markers",
         "name": "Kokona",
         "showlegend": true,
         "type": "scattergeo"
        },
        {
         "geo": "geo",
         "hovertemplate": "Local Government Areas=Lafia<br>Latitude=%{lat}<br>Longitude=%{lon}<extra></extra>",
         "lat": [
          9.6519332
         ],
         "legendgroup": "Lafia",
         "lon": [
          11.8176813
         ],
         "marker": {
          "color": "#19d3f3",
          "symbol": "circle"
         },
         "mode": "markers",
         "name": "Lafia",
         "showlegend": true,
         "type": "scattergeo"
        },
        {
         "geo": "geo",
         "hovertemplate": "Local Government Areas=Nasarawa Egon<br>Latitude=%{lat}<br>Longitude=%{lon}<extra></extra>",
         "lat": [
          8.72758815
         ],
         "legendgroup": "Nasarawa Egon",
         "lon": [
          8.471888017349086
         ],
         "marker": {
          "color": "#FF6692",
          "symbol": "circle"
         },
         "mode": "markers",
         "name": "Nasarawa Egon",
         "showlegend": true,
         "type": "scattergeo"
        },
        {
         "geo": "geo",
         "hovertemplate": "Local Government Areas=Toto<br>Latitude=%{lat}<br>Longitude=%{lon}<extra></extra>",
         "lat": [
          8.3862178
         ],
         "legendgroup": "Toto",
         "lon": [
          7.0797905
         ],
         "marker": {
          "color": "#B6E880",
          "symbol": "circle"
         },
         "mode": "markers",
         "name": "Toto",
         "showlegend": true,
         "type": "scattergeo"
        },
        {
         "geo": "geo",
         "hovertemplate": "Local Government Areas=Wamba<br>Latitude=%{lat}<br>Longitude=%{lon}<extra></extra>",
         "lat": [
          8.933333
         ],
         "legendgroup": "Wamba",
         "lon": [
          8.6
         ],
         "marker": {
          "color": "#FF97FF",
          "symbol": "circle"
         },
         "mode": "markers",
         "name": "Wamba",
         "showlegend": true,
         "type": "scattergeo"
        },
        {
         "geo": "geo",
         "hovertemplate": "Local Government Areas=Agaie<br>Latitude=%{lat}<br>Longitude=%{lon}<extra></extra>",
         "lat": [
          9.0102795
         ],
         "legendgroup": "Agaie",
         "lon": [
          6.3177613
         ],
         "marker": {
          "color": "#FECB52",
          "symbol": "circle"
         },
         "mode": "markers",
         "name": "Agaie",
         "showlegend": true,
         "type": "scattergeo"
        },
        {
         "geo": "geo",
         "hovertemplate": "Local Government Areas=Agwara<br>Latitude=%{lat}<br>Longitude=%{lon}<extra></extra>",
         "lat": [
          10.745301399999999
         ],
         "legendgroup": "Agwara",
         "lon": [
          4.539417528677225
         ],
         "marker": {
          "color": "#636efa",
          "symbol": "circle"
         },
         "mode": "markers",
         "name": "Agwara",
         "showlegend": true,
         "type": "scattergeo"
        },
        {
         "geo": "geo",
         "hovertemplate": "Local Government Areas=Bida<br>Latitude=%{lat}<br>Longitude=%{lon}<extra></extra>",
         "lat": [
          9.083333
         ],
         "legendgroup": "Bida",
         "lon": [
          6.016667
         ],
         "marker": {
          "color": "#EF553B",
          "symbol": "circle"
         },
         "mode": "markers",
         "name": "Bida",
         "showlegend": true,
         "type": "scattergeo"
        },
        {
         "geo": "geo",
         "hovertemplate": "Local Government Areas=Borgu<br>Latitude=%{lat}<br>Longitude=%{lon}<extra></extra>",
         "lat": [
          10.1967653
         ],
         "legendgroup": "Borgu",
         "lon": [
          4.092020592490975
         ],
         "marker": {
          "color": "#00cc96",
          "symbol": "circle"
         },
         "mode": "markers",
         "name": "Borgu",
         "showlegend": true,
         "type": "scattergeo"
        },
        {
         "geo": "geo",
         "hovertemplate": "Local Government Areas=Bosso<br>Latitude=%{lat}<br>Longitude=%{lon}<extra></extra>",
         "lat": [
          9.653333
         ],
         "legendgroup": "Bosso",
         "lon": [
          6.516111
         ],
         "marker": {
          "color": "#ab63fa",
          "symbol": "circle"
         },
         "mode": "markers",
         "name": "Bosso",
         "showlegend": true,
         "type": "scattergeo"
        },
        {
         "geo": "geo",
         "hovertemplate": "Local Government Areas=Chanchaga<br>Latitude=%{lat}<br>Longitude=%{lon}<extra></extra>",
         "lat": [
          9.533333
         ],
         "legendgroup": "Chanchaga",
         "lon": [
          6.583333
         ],
         "marker": {
          "color": "#FFA15A",
          "symbol": "circle"
         },
         "mode": "markers",
         "name": "Chanchaga",
         "showlegend": true,
         "type": "scattergeo"
        },
        {
         "geo": "geo",
         "hovertemplate": "Local Government Areas=Edati<br>Latitude=%{lat}<br>Longitude=%{lon}<extra></extra>",
         "lat": [
          8.963337450000001
         ],
         "legendgroup": "Edati",
         "lon": [
          5.999754848120109
         ],
         "marker": {
          "color": "#19d3f3",
          "symbol": "circle"
         },
         "mode": "markers",
         "name": "Edati",
         "showlegend": true,
         "type": "scattergeo"
        },
        {
         "geo": "geo",
         "hovertemplate": "Local Government Areas=Gbako<br>Latitude=%{lat}<br>Longitude=%{lon}<extra></extra>",
         "lat": [
          8.533333
         ],
         "legendgroup": "Gbako",
         "lon": [
          4.483333
         ],
         "marker": {
          "color": "#FF6692",
          "symbol": "circle"
         },
         "mode": "markers",
         "name": "Gbako",
         "showlegend": true,
         "type": "scattergeo"
        },
        {
         "geo": "geo",
         "hovertemplate": "Local Government Areas=Gurara<br>Latitude=%{lat}<br>Longitude=%{lon}<extra></extra>",
         "lat": [
          11.6657505
         ],
         "legendgroup": "Gurara",
         "lon": [
          9.820485
         ],
         "marker": {
          "color": "#B6E880",
          "symbol": "circle"
         },
         "mode": "markers",
         "name": "Gurara",
         "showlegend": true,
         "type": "scattergeo"
        },
        {
         "geo": "geo",
         "hovertemplate": "Local Government Areas=Katcha<br>Latitude=%{lat}<br>Longitude=%{lon}<extra></extra>",
         "lat": [
          8.7617343
         ],
         "legendgroup": "Katcha",
         "lon": [
          6.311747
         ],
         "marker": {
          "color": "#FF97FF",
          "symbol": "circle"
         },
         "mode": "markers",
         "name": "Katcha",
         "showlegend": true,
         "type": "scattergeo"
        },
        {
         "geo": "geo",
         "hovertemplate": "Local Government Areas=Kontagora<br>Latitude=%{lat}<br>Longitude=%{lon}<extra></extra>",
         "lat": [
          9.1
         ],
         "legendgroup": "Kontagora",
         "lon": [
          8.516667
         ],
         "marker": {
          "color": "#FECB52",
          "symbol": "circle"
         },
         "mode": "markers",
         "name": "Kontagora",
         "showlegend": true,
         "type": "scattergeo"
        },
        {
         "geo": "geo",
         "hovertemplate": "Local Government Areas=Lapai<br>Latitude=%{lat}<br>Longitude=%{lon}<extra></extra>",
         "lat": [
          9.066667
         ],
         "legendgroup": "Lapai",
         "lon": [
          6.716667
         ],
         "marker": {
          "color": "#636efa",
          "symbol": "circle"
         },
         "mode": "markers",
         "name": "Lapai",
         "showlegend": true,
         "type": "scattergeo"
        },
        {
         "geo": "geo",
         "hovertemplate": "Local Government Areas=Lavun<br>Latitude=%{lat}<br>Longitude=%{lon}<extra></extra>",
         "lat": [
          9.3823776
         ],
         "legendgroup": "Lavun",
         "lon": [
          5.636692331807329
         ],
         "marker": {
          "color": "#EF553B",
          "symbol": "circle"
         },
         "mode": "markers",
         "name": "Lavun",
         "showlegend": true,
         "type": "scattergeo"
        },
        {
         "geo": "geo",
         "hovertemplate": "Local Government Areas=Magama<br>Latitude=%{lat}<br>Longitude=%{lon}<extra></extra>",
         "lat": [
          8.5
         ],
         "legendgroup": "Magama",
         "lon": [
          9.733333
         ],
         "marker": {
          "color": "#00cc96",
          "symbol": "circle"
         },
         "mode": "markers",
         "name": "Magama",
         "showlegend": true,
         "type": "scattergeo"
        },
        {
         "geo": "geo",
         "hovertemplate": "Local Government Areas=Mariga<br>Latitude=%{lat}<br>Longitude=%{lon}<extra></extra>",
         "lat": [
          10.1337409
         ],
         "legendgroup": "Mariga",
         "lon": [
          6.0247499
         ],
         "marker": {
          "color": "#ab63fa",
          "symbol": "circle"
         },
         "mode": "markers",
         "name": "Mariga",
         "showlegend": true,
         "type": "scattergeo"
        },
        {
         "geo": "geo",
         "hovertemplate": "Local Government Areas=Mashegu<br>Latitude=%{lat}<br>Longitude=%{lon}<extra></extra>",
         "lat": [
          9.81550455
         ],
         "legendgroup": "Mashegu",
         "lon": [
          5.239230389014169
         ],
         "marker": {
          "color": "#FFA15A",
          "symbol": "circle"
         },
         "mode": "markers",
         "name": "Mashegu",
         "showlegend": true,
         "type": "scattergeo"
        },
        {
         "geo": "geo",
         "hovertemplate": "Local Government Areas=Mokwa<br>Latitude=%{lat}<br>Longitude=%{lon}<extra></extra>",
         "lat": [
          9.2957202
         ],
         "legendgroup": "Mokwa",
         "lon": [
          5.0544281
         ],
         "marker": {
          "color": "#19d3f3",
          "symbol": "circle"
         },
         "mode": "markers",
         "name": "Mokwa",
         "showlegend": true,
         "type": "scattergeo"
        },
        {
         "geo": "geo",
         "hovertemplate": "Local Government Areas=Moya<br>Latitude=%{lat}<br>Longitude=%{lon}<extra></extra>",
         "lat": [
          12.79622
         ],
         "legendgroup": "Moya",
         "lon": [
          13.07318
         ],
         "marker": {
          "color": "#FF6692",
          "symbol": "circle"
         },
         "mode": "markers",
         "name": "Moya",
         "showlegend": true,
         "type": "scattergeo"
        },
        {
         "geo": "geo",
         "hovertemplate": "Local Government Areas=Paikoro<br>Latitude=%{lat}<br>Longitude=%{lon}<extra></extra>",
         "lat": [
          9.49303915
         ],
         "legendgroup": "Paikoro",
         "lon": [
          6.837678578461804
         ],
         "marker": {
          "color": "#B6E880",
          "symbol": "circle"
         },
         "mode": "markers",
         "name": "Paikoro",
         "showlegend": true,
         "type": "scattergeo"
        },
        {
         "geo": "geo",
         "hovertemplate": "Local Government Areas=Rafi<br>Latitude=%{lat}<br>Longitude=%{lon}<extra></extra>",
         "lat": [
          12.1207203
         ],
         "legendgroup": "Rafi",
         "lon": [
          5.068817298325359
         ],
         "marker": {
          "color": "#FF97FF",
          "symbol": "circle"
         },
         "mode": "markers",
         "name": "Rafi",
         "showlegend": true,
         "type": "scattergeo"
        },
        {
         "geo": "geo",
         "hovertemplate": "Local Government Areas=Rijau<br>Latitude=%{lat}<br>Longitude=%{lon}<extra></extra>",
         "lat": [
          11.1078532
         ],
         "legendgroup": "Rijau",
         "lon": [
          5.2612531
         ],
         "marker": {
          "color": "#FECB52",
          "symbol": "circle"
         },
         "mode": "markers",
         "name": "Rijau",
         "showlegend": true,
         "type": "scattergeo"
        },
        {
         "geo": "geo",
         "hovertemplate": "Local Government Areas=Shiroro<br>Latitude=%{lat}<br>Longitude=%{lon}<extra></extra>",
         "lat": [
          9.956072
         ],
         "legendgroup": "Shiroro",
         "lon": [
          6.83326
         ],
         "marker": {
          "color": "#636efa",
          "symbol": "circle"
         },
         "mode": "markers",
         "name": "Shiroro",
         "showlegend": true,
         "type": "scattergeo"
        },
        {
         "geo": "geo",
         "hovertemplate": "Local Government Areas=Suleja<br>Latitude=%{lat}<br>Longitude=%{lon}<extra></extra>",
         "lat": [
          9.20816565
         ],
         "legendgroup": "Suleja",
         "lon": [
          7.187189747918152
         ],
         "marker": {
          "color": "#EF553B",
          "symbol": "circle"
         },
         "mode": "markers",
         "name": "Suleja",
         "showlegend": true,
         "type": "scattergeo"
        },
        {
         "geo": "geo",
         "hovertemplate": "Local Government Areas=Tafa<br>Latitude=%{lat}<br>Longitude=%{lon}<extra></extra>",
         "lat": [
          8.433333
         ],
         "legendgroup": "Tafa",
         "lon": [
          4.4
         ],
         "marker": {
          "color": "#00cc96",
          "symbol": "circle"
         },
         "mode": "markers",
         "name": "Tafa",
         "showlegend": true,
         "type": "scattergeo"
        },
        {
         "geo": "geo",
         "hovertemplate": "Local Government Areas=Wushishi<br>Latitude=%{lat}<br>Longitude=%{lon}<extra></extra>",
         "lat": [
          9.720556
         ],
         "legendgroup": "Wushishi",
         "lon": [
          6.079722
         ],
         "marker": {
          "color": "#ab63fa",
          "symbol": "circle"
         },
         "mode": "markers",
         "name": "Wushishi",
         "showlegend": true,
         "type": "scattergeo"
        },
        {
         "geo": "geo",
         "hovertemplate": "Local Government Areas=Abeokuta North<br>Latitude=%{lat}<br>Longitude=%{lon}<extra></extra>",
         "lat": [
          7.23449515
         ],
         "legendgroup": "Abeokuta North",
         "lon": [
          3.201259205647169
         ],
         "marker": {
          "color": "#FFA15A",
          "symbol": "circle"
         },
         "mode": "markers",
         "name": "Abeokuta North",
         "showlegend": true,
         "type": "scattergeo"
        },
        {
         "geo": "geo",
         "hovertemplate": "Local Government Areas=Abeokuta South<br>Latitude=%{lat}<br>Longitude=%{lon}<extra></extra>",
         "lat": [
          7.15928935
         ],
         "legendgroup": "Abeokuta South",
         "lon": [
          3.3644751940830018
         ],
         "marker": {
          "color": "#19d3f3",
          "symbol": "circle"
         },
         "mode": "markers",
         "name": "Abeokuta South",
         "showlegend": true,
         "type": "scattergeo"
        },
        {
         "geo": "geo",
         "hovertemplate": "Local Government Areas=Ado-Odo/Ota<br>Latitude=%{lat}<br>Longitude=%{lon}<extra></extra>",
         "lat": [
          6.62447595
         ],
         "legendgroup": "Ado-Odo/Ota",
         "lon": [
          3.0823072642902645
         ],
         "marker": {
          "color": "#FF6692",
          "symbol": "circle"
         },
         "mode": "markers",
         "name": "Ado-Odo/Ota",
         "showlegend": true,
         "type": "scattergeo"
        },
        {
         "geo": "geo",
         "hovertemplate": "Local Government Areas=Ewekoro<br>Latitude=%{lat}<br>Longitude=%{lon}<extra></extra>",
         "lat": [
          6.961698999999999
         ],
         "legendgroup": "Ewekoro",
         "lon": [
          3.1734405425983456
         ],
         "marker": {
          "color": "#B6E880",
          "symbol": "circle"
         },
         "mode": "markers",
         "name": "Ewekoro",
         "showlegend": true,
         "type": "scattergeo"
        },
        {
         "geo": "geo",
         "hovertemplate": "Local Government Areas=Ifo<br>Latitude=%{lat}<br>Longitude=%{lon}<extra></extra>",
         "lat": [
          6.75629735
         ],
         "legendgroup": "Ifo",
         "lon": [
          3.24155742988109
         ],
         "marker": {
          "color": "#FF97FF",
          "symbol": "circle"
         },
         "mode": "markers",
         "name": "Ifo",
         "showlegend": true,
         "type": "scattergeo"
        },
        {
         "geo": "geo",
         "hovertemplate": "Local Government Areas=Ijebu East<br>Latitude=%{lat}<br>Longitude=%{lon}<extra></extra>",
         "lat": [
          6.8181465
         ],
         "legendgroup": "Ijebu East",
         "lon": [
          4.251257460630212
         ],
         "marker": {
          "color": "#FECB52",
          "symbol": "circle"
         },
         "mode": "markers",
         "name": "Ijebu East",
         "showlegend": true,
         "type": "scattergeo"
        },
        {
         "geo": "geo",
         "hovertemplate": "Local Government Areas=Ijebu North<br>Latitude=%{lat}<br>Longitude=%{lon}<extra></extra>",
         "lat": [
          7.03213095
         ],
         "legendgroup": "Ijebu North",
         "lon": [
          3.99145722833996
         ],
         "marker": {
          "color": "#636efa",
          "symbol": "circle"
         },
         "mode": "markers",
         "name": "Ijebu North",
         "showlegend": true,
         "type": "scattergeo"
        },
        {
         "geo": "geo",
         "hovertemplate": "Local Government Areas=Ijebu North East<br>Latitude=%{lat}<br>Longitude=%{lon}<extra></extra>",
         "lat": [
          6.887079
         ],
         "legendgroup": "Ijebu North East",
         "lon": [
          4.006867295349055
         ],
         "marker": {
          "color": "#EF553B",
          "symbol": "circle"
         },
         "mode": "markers",
         "name": "Ijebu North East",
         "showlegend": true,
         "type": "scattergeo"
        },
        {
         "geo": "geo",
         "hovertemplate": "Local Government Areas=Ijebu Ode<br>Latitude=%{lat}<br>Longitude=%{lon}<extra></extra>",
         "lat": [
          6.8140077
         ],
         "legendgroup": "Ijebu Ode",
         "lon": [
          3.9151668
         ],
         "marker": {
          "color": "#00cc96",
          "symbol": "circle"
         },
         "mode": "markers",
         "name": "Ijebu Ode",
         "showlegend": true,
         "type": "scattergeo"
        },
        {
         "geo": "geo",
         "hovertemplate": "Local Government Areas=Ikenne<br>Latitude=%{lat}<br>Longitude=%{lon}<extra></extra>",
         "lat": [
          6.90100505
         ],
         "legendgroup": "Ikenne",
         "lon": [
          3.6977468816454167
         ],
         "marker": {
          "color": "#ab63fa",
          "symbol": "circle"
         },
         "mode": "markers",
         "name": "Ikenne",
         "showlegend": true,
         "type": "scattergeo"
        },
        {
         "geo": "geo",
         "hovertemplate": "Local Government Areas=Imeko Afon<br>Latitude=%{lat}<br>Longitude=%{lon}<extra></extra>",
         "lat": [
          7.66895115
         ],
         "legendgroup": "Imeko Afon",
         "lon": [
          2.860216231075362
         ],
         "marker": {
          "color": "#FFA15A",
          "symbol": "circle"
         },
         "mode": "markers",
         "name": "Imeko Afon",
         "showlegend": true,
         "type": "scattergeo"
        },
        {
         "geo": "geo",
         "hovertemplate": "Local Government Areas=Ipokia<br>Latitude=%{lat}<br>Longitude=%{lon}<extra></extra>",
         "lat": [
          6.649518
         ],
         "legendgroup": "Ipokia",
         "lon": [
          2.7533626
         ],
         "marker": {
          "color": "#19d3f3",
          "symbol": "circle"
         },
         "mode": "markers",
         "name": "Ipokia",
         "showlegend": true,
         "type": "scattergeo"
        },
        {
         "geo": "geo",
         "hovertemplate": "Local Government Areas=Obafemi Owode<br>Latitude=%{lat}<br>Longitude=%{lon}<extra></extra>",
         "lat": [
          6.92400835
         ],
         "legendgroup": "Obafemi Owode",
         "lon": [
          3.4444617483436986
         ],
         "marker": {
          "color": "#FF6692",
          "symbol": "circle"
         },
         "mode": "markers",
         "name": "Obafemi Owode",
         "showlegend": true,
         "type": "scattergeo"
        },
        {
         "geo": "geo",
         "hovertemplate": "Local Government Areas=Odeda<br>Latitude=%{lat}<br>Longitude=%{lon}<extra></extra>",
         "lat": [
          7.3122468000000005
         ],
         "legendgroup": "Odeda",
         "lon": [
          3.456458763198987
         ],
         "marker": {
          "color": "#B6E880",
          "symbol": "circle"
         },
         "mode": "markers",
         "name": "Odeda",
         "showlegend": true,
         "type": "scattergeo"
        },
        {
         "geo": "geo",
         "hovertemplate": "Local Government Areas=Odogbolu<br>Latitude=%{lat}<br>Longitude=%{lon}<extra></extra>",
         "lat": [
          6.8077001500000005
         ],
         "legendgroup": "Odogbolu",
         "lon": [
          3.814100281641317
         ],
         "marker": {
          "color": "#FF97FF",
          "symbol": "circle"
         },
         "mode": "markers",
         "name": "Odogbolu",
         "showlegend": true,
         "type": "scattergeo"
        },
        {
         "geo": "geo",
         "hovertemplate": "Local Government Areas=Ogun Waterside<br>Latitude=%{lat}<br>Longitude=%{lon}<extra></extra>",
         "lat": [
          6.4625404
         ],
         "legendgroup": "Ogun Waterside",
         "lon": [
          4.390199650472612
         ],
         "marker": {
          "color": "#FECB52",
          "symbol": "circle"
         },
         "mode": "markers",
         "name": "Ogun Waterside",
         "showlegend": true,
         "type": "scattergeo"
        },
        {
         "geo": "geo",
         "hovertemplate": "Local Government Areas=Remo North<br>Latitude=%{lat}<br>Longitude=%{lon}<extra></extra>",
         "lat": [
          6.9953921
         ],
         "legendgroup": "Remo North",
         "lon": [
          3.71768040013041
         ],
         "marker": {
          "color": "#636efa",
          "symbol": "circle"
         },
         "mode": "markers",
         "name": "Remo North",
         "showlegend": true,
         "type": "scattergeo"
        },
        {
         "geo": "geo",
         "hovertemplate": "Local Government Areas=Shagamu<br>Latitude=%{lat}<br>Longitude=%{lon}<extra></extra>",
         "lat": [
          6.8477165
         ],
         "legendgroup": "Shagamu",
         "lon": [
          3.6440551
         ],
         "marker": {
          "color": "#EF553B",
          "symbol": "circle"
         },
         "mode": "markers",
         "name": "Shagamu",
         "showlegend": true,
         "type": "scattergeo"
        },
        {
         "geo": "geo",
         "hovertemplate": "Local Government Areas=Yewa North<br>Latitude=%{lat}<br>Longitude=%{lon}<extra></extra>",
         "lat": [
          7.1260629
         ],
         "legendgroup": "Yewa North",
         "lon": [
          2.9408573113173397
         ],
         "marker": {
          "color": "#00cc96",
          "symbol": "circle"
         },
         "mode": "markers",
         "name": "Yewa North",
         "showlegend": true,
         "type": "scattergeo"
        },
        {
         "geo": "geo",
         "hovertemplate": "Local Government Areas=Yewa South<br>Latitude=%{lat}<br>Longitude=%{lon}<extra></extra>",
         "lat": [
          6.77780235
         ],
         "legendgroup": "Yewa South",
         "lon": [
          2.958357259504273
         ],
         "marker": {
          "color": "#ab63fa",
          "symbol": "circle"
         },
         "mode": "markers",
         "name": "Yewa South",
         "showlegend": true,
         "type": "scattergeo"
        },
        {
         "geo": "geo",
         "hovertemplate": "Local Government Areas=Akoko North-East<br>Latitude=%{lat}<br>Longitude=%{lon}<extra></extra>",
         "lat": [
          7.562587499999999
         ],
         "legendgroup": "Akoko North-East",
         "lon": [
          5.90422625372965
         ],
         "marker": {
          "color": "#FFA15A",
          "symbol": "circle"
         },
         "mode": "markers",
         "name": "Akoko North-East",
         "showlegend": true,
         "type": "scattergeo"
        },
        {
         "geo": "geo",
         "hovertemplate": "Local Government Areas=Akoko North-West<br>Latitude=%{lat}<br>Longitude=%{lon}<extra></extra>",
         "lat": [
          7.65017915
         ],
         "legendgroup": "Akoko North-West",
         "lon": [
          5.81474406950944
         ],
         "marker": {
          "color": "#19d3f3",
          "symbol": "circle"
         },
         "mode": "markers",
         "name": "Akoko North-West",
         "showlegend": true,
         "type": "scattergeo"
        },
        {
         "geo": "geo",
         "hovertemplate": "Local Government Areas=Akoko South-East<br>Latitude=%{lat}<br>Longitude=%{lon}<extra></extra>",
         "lat": [
          7.42249085
         ],
         "legendgroup": "Akoko South-East",
         "lon": [
          5.905060679828727
         ],
         "marker": {
          "color": "#FF6692",
          "symbol": "circle"
         },
         "mode": "markers",
         "name": "Akoko South-East",
         "showlegend": true,
         "type": "scattergeo"
        },
        {
         "geo": "geo",
         "hovertemplate": "Local Government Areas=Akoko South-West<br>Latitude=%{lat}<br>Longitude=%{lon}<extra></extra>",
         "lat": [
          7.4008129
         ],
         "legendgroup": "Akoko South-West",
         "lon": [
          5.705641607609582
         ],
         "marker": {
          "color": "#B6E880",
          "symbol": "circle"
         },
         "mode": "markers",
         "name": "Akoko South-West",
         "showlegend": true,
         "type": "scattergeo"
        },
        {
         "geo": "geo",
         "hovertemplate": "Local Government Areas=Akure North<br>Latitude=%{lat}<br>Longitude=%{lon}<extra></extra>",
         "lat": [
          7.2520757499999995
         ],
         "legendgroup": "Akure North",
         "lon": [
          5.314380499266439
         ],
         "marker": {
          "color": "#FF97FF",
          "symbol": "circle"
         },
         "mode": "markers",
         "name": "Akure North",
         "showlegend": true,
         "type": "scattergeo"
        },
        {
         "geo": "geo",
         "hovertemplate": "Local Government Areas=Akure South<br>Latitude=%{lat}<br>Longitude=%{lon}<extra></extra>",
         "lat": [
          7.22438455
         ],
         "legendgroup": "Akure South",
         "lon": [
          5.167872722667031
         ],
         "marker": {
          "color": "#FECB52",
          "symbol": "circle"
         },
         "mode": "markers",
         "name": "Akure South",
         "showlegend": true,
         "type": "scattergeo"
        },
        {
         "geo": "geo",
         "hovertemplate": "Local Government Areas=Ese Odo<br>Latitude=%{lat}<br>Longitude=%{lon}<extra></extra>",
         "lat": [
          6.22960115
         ],
         "legendgroup": "Ese Odo",
         "lon": [
          4.953623563130165
         ],
         "marker": {
          "color": "#636efa",
          "symbol": "circle"
         },
         "mode": "markers",
         "name": "Ese Odo",
         "showlegend": true,
         "type": "scattergeo"
        },
        {
         "geo": "geo",
         "hovertemplate": "Local Government Areas=Idanre<br>Latitude=%{lat}<br>Longitude=%{lon}<extra></extra>",
         "lat": [
          7.109769
         ],
         "legendgroup": "Idanre",
         "lon": [
          5.1164416
         ],
         "marker": {
          "color": "#EF553B",
          "symbol": "circle"
         },
         "mode": "markers",
         "name": "Idanre",
         "showlegend": true,
         "type": "scattergeo"
        },
        {
         "geo": "geo",
         "hovertemplate": "Local Government Areas=Ifedore<br>Latitude=%{lat}<br>Longitude=%{lon}<extra></extra>",
         "lat": [
          7.3528421
         ],
         "legendgroup": "Ifedore",
         "lon": [
          5.110368124845809
         ],
         "marker": {
          "color": "#00cc96",
          "symbol": "circle"
         },
         "mode": "markers",
         "name": "Ifedore",
         "showlegend": true,
         "type": "scattergeo"
        },
        {
         "geo": "geo",
         "hovertemplate": "Local Government Areas=Ilaje<br>Latitude=%{lat}<br>Longitude=%{lon}<extra></extra>",
         "lat": [
          6.19638205
         ],
         "legendgroup": "Ilaje",
         "lon": [
          4.768064972541312
         ],
         "marker": {
          "color": "#ab63fa",
          "symbol": "circle"
         },
         "mode": "markers",
         "name": "Ilaje",
         "showlegend": true,
         "type": "scattergeo"
        },
        {
         "geo": "geo",
         "hovertemplate": "Local Government Areas=Ile Oluji/Okeigbo<br>Latitude=%{lat}<br>Longitude=%{lon}<extra></extra>",
         "lat": [
          7.236932550000001
         ],
         "legendgroup": "Ile Oluji/Okeigbo",
         "lon": [
          4.891326571472749
         ],
         "marker": {
          "color": "#FFA15A",
          "symbol": "circle"
         },
         "mode": "markers",
         "name": "Ile Oluji/Okeigbo",
         "showlegend": true,
         "type": "scattergeo"
        },
        {
         "geo": "geo",
         "hovertemplate": "Local Government Areas=Irele<br>Latitude=%{lat}<br>Longitude=%{lon}<extra></extra>",
         "lat": [
          6.4894071
         ],
         "legendgroup": "Irele",
         "lon": [
          4.8700171
         ],
         "marker": {
          "color": "#19d3f3",
          "symbol": "circle"
         },
         "mode": "markers",
         "name": "Irele",
         "showlegend": true,
         "type": "scattergeo"
        },
        {
         "geo": "geo",
         "hovertemplate": "Local Government Areas=Odigbo<br>Latitude=%{lat}<br>Longitude=%{lon}<extra></extra>",
         "lat": [
          6.789224
         ],
         "legendgroup": "Odigbo",
         "lon": [
          4.866403
         ],
         "marker": {
          "color": "#FF6692",
          "symbol": "circle"
         },
         "mode": "markers",
         "name": "Odigbo",
         "showlegend": true,
         "type": "scattergeo"
        },
        {
         "geo": "geo",
         "hovertemplate": "Local Government Areas=Okitipupa<br>Latitude=%{lat}<br>Longitude=%{lon}<extra></extra>",
         "lat": [
          6.504748
         ],
         "legendgroup": "Okitipupa",
         "lon": [
          4.7839524
         ],
         "marker": {
          "color": "#B6E880",
          "symbol": "circle"
         },
         "mode": "markers",
         "name": "Okitipupa",
         "showlegend": true,
         "type": "scattergeo"
        },
        {
         "geo": "geo",
         "hovertemplate": "Local Government Areas=Ondo East<br>Latitude=%{lat}<br>Longitude=%{lon}<extra></extra>",
         "lat": [
          7.06680495
         ],
         "legendgroup": "Ondo East",
         "lon": [
          4.962371206429317
         ],
         "marker": {
          "color": "#FF97FF",
          "symbol": "circle"
         },
         "mode": "markers",
         "name": "Ondo East",
         "showlegend": true,
         "type": "scattergeo"
        },
        {
         "geo": "geo",
         "hovertemplate": "Local Government Areas=Ondo West<br>Latitude=%{lat}<br>Longitude=%{lon}<extra></extra>",
         "lat": [
          7.03314665
         ],
         "legendgroup": "Ondo West",
         "lon": [
          4.768711120944029
         ],
         "marker": {
          "color": "#FECB52",
          "symbol": "circle"
         },
         "mode": "markers",
         "name": "Ondo West",
         "showlegend": true,
         "type": "scattergeo"
        },
        {
         "geo": "geo",
         "hovertemplate": "Local Government Areas=Ose<br>Latitude=%{lat}<br>Longitude=%{lon}<extra></extra>",
         "lat": [
          7.05101395
         ],
         "legendgroup": "Ose",
         "lon": [
          5.72865134362812
         ],
         "marker": {
          "color": "#636efa",
          "symbol": "circle"
         },
         "mode": "markers",
         "name": "Ose",
         "showlegend": true,
         "type": "scattergeo"
        },
        {
         "geo": "geo",
         "hovertemplate": "Local Government Areas=Owo<br>Latitude=%{lat}<br>Longitude=%{lon}<extra></extra>",
         "lat": [
          7.1962012
         ],
         "legendgroup": "Owo",
         "lon": [
          5.5868016
         ],
         "marker": {
          "color": "#EF553B",
          "symbol": "circle"
         },
         "mode": "markers",
         "name": "Owo",
         "showlegend": true,
         "type": "scattergeo"
        },
        {
         "geo": "geo",
         "hovertemplate": "Local Government Areas=Aiyedire<br>Latitude=%{lat}<br>Longitude=%{lon}<extra></extra>",
         "lat": [
          7.57245105
         ],
         "legendgroup": "Aiyedire",
         "lon": [
          4.216219883495097
         ],
         "marker": {
          "color": "#00cc96",
          "symbol": "circle"
         },
         "mode": "markers",
         "name": "Aiyedire",
         "showlegend": true,
         "type": "scattergeo"
        },
        {
         "geo": "geo",
         "hovertemplate": "Local Government Areas=Atakunmosa East<br>Latitude=%{lat}<br>Longitude=%{lon}<extra></extra>",
         "lat": [
          7.45221015
         ],
         "legendgroup": "Atakunmosa East",
         "lon": [
          4.785932050585557
         ],
         "marker": {
          "color": "#ab63fa",
          "symbol": "circle"
         },
         "mode": "markers",
         "name": "Atakunmosa East",
         "showlegend": true,
         "type": "scattergeo"
        },
        {
         "geo": "geo",
         "hovertemplate": "Local Government Areas=Atakunmosa West<br>Latitude=%{lat}<br>Longitude=%{lon}<extra></extra>",
         "lat": [
          7.4867096
         ],
         "legendgroup": "Atakunmosa West",
         "lon": [
          4.678869135457796
         ],
         "marker": {
          "color": "#FFA15A",
          "symbol": "circle"
         },
         "mode": "markers",
         "name": "Atakunmosa West",
         "showlegend": true,
         "type": "scattergeo"
        },
        {
         "geo": "geo",
         "hovertemplate": "Local Government Areas=Boluwaduro<br>Latitude=%{lat}<br>Longitude=%{lon}<extra></extra>",
         "lat": [
          7.2263
         ],
         "legendgroup": "Boluwaduro",
         "lon": [
          5.3954
         ],
         "marker": {
          "color": "#19d3f3",
          "symbol": "circle"
         },
         "mode": "markers",
         "name": "Boluwaduro",
         "showlegend": true,
         "type": "scattergeo"
        },
        {
         "geo": "geo",
         "hovertemplate": "Local Government Areas=Boripe<br>Latitude=%{lat}<br>Longitude=%{lon}<extra></extra>",
         "lat": [
          7.86220215
         ],
         "legendgroup": "Boripe",
         "lon": [
          4.659446535737731
         ],
         "marker": {
          "color": "#FF6692",
          "symbol": "circle"
         },
         "mode": "markers",
         "name": "Boripe",
         "showlegend": true,
         "type": "scattergeo"
        },
        {
         "geo": "geo",
         "hovertemplate": "Local Government Areas=Ede North<br>Latitude=%{lat}<br>Longitude=%{lon}<extra></extra>",
         "lat": [
          7.7344181
         ],
         "legendgroup": "Ede North",
         "lon": [
          4.473998070022581
         ],
         "marker": {
          "color": "#B6E880",
          "symbol": "circle"
         },
         "mode": "markers",
         "name": "Ede North",
         "showlegend": true,
         "type": "scattergeo"
        },
        {
         "geo": "geo",
         "hovertemplate": "Local Government Areas=Ede South<br>Latitude=%{lat}<br>Longitude=%{lon}<extra></extra>",
         "lat": [
          7.65920755
         ],
         "legendgroup": "Ede South",
         "lon": [
          4.463691717278765
         ],
         "marker": {
          "color": "#FF97FF",
          "symbol": "circle"
         },
         "mode": "markers",
         "name": "Ede South",
         "showlegend": true,
         "type": "scattergeo"
        },
        {
         "geo": "geo",
         "hovertemplate": "Local Government Areas=Egbedore<br>Latitude=%{lat}<br>Longitude=%{lon}<extra></extra>",
         "lat": [
          7.7874849
         ],
         "legendgroup": "Egbedore",
         "lon": [
          4.436297729823462
         ],
         "marker": {
          "color": "#FECB52",
          "symbol": "circle"
         },
         "mode": "markers",
         "name": "Egbedore",
         "showlegend": true,
         "type": "scattergeo"
        },
        {
         "geo": "geo",
         "hovertemplate": "Local Government Areas=Ejigbo<br>Latitude=%{lat}<br>Longitude=%{lon}<extra></extra>",
         "lat": [
          6.550723
         ],
         "legendgroup": "Ejigbo",
         "lon": [
          3.3067225
         ],
         "marker": {
          "color": "#636efa",
          "symbol": "circle"
         },
         "mode": "markers",
         "name": "Ejigbo",
         "showlegend": true,
         "type": "scattergeo"
        },
        {
         "geo": "geo",
         "hovertemplate": "Local Government Areas=Ife Central<br>Latitude=%{lat}<br>Longitude=%{lon}<extra></extra>",
         "lat": [
          7.54636905
         ],
         "legendgroup": "Ife Central",
         "lon": [
          4.528026943583383
         ],
         "marker": {
          "color": "#EF553B",
          "symbol": "circle"
         },
         "mode": "markers",
         "name": "Ife Central",
         "showlegend": true,
         "type": "scattergeo"
        },
        {
         "geo": "geo",
         "hovertemplate": "Local Government Areas=Ife East<br>Latitude=%{lat}<br>Longitude=%{lon}<extra></extra>",
         "lat": [
          7.40341495
         ],
         "legendgroup": "Ife East",
         "lon": [
          4.59959459961158
         ],
         "marker": {
          "color": "#00cc96",
          "symbol": "circle"
         },
         "mode": "markers",
         "name": "Ife East",
         "showlegend": true,
         "type": "scattergeo"
        },
        {
         "geo": "geo",
         "hovertemplate": "Local Government Areas=Ife North<br>Latitude=%{lat}<br>Longitude=%{lon}<extra></extra>",
         "lat": [
          7.27761555
         ],
         "legendgroup": "Ife North",
         "lon": [
          4.452865817628522
         ],
         "marker": {
          "color": "#ab63fa",
          "symbol": "circle"
         },
         "mode": "markers",
         "name": "Ife North",
         "showlegend": true,
         "type": "scattergeo"
        },
        {
         "geo": "geo",
         "hovertemplate": "Local Government Areas=Ife South<br>Latitude=%{lat}<br>Longitude=%{lon}<extra></extra>",
         "lat": [
          7.2248225
         ],
         "legendgroup": "Ife South",
         "lon": [
          4.609975177651254
         ],
         "marker": {
          "color": "#FFA15A",
          "symbol": "circle"
         },
         "mode": "markers",
         "name": "Ife South",
         "showlegend": true,
         "type": "scattergeo"
        },
        {
         "geo": "geo",
         "hovertemplate": "Local Government Areas=Ifedayo<br>Latitude=%{lat}<br>Longitude=%{lon}<extra></extra>",
         "lat": [
          7.9618888000000005
         ],
         "legendgroup": "Ifedayo",
         "lon": [
          4.984806733325354
         ],
         "marker": {
          "color": "#19d3f3",
          "symbol": "circle"
         },
         "mode": "markers",
         "name": "Ifedayo",
         "showlegend": true,
         "type": "scattergeo"
        },
        {
         "geo": "geo",
         "hovertemplate": "Local Government Areas=Ila<br>Latitude=%{lat}<br>Longitude=%{lon}<extra></extra>",
         "lat": [
          7.666667
         ],
         "legendgroup": "Ila",
         "lon": [
          4.666667
         ],
         "marker": {
          "color": "#FF6692",
          "symbol": "circle"
         },
         "mode": "markers",
         "name": "Ila",
         "showlegend": true,
         "type": "scattergeo"
        },
        {
         "geo": "geo",
         "hovertemplate": "Local Government Areas=Ilesa West<br>Latitude=%{lat}<br>Longitude=%{lon}<extra></extra>",
         "lat": [
          7.6245894
         ],
         "legendgroup": "Ilesa West",
         "lon": [
          4.7414655
         ],
         "marker": {
          "color": "#B6E880",
          "symbol": "circle"
         },
         "mode": "markers",
         "name": "Ilesa West",
         "showlegend": true,
         "type": "scattergeo"
        },
        {
         "geo": "geo",
         "hovertemplate": "Local Government Areas=Irewole<br>Latitude=%{lat}<br>Longitude=%{lon}<extra></extra>",
         "lat": [
          7.42335375
         ],
         "legendgroup": "Irewole",
         "lon": [
          4.211292798367986
         ],
         "marker": {
          "color": "#FF97FF",
          "symbol": "circle"
         },
         "mode": "markers",
         "name": "Irewole",
         "showlegend": true,
         "type": "scattergeo"
        },
        {
         "geo": "geo",
         "hovertemplate": "Local Government Areas=Isokan<br>Latitude=%{lat}<br>Longitude=%{lon}<extra></extra>",
         "lat": [
          7.2917009
         ],
         "legendgroup": "Isokan",
         "lon": [
          4.197078309973235
         ],
         "marker": {
          "color": "#FECB52",
          "symbol": "circle"
         },
         "mode": "markers",
         "name": "Isokan",
         "showlegend": true,
         "type": "scattergeo"
        },
        {
         "geo": "geo",
         "hovertemplate": "Local Government Areas=Iwo<br>Latitude=%{lat}<br>Longitude=%{lon}<extra></extra>",
         "lat": [
          7.633333
         ],
         "legendgroup": "Iwo",
         "lon": [
          4.183333
         ],
         "marker": {
          "color": "#636efa",
          "symbol": "circle"
         },
         "mode": "markers",
         "name": "Iwo",
         "showlegend": true,
         "type": "scattergeo"
        },
        {
         "geo": "geo",
         "hovertemplate": "Local Government Areas=Obokun<br>Latitude=%{lat}<br>Longitude=%{lon}<extra></extra>",
         "lat": [
          7.77440215
         ],
         "legendgroup": "Obokun",
         "lon": [
          4.778145756035174
         ],
         "marker": {
          "color": "#EF553B",
          "symbol": "circle"
         },
         "mode": "markers",
         "name": "Obokun",
         "showlegend": true,
         "type": "scattergeo"
        },
        {
         "geo": "geo",
         "hovertemplate": "Local Government Areas=Odo Otin<br>Latitude=%{lat}<br>Longitude=%{lon}<extra></extra>",
         "lat": [
          8.00744345
         ],
         "legendgroup": "Odo Otin",
         "lon": [
          4.679048325069425
         ],
         "marker": {
          "color": "#00cc96",
          "symbol": "circle"
         },
         "mode": "markers",
         "name": "Odo Otin",
         "showlegend": true,
         "type": "scattergeo"
        },
        {
         "geo": "geo",
         "hovertemplate": "Local Government Areas=Ola Oluwa<br>Latitude=%{lat}<br>Longitude=%{lon}<extra></extra>",
         "lat": [
          7.7457420500000005
         ],
         "legendgroup": "Ola Oluwa",
         "lon": [
          4.199432168519866
         ],
         "marker": {
          "color": "#ab63fa",
          "symbol": "circle"
         },
         "mode": "markers",
         "name": "Ola Oluwa",
         "showlegend": true,
         "type": "scattergeo"
        },
        {
         "geo": "geo",
         "hovertemplate": "Local Government Areas=Olorunda<br>Latitude=%{lat}<br>Longitude=%{lon}<extra></extra>",
         "lat": [
          7.87344765
         ],
         "legendgroup": "Olorunda",
         "lon": [
          4.582128360065931
         ],
         "marker": {
          "color": "#FFA15A",
          "symbol": "circle"
         },
         "mode": "markers",
         "name": "Olorunda",
         "showlegend": true,
         "type": "scattergeo"
        },
        {
         "geo": "geo",
         "hovertemplate": "Local Government Areas=Oriade<br>Latitude=%{lat}<br>Longitude=%{lon}<extra></extra>",
         "lat": [
          7.5530772
         ],
         "legendgroup": "Oriade",
         "lon": [
          4.867413075401172
         ],
         "marker": {
          "color": "#19d3f3",
          "symbol": "circle"
         },
         "mode": "markers",
         "name": "Oriade",
         "showlegend": true,
         "type": "scattergeo"
        },
        {
         "geo": "geo",
         "hovertemplate": "Local Government Areas=Orolu<br>Latitude=%{lat}<br>Longitude=%{lon}<extra></extra>",
         "lat": [
          7.9024198000000005
         ],
         "legendgroup": "Orolu",
         "lon": [
          4.474395524151003
         ],
         "marker": {
          "color": "#FF6692",
          "symbol": "circle"
         },
         "mode": "markers",
         "name": "Orolu",
         "showlegend": true,
         "type": "scattergeo"
        },
        {
         "geo": "geo",
         "hovertemplate": "Local Government Areas=Osogbo<br>Latitude=%{lat}<br>Longitude=%{lon}<extra></extra>",
         "lat": [
          7.75832225
         ],
         "legendgroup": "Osogbo",
         "lon": [
          4.575044734945106
         ],
         "marker": {
          "color": "#B6E880",
          "symbol": "circle"
         },
         "mode": "markers",
         "name": "Osogbo",
         "showlegend": true,
         "type": "scattergeo"
        },
        {
         "geo": "geo",
         "hovertemplate": "Local Government Areas=Afijio<br>Latitude=%{lat}<br>Longitude=%{lon}<extra></extra>",
         "lat": [
          7.747811049999999
         ],
         "legendgroup": "Afijio",
         "lon": [
          3.8965833157288534
         ],
         "marker": {
          "color": "#FF97FF",
          "symbol": "circle"
         },
         "mode": "markers",
         "name": "Afijio",
         "showlegend": true,
         "type": "scattergeo"
        },
        {
         "geo": "geo",
         "hovertemplate": "Local Government Areas=Akinyele<br>Latitude=%{lat}<br>Longitude=%{lon}<extra></extra>",
         "lat": [
          7.5978324
         ],
         "legendgroup": "Akinyele",
         "lon": [
          3.9162521
         ],
         "marker": {
          "color": "#FECB52",
          "symbol": "circle"
         },
         "mode": "markers",
         "name": "Akinyele",
         "showlegend": true,
         "type": "scattergeo"
        },
        {
         "geo": "geo",
         "hovertemplate": "Local Government Areas=Atiba<br>Latitude=%{lat}<br>Longitude=%{lon}<extra></extra>",
         "lat": [
          8.235692499999999
         ],
         "legendgroup": "Atiba",
         "lon": [
          3.8685804390458687
         ],
         "marker": {
          "color": "#636efa",
          "symbol": "circle"
         },
         "mode": "markers",
         "name": "Atiba",
         "showlegend": true,
         "type": "scattergeo"
        },
        {
         "geo": "geo",
         "hovertemplate": "Local Government Areas=Atisbo<br>Latitude=%{lat}<br>Longitude=%{lon}<extra></extra>",
         "lat": [
          8.403148250000001
         ],
         "legendgroup": "Atisbo",
         "lon": [
          3.251587245035839
         ],
         "marker": {
          "color": "#EF553B",
          "symbol": "circle"
         },
         "mode": "markers",
         "name": "Atisbo",
         "showlegend": true,
         "type": "scattergeo"
        },
        {
         "geo": "geo",
         "hovertemplate": "Local Government Areas=Egbeda<br>Latitude=%{lat}<br>Longitude=%{lon}<extra></extra>",
         "lat": [
          7.366667
         ],
         "legendgroup": "Egbeda",
         "lon": [
          4.05
         ],
         "marker": {
          "color": "#00cc96",
          "symbol": "circle"
         },
         "mode": "markers",
         "name": "Egbeda",
         "showlegend": true,
         "type": "scattergeo"
        },
        {
         "geo": "geo",
         "hovertemplate": "Local Government Areas=Ibadan North<br>Latitude=%{lat}<br>Longitude=%{lon}<extra></extra>",
         "lat": [
          7.42110345
         ],
         "legendgroup": "Ibadan North",
         "lon": [
          3.9090595900204694
         ],
         "marker": {
          "color": "#ab63fa",
          "symbol": "circle"
         },
         "mode": "markers",
         "name": "Ibadan North",
         "showlegend": true,
         "type": "scattergeo"
        },
        {
         "geo": "geo",
         "hovertemplate": "Local Government Areas=Ibadan North-East<br>Latitude=%{lat}<br>Longitude=%{lon}<extra></extra>",
         "lat": [
          7.3939066
         ],
         "legendgroup": "Ibadan North-East",
         "lon": [
          3.9273483432755025
         ],
         "marker": {
          "color": "#FFA15A",
          "symbol": "circle"
         },
         "mode": "markers",
         "name": "Ibadan North-East",
         "showlegend": true,
         "type": "scattergeo"
        },
        {
         "geo": "geo",
         "hovertemplate": "Local Government Areas=Ibadan North-West<br>Latitude=%{lat}<br>Longitude=%{lon}<extra></extra>",
         "lat": [
          7.4028109
         ],
         "legendgroup": "Ibadan North-West",
         "lon": [
          3.8717884151139517
         ],
         "marker": {
          "color": "#19d3f3",
          "symbol": "circle"
         },
         "mode": "markers",
         "name": "Ibadan North-West",
         "showlegend": true,
         "type": "scattergeo"
        },
        {
         "geo": "geo",
         "hovertemplate": "Local Government Areas=Ibadan South-East<br>Latitude=%{lat}<br>Longitude=%{lon}<extra></extra>",
         "lat": [
          7.355048
         ],
         "legendgroup": "Ibadan South-East",
         "lon": [
          3.903528862708936
         ],
         "marker": {
          "color": "#FF6692",
          "symbol": "circle"
         },
         "mode": "markers",
         "name": "Ibadan South-East",
         "showlegend": true,
         "type": "scattergeo"
        },
        {
         "geo": "geo",
         "hovertemplate": "Local Government Areas=Ibadan South-West<br>Latitude=%{lat}<br>Longitude=%{lon}<extra></extra>",
         "lat": [
          7.3733705
         ],
         "legendgroup": "Ibadan South-West",
         "lon": [
          3.8590379450057544
         ],
         "marker": {
          "color": "#B6E880",
          "symbol": "circle"
         },
         "mode": "markers",
         "name": "Ibadan South-West",
         "showlegend": true,
         "type": "scattergeo"
        },
        {
         "geo": "geo",
         "hovertemplate": "Local Government Areas=Ibarapa Central<br>Latitude=%{lat}<br>Longitude=%{lon}<extra></extra>",
         "lat": [
          7.411516450000001
         ],
         "legendgroup": "Ibarapa Central",
         "lon": [
          3.247704984452902
         ],
         "marker": {
          "color": "#FF97FF",
          "symbol": "circle"
         },
         "mode": "markers",
         "name": "Ibarapa Central",
         "showlegend": true,
         "type": "scattergeo"
        },
        {
         "geo": "geo",
         "hovertemplate": "Local Government Areas=Ibarapa East<br>Latitude=%{lat}<br>Longitude=%{lon}<extra></extra>",
         "lat": [
          7.5840666500000005
         ],
         "legendgroup": "Ibarapa East",
         "lon": [
          3.4593620075627056
         ],
         "marker": {
          "color": "#FECB52",
          "symbol": "circle"
         },
         "mode": "markers",
         "name": "Ibarapa East",
         "showlegend": true,
         "type": "scattergeo"
        },
        {
         "geo": "geo",
         "hovertemplate": "Local Government Areas=Ibarapa North<br>Latitude=%{lat}<br>Longitude=%{lon}<extra></extra>",
         "lat": [
          7.64457465
         ],
         "legendgroup": "Ibarapa North",
         "lon": [
          3.1731014489781906
         ],
         "marker": {
          "color": "#636efa",
          "symbol": "circle"
         },
         "mode": "markers",
         "name": "Ibarapa North",
         "showlegend": true,
         "type": "scattergeo"
        },
        {
         "geo": "geo",
         "hovertemplate": "Local Government Areas=Ido<br>Latitude=%{lat}<br>Longitude=%{lon}<extra></extra>",
         "lat": [
          7.5191533
         ],
         "legendgroup": "Ido",
         "lon": [
          3.6978419912652893
         ],
         "marker": {
          "color": "#EF553B",
          "symbol": "circle"
         },
         "mode": "markers",
         "name": "Ido",
         "showlegend": true,
         "type": "scattergeo"
        },
        {
         "geo": "geo",
         "hovertemplate": "Local Government Areas=Irepo<br>Latitude=%{lat}<br>Longitude=%{lon}<extra></extra>",
         "lat": [
          9.024608149999999
         ],
         "legendgroup": "Irepo",
         "lon": [
          3.884951584969749
         ],
         "marker": {
          "color": "#00cc96",
          "symbol": "circle"
         },
         "mode": "markers",
         "name": "Irepo",
         "showlegend": true,
         "type": "scattergeo"
        },
        {
         "geo": "geo",
         "hovertemplate": "Local Government Areas=Iseyin<br>Latitude=%{lat}<br>Longitude=%{lon}<extra></extra>",
         "lat": [
          7.9710106
         ],
         "legendgroup": "Iseyin",
         "lon": [
          3.5956141
         ],
         "marker": {
          "color": "#ab63fa",
          "symbol": "circle"
         },
         "mode": "markers",
         "name": "Iseyin",
         "showlegend": true,
         "type": "scattergeo"
        },
        {
         "geo": "geo",
         "hovertemplate": "Local Government Areas=Itesiwaju<br>Latitude=%{lat}<br>Longitude=%{lon}<extra></extra>",
         "lat": [
          8.2107134
         ],
         "legendgroup": "Itesiwaju",
         "lon": [
          3.5481982860888133
         ],
         "marker": {
          "color": "#FFA15A",
          "symbol": "circle"
         },
         "mode": "markers",
         "name": "Itesiwaju",
         "showlegend": true,
         "type": "scattergeo"
        },
        {
         "geo": "geo",
         "hovertemplate": "Local Government Areas=Iwajowa<br>Latitude=%{lat}<br>Longitude=%{lon}<extra></extra>",
         "lat": [
          7.990133500000001
         ],
         "legendgroup": "Iwajowa",
         "lon": [
          2.98873466669142
         ],
         "marker": {
          "color": "#19d3f3",
          "symbol": "circle"
         },
         "mode": "markers",
         "name": "Iwajowa",
         "showlegend": true,
         "type": "scattergeo"
        },
        {
         "geo": "geo",
         "hovertemplate": "Local Government Areas=Kajola<br>Latitude=%{lat}<br>Longitude=%{lon}<extra></extra>",
         "lat": [
          8.083333
         ],
         "legendgroup": "Kajola",
         "lon": [
          3.333333
         ],
         "marker": {
          "color": "#FF6692",
          "symbol": "circle"
         },
         "mode": "markers",
         "name": "Kajola",
         "showlegend": true,
         "type": "scattergeo"
        },
        {
         "geo": "geo",
         "hovertemplate": "Local Government Areas=Lagelu<br>Latitude=%{lat}<br>Longitude=%{lon}<extra></extra>",
         "lat": [
          7.5116973
         ],
         "legendgroup": "Lagelu",
         "lon": [
          4.078903399551278
         ],
         "marker": {
          "color": "#B6E880",
          "symbol": "circle"
         },
         "mode": "markers",
         "name": "Lagelu",
         "showlegend": true,
         "type": "scattergeo"
        },
        {
         "geo": "geo",
         "hovertemplate": "Local Government Areas=Ogbomosho North<br>Latitude=%{lat}<br>Longitude=%{lon}<extra></extra>",
         "lat": [
          8.1568787
         ],
         "legendgroup": "Ogbomosho North",
         "lon": [
          4.26339168952482
         ],
         "marker": {
          "color": "#FF97FF",
          "symbol": "circle"
         },
         "mode": "markers",
         "name": "Ogbomosho North",
         "showlegend": true,
         "type": "scattergeo"
        },
        {
         "geo": "geo",
         "hovertemplate": "Local Government Areas=Ogbomosho South<br>Latitude=%{lat}<br>Longitude=%{lon}<extra></extra>",
         "lat": [
          8.074718
         ],
         "legendgroup": "Ogbomosho South",
         "lon": [
          4.237004228192205
         ],
         "marker": {
          "color": "#FECB52",
          "symbol": "circle"
         },
         "mode": "markers",
         "name": "Ogbomosho South",
         "showlegend": true,
         "type": "scattergeo"
        },
        {
         "geo": "geo",
         "hovertemplate": "Local Government Areas=Ogo Oluwa<br>Latitude=%{lat}<br>Longitude=%{lon}<extra></extra>",
         "lat": [
          7.9610822
         ],
         "legendgroup": "Ogo Oluwa",
         "lon": [
          4.180876231733722
         ],
         "marker": {
          "color": "#636efa",
          "symbol": "circle"
         },
         "mode": "markers",
         "name": "Ogo Oluwa",
         "showlegend": true,
         "type": "scattergeo"
        },
        {
         "geo": "geo",
         "hovertemplate": "Local Government Areas=Olorunsogo<br>Latitude=%{lat}<br>Longitude=%{lon}<extra></extra>",
         "lat": [
          6.7317895
         ],
         "legendgroup": "Olorunsogo",
         "lon": [
          4.9950335
         ],
         "marker": {
          "color": "#EF553B",
          "symbol": "circle"
         },
         "mode": "markers",
         "name": "Olorunsogo",
         "showlegend": true,
         "type": "scattergeo"
        },
        {
         "geo": "geo",
         "hovertemplate": "Local Government Areas=Oluyole<br>Latitude=%{lat}<br>Longitude=%{lon}<extra></extra>",
         "lat": [
          7.2195716
         ],
         "legendgroup": "Oluyole",
         "lon": [
          3.8929962529818525
         ],
         "marker": {
          "color": "#00cc96",
          "symbol": "circle"
         },
         "mode": "markers",
         "name": "Oluyole",
         "showlegend": true,
         "type": "scattergeo"
        },
        {
         "geo": "geo",
         "hovertemplate": "Local Government Areas=Ona Ara<br>Latitude=%{lat}<br>Longitude=%{lon}<extra></extra>",
         "lat": [
          7.258710949999999
         ],
         "legendgroup": "Ona Ara",
         "lon": [
          4.064947250919316
         ],
         "marker": {
          "color": "#ab63fa",
          "symbol": "circle"
         },
         "mode": "markers",
         "name": "Ona Ara",
         "showlegend": true,
         "type": "scattergeo"
        },
        {
         "geo": "geo",
         "hovertemplate": "Local Government Areas=Orelope<br>Latitude=%{lat}<br>Longitude=%{lon}<extra></extra>",
         "lat": [
          8.7941346
         ],
         "legendgroup": "Orelope",
         "lon": [
          3.8019226560261554
         ],
         "marker": {
          "color": "#FFA15A",
          "symbol": "circle"
         },
         "mode": "markers",
         "name": "Orelope",
         "showlegend": true,
         "type": "scattergeo"
        },
        {
         "geo": "geo",
         "hovertemplate": "Local Government Areas=Ori Ire<br>Latitude=%{lat}<br>Longitude=%{lon}<extra></extra>",
         "lat": [
          8.3093052
         ],
         "legendgroup": "Ori Ire",
         "lon": [
          4.203584765711993
         ],
         "marker": {
          "color": "#19d3f3",
          "symbol": "circle"
         },
         "mode": "markers",
         "name": "Ori Ire",
         "showlegend": true,
         "type": "scattergeo"
        },
        {
         "geo": "geo",
         "hovertemplate": "Local Government Areas=Oyo East<br>Latitude=%{lat}<br>Longitude=%{lon}<extra></extra>",
         "lat": [
          7.87008105
         ],
         "legendgroup": "Oyo East",
         "lon": [
          4.028958153694858
         ],
         "marker": {
          "color": "#FF6692",
          "symbol": "circle"
         },
         "mode": "markers",
         "name": "Oyo East",
         "showlegend": true,
         "type": "scattergeo"
        },
        {
         "geo": "geo",
         "hovertemplate": "Local Government Areas=Oyo West<br>Latitude=%{lat}<br>Longitude=%{lon}<extra></extra>",
         "lat": [
          7.95719315
         ],
         "legendgroup": "Oyo West",
         "lon": [
          3.8166314853392356
         ],
         "marker": {
          "color": "#B6E880",
          "symbol": "circle"
         },
         "mode": "markers",
         "name": "Oyo West",
         "showlegend": true,
         "type": "scattergeo"
        },
        {
         "geo": "geo",
         "hovertemplate": "Local Government Areas=Saki East<br>Latitude=%{lat}<br>Longitude=%{lon}<extra></extra>",
         "lat": [
          8.71125365
         ],
         "legendgroup": "Saki East",
         "lon": [
          3.566449165789238
         ],
         "marker": {
          "color": "#FF97FF",
          "symbol": "circle"
         },
         "mode": "markers",
         "name": "Saki East",
         "showlegend": true,
         "type": "scattergeo"
        },
        {
         "geo": "geo",
         "hovertemplate": "Local Government Areas=Saki West<br>Latitude=%{lat}<br>Longitude=%{lon}<extra></extra>",
         "lat": [
          8.6487861
         ],
         "legendgroup": "Saki West",
         "lon": [
          3.2050791622347345
         ],
         "marker": {
          "color": "#FECB52",
          "symbol": "circle"
         },
         "mode": "markers",
         "name": "Saki West",
         "showlegend": true,
         "type": "scattergeo"
        },
        {
         "geo": "geo",
         "hovertemplate": "Local Government Areas=Bokkos<br>Latitude=%{lat}<br>Longitude=%{lon}<extra></extra>",
         "lat": [
          9.3
         ],
         "legendgroup": "Bokkos",
         "lon": [
          9
         ],
         "marker": {
          "color": "#636efa",
          "symbol": "circle"
         },
         "mode": "markers",
         "name": "Bokkos",
         "showlegend": true,
         "type": "scattergeo"
        },
        {
         "geo": "geo",
         "hovertemplate": "Local Government Areas=Barkin Ladi<br>Latitude=%{lat}<br>Longitude=%{lon}<extra></extra>",
         "lat": [
          9.575489999999999
         ],
         "legendgroup": "Barkin Ladi",
         "lon": [
          8.970077030109152
         ],
         "marker": {
          "color": "#EF553B",
          "symbol": "circle"
         },
         "mode": "markers",
         "name": "Barkin Ladi",
         "showlegend": true,
         "type": "scattergeo"
        },
        {
         "geo": "geo",
         "hovertemplate": "Local Government Areas=Jos East<br>Latitude=%{lat}<br>Longitude=%{lon}<extra></extra>",
         "lat": [
          9.872746
         ],
         "legendgroup": "Jos East",
         "lon": [
          9.134016436661367
         ],
         "marker": {
          "color": "#00cc96",
          "symbol": "circle"
         },
         "mode": "markers",
         "name": "Jos East",
         "showlegend": true,
         "type": "scattergeo"
        },
        {
         "geo": "geo",
         "hovertemplate": "Local Government Areas=Jos North<br>Latitude=%{lat}<br>Longitude=%{lon}<extra></extra>",
         "lat": [
          9.942195850000001
         ],
         "legendgroup": "Jos North",
         "lon": [
          8.892985163197897
         ],
         "marker": {
          "color": "#ab63fa",
          "symbol": "circle"
         },
         "mode": "markers",
         "name": "Jos North",
         "showlegend": true,
         "type": "scattergeo"
        },
        {
         "geo": "geo",
         "hovertemplate": "Local Government Areas=Jos South<br>Latitude=%{lat}<br>Longitude=%{lon}<extra></extra>",
         "lat": [
          9.7587528
         ],
         "legendgroup": "Jos South",
         "lon": [
          8.848780461155847
         ],
         "marker": {
          "color": "#FFA15A",
          "symbol": "circle"
         },
         "mode": "markers",
         "name": "Jos South",
         "showlegend": true,
         "type": "scattergeo"
        },
        {
         "geo": "geo",
         "hovertemplate": "Local Government Areas=Kanam<br>Latitude=%{lat}<br>Longitude=%{lon}<extra></extra>",
         "lat": [
          9.05
         ],
         "legendgroup": "Kanam",
         "lon": [
          9.416667
         ],
         "marker": {
          "color": "#19d3f3",
          "symbol": "circle"
         },
         "mode": "markers",
         "name": "Kanam",
         "showlegend": true,
         "type": "scattergeo"
        },
        {
         "geo": "geo",
         "hovertemplate": "Local Government Areas=Kanke<br>Latitude=%{lat}<br>Longitude=%{lon}<extra></extra>",
         "lat": [
          9.367178899999999
         ],
         "legendgroup": "Kanke",
         "lon": [
          9.639354933485457
         ],
         "marker": {
          "color": "#FF6692",
          "symbol": "circle"
         },
         "mode": "markers",
         "name": "Kanke",
         "showlegend": true,
         "type": "scattergeo"
        },
        {
         "geo": "geo",
         "hovertemplate": "Local Government Areas=Langtang North<br>Latitude=%{lat}<br>Longitude=%{lon}<extra></extra>",
         "lat": [
          9.0494609
         ],
         "legendgroup": "Langtang North",
         "lon": [
          9.818724306403762
         ],
         "marker": {
          "color": "#B6E880",
          "symbol": "circle"
         },
         "mode": "markers",
         "name": "Langtang North",
         "showlegend": true,
         "type": "scattergeo"
        },
        {
         "geo": "geo",
         "hovertemplate": "Local Government Areas=Langtang South<br>Latitude=%{lat}<br>Longitude=%{lon}<extra></extra>",
         "lat": [
          8.5842962
         ],
         "legendgroup": "Langtang South",
         "lon": [
          9.832994787118064
         ],
         "marker": {
          "color": "#FF97FF",
          "symbol": "circle"
         },
         "mode": "markers",
         "name": "Langtang South",
         "showlegend": true,
         "type": "scattergeo"
        },
        {
         "geo": "geo",
         "hovertemplate": "Local Government Areas=Mangu<br>Latitude=%{lat}<br>Longitude=%{lon}<extra></extra>",
         "lat": [
          9.36222935
         ],
         "legendgroup": "Mangu",
         "lon": [
          9.181630173696401
         ],
         "marker": {
          "color": "#FECB52",
          "symbol": "circle"
         },
         "mode": "markers",
         "name": "Mangu",
         "showlegend": true,
         "type": "scattergeo"
        },
        {
         "geo": "geo",
         "hovertemplate": "Local Government Areas=Mikang<br>Latitude=%{lat}<br>Longitude=%{lon}<extra></extra>",
         "lat": [
          9.0122647
         ],
         "legendgroup": "Mikang",
         "lon": [
          9.554481273060158
         ],
         "marker": {
          "color": "#636efa",
          "symbol": "circle"
         },
         "mode": "markers",
         "name": "Mikang",
         "showlegend": true,
         "type": "scattergeo"
        },
        {
         "geo": "geo",
         "hovertemplate": "Local Government Areas=Pankshin<br>Latitude=%{lat}<br>Longitude=%{lon}<extra></extra>",
         "lat": [
          9.3285985
         ],
         "legendgroup": "Pankshin",
         "lon": [
          9.4414255
         ],
         "marker": {
          "color": "#EF553B",
          "symbol": "circle"
         },
         "mode": "markers",
         "name": "Pankshin",
         "showlegend": true,
         "type": "scattergeo"
        },
        {
         "geo": "geo",
         "hovertemplate": "Local Government Areas=Qua'an Pan<br>Latitude=%{lat}<br>Longitude=%{lon}<extra></extra>",
         "lat": [
          8.766416549999999
         ],
         "legendgroup": "Qua'an Pan",
         "lon": [
          9.124481602004671
         ],
         "marker": {
          "color": "#00cc96",
          "symbol": "circle"
         },
         "mode": "markers",
         "name": "Qua'an Pan",
         "showlegend": true,
         "type": "scattergeo"
        },
        {
         "geo": "geo",
         "hovertemplate": "Local Government Areas=Riyom<br>Latitude=%{lat}<br>Longitude=%{lon}<extra></extra>",
         "lat": [
          9.633249
         ],
         "legendgroup": "Riyom",
         "lon": [
          8.766667
         ],
         "marker": {
          "color": "#ab63fa",
          "symbol": "circle"
         },
         "mode": "markers",
         "name": "Riyom",
         "showlegend": true,
         "type": "scattergeo"
        },
        {
         "geo": "geo",
         "hovertemplate": "Local Government Areas=Shendam<br>Latitude=%{lat}<br>Longitude=%{lon}<extra></extra>",
         "lat": [
          8.878179
         ],
         "legendgroup": "Shendam",
         "lon": [
          9.5396638
         ],
         "marker": {
          "color": "#FFA15A",
          "symbol": "circle"
         },
         "mode": "markers",
         "name": "Shendam",
         "showlegend": true,
         "type": "scattergeo"
        },
        {
         "geo": "geo",
         "hovertemplate": "Local Government Areas=Wase<br>Latitude=%{lat}<br>Longitude=%{lon}<extra></extra>",
         "lat": [
          9.0952772
         ],
         "legendgroup": "Wase",
         "lon": [
          9.9580519
         ],
         "marker": {
          "color": "#19d3f3",
          "symbol": "circle"
         },
         "mode": "markers",
         "name": "Wase",
         "showlegend": true,
         "type": "scattergeo"
        },
        {
         "geo": "geo",
         "hovertemplate": "Local Government Areas=Abua/Odual<br>Latitude=%{lat}<br>Longitude=%{lon}<extra></extra>",
         "lat": [
          4.84693955
         ],
         "legendgroup": "Abua/Odual",
         "lon": [
          6.560032827719285
         ],
         "marker": {
          "color": "#FF6692",
          "symbol": "circle"
         },
         "mode": "markers",
         "name": "Abua/Odual",
         "showlegend": true,
         "type": "scattergeo"
        },
        {
         "geo": "geo",
         "hovertemplate": "Local Government Areas=Ahoada East<br>Latitude=%{lat}<br>Longitude=%{lon}<extra></extra>",
         "lat": [
          5.0504985
         ],
         "legendgroup": "Ahoada East",
         "lon": [
          6.642959979473343
         ],
         "marker": {
          "color": "#B6E880",
          "symbol": "circle"
         },
         "mode": "markers",
         "name": "Ahoada East",
         "showlegend": true,
         "type": "scattergeo"
        },
        {
         "geo": "geo",
         "hovertemplate": "Local Government Areas=Ahoada West<br>Latitude=%{lat}<br>Longitude=%{lon}<extra></extra>",
         "lat": [
          5.04196595
         ],
         "legendgroup": "Ahoada West",
         "lon": [
          6.513133964696992
         ],
         "marker": {
          "color": "#FF97FF",
          "symbol": "circle"
         },
         "mode": "markers",
         "name": "Ahoada West",
         "showlegend": true,
         "type": "scattergeo"
        },
        {
         "geo": "geo",
         "hovertemplate": "Local Government Areas=Akuku-Toru<br>Latitude=%{lat}<br>Longitude=%{lon}<extra></extra>",
         "lat": [
          4.53362895
         ],
         "legendgroup": "Akuku-Toru",
         "lon": [
          6.678670665142749
         ],
         "marker": {
          "color": "#FECB52",
          "symbol": "circle"
         },
         "mode": "markers",
         "name": "Akuku-Toru",
         "showlegend": true,
         "type": "scattergeo"
        },
        {
         "geo": "geo",
         "hovertemplate": "Local Government Areas=Andoni<br>Latitude=%{lat}<br>Longitude=%{lon}<extra></extra>",
         "lat": [
          4.5061458000000005
         ],
         "legendgroup": "Andoni",
         "lon": [
          7.407307242536977
         ],
         "marker": {
          "color": "#636efa",
          "symbol": "circle"
         },
         "mode": "markers",
         "name": "Andoni",
         "showlegend": true,
         "type": "scattergeo"
        },
        {
         "geo": "geo",
         "hovertemplate": "Local Government Areas=Asari-Toru<br>Latitude=%{lat}<br>Longitude=%{lon}<extra></extra>",
         "lat": [
          4.7529381
         ],
         "legendgroup": "Asari-Toru",
         "lon": [
          6.834832218320882
         ],
         "marker": {
          "color": "#EF553B",
          "symbol": "circle"
         },
         "mode": "markers",
         "name": "Asari-Toru",
         "showlegend": true,
         "type": "scattergeo"
        },
        {
         "geo": "geo",
         "hovertemplate": "Local Government Areas=Bonny<br>Latitude=%{lat}<br>Longitude=%{lon}<extra></extra>",
         "lat": [
          4.5057810499999995
         ],
         "legendgroup": "Bonny",
         "lon": [
          7.203465952746459
         ],
         "marker": {
          "color": "#00cc96",
          "symbol": "circle"
         },
         "mode": "markers",
         "name": "Bonny",
         "showlegend": true,
         "type": "scattergeo"
        },
        {
         "geo": "geo",
         "hovertemplate": "Local Government Areas=Degema<br>Latitude=%{lat}<br>Longitude=%{lon}<extra></extra>",
         "lat": [
          4.7579876
         ],
         "legendgroup": "Degema",
         "lon": [
          6.7680087
         ],
         "marker": {
          "color": "#ab63fa",
          "symbol": "circle"
         },
         "mode": "markers",
         "name": "Degema",
         "showlegend": true,
         "type": "scattergeo"
        },
        {
         "geo": "geo",
         "hovertemplate": "Local Government Areas=Eleme<br>Latitude=%{lat}<br>Longitude=%{lon}<extra></extra>",
         "lat": [
          4.786104
         ],
         "legendgroup": "Eleme",
         "lon": [
          7.148448227532709
         ],
         "marker": {
          "color": "#FFA15A",
          "symbol": "circle"
         },
         "mode": "markers",
         "name": "Eleme",
         "showlegend": true,
         "type": "scattergeo"
        },
        {
         "geo": "geo",
         "hovertemplate": "Local Government Areas=Emuoha<br>Latitude=%{lat}<br>Longitude=%{lon}<extra></extra>",
         "lat": [
          5.0315990500000005
         ],
         "legendgroup": "Emuoha",
         "lon": [
          6.763568631220181
         ],
         "marker": {
          "color": "#19d3f3",
          "symbol": "circle"
         },
         "mode": "markers",
         "name": "Emuoha",
         "showlegend": true,
         "type": "scattergeo"
        },
        {
         "geo": "geo",
         "hovertemplate": "Local Government Areas=Etche<br>Latitude=%{lat}<br>Longitude=%{lon}<extra></extra>",
         "lat": [
          5.0765321
         ],
         "legendgroup": "Etche",
         "lon": [
          7.092638789196567
         ],
         "marker": {
          "color": "#FF6692",
          "symbol": "circle"
         },
         "mode": "markers",
         "name": "Etche",
         "showlegend": true,
         "type": "scattergeo"
        },
        {
         "geo": "geo",
         "hovertemplate": "Local Government Areas=Gokana<br>Latitude=%{lat}<br>Longitude=%{lon}<extra></extra>",
         "lat": [
          4.6578536
         ],
         "legendgroup": "Gokana",
         "lon": [
          7.294484674317097
         ],
         "marker": {
          "color": "#B6E880",
          "symbol": "circle"
         },
         "mode": "markers",
         "name": "Gokana",
         "showlegend": true,
         "type": "scattergeo"
        },
        {
         "geo": "geo",
         "hovertemplate": "Local Government Areas=Ikwerre<br>Latitude=%{lat}<br>Longitude=%{lon}<extra></extra>",
         "lat": [
          5.07051515
         ],
         "legendgroup": "Ikwerre",
         "lon": [
          6.882004611347118
         ],
         "marker": {
          "color": "#FF97FF",
          "symbol": "circle"
         },
         "mode": "markers",
         "name": "Ikwerre",
         "showlegend": true,
         "type": "scattergeo"
        },
        {
         "geo": "geo",
         "hovertemplate": "Local Government Areas=Khana<br>Latitude=%{lat}<br>Longitude=%{lon}<extra></extra>",
         "lat": [
          4.6693695
         ],
         "legendgroup": "Khana",
         "lon": [
          7.437540599064871
         ],
         "marker": {
          "color": "#FECB52",
          "symbol": "circle"
         },
         "mode": "markers",
         "name": "Khana",
         "showlegend": true,
         "type": "scattergeo"
        },
        {
         "geo": "geo",
         "hovertemplate": "Local Government Areas=Obio/Akpor<br>Latitude=%{lat}<br>Longitude=%{lon}<extra></extra>",
         "lat": [
          4.86630685
         ],
         "legendgroup": "Obio/Akpor",
         "lon": [
          7.020215533605061
         ],
         "marker": {
          "color": "#636efa",
          "symbol": "circle"
         },
         "mode": "markers",
         "name": "Obio/Akpor",
         "showlegend": true,
         "type": "scattergeo"
        },
        {
         "geo": "geo",
         "hovertemplate": "Local Government Areas=Ogba/Egbema/Ndoni<br>Latitude=%{lat}<br>Longitude=%{lon}<extra></extra>",
         "lat": [
          5.4512857
         ],
         "legendgroup": "Ogba/Egbema/Ndoni",
         "lon": [
          6.640917843681434
         ],
         "marker": {
          "color": "#EF553B",
          "symbol": "circle"
         },
         "mode": "markers",
         "name": "Ogba/Egbema/Ndoni",
         "showlegend": true,
         "type": "scattergeo"
        },
        {
         "geo": "geo",
         "hovertemplate": "Local Government Areas=Ogu/Bolo<br>Latitude=%{lat}<br>Longitude=%{lon}<extra></extra>",
         "lat": [
          4.6742177
         ],
         "legendgroup": "Ogu/Bolo",
         "lon": [
          7.201701991644333
         ],
         "marker": {
          "color": "#00cc96",
          "symbol": "circle"
         },
         "mode": "markers",
         "name": "Ogu/Bolo",
         "showlegend": true,
         "type": "scattergeo"
        },
        {
         "geo": "geo",
         "hovertemplate": "Local Government Areas=Okrika<br>Latitude=%{lat}<br>Longitude=%{lon}<extra></extra>",
         "lat": [
          4.69166895
         ],
         "legendgroup": "Okrika",
         "lon": [
          7.080727926636744
         ],
         "marker": {
          "color": "#ab63fa",
          "symbol": "circle"
         },
         "mode": "markers",
         "name": "Okrika",
         "showlegend": true,
         "type": "scattergeo"
        },
        {
         "geo": "geo",
         "hovertemplate": "Local Government Areas=Omuma<br>Latitude=%{lat}<br>Longitude=%{lon}<extra></extra>",
         "lat": [
          5.7565793
         ],
         "legendgroup": "Omuma",
         "lon": [
          6.9457363
         ],
         "marker": {
          "color": "#FFA15A",
          "symbol": "circle"
         },
         "mode": "markers",
         "name": "Omuma",
         "showlegend": true,
         "type": "scattergeo"
        },
        {
         "geo": "geo",
         "hovertemplate": "Local Government Areas=Opobo/Nkoro<br>Latitude=%{lat}<br>Longitude=%{lon}<extra></extra>",
         "lat": [
          4.509114
         ],
         "legendgroup": "Opobo/Nkoro",
         "lon": [
          7.522647157947575
         ],
         "marker": {
          "color": "#19d3f3",
          "symbol": "circle"
         },
         "mode": "markers",
         "name": "Opobo/Nkoro",
         "showlegend": true,
         "type": "scattergeo"
        },
        {
         "geo": "geo",
         "hovertemplate": "Local Government Areas=Oyigbo<br>Latitude=%{lat}<br>Longitude=%{lon}<extra></extra>",
         "lat": [
          4.8812902
         ],
         "legendgroup": "Oyigbo",
         "lon": [
          7.1329808
         ],
         "marker": {
          "color": "#FF6692",
          "symbol": "circle"
         },
         "mode": "markers",
         "name": "Oyigbo",
         "showlegend": true,
         "type": "scattergeo"
        },
        {
         "geo": "geo",
         "hovertemplate": "Local Government Areas=Port Harcourt<br>Latitude=%{lat}<br>Longitude=%{lon}<extra></extra>",
         "lat": [
          4.7676576
         ],
         "legendgroup": "Port Harcourt",
         "lon": [
          7.0188527
         ],
         "marker": {
          "color": "#B6E880",
          "symbol": "circle"
         },
         "mode": "markers",
         "name": "Port Harcourt",
         "showlegend": true,
         "type": "scattergeo"
        },
        {
         "geo": "geo",
         "hovertemplate": "Local Government Areas=Tai<br>Latitude=%{lat}<br>Longitude=%{lon}<extra></extra>",
         "lat": [
          4.769846449999999
         ],
         "legendgroup": "Tai",
         "lon": [
          7.261974961229366
         ],
         "marker": {
          "color": "#FF97FF",
          "symbol": "circle"
         },
         "mode": "markers",
         "name": "Tai",
         "showlegend": true,
         "type": "scattergeo"
        },
        {
         "geo": "geo",
         "hovertemplate": "Local Government Areas=Binji<br>Latitude=%{lat}<br>Longitude=%{lon}<extra></extra>",
         "lat": [
          13.2227727
         ],
         "legendgroup": "Binji",
         "lon": [
          4.9095532
         ],
         "marker": {
          "color": "#FECB52",
          "symbol": "circle"
         },
         "mode": "markers",
         "name": "Binji",
         "showlegend": true,
         "type": "scattergeo"
        },
        {
         "geo": "geo",
         "hovertemplate": "Local Government Areas=Bodinga<br>Latitude=%{lat}<br>Longitude=%{lon}<extra></extra>",
         "lat": [
          12.8442639
         ],
         "legendgroup": "Bodinga",
         "lon": [
          5.1463746
         ],
         "marker": {
          "color": "#636efa",
          "symbol": "circle"
         },
         "mode": "markers",
         "name": "Bodinga",
         "showlegend": true,
         "type": "scattergeo"
        },
        {
         "geo": "geo",
         "hovertemplate": "Local Government Areas=Dange Shuni<br>Latitude=%{lat}<br>Longitude=%{lon}<extra></extra>",
         "lat": [
          12.82565415
         ],
         "legendgroup": "Dange Shuni",
         "lon": [
          5.419104692160527
         ],
         "marker": {
          "color": "#EF553B",
          "symbol": "circle"
         },
         "mode": "markers",
         "name": "Dange Shuni",
         "showlegend": true,
         "type": "scattergeo"
        },
        {
         "geo": "geo",
         "hovertemplate": "Local Government Areas=Gada<br>Latitude=%{lat}<br>Longitude=%{lon}<extra></extra>",
         "lat": [
          13.7542229
         ],
         "legendgroup": "Gada",
         "lon": [
          5.6574918
         ],
         "marker": {
          "color": "#00cc96",
          "symbol": "circle"
         },
         "mode": "markers",
         "name": "Gada",
         "showlegend": true,
         "type": "scattergeo"
        },
        {
         "geo": "geo",
         "hovertemplate": "Local Government Areas=Goronyo<br>Latitude=%{lat}<br>Longitude=%{lon}<extra></extra>",
         "lat": [
          13.4400866
         ],
         "legendgroup": "Goronyo",
         "lon": [
          5.6738295
         ],
         "marker": {
          "color": "#ab63fa",
          "symbol": "circle"
         },
         "mode": "markers",
         "name": "Goronyo",
         "showlegend": true,
         "type": "scattergeo"
        },
        {
         "geo": "geo",
         "hovertemplate": "Local Government Areas=Gudu<br>Latitude=%{lat}<br>Longitude=%{lon}<extra></extra>",
         "lat": [
          9.0081772
         ],
         "legendgroup": "Gudu",
         "lon": [
          7.4799035
         ],
         "marker": {
          "color": "#FFA15A",
          "symbol": "circle"
         },
         "mode": "markers",
         "name": "Gudu",
         "showlegend": true,
         "type": "scattergeo"
        },
        {
         "geo": "geo",
         "hovertemplate": "Local Government Areas=Gwadabawa<br>Latitude=%{lat}<br>Longitude=%{lon}<extra></extra>",
         "lat": [
          13.35612
         ],
         "legendgroup": "Gwadabawa",
         "lon": [
          5.236642
         ],
         "marker": {
          "color": "#19d3f3",
          "symbol": "circle"
         },
         "mode": "markers",
         "name": "Gwadabawa",
         "showlegend": true,
         "type": "scattergeo"
        },
        {
         "geo": "geo",
         "hovertemplate": "Local Government Areas=Illela<br>Latitude=%{lat}<br>Longitude=%{lon}<extra></extra>",
         "lat": [
          13.7291802
         ],
         "legendgroup": "Illela",
         "lon": [
          5.2975234
         ],
         "marker": {
          "color": "#FF6692",
          "symbol": "circle"
         },
         "mode": "markers",
         "name": "Illela",
         "showlegend": true,
         "type": "scattergeo"
        },
        {
         "geo": "geo",
         "hovertemplate": "Local Government Areas=Isa<br>Latitude=%{lat}<br>Longitude=%{lon}<extra></extra>",
         "lat": [
          7.316667
         ],
         "legendgroup": "Isa",
         "lon": [
          10.133333
         ],
         "marker": {
          "color": "#B6E880",
          "symbol": "circle"
         },
         "mode": "markers",
         "name": "Isa",
         "showlegend": true,
         "type": "scattergeo"
        },
        {
         "geo": "geo",
         "hovertemplate": "Local Government Areas=Kebbe<br>Latitude=%{lat}<br>Longitude=%{lon}<extra></extra>",
         "lat": [
          12.128802
         ],
         "legendgroup": "Kebbe",
         "lon": [
          4.7350925
         ],
         "marker": {
          "color": "#FF97FF",
          "symbol": "circle"
         },
         "mode": "markers",
         "name": "Kebbe",
         "showlegend": true,
         "type": "scattergeo"
        },
        {
         "geo": "geo",
         "hovertemplate": "Local Government Areas=Kware<br>Latitude=%{lat}<br>Longitude=%{lon}<extra></extra>",
         "lat": [
          13.2179417
         ],
         "legendgroup": "Kware",
         "lon": [
          5.2656419
         ],
         "marker": {
          "color": "#FECB52",
          "symbol": "circle"
         },
         "mode": "markers",
         "name": "Kware",
         "showlegend": true,
         "type": "scattergeo"
        },
        {
         "geo": "geo",
         "hovertemplate": "Local Government Areas=Rabah<br>Latitude=%{lat}<br>Longitude=%{lon}<extra></extra>",
         "lat": [
          13.121329
         ],
         "legendgroup": "Rabah",
         "lon": [
          5.507414
         ],
         "marker": {
          "color": "#636efa",
          "symbol": "circle"
         },
         "mode": "markers",
         "name": "Rabah",
         "showlegend": true,
         "type": "scattergeo"
        },
        {
         "geo": "geo",
         "hovertemplate": "Local Government Areas=Sabon Birni<br>Latitude=%{lat}<br>Longitude=%{lon}<extra></extra>",
         "lat": [
          13.5609875
         ],
         "legendgroup": "Sabon Birni",
         "lon": [
          6.3250349
         ],
         "marker": {
          "color": "#EF553B",
          "symbol": "circle"
         },
         "mode": "markers",
         "name": "Sabon Birni",
         "showlegend": true,
         "type": "scattergeo"
        },
        {
         "geo": "geo",
         "hovertemplate": "Local Government Areas=Shagari<br>Latitude=%{lat}<br>Longitude=%{lon}<extra></extra>",
         "lat": [
          12.6275681
         ],
         "legendgroup": "Shagari",
         "lon": [
          4.992694
         ],
         "marker": {
          "color": "#00cc96",
          "symbol": "circle"
         },
         "mode": "markers",
         "name": "Shagari",
         "showlegend": true,
         "type": "scattergeo"
        },
        {
         "geo": "geo",
         "hovertemplate": "Local Government Areas=Silame<br>Latitude=%{lat}<br>Longitude=%{lon}<extra></extra>",
         "lat": [
          13.0384129
         ],
         "legendgroup": "Silame",
         "lon": [
          4.8446327
         ],
         "marker": {
          "color": "#ab63fa",
          "symbol": "circle"
         },
         "mode": "markers",
         "name": "Silame",
         "showlegend": true,
         "type": "scattergeo"
        },
        {
         "geo": "geo",
         "hovertemplate": "Local Government Areas=Sokoto North<br>Latitude=%{lat}<br>Longitude=%{lon}<extra></extra>",
         "lat": [
          13.066579099999998
         ],
         "legendgroup": "Sokoto North",
         "lon": [
          5.23319846830032
         ],
         "marker": {
          "color": "#FFA15A",
          "symbol": "circle"
         },
         "mode": "markers",
         "name": "Sokoto North",
         "showlegend": true,
         "type": "scattergeo"
        },
        {
         "geo": "geo",
         "hovertemplate": "Local Government Areas=Sokoto South<br>Latitude=%{lat}<br>Longitude=%{lon}<extra></extra>",
         "lat": [
          13.03565
         ],
         "legendgroup": "Sokoto South",
         "lon": [
          5.2629592028676555
         ],
         "marker": {
          "color": "#19d3f3",
          "symbol": "circle"
         },
         "mode": "markers",
         "name": "Sokoto South",
         "showlegend": true,
         "type": "scattergeo"
        },
        {
         "geo": "geo",
         "hovertemplate": "Local Government Areas=Tambuwal<br>Latitude=%{lat}<br>Longitude=%{lon}<extra></extra>",
         "lat": [
          12.38094635
         ],
         "legendgroup": "Tambuwal",
         "lon": [
          4.658580981088164
         ],
         "marker": {
          "color": "#FF6692",
          "symbol": "circle"
         },
         "mode": "markers",
         "name": "Tambuwal",
         "showlegend": true,
         "type": "scattergeo"
        },
        {
         "geo": "geo",
         "hovertemplate": "Local Government Areas=Tangaza<br>Latitude=%{lat}<br>Longitude=%{lon}<extra></extra>",
         "lat": [
          13.3683734
         ],
         "legendgroup": "Tangaza",
         "lon": [
          4.93822
         ],
         "marker": {
          "color": "#B6E880",
          "symbol": "circle"
         },
         "mode": "markers",
         "name": "Tangaza",
         "showlegend": true,
         "type": "scattergeo"
        },
        {
         "geo": "geo",
         "hovertemplate": "Local Government Areas=Tureta<br>Latitude=%{lat}<br>Longitude=%{lon}<extra></extra>",
         "lat": [
          12.5936444
         ],
         "legendgroup": "Tureta",
         "lon": [
          5.5443963
         ],
         "marker": {
          "color": "#FF97FF",
          "symbol": "circle"
         },
         "mode": "markers",
         "name": "Tureta",
         "showlegend": true,
         "type": "scattergeo"
        },
        {
         "geo": "geo",
         "hovertemplate": "Local Government Areas=Wamako<br>Latitude=%{lat}<br>Longitude=%{lon}<extra></extra>",
         "lat": [
          13.0300216
         ],
         "legendgroup": "Wamako",
         "lon": [
          5.1062018
         ],
         "marker": {
          "color": "#FECB52",
          "symbol": "circle"
         },
         "mode": "markers",
         "name": "Wamako",
         "showlegend": true,
         "type": "scattergeo"
        },
        {
         "geo": "geo",
         "hovertemplate": "Local Government Areas=Wurno<br>Latitude=%{lat}<br>Longitude=%{lon}<extra></extra>",
         "lat": [
          11.307399400000001
         ],
         "legendgroup": "Wurno",
         "lon": [
          9.635222758105368
         ],
         "marker": {
          "color": "#636efa",
          "symbol": "circle"
         },
         "mode": "markers",
         "name": "Wurno",
         "showlegend": true,
         "type": "scattergeo"
        },
        {
         "geo": "geo",
         "hovertemplate": "Local Government Areas=Yabo<br>Latitude=%{lat}<br>Longitude=%{lon}<extra></extra>",
         "lat": [
          12.721667
         ],
         "legendgroup": "Yabo",
         "lon": [
          5.015556
         ],
         "marker": {
          "color": "#EF553B",
          "symbol": "circle"
         },
         "mode": "markers",
         "name": "Yabo",
         "showlegend": true,
         "type": "scattergeo"
        },
        {
         "geo": "geo",
         "hovertemplate": "Local Government Areas=Ardo Kola<br>Latitude=%{lat}<br>Longitude=%{lon}<extra></extra>",
         "lat": [
          8.84709885
         ],
         "legendgroup": "Ardo Kola",
         "lon": [
          11.132519536742866
         ],
         "marker": {
          "color": "#00cc96",
          "symbol": "circle"
         },
         "mode": "markers",
         "name": "Ardo Kola",
         "showlegend": true,
         "type": "scattergeo"
        },
        {
         "geo": "geo",
         "hovertemplate": "Local Government Areas=Bali<br>Latitude=%{lat}<br>Longitude=%{lon}<extra></extra>",
         "lat": [
          9.516667
         ],
         "legendgroup": "Bali",
         "lon": [
          6.616667
         ],
         "marker": {
          "color": "#ab63fa",
          "symbol": "circle"
         },
         "mode": "markers",
         "name": "Bali",
         "showlegend": true,
         "type": "scattergeo"
        },
        {
         "geo": "geo",
         "hovertemplate": "Local Government Areas=Donga<br>Latitude=%{lat}<br>Longitude=%{lon}<extra></extra>",
         "lat": [
          7.7197122
         ],
         "legendgroup": "Donga",
         "lon": [
          10.0440735
         ],
         "marker": {
          "color": "#FFA15A",
          "symbol": "circle"
         },
         "mode": "markers",
         "name": "Donga",
         "showlegend": true,
         "type": "scattergeo"
        },
        {
         "geo": "geo",
         "hovertemplate": "Local Government Areas=Gashaka<br>Latitude=%{lat}<br>Longitude=%{lon}<extra></extra>",
         "lat": [
          7.3664116
         ],
         "legendgroup": "Gashaka",
         "lon": [
          11.4848672
         ],
         "marker": {
          "color": "#19d3f3",
          "symbol": "circle"
         },
         "mode": "markers",
         "name": "Gashaka",
         "showlegend": true,
         "type": "scattergeo"
        },
        {
         "geo": "geo",
         "hovertemplate": "Local Government Areas=Gassol<br>Latitude=%{lat}<br>Longitude=%{lon}<extra></extra>",
         "lat": [
          8.5353585
         ],
         "legendgroup": "Gassol",
         "lon": [
          10.4461097
         ],
         "marker": {
          "color": "#FF6692",
          "symbol": "circle"
         },
         "mode": "markers",
         "name": "Gassol",
         "showlegend": true,
         "type": "scattergeo"
        },
        {
         "geo": "geo",
         "hovertemplate": "Local Government Areas=Ibi<br>Latitude=%{lat}<br>Longitude=%{lon}<extra></extra>",
         "lat": [
          9.616667
         ],
         "legendgroup": "Ibi",
         "lon": [
          4.783333
         ],
         "marker": {
          "color": "#B6E880",
          "symbol": "circle"
         },
         "mode": "markers",
         "name": "Ibi",
         "showlegend": true,
         "type": "scattergeo"
        },
        {
         "geo": "geo",
         "hovertemplate": "Local Government Areas=Jalingo<br>Latitude=%{lat}<br>Longitude=%{lon}<extra></extra>",
         "lat": [
          8.8945377
         ],
         "legendgroup": "Jalingo",
         "lon": [
          11.3644261
         ],
         "marker": {
          "color": "#FF97FF",
          "symbol": "circle"
         },
         "mode": "markers",
         "name": "Jalingo",
         "showlegend": true,
         "type": "scattergeo"
        },
        {
         "geo": "geo",
         "hovertemplate": "Local Government Areas=Karim Lamido<br>Latitude=%{lat}<br>Longitude=%{lon}<extra></extra>",
         "lat": [
          9.3135012
         ],
         "legendgroup": "Karim Lamido",
         "lon": [
          11.1925669
         ],
         "marker": {
          "color": "#FECB52",
          "symbol": "circle"
         },
         "mode": "markers",
         "name": "Karim Lamido",
         "showlegend": true,
         "type": "scattergeo"
        },
        {
         "geo": "geo",
         "hovertemplate": "Local Government Areas=Lau<br>Latitude=%{lat}<br>Longitude=%{lon}<extra></extra>",
         "lat": [
          9.2074901
         ],
         "legendgroup": "Lau",
         "lon": [
          11.2757791
         ],
         "marker": {
          "color": "#636efa",
          "symbol": "circle"
         },
         "mode": "markers",
         "name": "Lau",
         "showlegend": true,
         "type": "scattergeo"
        },
        {
         "geo": "geo",
         "hovertemplate": "Local Government Areas=Sardauna<br>Latitude=%{lat}<br>Longitude=%{lon}<extra></extra>",
         "lat": [
          10.50548925
         ],
         "legendgroup": "Sardauna",
         "lon": [
          7.42320504635515
         ],
         "marker": {
          "color": "#EF553B",
          "symbol": "circle"
         },
         "mode": "markers",
         "name": "Sardauna",
         "showlegend": true,
         "type": "scattergeo"
        },
        {
         "geo": "geo",
         "hovertemplate": "Local Government Areas=Takum<br>Latitude=%{lat}<br>Longitude=%{lon}<extra></extra>",
         "lat": [
          7.266667
         ],
         "legendgroup": "Takum",
         "lon": [
          9.983333
         ],
         "marker": {
          "color": "#00cc96",
          "symbol": "circle"
         },
         "mode": "markers",
         "name": "Takum",
         "showlegend": true,
         "type": "scattergeo"
        },
        {
         "geo": "geo",
         "hovertemplate": "Local Government Areas=Ussa<br>Latitude=%{lat}<br>Longitude=%{lon}<extra></extra>",
         "lat": [
          10.013943
         ],
         "legendgroup": "Ussa",
         "lon": [
          6.102119
         ],
         "marker": {
          "color": "#ab63fa",
          "symbol": "circle"
         },
         "mode": "markers",
         "name": "Ussa",
         "showlegend": true,
         "type": "scattergeo"
        },
        {
         "geo": "geo",
         "hovertemplate": "Local Government Areas=Wukari<br>Latitude=%{lat}<br>Longitude=%{lon}<extra></extra>",
         "lat": [
          7.8705196
         ],
         "legendgroup": "Wukari",
         "lon": [
          9.7775523
         ],
         "marker": {
          "color": "#FFA15A",
          "symbol": "circle"
         },
         "mode": "markers",
         "name": "Wukari",
         "showlegend": true,
         "type": "scattergeo"
        },
        {
         "geo": "geo",
         "hovertemplate": "Local Government Areas=Yorro<br>Latitude=%{lat}<br>Longitude=%{lon}<extra></extra>",
         "lat": [
          8.75
         ],
         "legendgroup": "Yorro",
         "lon": [
          11.616667
         ],
         "marker": {
          "color": "#19d3f3",
          "symbol": "circle"
         },
         "mode": "markers",
         "name": "Yorro",
         "showlegend": true,
         "type": "scattergeo"
        },
        {
         "geo": "geo",
         "hovertemplate": "Local Government Areas=Zing<br>Latitude=%{lat}<br>Longitude=%{lon}<extra></extra>",
         "lat": [
          8.85858015
         ],
         "legendgroup": "Zing",
         "lon": [
          11.76508282612897
         ],
         "marker": {
          "color": "#FF6692",
          "symbol": "circle"
         },
         "mode": "markers",
         "name": "Zing",
         "showlegend": true,
         "type": "scattergeo"
        },
        {
         "geo": "geo",
         "hovertemplate": "Local Government Areas=Bade<br>Latitude=%{lat}<br>Longitude=%{lon}<extra></extra>",
         "lat": [
          11.830236
         ],
         "legendgroup": "Bade",
         "lon": [
          11.023603
         ],
         "marker": {
          "color": "#B6E880",
          "symbol": "circle"
         },
         "mode": "markers",
         "name": "Bade",
         "showlegend": true,
         "type": "scattergeo"
        },
        {
         "geo": "geo",
         "hovertemplate": "Local Government Areas=Bursari<br>Latitude=%{lat}<br>Longitude=%{lon}<extra></extra>",
         "lat": [
          12.4514335
         ],
         "legendgroup": "Bursari",
         "lon": [
          10.7178005
         ],
         "marker": {
          "color": "#FF97FF",
          "symbol": "circle"
         },
         "mode": "markers",
         "name": "Bursari",
         "showlegend": true,
         "type": "scattergeo"
        },
        {
         "geo": "geo",
         "hovertemplate": "Local Government Areas=Damaturu<br>Latitude=%{lat}<br>Longitude=%{lon}<extra></extra>",
         "lat": [
          11.747
         ],
         "legendgroup": "Damaturu",
         "lon": [
          11.9608
         ],
         "marker": {
          "color": "#FECB52",
          "symbol": "circle"
         },
         "mode": "markers",
         "name": "Damaturu",
         "showlegend": true,
         "type": "scattergeo"
        },
        {
         "geo": "geo",
         "hovertemplate": "Local Government Areas=Fika<br>Latitude=%{lat}<br>Longitude=%{lon}<extra></extra>",
         "lat": [
          11.2834
         ],
         "legendgroup": "Fika",
         "lon": [
          11.308
         ],
         "marker": {
          "color": "#636efa",
          "symbol": "circle"
         },
         "mode": "markers",
         "name": "Fika",
         "showlegend": true,
         "type": "scattergeo"
        },
        {
         "geo": "geo",
         "hovertemplate": "Local Government Areas=Fune<br>Latitude=%{lat}<br>Longitude=%{lon}<extra></extra>",
         "lat": [
          11.89202165
         ],
         "legendgroup": "Fune",
         "lon": [
          11.432449871033418
         ],
         "marker": {
          "color": "#EF553B",
          "symbol": "circle"
         },
         "mode": "markers",
         "name": "Fune",
         "showlegend": true,
         "type": "scattergeo"
        },
        {
         "geo": "geo",
         "hovertemplate": "Local Government Areas=Geidam<br>Latitude=%{lat}<br>Longitude=%{lon}<extra></extra>",
         "lat": [
          10.4612118
         ],
         "legendgroup": "Geidam",
         "lon": [
          11.9967485
         ],
         "marker": {
          "color": "#00cc96",
          "symbol": "circle"
         },
         "mode": "markers",
         "name": "Geidam",
         "showlegend": true,
         "type": "scattergeo"
        },
        {
         "geo": "geo",
         "hovertemplate": "Local Government Areas=Gujba<br>Latitude=%{lat}<br>Longitude=%{lon}<extra></extra>",
         "lat": [
          11.5032
         ],
         "legendgroup": "Gujba",
         "lon": [
          11.9367
         ],
         "marker": {
          "color": "#ab63fa",
          "symbol": "circle"
         },
         "mode": "markers",
         "name": "Gujba",
         "showlegend": true,
         "type": "scattergeo"
        },
        {
         "geo": "geo",
         "hovertemplate": "Local Government Areas=Gulani<br>Latitude=%{lat}<br>Longitude=%{lon}<extra></extra>",
         "lat": [
          10.7020545
         ],
         "legendgroup": "Gulani",
         "lon": [
          11.647731075315289
         ],
         "marker": {
          "color": "#FFA15A",
          "symbol": "circle"
         },
         "mode": "markers",
         "name": "Gulani",
         "showlegend": true,
         "type": "scattergeo"
        },
        {
         "geo": "geo",
         "hovertemplate": "Local Government Areas=Jakusko<br>Latitude=%{lat}<br>Longitude=%{lon}<extra></extra>",
         "lat": [
          12.34446145
         ],
         "legendgroup": "Jakusko",
         "lon": [
          10.801552533285502
         ],
         "marker": {
          "color": "#19d3f3",
          "symbol": "circle"
         },
         "mode": "markers",
         "name": "Jakusko",
         "showlegend": true,
         "type": "scattergeo"
        },
        {
         "geo": "geo",
         "hovertemplate": "Local Government Areas=Karasuwa<br>Latitude=%{lat}<br>Longitude=%{lon}<extra></extra>",
         "lat": [
          13.0000596
         ],
         "legendgroup": "Karasuwa",
         "lon": [
          10.671798465693108
         ],
         "marker": {
          "color": "#FF6692",
          "symbol": "circle"
         },
         "mode": "markers",
         "name": "Karasuwa",
         "showlegend": true,
         "type": "scattergeo"
        },
        {
         "geo": "geo",
         "hovertemplate": "Local Government Areas=Machina<br>Latitude=%{lat}<br>Longitude=%{lon}<extra></extra>",
         "lat": [
          13.1366163
         ],
         "legendgroup": "Machina",
         "lon": [
          10.0491736
         ],
         "marker": {
          "color": "#B6E880",
          "symbol": "circle"
         },
         "mode": "markers",
         "name": "Machina",
         "showlegend": true,
         "type": "scattergeo"
        },
        {
         "geo": "geo",
         "hovertemplate": "Local Government Areas=Nangere<br>Latitude=%{lat}<br>Longitude=%{lon}<extra></extra>",
         "lat": [
          11.864
         ],
         "legendgroup": "Nangere",
         "lon": [
          11.0698
         ],
         "marker": {
          "color": "#FF97FF",
          "symbol": "circle"
         },
         "mode": "markers",
         "name": "Nangere",
         "showlegend": true,
         "type": "scattergeo"
        },
        {
         "geo": "geo",
         "hovertemplate": "Local Government Areas=Nguru<br>Latitude=%{lat}<br>Longitude=%{lon}<extra></extra>",
         "lat": [
          5.483333
         ],
         "legendgroup": "Nguru",
         "lon": [
          7.233333
         ],
         "marker": {
          "color": "#FECB52",
          "symbol": "circle"
         },
         "mode": "markers",
         "name": "Nguru",
         "showlegend": true,
         "type": "scattergeo"
        },
        {
         "geo": "geo",
         "hovertemplate": "Local Government Areas=Potiskum<br>Latitude=%{lat}<br>Longitude=%{lon}<extra></extra>",
         "lat": [
          11.7122553
         ],
         "legendgroup": "Potiskum",
         "lon": [
          11.0762744
         ],
         "marker": {
          "color": "#636efa",
          "symbol": "circle"
         },
         "mode": "markers",
         "name": "Potiskum",
         "showlegend": true,
         "type": "scattergeo"
        },
        {
         "geo": "geo",
         "hovertemplate": "Local Government Areas=Yunusari<br>Latitude=%{lat}<br>Longitude=%{lon}<extra></extra>",
         "lat": [
          13.2502611
         ],
         "legendgroup": "Yunusari",
         "lon": [
          11.488660035359459
         ],
         "marker": {
          "color": "#EF553B",
          "symbol": "circle"
         },
         "mode": "markers",
         "name": "Yunusari",
         "showlegend": true,
         "type": "scattergeo"
        },
        {
         "geo": "geo",
         "hovertemplate": "Local Government Areas=Yusufari<br>Latitude=%{lat}<br>Longitude=%{lon}<extra></extra>",
         "lat": [
          13.0683
         ],
         "legendgroup": "Yusufari",
         "lon": [
          11.1758
         ],
         "marker": {
          "color": "#00cc96",
          "symbol": "circle"
         },
         "mode": "markers",
         "name": "Yusufari",
         "showlegend": true,
         "type": "scattergeo"
        },
        {
         "geo": "geo",
         "hovertemplate": "Local Government Areas=Anka<br>Latitude=%{lat}<br>Longitude=%{lon}<extra></extra>",
         "lat": [
          12.113814
         ],
         "legendgroup": "Anka",
         "lon": [
          5.9242728
         ],
         "marker": {
          "color": "#ab63fa",
          "symbol": "circle"
         },
         "mode": "markers",
         "name": "Anka",
         "showlegend": true,
         "type": "scattergeo"
        },
        {
         "geo": "geo",
         "hovertemplate": "Local Government Areas=Bakura<br>Latitude=%{lat}<br>Longitude=%{lon}<extra></extra>",
         "lat": [
          12.710459
         ],
         "legendgroup": "Bakura",
         "lon": [
          5.874872
         ],
         "marker": {
          "color": "#FFA15A",
          "symbol": "circle"
         },
         "mode": "markers",
         "name": "Bakura",
         "showlegend": true,
         "type": "scattergeo"
        },
        {
         "geo": "geo",
         "hovertemplate": "Local Government Areas=Birnin Magaji/Kiyaw<br>Latitude=%{lat}<br>Longitude=%{lon}<extra></extra>",
         "lat": [
          12.4719032
         ],
         "legendgroup": "Birnin Magaji/Kiyaw",
         "lon": [
          6.869485140778106
         ],
         "marker": {
          "color": "#19d3f3",
          "symbol": "circle"
         },
         "mode": "markers",
         "name": "Birnin Magaji/Kiyaw",
         "showlegend": true,
         "type": "scattergeo"
        },
        {
         "geo": "geo",
         "hovertemplate": "Local Government Areas=Bukkuyum<br>Latitude=%{lat}<br>Longitude=%{lon}<extra></extra>",
         "lat": [
          12.137692
         ],
         "legendgroup": "Bukkuyum",
         "lon": [
          5.466486
         ],
         "marker": {
          "color": "#FF6692",
          "symbol": "circle"
         },
         "mode": "markers",
         "name": "Bukkuyum",
         "showlegend": true,
         "type": "scattergeo"
        },
        {
         "geo": "geo",
         "hovertemplate": "Local Government Areas=Bungudu<br>Latitude=%{lat}<br>Longitude=%{lon}<extra></extra>",
         "lat": [
          9.533333
         ],
         "legendgroup": "Bungudu",
         "lon": [
          12.066667
         ],
         "marker": {
          "color": "#B6E880",
          "symbol": "circle"
         },
         "mode": "markers",
         "name": "Bungudu",
         "showlegend": true,
         "type": "scattergeo"
        },
        {
         "geo": "geo",
         "hovertemplate": "Local Government Areas=Chafe<br>Latitude=%{lat}<br>Longitude=%{lon}<extra></extra>",
         "lat": [
          11.9552725
         ],
         "legendgroup": "Chafe",
         "lon": [
          6.922322
         ],
         "marker": {
          "color": "#FF97FF",
          "symbol": "circle"
         },
         "mode": "markers",
         "name": "Chafe",
         "showlegend": true,
         "type": "scattergeo"
        },
        {
         "geo": "geo",
         "hovertemplate": "Local Government Areas=Gummi<br>Latitude=%{lat}<br>Longitude=%{lon}<extra></extra>",
         "lat": [
          12.1428755
         ],
         "legendgroup": "Gummi",
         "lon": [
          5.1190173
         ],
         "marker": {
          "color": "#FECB52",
          "symbol": "circle"
         },
         "mode": "markers",
         "name": "Gummi",
         "showlegend": true,
         "type": "scattergeo"
        },
        {
         "geo": "geo",
         "hovertemplate": "Local Government Areas=Gusau<br>Latitude=%{lat}<br>Longitude=%{lon}<extra></extra>",
         "lat": [
          12.1658358
         ],
         "legendgroup": "Gusau",
         "lon": [
          6.6606398
         ],
         "marker": {
          "color": "#636efa",
          "symbol": "circle"
         },
         "mode": "markers",
         "name": "Gusau",
         "showlegend": true,
         "type": "scattergeo"
        },
        {
         "geo": "geo",
         "hovertemplate": "Local Government Areas=Kaura Namoda<br>Latitude=%{lat}<br>Longitude=%{lon}<extra></extra>",
         "lat": [
          12.5941248
         ],
         "legendgroup": "Kaura Namoda",
         "lon": [
          6.5860718
         ],
         "marker": {
          "color": "#EF553B",
          "symbol": "circle"
         },
         "mode": "markers",
         "name": "Kaura Namoda",
         "showlegend": true,
         "type": "scattergeo"
        },
        {
         "geo": "geo",
         "hovertemplate": "Local Government Areas=Maradun<br>Latitude=%{lat}<br>Longitude=%{lon}<extra></extra>",
         "lat": [
          12.5697201
         ],
         "legendgroup": "Maradun",
         "lon": [
          6.2461535
         ],
         "marker": {
          "color": "#00cc96",
          "symbol": "circle"
         },
         "mode": "markers",
         "name": "Maradun",
         "showlegend": true,
         "type": "scattergeo"
        },
        {
         "geo": "geo",
         "hovertemplate": "Local Government Areas=Maru<br>Latitude=%{lat}<br>Longitude=%{lon}<extra></extra>",
         "lat": [
          12.3341665
         ],
         "legendgroup": "Maru",
         "lon": [
          6.4056856
         ],
         "marker": {
          "color": "#ab63fa",
          "symbol": "circle"
         },
         "mode": "markers",
         "name": "Maru",
         "showlegend": true,
         "type": "scattergeo"
        },
        {
         "geo": "geo",
         "hovertemplate": "Local Government Areas=Shinkafi<br>Latitude=%{lat}<br>Longitude=%{lon}<extra></extra>",
         "lat": [
          13.075339
         ],
         "legendgroup": "Shinkafi",
         "lon": [
          6.510465
         ],
         "marker": {
          "color": "#FFA15A",
          "symbol": "circle"
         },
         "mode": "markers",
         "name": "Shinkafi",
         "showlegend": true,
         "type": "scattergeo"
        },
        {
         "geo": "geo",
         "hovertemplate": "Local Government Areas=Talata Mafara<br>Latitude=%{lat}<br>Longitude=%{lon}<extra></extra>",
         "lat": [
          12.573167
         ],
         "legendgroup": "Talata Mafara",
         "lon": [
          6.05971
         ],
         "marker": {
          "color": "#19d3f3",
          "symbol": "circle"
         },
         "mode": "markers",
         "name": "Talata Mafara",
         "showlegend": true,
         "type": "scattergeo"
        },
        {
         "geo": "geo",
         "hovertemplate": "Local Government Areas=Zurmi<br>Latitude=%{lat}<br>Longitude=%{lon}<extra></extra>",
         "lat": [
          12.777604
         ],
         "legendgroup": "Zurmi",
         "lon": [
          6.7834006
         ],
         "marker": {
          "color": "#FF6692",
          "symbol": "circle"
         },
         "mode": "markers",
         "name": "Zurmi",
         "showlegend": true,
         "type": "scattergeo"
        }
       ],
       "layout": {
        "geo": {
         "center": {},
         "domain": {
          "x": [
           0,
           1
          ],
          "y": [
           0,
           1
          ]
         },
         "scope": "africa"
        },
        "legend": {
         "title": {
          "text": "Local Government Areas"
         },
         "tracegroupgap": 0
        },
        "margin": {
         "t": 60
        },
        "template": {
         "data": {
          "bar": [
           {
            "error_x": {
             "color": "#2a3f5f"
            },
            "error_y": {
             "color": "#2a3f5f"
            },
            "marker": {
             "line": {
              "color": "#E5ECF6",
              "width": 0.5
             },
             "pattern": {
              "fillmode": "overlay",
              "size": 10,
              "solidity": 0.2
             }
            },
            "type": "bar"
           }
          ],
          "barpolar": [
           {
            "marker": {
             "line": {
              "color": "#E5ECF6",
              "width": 0.5
             },
             "pattern": {
              "fillmode": "overlay",
              "size": 10,
              "solidity": 0.2
             }
            },
            "type": "barpolar"
           }
          ],
          "carpet": [
           {
            "aaxis": {
             "endlinecolor": "#2a3f5f",
             "gridcolor": "white",
             "linecolor": "white",
             "minorgridcolor": "white",
             "startlinecolor": "#2a3f5f"
            },
            "baxis": {
             "endlinecolor": "#2a3f5f",
             "gridcolor": "white",
             "linecolor": "white",
             "minorgridcolor": "white",
             "startlinecolor": "#2a3f5f"
            },
            "type": "carpet"
           }
          ],
          "choropleth": [
           {
            "colorbar": {
             "outlinewidth": 0,
             "ticks": ""
            },
            "type": "choropleth"
           }
          ],
          "contour": [
           {
            "colorbar": {
             "outlinewidth": 0,
             "ticks": ""
            },
            "colorscale": [
             [
              0,
              "#0d0887"
             ],
             [
              0.1111111111111111,
              "#46039f"
             ],
             [
              0.2222222222222222,
              "#7201a8"
             ],
             [
              0.3333333333333333,
              "#9c179e"
             ],
             [
              0.4444444444444444,
              "#bd3786"
             ],
             [
              0.5555555555555556,
              "#d8576b"
             ],
             [
              0.6666666666666666,
              "#ed7953"
             ],
             [
              0.7777777777777778,
              "#fb9f3a"
             ],
             [
              0.8888888888888888,
              "#fdca26"
             ],
             [
              1,
              "#f0f921"
             ]
            ],
            "type": "contour"
           }
          ],
          "contourcarpet": [
           {
            "colorbar": {
             "outlinewidth": 0,
             "ticks": ""
            },
            "type": "contourcarpet"
           }
          ],
          "heatmap": [
           {
            "colorbar": {
             "outlinewidth": 0,
             "ticks": ""
            },
            "colorscale": [
             [
              0,
              "#0d0887"
             ],
             [
              0.1111111111111111,
              "#46039f"
             ],
             [
              0.2222222222222222,
              "#7201a8"
             ],
             [
              0.3333333333333333,
              "#9c179e"
             ],
             [
              0.4444444444444444,
              "#bd3786"
             ],
             [
              0.5555555555555556,
              "#d8576b"
             ],
             [
              0.6666666666666666,
              "#ed7953"
             ],
             [
              0.7777777777777778,
              "#fb9f3a"
             ],
             [
              0.8888888888888888,
              "#fdca26"
             ],
             [
              1,
              "#f0f921"
             ]
            ],
            "type": "heatmap"
           }
          ],
          "heatmapgl": [
           {
            "colorbar": {
             "outlinewidth": 0,
             "ticks": ""
            },
            "colorscale": [
             [
              0,
              "#0d0887"
             ],
             [
              0.1111111111111111,
              "#46039f"
             ],
             [
              0.2222222222222222,
              "#7201a8"
             ],
             [
              0.3333333333333333,
              "#9c179e"
             ],
             [
              0.4444444444444444,
              "#bd3786"
             ],
             [
              0.5555555555555556,
              "#d8576b"
             ],
             [
              0.6666666666666666,
              "#ed7953"
             ],
             [
              0.7777777777777778,
              "#fb9f3a"
             ],
             [
              0.8888888888888888,
              "#fdca26"
             ],
             [
              1,
              "#f0f921"
             ]
            ],
            "type": "heatmapgl"
           }
          ],
          "histogram": [
           {
            "marker": {
             "pattern": {
              "fillmode": "overlay",
              "size": 10,
              "solidity": 0.2
             }
            },
            "type": "histogram"
           }
          ],
          "histogram2d": [
           {
            "colorbar": {
             "outlinewidth": 0,
             "ticks": ""
            },
            "colorscale": [
             [
              0,
              "#0d0887"
             ],
             [
              0.1111111111111111,
              "#46039f"
             ],
             [
              0.2222222222222222,
              "#7201a8"
             ],
             [
              0.3333333333333333,
              "#9c179e"
             ],
             [
              0.4444444444444444,
              "#bd3786"
             ],
             [
              0.5555555555555556,
              "#d8576b"
             ],
             [
              0.6666666666666666,
              "#ed7953"
             ],
             [
              0.7777777777777778,
              "#fb9f3a"
             ],
             [
              0.8888888888888888,
              "#fdca26"
             ],
             [
              1,
              "#f0f921"
             ]
            ],
            "type": "histogram2d"
           }
          ],
          "histogram2dcontour": [
           {
            "colorbar": {
             "outlinewidth": 0,
             "ticks": ""
            },
            "colorscale": [
             [
              0,
              "#0d0887"
             ],
             [
              0.1111111111111111,
              "#46039f"
             ],
             [
              0.2222222222222222,
              "#7201a8"
             ],
             [
              0.3333333333333333,
              "#9c179e"
             ],
             [
              0.4444444444444444,
              "#bd3786"
             ],
             [
              0.5555555555555556,
              "#d8576b"
             ],
             [
              0.6666666666666666,
              "#ed7953"
             ],
             [
              0.7777777777777778,
              "#fb9f3a"
             ],
             [
              0.8888888888888888,
              "#fdca26"
             ],
             [
              1,
              "#f0f921"
             ]
            ],
            "type": "histogram2dcontour"
           }
          ],
          "mesh3d": [
           {
            "colorbar": {
             "outlinewidth": 0,
             "ticks": ""
            },
            "type": "mesh3d"
           }
          ],
          "parcoords": [
           {
            "line": {
             "colorbar": {
              "outlinewidth": 0,
              "ticks": ""
             }
            },
            "type": "parcoords"
           }
          ],
          "pie": [
           {
            "automargin": true,
            "type": "pie"
           }
          ],
          "scatter": [
           {
            "fillpattern": {
             "fillmode": "overlay",
             "size": 10,
             "solidity": 0.2
            },
            "type": "scatter"
           }
          ],
          "scatter3d": [
           {
            "line": {
             "colorbar": {
              "outlinewidth": 0,
              "ticks": ""
             }
            },
            "marker": {
             "colorbar": {
              "outlinewidth": 0,
              "ticks": ""
             }
            },
            "type": "scatter3d"
           }
          ],
          "scattercarpet": [
           {
            "marker": {
             "colorbar": {
              "outlinewidth": 0,
              "ticks": ""
             }
            },
            "type": "scattercarpet"
           }
          ],
          "scattergeo": [
           {
            "marker": {
             "colorbar": {
              "outlinewidth": 0,
              "ticks": ""
             }
            },
            "type": "scattergeo"
           }
          ],
          "scattergl": [
           {
            "marker": {
             "colorbar": {
              "outlinewidth": 0,
              "ticks": ""
             }
            },
            "type": "scattergl"
           }
          ],
          "scattermapbox": [
           {
            "marker": {
             "colorbar": {
              "outlinewidth": 0,
              "ticks": ""
             }
            },
            "type": "scattermapbox"
           }
          ],
          "scatterpolar": [
           {
            "marker": {
             "colorbar": {
              "outlinewidth": 0,
              "ticks": ""
             }
            },
            "type": "scatterpolar"
           }
          ],
          "scatterpolargl": [
           {
            "marker": {
             "colorbar": {
              "outlinewidth": 0,
              "ticks": ""
             }
            },
            "type": "scatterpolargl"
           }
          ],
          "scatterternary": [
           {
            "marker": {
             "colorbar": {
              "outlinewidth": 0,
              "ticks": ""
             }
            },
            "type": "scatterternary"
           }
          ],
          "surface": [
           {
            "colorbar": {
             "outlinewidth": 0,
             "ticks": ""
            },
            "colorscale": [
             [
              0,
              "#0d0887"
             ],
             [
              0.1111111111111111,
              "#46039f"
             ],
             [
              0.2222222222222222,
              "#7201a8"
             ],
             [
              0.3333333333333333,
              "#9c179e"
             ],
             [
              0.4444444444444444,
              "#bd3786"
             ],
             [
              0.5555555555555556,
              "#d8576b"
             ],
             [
              0.6666666666666666,
              "#ed7953"
             ],
             [
              0.7777777777777778,
              "#fb9f3a"
             ],
             [
              0.8888888888888888,
              "#fdca26"
             ],
             [
              1,
              "#f0f921"
             ]
            ],
            "type": "surface"
           }
          ],
          "table": [
           {
            "cells": {
             "fill": {
              "color": "#EBF0F8"
             },
             "line": {
              "color": "white"
             }
            },
            "header": {
             "fill": {
              "color": "#C8D4E3"
             },
             "line": {
              "color": "white"
             }
            },
            "type": "table"
           }
          ]
         },
         "layout": {
          "annotationdefaults": {
           "arrowcolor": "#2a3f5f",
           "arrowhead": 0,
           "arrowwidth": 1
          },
          "autotypenumbers": "strict",
          "coloraxis": {
           "colorbar": {
            "outlinewidth": 0,
            "ticks": ""
           }
          },
          "colorscale": {
           "diverging": [
            [
             0,
             "#8e0152"
            ],
            [
             0.1,
             "#c51b7d"
            ],
            [
             0.2,
             "#de77ae"
            ],
            [
             0.3,
             "#f1b6da"
            ],
            [
             0.4,
             "#fde0ef"
            ],
            [
             0.5,
             "#f7f7f7"
            ],
            [
             0.6,
             "#e6f5d0"
            ],
            [
             0.7,
             "#b8e186"
            ],
            [
             0.8,
             "#7fbc41"
            ],
            [
             0.9,
             "#4d9221"
            ],
            [
             1,
             "#276419"
            ]
           ],
           "sequential": [
            [
             0,
             "#0d0887"
            ],
            [
             0.1111111111111111,
             "#46039f"
            ],
            [
             0.2222222222222222,
             "#7201a8"
            ],
            [
             0.3333333333333333,
             "#9c179e"
            ],
            [
             0.4444444444444444,
             "#bd3786"
            ],
            [
             0.5555555555555556,
             "#d8576b"
            ],
            [
             0.6666666666666666,
             "#ed7953"
            ],
            [
             0.7777777777777778,
             "#fb9f3a"
            ],
            [
             0.8888888888888888,
             "#fdca26"
            ],
            [
             1,
             "#f0f921"
            ]
           ],
           "sequentialminus": [
            [
             0,
             "#0d0887"
            ],
            [
             0.1111111111111111,
             "#46039f"
            ],
            [
             0.2222222222222222,
             "#7201a8"
            ],
            [
             0.3333333333333333,
             "#9c179e"
            ],
            [
             0.4444444444444444,
             "#bd3786"
            ],
            [
             0.5555555555555556,
             "#d8576b"
            ],
            [
             0.6666666666666666,
             "#ed7953"
            ],
            [
             0.7777777777777778,
             "#fb9f3a"
            ],
            [
             0.8888888888888888,
             "#fdca26"
            ],
            [
             1,
             "#f0f921"
            ]
           ]
          },
          "colorway": [
           "#636efa",
           "#EF553B",
           "#00cc96",
           "#ab63fa",
           "#FFA15A",
           "#19d3f3",
           "#FF6692",
           "#B6E880",
           "#FF97FF",
           "#FECB52"
          ],
          "font": {
           "color": "#2a3f5f"
          },
          "geo": {
           "bgcolor": "white",
           "lakecolor": "white",
           "landcolor": "#E5ECF6",
           "showlakes": true,
           "showland": true,
           "subunitcolor": "white"
          },
          "hoverlabel": {
           "align": "left"
          },
          "hovermode": "closest",
          "mapbox": {
           "style": "light"
          },
          "paper_bgcolor": "white",
          "plot_bgcolor": "#E5ECF6",
          "polar": {
           "angularaxis": {
            "gridcolor": "white",
            "linecolor": "white",
            "ticks": ""
           },
           "bgcolor": "#E5ECF6",
           "radialaxis": {
            "gridcolor": "white",
            "linecolor": "white",
            "ticks": ""
           }
          },
          "scene": {
           "xaxis": {
            "backgroundcolor": "#E5ECF6",
            "gridcolor": "white",
            "gridwidth": 2,
            "linecolor": "white",
            "showbackground": true,
            "ticks": "",
            "zerolinecolor": "white"
           },
           "yaxis": {
            "backgroundcolor": "#E5ECF6",
            "gridcolor": "white",
            "gridwidth": 2,
            "linecolor": "white",
            "showbackground": true,
            "ticks": "",
            "zerolinecolor": "white"
           },
           "zaxis": {
            "backgroundcolor": "#E5ECF6",
            "gridcolor": "white",
            "gridwidth": 2,
            "linecolor": "white",
            "showbackground": true,
            "ticks": "",
            "zerolinecolor": "white"
           }
          },
          "shapedefaults": {
           "line": {
            "color": "#2a3f5f"
           }
          },
          "ternary": {
           "aaxis": {
            "gridcolor": "white",
            "linecolor": "white",
            "ticks": ""
           },
           "baxis": {
            "gridcolor": "white",
            "linecolor": "white",
            "ticks": ""
           },
           "bgcolor": "#E5ECF6",
           "caxis": {
            "gridcolor": "white",
            "linecolor": "white",
            "ticks": ""
           }
          },
          "title": {
           "x": 0.05
          },
          "xaxis": {
           "automargin": true,
           "gridcolor": "white",
           "linecolor": "white",
           "ticks": "",
           "title": {
            "standoff": 15
           },
           "zerolinecolor": "white",
           "zerolinewidth": 2
          },
          "yaxis": {
           "automargin": true,
           "gridcolor": "white",
           "linecolor": "white",
           "ticks": "",
           "title": {
            "standoff": 15
           },
           "zerolinecolor": "white",
           "zerolinewidth": 2
          }
         }
        }
       }
      }
     },
     "metadata": {},
     "output_type": "display_data"
    }
   ],
   "source": [
    "fig.show()"
   ]
  },
  {
   "cell_type": "code",
   "execution_count": 19,
   "metadata": {},
   "outputs": [],
   "source": [
    "data = cities[[\"Latitude\", \"Longitude\"]]"
   ]
  },
  {
   "cell_type": "code",
   "execution_count": 20,
   "metadata": {},
   "outputs": [],
   "source": [
    "from sklearn.cluster import KMeans"
   ]
  },
  {
   "cell_type": "code",
   "execution_count": 36,
   "metadata": {},
   "outputs": [],
   "source": [
    "kmeans = KMeans(7, random_state=51)"
   ]
  },
  {
   "cell_type": "code",
   "execution_count": 37,
   "metadata": {},
   "outputs": [
    {
     "name": "stderr",
     "output_type": "stream",
     "text": [
      "c:\\Users\\Eyimo\\anaconda3\\lib\\site-packages\\sklearn\\cluster\\_kmeans.py:1334: UserWarning:\n",
      "\n",
      "KMeans is known to have a memory leak on Windows with MKL, when there are less chunks than available threads. You can avoid it by setting the environment variable OMP_NUM_THREADS=3.\n",
      "\n"
     ]
    },
    {
     "data": {
      "text/html": [
       "<style>#sk-container-id-2 {color: black;background-color: white;}#sk-container-id-2 pre{padding: 0;}#sk-container-id-2 div.sk-toggleable {background-color: white;}#sk-container-id-2 label.sk-toggleable__label {cursor: pointer;display: block;width: 100%;margin-bottom: 0;padding: 0.3em;box-sizing: border-box;text-align: center;}#sk-container-id-2 label.sk-toggleable__label-arrow:before {content: \"▸\";float: left;margin-right: 0.25em;color: #696969;}#sk-container-id-2 label.sk-toggleable__label-arrow:hover:before {color: black;}#sk-container-id-2 div.sk-estimator:hover label.sk-toggleable__label-arrow:before {color: black;}#sk-container-id-2 div.sk-toggleable__content {max-height: 0;max-width: 0;overflow: hidden;text-align: left;background-color: #f0f8ff;}#sk-container-id-2 div.sk-toggleable__content pre {margin: 0.2em;color: black;border-radius: 0.25em;background-color: #f0f8ff;}#sk-container-id-2 input.sk-toggleable__control:checked~div.sk-toggleable__content {max-height: 200px;max-width: 100%;overflow: auto;}#sk-container-id-2 input.sk-toggleable__control:checked~label.sk-toggleable__label-arrow:before {content: \"▾\";}#sk-container-id-2 div.sk-estimator input.sk-toggleable__control:checked~label.sk-toggleable__label {background-color: #d4ebff;}#sk-container-id-2 div.sk-label input.sk-toggleable__control:checked~label.sk-toggleable__label {background-color: #d4ebff;}#sk-container-id-2 input.sk-hidden--visually {border: 0;clip: rect(1px 1px 1px 1px);clip: rect(1px, 1px, 1px, 1px);height: 1px;margin: -1px;overflow: hidden;padding: 0;position: absolute;width: 1px;}#sk-container-id-2 div.sk-estimator {font-family: monospace;background-color: #f0f8ff;border: 1px dotted black;border-radius: 0.25em;box-sizing: border-box;margin-bottom: 0.5em;}#sk-container-id-2 div.sk-estimator:hover {background-color: #d4ebff;}#sk-container-id-2 div.sk-parallel-item::after {content: \"\";width: 100%;border-bottom: 1px solid gray;flex-grow: 1;}#sk-container-id-2 div.sk-label:hover label.sk-toggleable__label {background-color: #d4ebff;}#sk-container-id-2 div.sk-serial::before {content: \"\";position: absolute;border-left: 1px solid gray;box-sizing: border-box;top: 0;bottom: 0;left: 50%;z-index: 0;}#sk-container-id-2 div.sk-serial {display: flex;flex-direction: column;align-items: center;background-color: white;padding-right: 0.2em;padding-left: 0.2em;position: relative;}#sk-container-id-2 div.sk-item {position: relative;z-index: 1;}#sk-container-id-2 div.sk-parallel {display: flex;align-items: stretch;justify-content: center;background-color: white;position: relative;}#sk-container-id-2 div.sk-item::before, #sk-container-id-2 div.sk-parallel-item::before {content: \"\";position: absolute;border-left: 1px solid gray;box-sizing: border-box;top: 0;bottom: 0;left: 50%;z-index: -1;}#sk-container-id-2 div.sk-parallel-item {display: flex;flex-direction: column;z-index: 1;position: relative;background-color: white;}#sk-container-id-2 div.sk-parallel-item:first-child::after {align-self: flex-end;width: 50%;}#sk-container-id-2 div.sk-parallel-item:last-child::after {align-self: flex-start;width: 50%;}#sk-container-id-2 div.sk-parallel-item:only-child::after {width: 0;}#sk-container-id-2 div.sk-dashed-wrapped {border: 1px dashed gray;margin: 0 0.4em 0.5em 0.4em;box-sizing: border-box;padding-bottom: 0.4em;background-color: white;}#sk-container-id-2 div.sk-label label {font-family: monospace;font-weight: bold;display: inline-block;line-height: 1.2em;}#sk-container-id-2 div.sk-label-container {text-align: center;}#sk-container-id-2 div.sk-container {/* jupyter's `normalize.less` sets `[hidden] { display: none; }` but bootstrap.min.css set `[hidden] { display: none !important; }` so we also need the `!important` here to be able to override the default hidden behavior on the sphinx rendered scikit-learn.org. See: https://github.com/scikit-learn/scikit-learn/issues/21755 */display: inline-block !important;position: relative;}#sk-container-id-2 div.sk-text-repr-fallback {display: none;}</style><div id=\"sk-container-id-2\" class=\"sk-top-container\"><div class=\"sk-text-repr-fallback\"><pre>KMeans(n_clusters=7, random_state=51)</pre><b>In a Jupyter environment, please rerun this cell to show the HTML representation or trust the notebook. <br />On GitHub, the HTML representation is unable to render, please try loading this page with nbviewer.org.</b></div><div class=\"sk-container\" hidden><div class=\"sk-item\"><div class=\"sk-estimator sk-toggleable\"><input class=\"sk-toggleable__control sk-hidden--visually\" id=\"sk-estimator-id-2\" type=\"checkbox\" checked><label for=\"sk-estimator-id-2\" class=\"sk-toggleable__label sk-toggleable__label-arrow\">KMeans</label><div class=\"sk-toggleable__content\"><pre>KMeans(n_clusters=7, random_state=51)</pre></div></div></div></div></div>"
      ],
      "text/plain": [
       "KMeans(n_clusters=7, random_state=51)"
      ]
     },
     "execution_count": 37,
     "metadata": {},
     "output_type": "execute_result"
    }
   ],
   "source": [
    "kmeans.fit(data)"
   ]
  },
  {
   "cell_type": "code",
   "execution_count": 38,
   "metadata": {},
   "outputs": [],
   "source": [
    "clusters = kmeans.predict(data)"
   ]
  },
  {
   "cell_type": "code",
   "execution_count": 39,
   "metadata": {},
   "outputs": [],
   "source": [
    "cities[\"region\"] = clusters"
   ]
  },
  {
   "cell_type": "code",
   "execution_count": 40,
   "metadata": {},
   "outputs": [],
   "source": [
    "def close_city(city_name):\n",
    "    # cluster = cities.loc[cities[\"City\"] == city_name, \"region\"]\n",
    "    cluster = cities.loc[cities[\"Local Government Areas\"] == city_name, \"region\"]\n",
    "    cluster = cluster.iloc[0]\n",
    "    # closest_cities = cities.loc[cities[\"region\"] == cluster, \"City\"]\n",
    "    closest_cities = cities.loc[cities[\"region\"] == cluster, \"Local Government Areas\"]\n",
    "\n",
    "    for city in range(len(closest_cities)):\n",
    "        if closest_cities.iloc[city] == city_name:\n",
    "            continue\n",
    "        else:\n",
    "            print(closest_cities.iloc[city])"
   ]
  },
  {
   "cell_type": "code",
   "execution_count": 41,
   "metadata": {},
   "outputs": [
    {
     "data": {
      "text/html": [
       "<div>\n",
       "<style scoped>\n",
       "    .dataframe tbody tr th:only-of-type {\n",
       "        vertical-align: middle;\n",
       "    }\n",
       "\n",
       "    .dataframe tbody tr th {\n",
       "        vertical-align: top;\n",
       "    }\n",
       "\n",
       "    .dataframe thead th {\n",
       "        text-align: right;\n",
       "    }\n",
       "</style>\n",
       "<table border=\"1\" class=\"dataframe\">\n",
       "  <thead>\n",
       "    <tr style=\"text-align: right;\">\n",
       "      <th></th>\n",
       "      <th>Local Government Areas</th>\n",
       "      <th>Latitude</th>\n",
       "      <th>Longitude</th>\n",
       "      <th>region</th>\n",
       "    </tr>\n",
       "  </thead>\n",
       "  <tbody>\n",
       "    <tr>\n",
       "      <th>106</th>\n",
       "      <td>Tafawa Balewa</td>\n",
       "      <td>9.760515</td>\n",
       "      <td>9.553537</td>\n",
       "      <td>2</td>\n",
       "    </tr>\n",
       "    <tr>\n",
       "      <th>302</th>\n",
       "      <td>Owerri North</td>\n",
       "      <td>5.432386</td>\n",
       "      <td>7.107475</td>\n",
       "      <td>4</td>\n",
       "    </tr>\n",
       "    <tr>\n",
       "      <th>342</th>\n",
       "      <td>Kagarko</td>\n",
       "      <td>9.493653</td>\n",
       "      <td>7.697765</td>\n",
       "      <td>2</td>\n",
       "    </tr>\n",
       "    <tr>\n",
       "      <th>542</th>\n",
       "      <td>Paikoro</td>\n",
       "      <td>9.493039</td>\n",
       "      <td>6.837679</td>\n",
       "      <td>5</td>\n",
       "    </tr>\n",
       "    <tr>\n",
       "      <th>247</th>\n",
       "      <td>Ise/Orun</td>\n",
       "      <td>7.420561</td>\n",
       "      <td>5.384951</td>\n",
       "      <td>5</td>\n",
       "    </tr>\n",
       "    <tr>\n",
       "      <th>293</th>\n",
       "      <td>Obowo</td>\n",
       "      <td>5.558565</td>\n",
       "      <td>7.360564</td>\n",
       "      <td>4</td>\n",
       "    </tr>\n",
       "    <tr>\n",
       "      <th>618</th>\n",
       "      <td>Akinyele</td>\n",
       "      <td>7.597832</td>\n",
       "      <td>3.916252</td>\n",
       "      <td>0</td>\n",
       "    </tr>\n",
       "    <tr>\n",
       "      <th>132</th>\n",
       "      <td>Vandeikya</td>\n",
       "      <td>6.833444</td>\n",
       "      <td>9.045834</td>\n",
       "      <td>2</td>\n",
       "    </tr>\n",
       "    <tr>\n",
       "      <th>334</th>\n",
       "      <td>Giwa</td>\n",
       "      <td>11.300000</td>\n",
       "      <td>7.450000</td>\n",
       "      <td>6</td>\n",
       "    </tr>\n",
       "    <tr>\n",
       "      <th>354</th>\n",
       "      <td>Zaria</td>\n",
       "      <td>11.024812</td>\n",
       "      <td>7.651853</td>\n",
       "      <td>6</td>\n",
       "    </tr>\n",
       "  </tbody>\n",
       "</table>\n",
       "</div>"
      ],
      "text/plain": [
       "    Local Government Areas   Latitude  Longitude  region\n",
       "106          Tafawa Balewa   9.760515   9.553537       2\n",
       "302           Owerri North   5.432386   7.107475       4\n",
       "342                Kagarko   9.493653   7.697765       2\n",
       "542                Paikoro   9.493039   6.837679       5\n",
       "247               Ise/Orun   7.420561   5.384951       5\n",
       "293                  Obowo   5.558565   7.360564       4\n",
       "618               Akinyele   7.597832   3.916252       0\n",
       "132              Vandeikya   6.833444   9.045834       2\n",
       "334                   Giwa  11.300000   7.450000       6\n",
       "354                  Zaria  11.024812   7.651853       6"
      ]
     },
     "execution_count": 41,
     "metadata": {},
     "output_type": "execute_result"
    }
   ],
   "source": [
    "cities.sample(10)"
   ]
  },
  {
   "cell_type": "code",
   "execution_count": 42,
   "metadata": {},
   "outputs": [
    {
     "name": "stdout",
     "output_type": "stream",
     "text": [
      "Ado\n",
      "Apa\n",
      "Bayo\n",
      "Warri North\n",
      "Ovia North-East\n",
      "Ovia South-West\n",
      "Efon\n",
      "Ekiti South-West\n",
      "Ijero\n",
      "Moba\n",
      "Arewa\n",
      "Baruten\n",
      "Ifelodun\n",
      "Ilorin West\n",
      "Irepodun\n",
      "Kaiama\n",
      "Moro\n",
      "Offa\n",
      "Oyun\n",
      "Agege\n",
      "Ajeromi-Ifelodun\n",
      "Alimosho\n",
      "Amuwo-Odofin\n",
      "Apapa\n",
      "Badagry\n",
      "Epe\n",
      "Eti Osa\n",
      "Ibeju-Lekki\n",
      "Ifako-Ijaiye\n",
      "Ikeja\n",
      "Ikorodu\n",
      "Kosofe\n",
      "Lagos Island\n",
      "Lagos Mainland\n",
      "Mushin\n",
      "Ojo\n",
      "Oshodi-Isolo\n",
      "Shomolu\n",
      "Surulere\n",
      "Gbako\n",
      "Tafa\n",
      "Abeokuta North\n",
      "Abeokuta South\n",
      "Ado-Odo/Ota\n",
      "Ewekoro\n",
      "Ifo\n",
      "Ijebu East\n",
      "Ijebu North\n",
      "Ijebu North East\n",
      "Ijebu Ode\n",
      "Ikenne\n",
      "Imeko Afon\n",
      "Ipokia\n",
      "Obafemi Owode\n",
      "Odeda\n",
      "Ogun Waterside\n",
      "Remo North\n",
      "Shagamu\n",
      "Yewa North\n",
      "Yewa South\n",
      "Akure South\n",
      "Ese Odo\n",
      "Idanre\n",
      "Ifedore\n",
      "Ilaje\n",
      "Ile Oluji/Okeigbo\n",
      "Irele\n",
      "Odigbo\n",
      "Okitipupa\n",
      "Ondo East\n",
      "Ondo West\n",
      "Aiyedire\n",
      "Atakunmosa East\n",
      "Atakunmosa West\n",
      "Boripe\n",
      "Ede North\n",
      "Ede South\n",
      "Egbedore\n",
      "Ejigbo\n",
      "Ife Central\n",
      "Ife East\n",
      "Ife North\n",
      "Ife South\n",
      "Ifelodun\n",
      "Ila\n",
      "Ilesa West\n",
      "Irepodun\n",
      "Irewole\n",
      "Isokan\n",
      "Iwo\n",
      "Obokun\n",
      "Odo Otin\n",
      "Ola Oluwa\n",
      "Olorunda\n",
      "Oriade\n",
      "Orolu\n",
      "Osogbo\n",
      "Afijio\n",
      "Akinyele\n",
      "Atiba\n",
      "Atisbo\n",
      "Egbeda\n",
      "Ibadan North\n",
      "Ibadan North-East\n",
      "Ibadan North-West\n",
      "Ibadan South-East\n",
      "Ibadan South-West\n",
      "Ibarapa Central\n",
      "Ibarapa East\n",
      "Ibarapa North\n",
      "Ido\n",
      "Irepo\n",
      "Iseyin\n",
      "Itesiwaju\n",
      "Iwajowa\n",
      "Kajola\n",
      "Lagelu\n",
      "Ogbomosho North\n",
      "Ogbomosho South\n",
      "Ogo Oluwa\n",
      "Olorunsogo\n",
      "Oluyole\n",
      "Ona Ara\n",
      "Orelope\n",
      "Ori Ire\n",
      "Oyo East\n",
      "Oyo West\n",
      "Saki East\n",
      "Saki West\n",
      "Surulere\n"
     ]
    }
   ],
   "source": [
    "close_city(\"Odogbolu\")"
   ]
  },
  {
   "cell_type": "code",
   "execution_count": 43,
   "metadata": {},
   "outputs": [
    {
     "data": {
      "application/vnd.plotly.v1+json": {
       "config": {
        "plotlyServerURL": "https://plot.ly"
       },
       "data": [
        {
         "geo": "geo",
         "hovertemplate": "Latitude=%{lat}<br>Longitude=%{lon}<br>region=%{marker.color}<extra></extra>",
         "lat": [
          5.0938628,
          5.08765915,
          5.3876203,
          5.559261,
          5.40927745,
          5.2795472,
          5.385552199999999,
          5.8080022499999995,
          5.1522714999999994,
          5.6629147500000006,
          5.19249225,
          5.0223493999999995,
          4.9369271,
          4.9791653,
          5.607821449999999,
          5.498079300000001,
          5.97147775,
          9.466667,
          10.5102225,
          8.4334477,
          9.3627979,
          10.1660843,
          10.2317055,
          8.7571276,
          10.230556,
          10.786603,
          10.0619115,
          8.871243,
          10.6204894,
          10.2801221,
          10.148035,
          9.4598443,
          9.9784484,
          9.7700491,
          8.11751,
          9.26628495,
          9.2581806,
          5.004073099999999,
          4.5130764,
          4.6360066,
          4.64273405,
          5.1035626,
          4.954823,
          4.8457415,
          4.5618715000000005,
          4.9179451499999995,
          5.2040105,
          4.5780012,
          5.18323465,
          4.60783505,
          5.181975,
          12.8730015,
          5.1444471,
          4.646251449999999,
          4.7047345499999995,
          4.8185556,
          4.90363455,
          4.7597313,
          5.266667,
          5.083333,
          4.63675835,
          4.8171249,
          4.82023505,
          4.7585318,
          4.9038458,
          5.0034754,
          4.722390900000001,
          5.0322447,
          5.9842248,
          6.314698249999999,
          6.4925694499999995,
          6.0922999,
          6.34178755,
          6.19405605,
          6.5346229000000005,
          6.2738049,
          5.9883647,
          6.13714625,
          6.0722537,
          5.8552964,
          6.1892624,
          6.0062320499999995,
          5.9604744499999995,
          5.9225016,
          6.1506953499999995,
          6.13936475,
          6.113402150000001,
          5.989224849999999,
          6.23959565,
          10.266055,
          10.6228284,
          9.666667,
          11.6793,
          10.993754,
          9.783333,
          12.1336358,
          9.45,
          11.3928,
          11.87706395,
          11.0749875,
          12.2867,
          10.42547115,
          11.3163,
          11.0753041,
          11.4583,
          9.7605154,
          10.0550723,
          11.183333,
          7.216667,
          6.621566,
          7.87317565,
          7.3,
          10.6179878,
          7.37784815,
          12.4566602,
          7.378216999999999,
          7.62104465,
          7.166667,
          7.1204698,
          8.7,
          7.66717125,
          12.1917,
          8.366667,
          7.00883295,
          7.25025535,
          6.84543,
          7.0632,
          7.1912599,
          7.3427,
          7.383333,
          7.1040665999999995,
          6.833444350000001,
          13.617475,
          10.72515255,
          11.54544,
          7.75,
          10.6146098,
          10.8690461,
          11.1506644,
          12.0348805,
          12.4978949,
          12.864006499999999,
          11.0831008,
          10.4545467,
          10.184332,
          12.150916,
          12.0826402,
          11.68179215,
          12.92146475,
          10.56220565,
          11.949381599999999,
          12.0780512,
          11.8395375,
          12.365027,
          13.066903499999999,
          12.6962838,
          12.3402064,
          12.449344450000002,
          10.20095185,
          7.3013,
          5.38964605,
          4.89613185,
          12.8132427,
          6.7068095,
          5.547368049999999,
          6.26803565,
          5.0153885,
          4.8629383,
          5.8739933,
          5.9626796,
          6.4864846,
          6.075254,
          6.6682429,
          5.1319545,
          6.52780295,
          6.58959245,
          6.36799405,
          6.1419725,
          5.1585943,
          5.3522824,
          5.6672926,
          5.9113228499999995,
          6.2361939,
          6.1849053000000005,
          5.52134205,
          5.3895204,
          5.6582752,
          5.8260994,
          5.7004104,
          6.30333,
          6.1303620500000005,
          5.2281298,
          5.83156395,
          9.75,
          5.486883649999999,
          5.360209449999999,
          5.8494399999999995,
          5.56435905,
          5.92353055,
          5.67044115,
          5.60422775,
          6.3208897,
          5.8602469500000005,
          6.1996918,
          6.2590742,
          6.1269331000000005,
          6.0716,
          6.4270885,
          5.9093492,
          6.583333,
          6.00455525,
          6.52403735,
          6.1461619,
          7.352393599999999,
          6.3811156,
          6.7047055,
          6.7867315,
          6.576807049999999,
          6.65464905,
          6.978096,
          7.187644000000001,
          6.996928199999999,
          6.6018648,
          6.199765449999999,
          6.0884175,
          6.229763050000001,
          6.3963337,
          6.47095345,
          7.030605550000001,
          6.92744635,
          6.52593615,
          7.6232482,
          7.366667,
          7.72080945,
          7.52346375,
          7.7210934,
          7.436137,
          7.6176543500000005,
          7.86334825,
          6.481944,
          7.491328,
          7.7888484,
          7.96015315,
          7.70622395,
          7.4205606,
          6.426657,
          7.799765,
          6.0679259000000005,
          6.0722225,
          6.548344500000001,
          6.44107845,
          6.4001342999999995,
          6.3832,
          6.7348,
          7.004796750000001,
          6.9519231,
          6.741861800000001,
          6.3371067,
          6.3215568,
          6.8561,
          6.2611,
          6.89582755,
          6.3227337,
          6.68966435,
          10.288991,
          9.833452,
          9.8350997,
          10.8237957,
          10.85419905,
          10.38301,
          9.8197489,
          12.0143961,
          11.0956,
          9.7357178,
          10.307170750000001,
          5.4188933,
          5.5631995,
          5.6882541,
          5.47328785,
          5.8611507,
          5.8053246000000005,
          5.6492083,
          5.5596812,
          5.68468955,
          5.6868982500000005,
          5.59354735,
          5.3274231,
          5.70549515,
          5.7442951,
          5.7111706,
          5.5585649,
          5.710435,
          5.4234836,
          5.822709100000001,
          5.8179105,
          5.84942675,
          5.72748475,
          5.7544954,
          5.479900600000001,
          5.432385699999999,
          5.40682745,
          5.79648875,
          12.335560749999999,
          12.7725464,
          12.7903,
          11.437844049999999,
          11.5185965,
          11.6909859,
          12.409167,
          12.436111,
          9.85,
          12.705938750000001,
          11.276389,
          12.779959,
          12.4526098,
          12.095743299999999,
          12.240556,
          12.4725,
          12.6538218,
          12.6932,
          11.782778,
          12.807222,
          12.5297795,
          12.2386199,
          12.1509952,
          12.6571,
          12.6512968,
          12.2724893,
          12.742809,
          10.662429,
          10.269119,
          11.3,
          10.788873,
          11.176471,
          12.42438985,
          9.4136358,
          9.8713601,
          10.5539962,
          10.475112,
          9.4936526,
          10.31921,
          9.64241625,
          10.575977,
          10.799135,
          11.306902,
          10.386966,
          11.370074,
          12.16229565,
          9.2458822,
          10.9832503,
          9.89681685,
          11.0248119,
          11.9678,
          12.566667,
          12.1577,
          11.68276125,
          12.220139849999999,
          11.6789172,
          12.00909205,
          12.4339363,
          11.79747965,
          12.142136,
          10.7332,
          12.032223,
          12.1704918,
          11.6515086,
          11.586468,
          11.818957099999999,
          12.12842285,
          11.98522885,
          11.9155,
          11.8556694,
          11.983542100000001,
          12.0296662,
          11.5295,
          11.7021,
          11.88889105,
          12.5025,
          8.966667,
          11.768602000000001,
          12.41926845,
          12.1771,
          8.4387868,
          11.56352025,
          11.94988025,
          11.5496,
          12.0484288,
          11.506619,
          11.56975825,
          11.97831265,
          12.05471305,
          12.295,
          12.1241928,
          12.0916,
          11.8748,
          11.8089,
          11.55445,
          12.9032052,
          12.7514663,
          12.8361455,
          12.6677035,
          12.670863,
          11.4169922,
          11.376431,
          12.2615684,
          11.76484385,
          12.8254446,
          12.4546453,
          11.719573,
          11.5232142,
          12.6396823,
          12.982695150000001,
          11.644006,
          13.0843917,
          11.930155,
          12.4289363,
          12.5630825,
          12.6674733,
          12.4647525,
          12.2748,
          11.785288,
          12.8531843,
          12.9784386,
          12.233938,
          12.1271737,
          12.84884,
          11.340138249999999,
          12.4079797,
          12.9604385,
          13.0541456,
          12.320311749999998,
          7.533333,
          12.7477288,
          12.901092949999999,
          11.4040393,
          12.4573462,
          12.0874215,
          7.85,
          11.5085455,
          12.4893811,
          12.2250004,
          12.3316145,
          11.4355339,
          12.0825973,
          10.407089,
          11.0657355,
          11.2106185,
          11.923972,
          11.69113305,
          11.7648,
          11.4334349,
          7.68441465,
          7.4631568,
          7.4063578,
          10.0986811,
          7.6887069,
          7.3545,
          7.1099854,
          7.03541445,
          7.842371,
          8.07009815,
          7.7949602,
          7.802355,
          8.140445750000001,
          7.3294933,
          7.4786734500000005,
          5.1367524,
          7.461039550000001,
          7.16977665,
          7.777827950000001,
          8.13475275,
          8.2763953,
          10.0024655,
          9.384549,
          5.75,
          7.736891,
          7.90451645,
          8.59327985,
          8.4404502,
          8.4864338,
          7.5675,
          8.2579064,
          9.6099484,
          8.083333,
          8.1560008,
          8.1803193,
          8.19984915,
          8.7281693,
          6.6252564,
          6.455121699999999,
          6.58434295,
          6.4470234,
          6.445187000000001,
          6.43932225,
          6.416667,
          6.4602312,
          6.4711251,
          6.6636025,
          6.6048591000000005,
          6.6191233,
          6.581974000000001,
          6.4536545499999995,
          6.49306105,
          6.526262,
          8.2151249,
          6.5400100000000005,
          6.533564500000001,
          6.487201450000001,
          8.9112888,
          8.1118123,
          8.383333,
          9.0113522,
          8.133333,
          8.8453176,
          8.85,
          9.6519332,
          8.4387868,
          8.72758815,
          8.366667,
          8.3862178,
          8.933333,
          9.0102795,
          10.745301399999999,
          9.083333,
          10.1967653,
          9.653333,
          9.533333,
          8.963337450000001,
          8.533333,
          11.6657505,
          8.7617343,
          9.1,
          9.066667,
          9.3823776,
          8.5,
          10.1337409,
          9.81550455,
          9.2957202,
          12.79622,
          9.49303915,
          12.1207203,
          11.1078532,
          9.956072,
          9.20816565,
          8.433333,
          9.720556,
          7.23449515,
          7.15928935,
          6.62447595,
          6.961698999999999,
          6.75629735,
          6.8181465,
          7.03213095,
          6.887079,
          6.8140077,
          6.90100505,
          7.66895115,
          6.649518,
          6.92400835,
          7.3122468000000005,
          6.8077001500000005,
          6.4625404,
          6.9953921,
          6.8477165,
          7.1260629,
          6.77780235,
          7.562587499999999,
          7.65017915,
          7.42249085,
          7.4008129,
          7.2520757499999995,
          7.22438455,
          6.22960115,
          7.109769,
          7.3528421,
          6.19638205,
          7.236932550000001,
          6.4894071,
          6.789224,
          6.504748,
          7.06680495,
          7.03314665,
          7.05101395,
          7.1962012,
          7.57245105,
          7.45221015,
          7.4867096,
          7.2263,
          7.86220215,
          7.7344181,
          7.65920755,
          7.7874849,
          6.550723,
          7.54636905,
          7.40341495,
          7.27761555,
          7.2248225,
          7.9618888000000005,
          7.90451645,
          7.666667,
          7.6245894,
          7.5675,
          7.42335375,
          7.2917009,
          7.633333,
          7.77440215,
          8.00744345,
          7.7457420500000005,
          7.87344765,
          7.5530772,
          7.9024198000000005,
          7.75832225,
          7.747811049999999,
          7.5978324,
          8.235692499999999,
          8.403148250000001,
          7.366667,
          7.42110345,
          7.3939066,
          7.4028109,
          7.355048,
          7.3733705,
          7.411516450000001,
          7.5840666500000005,
          7.64457465,
          7.5191533,
          9.024608149999999,
          7.9710106,
          8.2107134,
          7.990133500000001,
          8.083333,
          7.5116973,
          8.1568787,
          8.074718,
          7.9610822,
          6.7317895,
          7.2195716,
          7.258710949999999,
          8.7941346,
          8.3093052,
          7.87008105,
          7.95719315,
          8.71125365,
          8.6487861,
          6.487201450000001,
          9.3,
          9.575489999999999,
          10.0986811,
          9.872746,
          9.942195850000001,
          9.7587528,
          9.05,
          9.367178899999999,
          9.0494609,
          8.5842962,
          9.36222935,
          9.0122647,
          9.3285985,
          8.766416549999999,
          9.633249,
          8.878179,
          9.0952772,
          4.84693955,
          5.0504985,
          5.04196595,
          4.53362895,
          4.5061458000000005,
          4.7529381,
          4.5057810499999995,
          4.7579876,
          4.786104,
          5.0315990500000005,
          5.0765321,
          4.6578536,
          5.07051515,
          4.6693695,
          4.86630685,
          5.4512857,
          4.6742177,
          4.69166895,
          5.7565793,
          4.509114,
          4.8812902,
          4.7676576,
          4.769846449999999,
          13.2227727,
          12.8442639,
          12.82565415,
          13.7542229,
          13.4400866,
          9.0081772,
          13.35612,
          13.7291802,
          7.316667,
          12.128802,
          13.2179417,
          13.121329,
          13.5609875,
          12.6275681,
          13.0384129,
          13.066579099999998,
          13.03565,
          12.38094635,
          13.3683734,
          12.5936444,
          13.0300216,
          11.307399400000001,
          12.721667,
          8.84709885,
          9.516667,
          7.7197122,
          7.3664116,
          8.5353585,
          9.616667,
          8.8945377,
          9.3135012,
          9.2074901,
          10.50548925,
          7.266667,
          10.013943,
          7.8705196,
          8.75,
          8.85858015,
          11.830236,
          12.4514335,
          11.747,
          11.2834,
          11.89202165,
          10.4612118,
          11.5032,
          10.7020545,
          12.34446145,
          13.0000596,
          13.1366163,
          11.864,
          5.483333,
          11.7122553,
          13.2502611,
          13.0683,
          12.113814,
          12.710459,
          12.4719032,
          12.137692,
          9.533333,
          11.9552725,
          12.1428755,
          12.1658358,
          12.5941248,
          12.5697201,
          12.3341665,
          13.075339,
          12.573167,
          12.777604
         ],
         "legendgroup": "",
         "lon": [
          7.394787707670602,
          7.349713517654941,
          7.9064915,
          7.6326656,
          7.572991607658478,
          7.442293067171033,
          7.416350925,
          7.46967045670808,
          7.447814154474358,
          7.832488645403231,
          7.335839868561562,
          7.355465552118695,
          7.402802303197825,
          7.264681212658806,
          7.476200272801194,
          7.461841209875134,
          7.404985082179939,
          12.15,
          7.4542608,
          12.0672152,
          12.5451205,
          12.7368785,
          12.9304191,
          12.1546554,
          13.258975,
          13.488551266407342,
          13.1836033,
          12.020226810083912,
          13.3887796,
          13.321450130328785,
          13.328497909670821,
          12.0359283,
          12.10808912025199,
          12.5853109,
          12.0469523,
          12.251131996050141,
          12.408225478747806,
          7.795666795599514,
          7.682723334359615,
          7.957541614633177,
          8.075903467172743,
          7.6567272806092,
          7.573844611841997,
          7.843149923536664,
          8.090356500696117,
          7.964799070155389,
          7.897450604600483,
          7.3676411,
          7.790899593684118,
          7.634969399377504,
          7.7132177,
          6.0792099,
          8.001036510012643,
          8.255250648337,
          7.761009542834241,
          8.013983047476689,
          7.896614017212878,
          7.948723551688754,
          7.666667,
          7.85,
          7.8723706795971164,
          8.236898,
          7.650814706357024,
          8.2441595,
          7.605502805573577,
          8.074886973470624,
          8.16880139056803,
          7.924791,
          7.090643210873353,
          6.892956691269136,
          6.776578597606342,
          7.021171370313768,
          7.058343655240461,
          7.0943469415059655,
          6.974797440094921,
          6.9780011462764495,
          6.840200353859071,
          6.885697107849618,
          6.833237248297729,
          6.8601091,
          6.993784205355688,
          6.91201584625799,
          6.9807065781309365,
          6.761434551851252,
          6.802856854011423,
          6.773247019073018,
          7.162569595915986,
          7.204919894122538,
          6.9073480096803745,
          10.335287,
          10.0287754,
          9.6,
          10.7074,
          10.411791,
          9.2007725,
          10.5372515,
          10.316667,
          10.1993,
          10.044534902521644,
          5.285182,
          10.3527,
          10.543492392752844,
          10.4703,
          9.5689107,
          10.0468,
          9.5535375,
          9.0677127,
          9.75,
          8.683333,
          3.7028215,
          7.879691587275744,
          3.183333,
          7.2331238,
          8.871322377025628,
          5.0399043,
          8.35274251749189,
          8.206342041492976,
          9.283333,
          8.618047290964688,
          9.3,
          9.207467574683378,
          8.49938,
          8.766667,
          7.645656879745118,
          7.95726724779183,
          8.417355,
          8.2095,
          8.1328576,
          8.5686,
          10.116667,
          9.097223976623711,
          9.045834371061535,
          13.2663518,
          13.156518868461916,
          14.0064277,
          3.8,
          12.1909612,
          12.8480309,
          12.7595826,
          13.9187003,
          12.7821926,
          13.250896927021696,
          13.6941974,
          12.307770259271482,
          8.867303,
          13.9114298,
          14.4671621,
          13.41006033782285,
          13.626991444489535,
          11.848337192639754,
          13.571639595748339,
          12.774424928735748,
          13.1536214,
          13.830184,
          12.67769691340996,
          13.534786705264894,
          14.1867246,
          13.125241114358442,
          12.018992546713818,
          8.29,
          8.544655607884728,
          8.480635436033198,
          14.030048,
          8.89437370930537,
          8.052026653081514,
          9.02908406588377,
          8.346658001516946,
          8.325002550910487,
          8.807615309080273,
          8.723787,
          9.2946333825018,
          8.329038,
          9.1684558,
          8.339537,
          8.687844754183175,
          8.495931006643174,
          6.470280438186837,
          6.477390127053598,
          5.923544,
          5.5079208,
          5.972129657996909,
          5.7758592177283745,
          6.320776988087539,
          6.138080871147166,
          6.130870491268007,
          6.211049621044424,
          6.496140761353628,
          6.416355059643836,
          5.75187931671686,
          6.64777291488069,
          6.730733427256107,
          6.1921572,
          5.660127976472991,
          8.883333,
          6.01752592725169,
          5.967778669073083,
          6.252058277544972,
          5.793784028700437,
          5.134861808677374,
          5.604430708115871,
          5.323033095030304,
          8.1133202,
          7.918471197664151,
          8.0348906,
          7.98352256784563,
          8.021690955000397,
          8.1028,
          7.844114881037367,
          7.637394973252905,
          8.05,
          7.793850098935701,
          8.010848072925828,
          6.8019088,
          6.125235110308745,
          5.5697908,
          6.207925867430832,
          6.433488407005409,
          6.486083843005495,
          6.13966245006791,
          6.515776051138975,
          6.516309479894481,
          6.301801401207017,
          6.242448,
          5.662246701746319,
          5.948360079068117,
          5.561790183209288,
          5.502826307782771,
          5.299159132565771,
          6.105629730319855,
          5.8934671742557025,
          5.900073206903087,
          5.22274,
          3.633333,
          5.659776705090287,
          5.033357944837451,
          5.034239031290989,
          5.459322,
          5.502384054210898,
          5.196943466283316,
          3.380278,
          5.232248,
          5.5050471,
          5.230613473129341,
          5.2644601866019975,
          5.384951048253926,
          3.10318,
          5.332422,
          7.597108458884581,
          7.477742,
          7.556835903397333,
          7.538320722978639,
          7.514390368282138,
          7.2898,
          7.273,
          7.459485291146693,
          7.34999099804431,
          7.680936693306513,
          7.6610906163598065,
          7.520835130944854,
          7.3927,
          7.261,
          7.560805075519086,
          7.397846,
          7.162330771688465,
          10.973204,
          11.6789514,
          11.141875886913159,
          10.772213,
          11.444681215995438,
          11.206567,
          11.3118502,
          8.316161,
          11.3327,
          11.273237905251648,
          11.373215278351738,
          7.260670204366807,
          7.263626847762457,
          7.300181361809889,
          7.322606008078948,
          7.1358231552650855,
          7.138923109844448,
          7.381495792349654,
          7.148927127483982,
          7.196353758503406,
          7.056131289560314,
          7.0191523268949565,
          7.157503381166101,
          7.00213193492228,
          7.099426682955977,
          7.119574125421648,
          7.360563717064813,
          6.809365,
          6.838826088324313,
          7.319829879090532,
          7.0409322202359785,
          6.982806157947056,
          6.947875477635026,
          6.9107675264366915,
          7.021982734009069,
          7.107475476129818,
          6.9851183090486755,
          7.230264232987018,
          9.93729235,
          9.0171918,
          10.2348,
          9.466267712674227,
          9.671172,
          9.3390747,
          9.5275,
          9.190278,
          7.983333,
          10.409233943085233,
          9.885833,
          8.337915,
          10.0418934,
          9.588065851639504,
          9.913056,
          9.7325,
          8.4148078,
          10.2551,
          9.6125,
          9.451389,
          9.895976877882704,
          9.7114006,
          9.1625494,
          8.265308,
          9.247542772730274,
          9.36241882485775,
          8.539973,
          6.543726,
          7.108446,
          7.45,
          7.774931,
          8.2231659,
          11.167840262563884,
          8.252928350616807,
          7.956506,
          7.453055168284827,
          7.419593,
          7.6977654,
          7.689236,
          8.451618841990786,
          8.14782,
          8.153818,
          7.731608,
          8.572617,
          7.883787,
          6.672388835801534,
          8.459390672268526,
          8.0588025,
          8.258212780819786,
          7.651853311586596,
          9.03665,
          9.083333,
          8.1357,
          8.244846984027742,
          8.19542142896692,
          8.518871667414945,
          8.505168598184804,
          8.5150694,
          8.706588726528924,
          8.36111612636891,
          8.58715,
          8.517419685338357,
          8.90869970554915,
          8.809807036343518,
          8.422951041141168,
          9.026711262480958,
          8.756747806954735,
          8.506324612466788,
          7.9338,
          8.177501954080492,
          8.526936464554032,
          4.2725668,
          8.65941,
          8.13475,
          8.505475816294247,
          8.27056,
          12.633333,
          8.285648879973095,
          8.412905024967234,
          8.65866,
          8.2382849,
          8.592915886356167,
          8.254443666024292,
          7.82421,
          7.988561182289026,
          8.962154148665437,
          9.090872837671247,
          8.552328051122903,
          8.270448083586082,
          7.98561,
          6.746187075917691,
          8.49534,
          8.73853,
          8.84463,
          7.424251,
          7.6192109,
          7.2447188,
          8.7463829,
          7.8094151,
          7.7319399,
          7.222459472401029,
          7.562489,
          7.3340908,
          7.951789531644682,
          8.1429274,
          7.4957959,
          7.027157,
          7.307497,
          8.0502756,
          7.467752013130163,
          7.694006,
          7.7409715,
          7.412671,
          7.7953998889183325,
          7.6207063,
          7.4846202,
          7.9777658,
          8.5723,
          7.621753,
          7.8773704,
          7.9529262,
          7.674185,
          7.6697972,
          7.7148498,
          7.075489674248669,
          7.4169903,
          8.362121,
          8.4864149,
          4.453195243411876,
          3.804722,
          4.5266465,
          4.629064947240981,
          4.2277586,
          4.2006114,
          4.0181345,
          11.016667,
          5.1125132,
          4.627794873242951,
          4.3775587,
          4.2016729,
          4.479387123141443,
          4.3677034,
          4.717807,
          5.5957362,
          4.578776,
          4.182165,
          5.074973196441041,
          13.2155,
          5.2389338,
          6.4667074788060965,
          6.6936392,
          7.6280211,
          6.6197709,
          7.0333153,
          8.0197,
          6.7340488,
          7.059106213066727,
          5.895747404666862,
          6.141418638966092,
          6.6868669,
          6.7430327,
          5.8889260200909685,
          7.068971049937361,
          6.1558738694303905,
          7.1384399,
          6.398817009039226,
          7.5133535057786025,
          7.565886300000329,
          5.7048150709835195,
          5.556420642697231,
          5.585567,
          3.480657539153882,
          7.933333,
          5.2738326,
          4.637033839531609,
          4.785398052725244,
          4.6894413601867075,
          4.513892773645063,
          3.928889,
          5.038849070678933,
          3.9414245,
          4.366667,
          4.7227435,
          5.296435718110166,
          4.631635446280292,
          5.7576249,
          3.311209267702652,
          3.3359462518298724,
          3.257631097232365,
          3.2662797116825857,
          3.3683731679424094,
          2.9060324070376966,
          3.05,
          3.53218066773601,
          3.8147502006869445,
          3.289491,
          3.3532040740949824,
          3.5041271,
          3.4148359416178415,
          3.416466825830611,
          3.388249637209558,
          3.3571405,
          3.5642897,
          3.3124146026491035,
          3.384160631483666,
          3.353258726723983,
          8.4080322,
          9.1463713,
          8.35,
          7.5750527,
          8.8,
          7.876834,
          5.083333,
          11.8176813,
          8.2382849,
          8.471888017349086,
          8.766667,
          7.0797905,
          8.6,
          6.3177613,
          4.539417528677225,
          6.016667,
          4.092020592490975,
          6.516111,
          6.583333,
          5.999754848120109,
          4.483333,
          9.820485,
          6.311747,
          8.516667,
          6.716667,
          5.636692331807329,
          9.733333,
          6.0247499,
          5.239230389014169,
          5.0544281,
          13.07318,
          6.837678578461804,
          5.068817298325359,
          5.2612531,
          6.83326,
          7.187189747918152,
          4.4,
          6.079722,
          3.201259205647169,
          3.3644751940830018,
          3.0823072642902645,
          3.1734405425983456,
          3.24155742988109,
          4.251257460630212,
          3.99145722833996,
          4.006867295349055,
          3.9151668,
          3.6977468816454167,
          2.860216231075362,
          2.7533626,
          3.4444617483436986,
          3.456458763198987,
          3.814100281641317,
          4.390199650472612,
          3.71768040013041,
          3.6440551,
          2.9408573113173397,
          2.958357259504273,
          5.90422625372965,
          5.81474406950944,
          5.905060679828727,
          5.705641607609582,
          5.314380499266439,
          5.167872722667031,
          4.953623563130165,
          5.1164416,
          5.110368124845809,
          4.768064972541312,
          4.891326571472749,
          4.8700171,
          4.866403,
          4.7839524,
          4.962371206429317,
          4.768711120944029,
          5.72865134362812,
          5.5868016,
          4.216219883495097,
          4.785932050585557,
          4.678869135457796,
          5.3954,
          4.659446535737731,
          4.473998070022581,
          4.463691717278765,
          4.436297729823462,
          3.3067225,
          4.528026943583383,
          4.59959459961158,
          4.452865817628522,
          4.609975177651254,
          4.984806733325354,
          4.637033839531609,
          4.666667,
          4.7414655,
          3.928889,
          4.211292798367986,
          4.197078309973235,
          4.183333,
          4.778145756035174,
          4.679048325069425,
          4.199432168519866,
          4.582128360065931,
          4.867413075401172,
          4.474395524151003,
          4.575044734945106,
          3.8965833157288534,
          3.9162521,
          3.8685804390458687,
          3.251587245035839,
          4.05,
          3.9090595900204694,
          3.9273483432755025,
          3.8717884151139517,
          3.903528862708936,
          3.8590379450057544,
          3.247704984452902,
          3.4593620075627056,
          3.1731014489781906,
          3.6978419912652893,
          3.884951584969749,
          3.5956141,
          3.5481982860888133,
          2.98873466669142,
          3.333333,
          4.078903399551278,
          4.26339168952482,
          4.237004228192205,
          4.180876231733722,
          4.9950335,
          3.8929962529818525,
          4.064947250919316,
          3.8019226560261554,
          4.203584765711993,
          4.028958153694858,
          3.8166314853392356,
          3.566449165789238,
          3.2050791622347345,
          3.353258726723983,
          9,
          8.970077030109152,
          6.6197709,
          9.134016436661367,
          8.892985163197897,
          8.848780461155847,
          9.416667,
          9.639354933485457,
          9.818724306403762,
          9.832994787118064,
          9.181630173696401,
          9.554481273060158,
          9.4414255,
          9.124481602004671,
          8.766667,
          9.5396638,
          9.9580519,
          6.560032827719285,
          6.642959979473343,
          6.513133964696992,
          6.678670665142749,
          7.407307242536977,
          6.834832218320882,
          7.203465952746459,
          6.7680087,
          7.148448227532709,
          6.763568631220181,
          7.092638789196567,
          7.294484674317097,
          6.882004611347118,
          7.437540599064871,
          7.020215533605061,
          6.640917843681434,
          7.201701991644333,
          7.080727926636744,
          6.9457363,
          7.522647157947575,
          7.1329808,
          7.0188527,
          7.261974961229366,
          4.9095532,
          5.1463746,
          5.419104692160527,
          5.6574918,
          5.6738295,
          7.4799035,
          5.236642,
          5.2975234,
          10.133333,
          4.7350925,
          5.2656419,
          5.507414,
          6.3250349,
          4.992694,
          4.8446327,
          5.23319846830032,
          5.2629592028676555,
          4.658580981088164,
          4.93822,
          5.5443963,
          5.1062018,
          9.635222758105368,
          5.015556,
          11.132519536742866,
          6.616667,
          10.0440735,
          11.4848672,
          10.4461097,
          4.783333,
          11.3644261,
          11.1925669,
          11.2757791,
          7.42320504635515,
          9.983333,
          6.102119,
          9.7775523,
          11.616667,
          11.76508282612897,
          11.023603,
          10.7178005,
          11.9608,
          11.308,
          11.432449871033418,
          11.9967485,
          11.9367,
          11.647731075315289,
          10.801552533285502,
          10.671798465693108,
          10.0491736,
          11.0698,
          7.233333,
          11.0762744,
          11.488660035359459,
          11.1758,
          5.9242728,
          5.874872,
          6.869485140778106,
          5.466486,
          12.066667,
          6.922322,
          5.1190173,
          6.6606398,
          6.5860718,
          6.2461535,
          6.4056856,
          6.510465,
          6.05971,
          6.7834006
         ],
         "marker": {
          "color": [
           4,
           4,
           4,
           4,
           4,
           4,
           4,
           4,
           4,
           4,
           4,
           4,
           4,
           4,
           4,
           4,
           4,
           3,
           6,
           3,
           3,
           3,
           3,
           3,
           3,
           3,
           3,
           3,
           3,
           3,
           3,
           3,
           3,
           3,
           3,
           3,
           3,
           4,
           4,
           4,
           4,
           4,
           4,
           4,
           4,
           4,
           4,
           4,
           4,
           4,
           4,
           1,
           4,
           4,
           4,
           4,
           4,
           4,
           4,
           4,
           4,
           4,
           4,
           4,
           4,
           4,
           4,
           4,
           4,
           4,
           4,
           4,
           4,
           4,
           4,
           4,
           4,
           4,
           4,
           4,
           4,
           4,
           4,
           4,
           4,
           4,
           4,
           4,
           4,
           3,
           6,
           2,
           3,
           3,
           2,
           6,
           2,
           6,
           6,
           1,
           6,
           3,
           3,
           6,
           6,
           2,
           2,
           6,
           2,
           0,
           2,
           0,
           6,
           2,
           1,
           2,
           2,
           2,
           2,
           2,
           2,
           6,
           2,
           4,
           2,
           4,
           2,
           2,
           2,
           2,
           2,
           2,
           3,
           3,
           3,
           0,
           3,
           3,
           3,
           3,
           3,
           3,
           3,
           3,
           2,
           3,
           3,
           3,
           3,
           3,
           3,
           3,
           3,
           3,
           3,
           3,
           3,
           3,
           3,
           2,
           4,
           4,
           3,
           2,
           4,
           4,
           4,
           4,
           4,
           4,
           2,
           4,
           2,
           4,
           4,
           4,
           4,
           4,
           4,
           4,
           4,
           4,
           4,
           4,
           4,
           4,
           4,
           4,
           4,
           4,
           4,
           4,
           4,
           2,
           4,
           4,
           4,
           4,
           0,
           4,
           4,
           4,
           4,
           4,
           4,
           4,
           4,
           4,
           4,
           4,
           4,
           4,
           4,
           5,
           4,
           4,
           4,
           4,
           4,
           5,
           5,
           5,
           4,
           4,
           4,
           4,
           0,
           0,
           5,
           5,
           4,
           5,
           0,
           5,
           0,
           5,
           5,
           5,
           5,
           0,
           5,
           5,
           5,
           5,
           5,
           0,
           5,
           4,
           4,
           4,
           4,
           4,
           4,
           4,
           4,
           4,
           4,
           4,
           4,
           4,
           4,
           4,
           4,
           4,
           3,
           3,
           3,
           3,
           3,
           3,
           3,
           6,
           3,
           3,
           3,
           4,
           4,
           4,
           4,
           4,
           4,
           4,
           4,
           4,
           4,
           4,
           4,
           4,
           4,
           4,
           4,
           4,
           4,
           4,
           4,
           4,
           4,
           4,
           4,
           4,
           4,
           4,
           6,
           6,
           6,
           6,
           6,
           6,
           6,
           6,
           2,
           6,
           6,
           6,
           6,
           6,
           6,
           6,
           6,
           6,
           6,
           6,
           6,
           6,
           6,
           6,
           6,
           6,
           6,
           1,
           6,
           6,
           6,
           6,
           3,
           2,
           2,
           6,
           6,
           2,
           6,
           2,
           6,
           6,
           6,
           6,
           6,
           1,
           2,
           6,
           2,
           6,
           6,
           6,
           6,
           6,
           6,
           6,
           6,
           6,
           6,
           6,
           6,
           6,
           6,
           6,
           6,
           6,
           6,
           6,
           6,
           6,
           6,
           1,
           6,
           6,
           6,
           6,
           3,
           6,
           6,
           6,
           2,
           6,
           6,
           6,
           6,
           6,
           6,
           6,
           6,
           6,
           1,
           6,
           6,
           6,
           6,
           6,
           6,
           6,
           6,
           6,
           6,
           6,
           6,
           6,
           6,
           6,
           6,
           6,
           6,
           6,
           6,
           6,
           6,
           6,
           6,
           6,
           6,
           6,
           6,
           6,
           6,
           6,
           6,
           6,
           6,
           6,
           6,
           6,
           1,
           0,
           1,
           1,
           1,
           1,
           1,
           2,
           1,
           1,
           1,
           1,
           1,
           1,
           1,
           1,
           1,
           1,
           1,
           3,
           1,
           5,
           5,
           2,
           5,
           5,
           2,
           5,
           4,
           5,
           5,
           5,
           5,
           5,
           5,
           5,
           4,
           5,
           4,
           2,
           5,
           5,
           5,
           0,
           4,
           5,
           0,
           5,
           5,
           0,
           0,
           5,
           0,
           0,
           0,
           5,
           0,
           5,
           0,
           0,
           0,
           0,
           0,
           0,
           0,
           0,
           0,
           0,
           0,
           0,
           0,
           0,
           0,
           0,
           0,
           0,
           0,
           0,
           2,
           2,
           2,
           2,
           2,
           2,
           5,
           3,
           2,
           2,
           2,
           5,
           2,
           5,
           1,
           5,
           1,
           5,
           5,
           5,
           0,
           6,
           5,
           2,
           5,
           5,
           2,
           5,
           5,
           5,
           3,
           5,
           1,
           1,
           5,
           5,
           0,
           5,
           0,
           0,
           0,
           0,
           0,
           0,
           0,
           0,
           0,
           0,
           0,
           0,
           0,
           0,
           0,
           0,
           0,
           0,
           0,
           0,
           5,
           5,
           5,
           5,
           5,
           0,
           0,
           0,
           0,
           0,
           0,
           0,
           0,
           0,
           0,
           0,
           5,
           5,
           0,
           0,
           0,
           5,
           0,
           0,
           0,
           0,
           0,
           0,
           0,
           0,
           0,
           5,
           0,
           0,
           0,
           0,
           0,
           0,
           0,
           0,
           0,
           0,
           0,
           0,
           0,
           0,
           0,
           0,
           0,
           0,
           0,
           0,
           0,
           0,
           0,
           0,
           0,
           0,
           0,
           0,
           0,
           0,
           0,
           0,
           0,
           0,
           0,
           0,
           0,
           0,
           0,
           0,
           0,
           0,
           0,
           0,
           0,
           0,
           0,
           2,
           2,
           5,
           2,
           2,
           2,
           2,
           2,
           2,
           2,
           2,
           2,
           2,
           2,
           2,
           2,
           2,
           4,
           4,
           4,
           4,
           4,
           4,
           4,
           4,
           4,
           4,
           4,
           4,
           4,
           4,
           4,
           4,
           4,
           4,
           4,
           4,
           4,
           4,
           4,
           1,
           1,
           1,
           1,
           1,
           2,
           1,
           1,
           2,
           1,
           1,
           1,
           1,
           1,
           1,
           1,
           1,
           1,
           1,
           1,
           1,
           6,
           1,
           2,
           5,
           2,
           2,
           2,
           5,
           3,
           3,
           3,
           6,
           2,
           5,
           2,
           3,
           3,
           3,
           3,
           3,
           3,
           3,
           3,
           3,
           3,
           3,
           6,
           6,
           3,
           4,
           3,
           3,
           3,
           1,
           1,
           1,
           1,
           3,
           6,
           1,
           1,
           1,
           1,
           1,
           1,
           1,
           1
          ],
          "coloraxis": "coloraxis",
          "symbol": "circle"
         },
         "mode": "markers",
         "name": "",
         "showlegend": false,
         "type": "scattergeo"
        }
       ],
       "layout": {
        "coloraxis": {
         "colorbar": {
          "title": {
           "text": "region"
          }
         },
         "colorscale": [
          [
           0,
           "#0d0887"
          ],
          [
           0.1111111111111111,
           "#46039f"
          ],
          [
           0.2222222222222222,
           "#7201a8"
          ],
          [
           0.3333333333333333,
           "#9c179e"
          ],
          [
           0.4444444444444444,
           "#bd3786"
          ],
          [
           0.5555555555555556,
           "#d8576b"
          ],
          [
           0.6666666666666666,
           "#ed7953"
          ],
          [
           0.7777777777777778,
           "#fb9f3a"
          ],
          [
           0.8888888888888888,
           "#fdca26"
          ],
          [
           1,
           "#f0f921"
          ]
         ]
        },
        "geo": {
         "center": {},
         "domain": {
          "x": [
           0,
           1
          ],
          "y": [
           0,
           1
          ]
         },
         "scope": "africa"
        },
        "legend": {
         "tracegroupgap": 0
        },
        "margin": {
         "t": 60
        },
        "template": {
         "data": {
          "bar": [
           {
            "error_x": {
             "color": "#2a3f5f"
            },
            "error_y": {
             "color": "#2a3f5f"
            },
            "marker": {
             "line": {
              "color": "#E5ECF6",
              "width": 0.5
             },
             "pattern": {
              "fillmode": "overlay",
              "size": 10,
              "solidity": 0.2
             }
            },
            "type": "bar"
           }
          ],
          "barpolar": [
           {
            "marker": {
             "line": {
              "color": "#E5ECF6",
              "width": 0.5
             },
             "pattern": {
              "fillmode": "overlay",
              "size": 10,
              "solidity": 0.2
             }
            },
            "type": "barpolar"
           }
          ],
          "carpet": [
           {
            "aaxis": {
             "endlinecolor": "#2a3f5f",
             "gridcolor": "white",
             "linecolor": "white",
             "minorgridcolor": "white",
             "startlinecolor": "#2a3f5f"
            },
            "baxis": {
             "endlinecolor": "#2a3f5f",
             "gridcolor": "white",
             "linecolor": "white",
             "minorgridcolor": "white",
             "startlinecolor": "#2a3f5f"
            },
            "type": "carpet"
           }
          ],
          "choropleth": [
           {
            "colorbar": {
             "outlinewidth": 0,
             "ticks": ""
            },
            "type": "choropleth"
           }
          ],
          "contour": [
           {
            "colorbar": {
             "outlinewidth": 0,
             "ticks": ""
            },
            "colorscale": [
             [
              0,
              "#0d0887"
             ],
             [
              0.1111111111111111,
              "#46039f"
             ],
             [
              0.2222222222222222,
              "#7201a8"
             ],
             [
              0.3333333333333333,
              "#9c179e"
             ],
             [
              0.4444444444444444,
              "#bd3786"
             ],
             [
              0.5555555555555556,
              "#d8576b"
             ],
             [
              0.6666666666666666,
              "#ed7953"
             ],
             [
              0.7777777777777778,
              "#fb9f3a"
             ],
             [
              0.8888888888888888,
              "#fdca26"
             ],
             [
              1,
              "#f0f921"
             ]
            ],
            "type": "contour"
           }
          ],
          "contourcarpet": [
           {
            "colorbar": {
             "outlinewidth": 0,
             "ticks": ""
            },
            "type": "contourcarpet"
           }
          ],
          "heatmap": [
           {
            "colorbar": {
             "outlinewidth": 0,
             "ticks": ""
            },
            "colorscale": [
             [
              0,
              "#0d0887"
             ],
             [
              0.1111111111111111,
              "#46039f"
             ],
             [
              0.2222222222222222,
              "#7201a8"
             ],
             [
              0.3333333333333333,
              "#9c179e"
             ],
             [
              0.4444444444444444,
              "#bd3786"
             ],
             [
              0.5555555555555556,
              "#d8576b"
             ],
             [
              0.6666666666666666,
              "#ed7953"
             ],
             [
              0.7777777777777778,
              "#fb9f3a"
             ],
             [
              0.8888888888888888,
              "#fdca26"
             ],
             [
              1,
              "#f0f921"
             ]
            ],
            "type": "heatmap"
           }
          ],
          "heatmapgl": [
           {
            "colorbar": {
             "outlinewidth": 0,
             "ticks": ""
            },
            "colorscale": [
             [
              0,
              "#0d0887"
             ],
             [
              0.1111111111111111,
              "#46039f"
             ],
             [
              0.2222222222222222,
              "#7201a8"
             ],
             [
              0.3333333333333333,
              "#9c179e"
             ],
             [
              0.4444444444444444,
              "#bd3786"
             ],
             [
              0.5555555555555556,
              "#d8576b"
             ],
             [
              0.6666666666666666,
              "#ed7953"
             ],
             [
              0.7777777777777778,
              "#fb9f3a"
             ],
             [
              0.8888888888888888,
              "#fdca26"
             ],
             [
              1,
              "#f0f921"
             ]
            ],
            "type": "heatmapgl"
           }
          ],
          "histogram": [
           {
            "marker": {
             "pattern": {
              "fillmode": "overlay",
              "size": 10,
              "solidity": 0.2
             }
            },
            "type": "histogram"
           }
          ],
          "histogram2d": [
           {
            "colorbar": {
             "outlinewidth": 0,
             "ticks": ""
            },
            "colorscale": [
             [
              0,
              "#0d0887"
             ],
             [
              0.1111111111111111,
              "#46039f"
             ],
             [
              0.2222222222222222,
              "#7201a8"
             ],
             [
              0.3333333333333333,
              "#9c179e"
             ],
             [
              0.4444444444444444,
              "#bd3786"
             ],
             [
              0.5555555555555556,
              "#d8576b"
             ],
             [
              0.6666666666666666,
              "#ed7953"
             ],
             [
              0.7777777777777778,
              "#fb9f3a"
             ],
             [
              0.8888888888888888,
              "#fdca26"
             ],
             [
              1,
              "#f0f921"
             ]
            ],
            "type": "histogram2d"
           }
          ],
          "histogram2dcontour": [
           {
            "colorbar": {
             "outlinewidth": 0,
             "ticks": ""
            },
            "colorscale": [
             [
              0,
              "#0d0887"
             ],
             [
              0.1111111111111111,
              "#46039f"
             ],
             [
              0.2222222222222222,
              "#7201a8"
             ],
             [
              0.3333333333333333,
              "#9c179e"
             ],
             [
              0.4444444444444444,
              "#bd3786"
             ],
             [
              0.5555555555555556,
              "#d8576b"
             ],
             [
              0.6666666666666666,
              "#ed7953"
             ],
             [
              0.7777777777777778,
              "#fb9f3a"
             ],
             [
              0.8888888888888888,
              "#fdca26"
             ],
             [
              1,
              "#f0f921"
             ]
            ],
            "type": "histogram2dcontour"
           }
          ],
          "mesh3d": [
           {
            "colorbar": {
             "outlinewidth": 0,
             "ticks": ""
            },
            "type": "mesh3d"
           }
          ],
          "parcoords": [
           {
            "line": {
             "colorbar": {
              "outlinewidth": 0,
              "ticks": ""
             }
            },
            "type": "parcoords"
           }
          ],
          "pie": [
           {
            "automargin": true,
            "type": "pie"
           }
          ],
          "scatter": [
           {
            "fillpattern": {
             "fillmode": "overlay",
             "size": 10,
             "solidity": 0.2
            },
            "type": "scatter"
           }
          ],
          "scatter3d": [
           {
            "line": {
             "colorbar": {
              "outlinewidth": 0,
              "ticks": ""
             }
            },
            "marker": {
             "colorbar": {
              "outlinewidth": 0,
              "ticks": ""
             }
            },
            "type": "scatter3d"
           }
          ],
          "scattercarpet": [
           {
            "marker": {
             "colorbar": {
              "outlinewidth": 0,
              "ticks": ""
             }
            },
            "type": "scattercarpet"
           }
          ],
          "scattergeo": [
           {
            "marker": {
             "colorbar": {
              "outlinewidth": 0,
              "ticks": ""
             }
            },
            "type": "scattergeo"
           }
          ],
          "scattergl": [
           {
            "marker": {
             "colorbar": {
              "outlinewidth": 0,
              "ticks": ""
             }
            },
            "type": "scattergl"
           }
          ],
          "scattermapbox": [
           {
            "marker": {
             "colorbar": {
              "outlinewidth": 0,
              "ticks": ""
             }
            },
            "type": "scattermapbox"
           }
          ],
          "scatterpolar": [
           {
            "marker": {
             "colorbar": {
              "outlinewidth": 0,
              "ticks": ""
             }
            },
            "type": "scatterpolar"
           }
          ],
          "scatterpolargl": [
           {
            "marker": {
             "colorbar": {
              "outlinewidth": 0,
              "ticks": ""
             }
            },
            "type": "scatterpolargl"
           }
          ],
          "scatterternary": [
           {
            "marker": {
             "colorbar": {
              "outlinewidth": 0,
              "ticks": ""
             }
            },
            "type": "scatterternary"
           }
          ],
          "surface": [
           {
            "colorbar": {
             "outlinewidth": 0,
             "ticks": ""
            },
            "colorscale": [
             [
              0,
              "#0d0887"
             ],
             [
              0.1111111111111111,
              "#46039f"
             ],
             [
              0.2222222222222222,
              "#7201a8"
             ],
             [
              0.3333333333333333,
              "#9c179e"
             ],
             [
              0.4444444444444444,
              "#bd3786"
             ],
             [
              0.5555555555555556,
              "#d8576b"
             ],
             [
              0.6666666666666666,
              "#ed7953"
             ],
             [
              0.7777777777777778,
              "#fb9f3a"
             ],
             [
              0.8888888888888888,
              "#fdca26"
             ],
             [
              1,
              "#f0f921"
             ]
            ],
            "type": "surface"
           }
          ],
          "table": [
           {
            "cells": {
             "fill": {
              "color": "#EBF0F8"
             },
             "line": {
              "color": "white"
             }
            },
            "header": {
             "fill": {
              "color": "#C8D4E3"
             },
             "line": {
              "color": "white"
             }
            },
            "type": "table"
           }
          ]
         },
         "layout": {
          "annotationdefaults": {
           "arrowcolor": "#2a3f5f",
           "arrowhead": 0,
           "arrowwidth": 1
          },
          "autotypenumbers": "strict",
          "coloraxis": {
           "colorbar": {
            "outlinewidth": 0,
            "ticks": ""
           }
          },
          "colorscale": {
           "diverging": [
            [
             0,
             "#8e0152"
            ],
            [
             0.1,
             "#c51b7d"
            ],
            [
             0.2,
             "#de77ae"
            ],
            [
             0.3,
             "#f1b6da"
            ],
            [
             0.4,
             "#fde0ef"
            ],
            [
             0.5,
             "#f7f7f7"
            ],
            [
             0.6,
             "#e6f5d0"
            ],
            [
             0.7,
             "#b8e186"
            ],
            [
             0.8,
             "#7fbc41"
            ],
            [
             0.9,
             "#4d9221"
            ],
            [
             1,
             "#276419"
            ]
           ],
           "sequential": [
            [
             0,
             "#0d0887"
            ],
            [
             0.1111111111111111,
             "#46039f"
            ],
            [
             0.2222222222222222,
             "#7201a8"
            ],
            [
             0.3333333333333333,
             "#9c179e"
            ],
            [
             0.4444444444444444,
             "#bd3786"
            ],
            [
             0.5555555555555556,
             "#d8576b"
            ],
            [
             0.6666666666666666,
             "#ed7953"
            ],
            [
             0.7777777777777778,
             "#fb9f3a"
            ],
            [
             0.8888888888888888,
             "#fdca26"
            ],
            [
             1,
             "#f0f921"
            ]
           ],
           "sequentialminus": [
            [
             0,
             "#0d0887"
            ],
            [
             0.1111111111111111,
             "#46039f"
            ],
            [
             0.2222222222222222,
             "#7201a8"
            ],
            [
             0.3333333333333333,
             "#9c179e"
            ],
            [
             0.4444444444444444,
             "#bd3786"
            ],
            [
             0.5555555555555556,
             "#d8576b"
            ],
            [
             0.6666666666666666,
             "#ed7953"
            ],
            [
             0.7777777777777778,
             "#fb9f3a"
            ],
            [
             0.8888888888888888,
             "#fdca26"
            ],
            [
             1,
             "#f0f921"
            ]
           ]
          },
          "colorway": [
           "#636efa",
           "#EF553B",
           "#00cc96",
           "#ab63fa",
           "#FFA15A",
           "#19d3f3",
           "#FF6692",
           "#B6E880",
           "#FF97FF",
           "#FECB52"
          ],
          "font": {
           "color": "#2a3f5f"
          },
          "geo": {
           "bgcolor": "white",
           "lakecolor": "white",
           "landcolor": "#E5ECF6",
           "showlakes": true,
           "showland": true,
           "subunitcolor": "white"
          },
          "hoverlabel": {
           "align": "left"
          },
          "hovermode": "closest",
          "mapbox": {
           "style": "light"
          },
          "paper_bgcolor": "white",
          "plot_bgcolor": "#E5ECF6",
          "polar": {
           "angularaxis": {
            "gridcolor": "white",
            "linecolor": "white",
            "ticks": ""
           },
           "bgcolor": "#E5ECF6",
           "radialaxis": {
            "gridcolor": "white",
            "linecolor": "white",
            "ticks": ""
           }
          },
          "scene": {
           "xaxis": {
            "backgroundcolor": "#E5ECF6",
            "gridcolor": "white",
            "gridwidth": 2,
            "linecolor": "white",
            "showbackground": true,
            "ticks": "",
            "zerolinecolor": "white"
           },
           "yaxis": {
            "backgroundcolor": "#E5ECF6",
            "gridcolor": "white",
            "gridwidth": 2,
            "linecolor": "white",
            "showbackground": true,
            "ticks": "",
            "zerolinecolor": "white"
           },
           "zaxis": {
            "backgroundcolor": "#E5ECF6",
            "gridcolor": "white",
            "gridwidth": 2,
            "linecolor": "white",
            "showbackground": true,
            "ticks": "",
            "zerolinecolor": "white"
           }
          },
          "shapedefaults": {
           "line": {
            "color": "#2a3f5f"
           }
          },
          "ternary": {
           "aaxis": {
            "gridcolor": "white",
            "linecolor": "white",
            "ticks": ""
           },
           "baxis": {
            "gridcolor": "white",
            "linecolor": "white",
            "ticks": ""
           },
           "bgcolor": "#E5ECF6",
           "caxis": {
            "gridcolor": "white",
            "linecolor": "white",
            "ticks": ""
           }
          },
          "title": {
           "x": 0.05
          },
          "xaxis": {
           "automargin": true,
           "gridcolor": "white",
           "linecolor": "white",
           "ticks": "",
           "title": {
            "standoff": 15
           },
           "zerolinecolor": "white",
           "zerolinewidth": 2
          },
          "yaxis": {
           "automargin": true,
           "gridcolor": "white",
           "linecolor": "white",
           "ticks": "",
           "title": {
            "standoff": 15
           },
           "zerolinecolor": "white",
           "zerolinewidth": 2
          }
         }
        }
       }
      }
     },
     "metadata": {},
     "output_type": "display_data"
    }
   ],
   "source": [
    "fig = px.scatter_geo(cities, lat=\"Latitude\", lon=\"Longitude\", scope=\"africa\", color=\"region\")\n",
    "fig.show()"
   ]
  }
 ],
 "metadata": {
  "kernelspec": {
   "display_name": "Python 3.9.13 ('base')",
   "language": "python",
   "name": "python3"
  },
  "language_info": {
   "codemirror_mode": {
    "name": "ipython",
    "version": 3
   },
   "file_extension": ".py",
   "mimetype": "text/x-python",
   "name": "python",
   "nbconvert_exporter": "python",
   "pygments_lexer": "ipython3",
   "version": "3.9.13"
  },
  "orig_nbformat": 4,
  "vscode": {
   "interpreter": {
    "hash": "a6a1b2dbb3031427df37eac5341fb4b7751d2040259cdbf89f4f38743983c96f"
   }
  }
 },
 "nbformat": 4,
 "nbformat_minor": 2
}
